{
 "cells": [
  {
   "cell_type": "markdown",
   "id": "95714d93",
   "metadata": {},
   "source": [
    "# Homework 4: Statistics in Python"
   ]
  },
  {
   "cell_type": "markdown",
   "id": "9be34d37",
   "metadata": {},
   "source": [
    "** Submit this notebook to bCourses to receive a credit for this assignment.**\n",
    "\n",
    "Please complete this homework assignment in code cells in the iPython notebook. Include comments in your code when necessary. Enter your name in the cell at the top of the notebook, and rename the notebook name_HW04.ipynb."
   ]
  },
  {
   "cell_type": "code",
   "execution_count": 2,
   "id": "319ce3bf",
   "metadata": {},
   "outputs": [],
   "source": [
    "#Standard Preamble Haha\n",
    "import numpy as np\n",
    "import matplotlib.pyplot as plt\n",
    "import scipy.optimize as spo\n",
    "import scipy as slice"
   ]
  },
  {
   "cell_type": "markdown",
   "id": "fa5ce648",
   "metadata": {},
   "source": [
    "1a) For this problem you will need some kind of measuring tool (if you do not have one you may gather and share data with a classmate, but be sure to mention in your answer who you shared with). Measure the lengths and the widths of your phone, your computer (keyboard and screen separatley), your pillow, then finally your bed. Repeat these measurments multiple times to get some idea of the random error introduced in your measurements. Record all your measurments in the cell below and print your final results with their corresponding error."
   ]
  },
  {
   "cell_type": "markdown",
   "id": "0ba1181a",
   "metadata": {},
   "source": [
    "# Problem 1: An error walks into a bar..."
   ]
  },
  {
   "cell_type": "code",
   "execution_count": 90,
   "id": "cd0fb289",
   "metadata": {},
   "outputs": [
    {
     "name": "stdout",
     "output_type": "stream",
     "text": [
      "The parameters (Average) of the objects and their uncertainties are the following: \n",
      "\n",
      "Phone Width = 0.07100000000000001  meters, +/- 0.002943920288775945 meters\n",
      "Phone Length = 0.14333333333333334 meters, +/- 0.0023570226039551605 meters\n",
      "Phone Area = 0.01019 meters squared, +/- 0.0007581996219114495 meters squared\n",
      "Laptop Screen Width = 0.10966666666666668  meters, +/- 0.0029439202887759515 meters\n",
      "Laptop Screen Length = 0.2806666666666667 meters, +/- 0.0021602468994692758 meters\n",
      "Laptop Screen Area = 0.06110333333333332 meters squared, +/- 0.0009063602423368363 meters squared\n",
      "Laptop Keyboard Width = 0.301  meters, +/- 0.0020548046676563273 meters\n",
      "Laptop Keyboard Length = 0.2806666666666667 meters, +/- 0.0024944382578492717 meters\n",
      "Laptop Keyboard Area = 0.030774666666666672 meters squared, +/- 0.00030589468049568467 meters squared\n",
      "Pillow Width = 0.6633333333333334  meters, +/- 0.004714045207910321 meters\n",
      "Pillow Length = 0.45166666666666666 meters, +/- 0.0023570226039551605 meters\n",
      "Pillow Area = 0.29960000000000003 meters squared, +/- 0.0019026297590440423 meters squared\n",
      "Bed Width = 1.4833333333333334  meters, +/- 0.012472191289246483 meters\n",
      "Bed Length = 1.99 meters, +/- 0.008164965809277268 meters\n",
      "Bed Area = 2.9518 meters squared, +/- 0.023800840321299498 meters squared\n"
     ]
    }
   ],
   "source": [
    "#All Units are in Meters\n",
    "phone_w = np.array([0.07, 0.075, 0.068])\n",
    "phone_l = np.array([0.14, 0.15, 0.14])\n",
    "laptop_screen_w = np.array([0.30, 0.305, 0.298])\n",
    "laptop_screen_l = np.array([0.20, 0.204, 0.205])\n",
    "laptop_key_w = np.array([0.11, 0.107, 0.112])\n",
    "laptop_key_l = np.array([0.28, 0.284, 0.278])\n",
    "pillow_l = np.array([0.45, 0.455, 0.45])\n",
    "pillow_w = np.array([0.67, 0.66, 0.66])\n",
    "bed_w = np.array([1.48, 1.47, 1.50])\n",
    "bed_l = np.array([1.98, 2.00, 1.99])\n",
    "\n",
    "\n",
    "#standard deviation\n",
    "\n",
    "phone_w_std = np.std(phone_w)\n",
    "phone_l_std = np.std(phone_l)\n",
    "laptop_screen_w_std = np.std(laptop_screen_w)\n",
    "laptop_screen_l_std = np.std(laptop_screen_l)\n",
    "laptop_key_l_std = np.std(laptop_key_l)\n",
    "laptop_key_w_std = np.std(laptop_key_w)\n",
    "pillow_l_std = np.std(pillow_l)\n",
    "pillow_w_std = np.std(pillow_w)\n",
    "bed_w_std = np.std(bed_w)\n",
    "bed_l_std = np.std(bed_l)\n",
    "\n",
    "w_error = [phone_w_std, laptop_screen_w_std, laptop_key_w_std, pillow_w_std, bed_w_std]\n",
    "l_error = [pillow_l_std, laptop_screen_l_std, laptop_key_l_std, pillow_l_std, bed_l_std]\n",
    "\n",
    "#average\n",
    "phone_w_av = sum(phone_w)/3\n",
    "phone_l_av = sum(phone_l)/3\n",
    "laptop_screen_l_av = sum(laptop_key_l)/3\n",
    "laptop_screen_w_av = sum(laptop_screen_w)/3\n",
    "laptop_key_w_av = sum(laptop_key_w)/3\n",
    "laptop_key_l_av = sum(laptop_key_l)/3\n",
    "pillow_l_av = sum(pillow_l)/3\n",
    "pillow_w_av = sum(pillow_w)/3\n",
    "bed_w_av = sum(bed_w)/3\n",
    "bed_l_av = sum(bed_l)/3\n",
    "\n",
    "l_av = [phone_l_av, laptop_key_l_av, laptop_screen_l_av, pillow_l_av, bed_l_av]\n",
    "w_av = [phone_w_av, laptop_key_w_av, laptop_screen_w_av, pillow_w_av, bed_w_av]\n",
    "\n",
    "\n",
    "#area\n",
    "phone_area = [phone_l[0] * phone_w[0],phone_l[1] * phone_w[1], phone_l[2] * phone_w[2]]\n",
    "phone_area_std = np.std(phone_area)\n",
    "phone_area_av = sum(phone_area)/3\n",
    "\n",
    "\n",
    "laptop_screen_area = [laptop_screen_l [0] * laptop_screen_w[0],laptop_screen_l[1] * laptop_screen_w[1], laptop_screen_l[2] * laptop_screen_w[2]]\n",
    "laptop_screen_area_std = np.std(laptop_screen_area)\n",
    "laptop_screen_area_av = sum(laptop_screen_area)/3\n",
    "\n",
    "laptop_key_area = [laptop_key_l [0] * laptop_key_w[0],laptop_key_l[1] * laptop_key_w[1], laptop_key_l[2] * laptop_key_w[2]]\n",
    "laptop_key_area_std = np.std(laptop_key_area)\n",
    "laptop_key_area_av = sum(laptop_key_area)/3\n",
    "\n",
    "pillow_area = [pillow_l[0] * pillow_w[0],pillow_l[1] * pillow_w[1], pillow_l[2] * pillow_w[2]]\n",
    "pillow_area_std = np.std(pillow_area)\n",
    "pillow_area_av = sum(pillow_area)/3\n",
    "\n",
    "bed_area = [bed_l[0] * bed_w[0],bed_l[1] * bed_w[1], bed_l[2] * bed_w[2]]\n",
    "bed_area_std = np.std(bed_area)\n",
    "bed_area_av = sum(bed_area)/3\n",
    "\n",
    "area_av = [phone_area_av, laptop_key_area_av, laptop_screen_area_av, pillow_area_av, bed_area_av]\n",
    "area_error = [pillow_area_std, laptop_screen_area_std, laptop_key_area_std, pillow_area_std, bed_area_std]\n",
    "\n",
    "\n",
    "print('The parameters (Average) of the objects and their uncertainties are the following: \\n')\n",
    "#Phone\n",
    "print('Phone Width =', w_av[0],' meters, +/-', w_error[0], 'meters')\n",
    "print('Phone Length =', l_av[0],'meters, +/-',l_error[0], 'meters')\n",
    "print('Phone Area =', phone_area_av,'meters squared, +/-',phone_area_std, 'meters squared')\n",
    "\n",
    "print('Laptop Screen Width =', w_av[1],' meters, +/-', w_error[1], 'meters')\n",
    "print('Laptop Screen Length =', l_av[1],'meters, +/-',l_error[1], 'meters')\n",
    "print('Laptop Screen Area =', laptop_screen_area_av,'meters squared, +/-',laptop_screen_area_std, 'meters squared')\n",
    "\n",
    "print('Laptop Keyboard Width =', w_av[2],' meters, +/-', w_error[2], 'meters')\n",
    "print('Laptop Keyboard Length =', l_av[2],'meters, +/-',l_error[2], 'meters')\n",
    "print('Laptop Keyboard Area =', laptop_key_area_av,'meters squared, +/-',laptop_key_area_std, 'meters squared')\n",
    "\n",
    "print('Pillow Width =', w_av[3],' meters, +/-', w_error[3], 'meters')\n",
    "print('Pillow Length =', l_av[3],'meters, +/-',l_error[3], 'meters')\n",
    "print('Pillow Area =', pillow_area_av,'meters squared, +/-',pillow_area_std, 'meters squared')\n",
    "\n",
    "print('Bed Width =', w_av[4],' meters, +/-', w_error[4], 'meters')\n",
    "print('Bed Length =', l_av[4],'meters, +/-',l_error[4], 'meters')\n",
    "print('Bed Area =', bed_area_av,'meters squared, +/-',bed_area_std, 'meters squared')\n",
    "\n"
   ]
  },
  {
   "cell_type": "markdown",
   "id": "3a63493e",
   "metadata": {},
   "source": [
    "1b) Create three scatter plots of your measurements; length vs width, area vs length, and area vs width. Every point on these plots should have proper error bars and the plots should (as usual) be properly labeled."
   ]
  },
  {
   "cell_type": "code",
   "execution_count": 94,
   "metadata": {},
   "outputs": [
    {
     "data": {
      "image/png": "[encoded data removed]",
      "text/plain": [
       "<Figure size 432x288 with 1 Axes>"
      ]
     },
     "metadata": {
      "needs_background": "light"
     },
     "output_type": "display_data"
    },
    {
     "data": {
      "image/png": "[encoded data removed]",
      "text/plain": [
       "<Figure size 432x288 with 1 Axes>"
      ]
     },
     "metadata": {
      "needs_background": "light"
     },
     "output_type": "display_data"
    },
    {
     "data": {
      "image/png": "[encoded data removed]",
      "text/plain": [
       "<Figure size 432x288 with 1 Axes>"
      ]
     },
     "metadata": {
      "needs_background": "light"
     },
     "output_type": "display_data"
    }
   ],
   "source": [
    "plt.figure()\n",
    "plt.errorbar(l_av, w_av, xerr=l_error, yerr=w_error, fmt='bo')\n",
    "plt.title('Length v.s. Width')\n",
    "plt.xlabel('Length in Meters $(m)$')\n",
    "plt.ylabel('Width in Meters $(m)$')\n",
    "plt.show()\n",
    "\n",
    "plt.figure()\n",
    "plt.errorbar(area_av, l_av, xerr=area_error, yerr=l_error, fmt='ro')\n",
    "plt.title('Area v.s. Length')\n",
    "plt.xlabel('Area in Meters Squared $(m^2)$')\n",
    "plt.ylabel('Length in Meters $(m)$')\n",
    "plt.show()\n",
    "\n",
    "plt.figure()\n",
    "plt.errorbar(area_av, w_av, xerr=area_error, yerr=w_error, fmt='go')\n",
    "plt.title('Area v.s. Width')\n",
    "plt.xlabel('Area in Meters Squared$(m^2)$')\n",
    "plt.ylabel('Width in Meters $(m)$')\n",
    "plt.show()"
   ]
  },
  {
   "cell_type": "markdown",
   "id": "0ba1eba0",
   "metadata": {},
   "source": [
    "# Problem 2: The Central Limit Theorem"
   ]
  },
  {
   "cell_type": "markdown",
   "id": "1d83cb87",
   "metadata": {},
   "source": [
    "2a) Write a function that returns $n$ integer random numbers, uniformly disributed between 1 and 6, inclusively. This represents $n$ throws of a fair 6-sided die."
   ]
  },
  {
   "cell_type": "code",
   "execution_count": 29,
   "id": "d7d39640",
   "metadata": {},
   "outputs": [
    {
     "name": "stdout",
     "output_type": "stream",
     "text": [
      "6\n"
     ]
    }
   ],
   "source": [
    "n = int(input('How much times would you want to roll the die?'))\n",
    "\n",
    "def dice():\n",
    "    return int(np.random.random()*6)+1\n",
    "\n",
    "for i in range(n):\n",
    "    print (dice())\n"
   ]
  },
  {
   "cell_type": "markdown",
   "id": "e2a899a6",
   "metadata": {},
   "source": [
    "2b) Generate a distribution of 1000 dice throws and plot it as a  histogram normalized to unit area. Compute the mean $\\mu_1$ and standard deviation $\\sigma_1$ of this distribution. Compare your numerical result to the analytical calculation."
   ]
  },
  {
   "cell_type": "code",
   "execution_count": 65,
   "id": "cbbc3d12",
   "metadata": {},
   "outputs": [
    {
     "name": "stdout",
     "output_type": "stream",
     "text": [
      "Standard deviation = 1.7\n",
      "Mean = 3.5\n"
     ]
    },
    {
     "data": {
      "image/png": "[encoded data removed]",
      "text/plain": [
       "<Figure size 432x288 with 1 Axes>"
      ]
     },
     "metadata": {
      "needs_background": "light"
     },
     "output_type": "display_data"
    }
   ],
   "source": [
    "n = 1000\n",
    "x = [dice() for i in range(n)]\n",
    "n, bins, patches = plt.hist(x,6,(0.5,6.5), density=True)\n",
    "\n",
    "print ('Standard deviation = {0:3.1f}'.format(np.std(x)))\n",
    "print ('Mean = {0:3.1f}'.format(np.mean(x)))"
   ]
  },
  {
   "cell_type": "markdown",
   "id": "0e906631",
   "metadata": {},
   "source": [
    "2c) Generate 1000 sets of throws of $N=2,3,4,5,10$ dice, computing the total sum of dice scores for each set. For each value of $N$, plot the distribution of total scores, and compute the mean $\\mu_N$ and standard deviation $\\sigma_N$ of each distribution. This should be similar to the plot at the link above."
   ]
  },
  {
   "cell_type": "code",
   "execution_count": 199,
   "id": "8dc25b04",
   "metadata": {},
   "outputs": [
    {
     "name": "stdout",
     "output_type": "stream",
     "text": [
      "For N = 2\n",
      "Mean = 6.988\n",
      "Standard Deviation = 2.4273236290202425\n"
     ]
    },
    {
     "data": {
      "image/png": "[encoded data removed]",
      "text/plain": [
       "<Figure size 432x288 with 1 Axes>"
      ]
     },
     "metadata": {
      "needs_background": "light"
     },
     "output_type": "display_data"
    },
    {
     "name": "stdout",
     "output_type": "stream",
     "text": [
      "For N = 3\n",
      "Mean = 10.544\n",
      "Standard Deviation = 2.9240723315267014\n"
     ]
    },
    {
     "data": {
      "image/png": "[encoded data removed]",
      "text/plain": [
       "<Figure size 432x288 with 1 Axes>"
      ]
     },
     "metadata": {
      "needs_background": "light"
     },
     "output_type": "display_data"
    },
    {
     "name": "stdout",
     "output_type": "stream",
     "text": [
      "For N = 4\n",
      "Mean = 6.989\n",
      "Standard Deviation = 3.4131106047123643\n"
     ]
    },
    {
     "data": {
      "image/png": "[encoded data removed]",
      "text/plain": [
       "<Figure size 432x288 with 1 Axes>"
      ]
     },
     "metadata": {
      "needs_background": "light"
     },
     "output_type": "display_data"
    },
    {
     "name": "stdout",
     "output_type": "stream",
     "text": [
      "For N = 5\n",
      "Mean = 17.625\n",
      "Standard Deviation = 3.9060337940166368\n"
     ]
    },
    {
     "data": {
      "image/png": "[encoded data removed]",
      "text/plain": [
       "<Figure size 432x288 with 1 Axes>"
      ]
     },
     "metadata": {
      "needs_background": "light"
     },
     "output_type": "display_data"
    },
    {
     "name": "stdout",
     "output_type": "stream",
     "text": [
      "For N = 10\n",
      "Mean = 34.974\n",
      "Standard Deviation = 5.4353067070773475\n"
     ]
    },
    {
     "data": {
      "image/png": "[encoded data removed]",
      "text/plain": [
       "<Figure size 432x288 with 1 Axes>"
      ]
     },
     "metadata": {
      "needs_background": "light"
     },
     "output_type": "display_data"
    }
   ],
   "source": [
    "def dice(n):\n",
    "    result = np.random.randint(1,7,n)\n",
    "    return result\n",
    "\n",
    "def multi_die(N):\n",
    "    sums = []\n",
    "    for m in range(1000):\n",
    "        scores = dice(N)\n",
    "        scores_list = []\n",
    "        for score in scores:\n",
    "                scores_list.append(score)\n",
    "        sums.append(np.sum(scores_list))\n",
    "    return np.array(sums)\n",
    "\n",
    "\n",
    "n_numbers = [2,3,4,5,10]\n",
    "sds = []\n",
    "mu = []\n",
    "\n",
    "plt.figure()\n",
    "plt.hist(multi_die(2),11)\n",
    "plt.title('N = 2')\n",
    "std_2 = np.std((multi_die(2)))\n",
    "sds.append(std_2)\n",
    "mu_2 = np.mean(multi_die(2))\n",
    "mu.append(mu_2)\n",
    "print('For N = 2')\n",
    "print('Mean =', mu_2)\n",
    "print('Standard Deviation =', std_2)\n",
    "plt.show()\n",
    "\n",
    "plt.figure()\n",
    "plt.hist(multi_die(3),15)\n",
    "plt.title('N = 3')\n",
    "std_3 = np.std((multi_die(3)))\n",
    "sds.append(std_3)\n",
    "mu_3 = np.mean(multi_die(3))\n",
    "mu.append(mu_3)\n",
    "print('For N = 3')\n",
    "print('Mean =', mu_3)\n",
    "print('Standard Deviation =', std_3)\n",
    "plt.show()\n",
    "\n",
    "plt.figure()\n",
    "plt.hist(multi_die(4),15)\n",
    "plt.title('N = 4')\n",
    "std_4 = np.std((multi_die(4)))\n",
    "sds.append(std_4)\n",
    "mu_4 = np.mean(multi_die(2))\n",
    "mu.append(mu_2)\n",
    "print('For N = 4')\n",
    "print('Mean =', mu_4)\n",
    "print('Standard Deviation =', std_4)\n",
    "plt.show()\n",
    "\n",
    "plt.figure()\n",
    "plt.hist(multi_die(5),15)\n",
    "plt.title('N = 5')\n",
    "std_5 = np.std((multi_die(5)))\n",
    "sds.append(std_5)\n",
    "mu_5 = np.mean(multi_die(5))\n",
    "mu.append(mu_5)\n",
    "print('For N = 5')\n",
    "print('Mean =', mu_5)\n",
    "print('Standard Deviation =', std_5)\n",
    "plt.show()\n",
    "\n",
    "plt.figure()\n",
    "plt.hist(multi_die(10),20)\n",
    "plt.title('N = 10')\n",
    "std_10 = np.std((multi_die(10)))\n",
    "sds.append(std_10)\n",
    "mu_10 = np.mean(multi_die(10))\n",
    "mu.append(mu_10)\n",
    "print('For N = 10')\n",
    "print('Mean =', mu_10)\n",
    "print('Standard Deviation =', std_10)\n",
    "plt.show()\n",
    "\n",
    "\n",
    "\n"
   ]
  },
  {
   "cell_type": "markdown",
   "id": "04aceeb3",
   "metadata": {},
   "source": [
    "2d) Plot the standard deviation $\\sigma_N$ as a function of $N$. Does it follow the Central Limit Theorem? \n",
    "\n",
    "(Hint: Information on the central limit theorem can be found here https://en.wikipedia.org/wiki/Central_limit_theorem#/media/File:Dice_sum_central_limit_theorem.svg)"
   ]
  },
  {
   "cell_type": "code",
   "execution_count": 208,
   "id": "1cb73a3c",
   "metadata": {},
   "outputs": [
    {
     "data": {
      "image/png": "[encoded data removed]",
      "text/plain": [
       "<Figure size 432x288 with 1 Axes>"
      ]
     },
     "metadata": {
      "needs_background": "light"
     },
     "output_type": "display_data"
    },
    {
     "name": "stdout",
     "output_type": "stream",
     "text": [
      "Yes it does follow the Central Limit Theorem\n"
     ]
    }
   ],
   "source": [
    "plt.figure()\n",
    "plt.plot(n_numbers, sds, 'r')\n",
    "plt.title('$\\sigma_N$ as a function of $N$')\n",
    "plt.show()\n",
    "print('Yes it does follow the Central Limit Theorem')"
   ]
  },
  {
   "cell_type": "markdown",
   "id": "76e2353b",
   "metadata": {},
   "source": [
    "# Problem 3: Helmholtz Resonance"
   ]
  },
  {
   "cell_type": "markdown",
   "id": "dc561670",
   "metadata": {},
   "source": [
    "3) This problem is going to require some irl work. As I would hope you are all aware, when you blow into a glass bottle, it makes a sound and you can change that sound by the size of the bottle or by how much liquid is left in the bottle. This is due to a phenomenon known as Helmholtz Resonance. For a given helmholtz resonator, the resonance frequency is given by the equation:\n",
    "$$ f_r = \\frac{v_s}{2\\pi}\\sqrt{\\frac{A}{VL_e}} $$\n",
    "where $v_s$ is the speed of sound in air (343 m/s), $A$ is the area of the opening of your resonator, $V$ is the volume of the resonator, and $L_e$ is the effective length of the neck with the opening. Explicitly, $Le = L + α\\sqrt(A)$ with L being the physical length of the neck and α ≈ 0.96."
   ]
  },
  {
   "cell_type": "markdown",
   "id": "3da1abc1",
   "metadata": {},
   "source": [
    "3a) Download an app on your phone for detecting sound. For apple products, the app SpectrumView would be useful. For any device using google play the app Spectroid would also work. Next, find a bottle to be your helmholtz resonator. Measure its dimensions carefully and, using the equation above, predict the resonance frequency of your bottle. Use your notebook as your calculator and make sure you define all your variables."
   ]
  },
  {
   "cell_type": "code",
   "execution_count": 225,
   "id": "0213e90d",
   "metadata": {},
   "outputs": [
    {
     "name": "stdout",
     "output_type": "stream",
     "text": [
      "The resonance of my water bottle is 452.13531626305934 Hz\n"
     ]
    }
   ],
   "source": [
    "v_s = 343 #In meters per second\n",
    "volume = 0.00050275 #In meters cubed\n",
    "a = 0.96\n",
    "\n",
    "A_radius = 0.00065\n",
    "A_area = np.pi * (A_radius**2)\n",
    "L = 0.18\n",
    "\n",
    "resonance = (v_s/(2*np.pi))/(np.sqrt(A_area/(volume * (L+a*np.sqrt(A_area)))))\n",
    "\n",
    "print('The resonance of my water bottle is', resonance, 'Hz')"
   ]
  },
  {
   "cell_type": "markdown",
   "id": "51938e02",
   "metadata": {},
   "source": [
    "3b) Now, using your spectrum app, blow into your resonator and measure the resonance frequency. Repeat this process enough time that you feel you have a statistically significant result. Report your measurements in the cell below. Your final output should be the average of your measurements along with a reported error."
   ]
  },
  {
   "cell_type": "code",
   "execution_count": 223,
   "id": "7d9a0a51",
   "metadata": {},
   "outputs": [
    {
     "name": "stdout",
     "output_type": "stream",
     "text": [
      "The average of my measurements is 423.67499999999995 Hz +/- 14.025401063784253 Hz\n"
     ]
    }
   ],
   "source": [
    "results_empty = np.array([407.4, 420.3, 420.9, 446.1])\n",
    "\n",
    "results_empty_average = 0\n",
    "\n",
    "for ele in range(0, len(results_empty)):\n",
    "    results_empty_average = results_empty_average + results_empty[ele]\n",
    " \n",
    "results_empty_average = results_empty_average/4\n",
    "\n",
    "results_empty_std = np.std(results_empty)\n",
    "\n",
    "print('The average of my measurements is',results_empty_average, 'Hz +/-', results_empty_std, 'Hz')"
   ]
  },
  {
   "cell_type": "markdown",
   "id": "6a1f30d2",
   "metadata": {},
   "source": []
  },
  {
   "cell_type": "markdown",
   "id": "0bab96ce",
   "metadata": {},
   "source": [
    "3c) Now that you have found the resonance frequency of your empty bottle, its time to start messing with the original parameters to try and change that frequency. Adjust the volume of your bottle and, just like you did in part (b), measure the new resonance frequency. Repeat this process at least five times, with a new volume each time. Finally, plot your results of your experiments along with their error bars. "
   ]
  },
  {
   "cell_type": "code",
   "execution_count": 257,
   "id": "ee0bc005",
   "metadata": {},
   "outputs": [
    {
     "name": "stdout",
     "output_type": "stream",
     "text": [
      "If the bottle is half full the new resonance is 219.98639943317872 Hz\n",
      "If the bottle is a quarter empty the new resonance is 155.55124483202437 Hz\n",
      "If the bottle is a eighth full the new resonance is 291.01465235835565 Hz\n",
      "If the bottle is a sixteenth full the new resonance is 301.2289530474713 Hz\n",
      "If the bottle is 3/16 full the new resonance is 280.42891821312253 Hz\n"
     ]
    },
    {
     "data": {
      "image/png": "[encoded data removed]",
      "text/plain": [
       "<Figure size 432x288 with 1 Axes>"
      ]
     },
     "metadata": {
      "needs_background": "light"
     },
     "output_type": "display_data"
    }
   ],
   "source": [
    "from tkinter import Y\n",
    "\n",
    "from matplotlib.pyplot import ylabel\n",
    "\n",
    "\n",
    "results_master = []\n",
    "results_master_std = []\n",
    "results_volume = []\n",
    "\n",
    "#added 8oz to the 16 oz cup\n",
    "\n",
    "volume = 0.000236588\n",
    "results_volume.append(volume)\n",
    "resonance = (v_s/(2*np.pi))/(np.sqrt(A_area/(volume * (L+a*np.sqrt(A_area)))))\n",
    "print('If the bottle is half full the new resonance is',resonance, 'Hz')\n",
    "\n",
    "results_half = np.array([240.4, 242.7, 255.2, 230.5])\n",
    "results_half_average = 0\n",
    "\n",
    "for ele in range(0, 4):\n",
    "    results_half_average = results_half_average + results_half[ele]\n",
    " \n",
    "results_half_average = results_half_average/4\n",
    "results_half_std = np.std(results_half)\n",
    "results_master.append(results_half_average)\n",
    "results_master_std.append(results_half_std)\n",
    "\n",
    "\n",
    "#added 12 oz to the 16 oz cup\n",
    "\n",
    "volume = 0.00011829\n",
    "results_volume.append(volume)\n",
    "resonance = (v_s/(2*np.pi))/(np.sqrt(A_area/(volume * (L+a*np.sqrt(A_area)))))\n",
    "print('If the bottle is a quarter empty the new resonance is',resonance, 'Hz')\n",
    "\n",
    "results_q = np.array([160.2, 177.4, 180.3, 166.8])\n",
    "results_q_average = 0\n",
    "\n",
    "for ele in range(0, 4):\n",
    "    results_q_average = results_q_average + results_q[ele]\n",
    " \n",
    "results_q_average = results_q_average/4\n",
    "results_q_std = np.std(results_q)\n",
    "results_master.append(results_q_average)\n",
    "results_master_std.append(results_q_std)\n",
    "\n",
    "#added 2 oz to the 16 oz cup\n",
    "\n",
    "volume = 0.000414029\n",
    "results_volume.append(volume)\n",
    "resonance = (v_s/(2*np.pi))/(np.sqrt(A_area/(volume * (L+a*np.sqrt(A_area)))))\n",
    "print('If the bottle is a eighth full the new resonance is',resonance, 'Hz')\n",
    "\n",
    "results_e = np.array([301.8, 333.5, 325.8, 322.4])\n",
    "results_e_average = 0\n",
    "\n",
    "for ele in range(0, 4):\n",
    "    results_e_average = results_e_average + results_e[ele]\n",
    " \n",
    "results_e_average = results_e_average/4\n",
    "results_e_std = np.std(results_e)\n",
    "results_master.append(results_e_average)\n",
    "results_master_std.append(results_e_std)\n",
    "\n",
    "#added 1 oz to the 16 oz cup\n",
    "\n",
    "volume = 0.000443603\n",
    "results_volume.append(volume)\n",
    "resonance = (v_s/(2*np.pi))/(np.sqrt(A_area/(volume * (L+a*np.sqrt(A_area)))))\n",
    "print('If the bottle is a sixteenth full the new resonance is',resonance, 'Hz')\n",
    "\n",
    "results_s = np.array([320.4, 333.2, 342.4, 312.5])\n",
    "results_s_average = 0\n",
    "\n",
    "for ele in range(0, 4):\n",
    "    results_s_average = results_s_average + results_e[ele]\n",
    " \n",
    "results_s_average = results_s_average/4\n",
    "results_s_std = np.std(results_s)\n",
    "results_master.append(results_s_average)\n",
    "results_master_std.append(results_s_std)\n",
    "\n",
    "#added 3 oz to the 16 oz cup\n",
    "\n",
    "volume = 0.000384456\n",
    "results_volume.append(volume)\n",
    "resonance = (v_s/(2*np.pi))/(np.sqrt(A_area/(volume * (L+a*np.sqrt(A_area)))))\n",
    "print('If the bottle is 3/16 full the new resonance is',resonance, 'Hz')\n",
    "\n",
    "results_t = np.array([300.2, 340.6, 320.4, 330.6])\n",
    "results_t_average = 0\n",
    "\n",
    "for ele in range(0, 4):\n",
    "    results_t_average = results_t_average + results_t[ele]\n",
    " \n",
    "results_t_average = results_t_average/4\n",
    "results_t_std = np.std(results_t)\n",
    "results_master.append(results_t_average)\n",
    "results_master_std.append(results_t_std)\n",
    "\n",
    "plt.figure()\n",
    "plt.errorbar(results_volume, results_master, xerr=0, yerr=results_master_std, fmt='go')\n",
    "plt.title('Volume in $m^3$ vs Resonance levels in $Hz$')\n",
    "plt.xlabel('Volume in $m^3$')\n",
    "plt.ylabel('Resonance in $Hz$')\n",
    "plt.show()\n"
   ]
  },
  {
   "cell_type": "markdown",
   "id": "9b8df9c4",
   "metadata": {},
   "source": [
    "3d) You now have real life data demonstrating how resonance frequency relates to the volume of the resonantor. Using the equation for resonance frequency given, fit your experimental data to our theoretical expectations of the helmholtz resonator. Does your data seem to confirm our theoretical expectations? If not, why do you think that could be?"
   ]
  },
  {
   "cell_type": "code",
   "execution_count": 308,
   "id": "4d368da6",
   "metadata": {},
   "outputs": [
    {
     "name": "stdout",
     "output_type": "stream",
     "text": [
      "chi^2 =  1.18\n",
      "chi^2/d.f.= 0.59\n"
     ]
    },
    {
     "data": {
      "image/png": "[encoded data removed]",
      "text/plain": [
       "<Figure size 432x288 with 1 Axes>"
      ]
     },
     "metadata": {
      "needs_background": "light"
     },
     "output_type": "display_data"
    },
    {
     "name": "stdout",
     "output_type": "stream",
     "text": [
      "I think that it did not confirm our theorical suspisions, as I could have messed up a lot of variables,(i.e.    Using a cylinderical metal water bottle instead of something like a wine bottle, misinterperting the frequency    on the app, etc...\n"
     ]
    }
   ],
   "source": [
    "import scipy.optimize as fitter\n",
    "plt.figure()\n",
    "\n",
    "\n",
    "results_master = np.array(results_master)\n",
    "results_master_std = np.array(results_master_std)\n",
    "results_volume = np.array(results_volume)\n",
    "\n",
    "def model2(x, a, b, c):\n",
    "    return a + b*x + c*x*x\n",
    "\n",
    "par0    = np.array([0.0, 9.0, 5e10])\n",
    "par, cov = fitter.curve_fit(model2, results_volume, results_master, par0, results_master_std)\n",
    "\n",
    "corr = cov.copy()\n",
    "for i in range(len(par)):\n",
    "    for j in range(len(par)):\n",
    "        corr[i,j] = cov[i,j]/np.sqrt(cov[i,i]*cov[j,j])\n",
    "        \n",
    "\n",
    "chi_squared = np.sum(((model2(results_volume, *par)-results_master)/results_master_std)**2)\n",
    "reduced_chi_squared = (chi_squared)/(len(results_volume)-len(par))\n",
    "print ('chi^2 = {0:5.2f}'.format(chi_squared))\n",
    "print ('chi^2/d.f.={0:5.2f}'.format(reduced_chi_squared))\n",
    "\n",
    "plt.errorbar(results_volume, results_master, xerr=0, yerr=results_master_std, fmt='go')\n",
    "\n",
    "xfit = np.linspace(0,0.5e-3,1000)\n",
    "\n",
    "plt.errorbar(results_volume, results_master, xerr=0, yerr=results_master_std, fmt='go')\n",
    "plt.plot(xfit,model2(xfit,par[0],par[1], par[2]),'r-')\n",
    "plt.title('Volume in $m^3$ vs Resonance levels in $Hz$')\n",
    "plt.xlabel('Volume in $m^3$')\n",
    "plt.ylabel('Resonance in $Hz$')\n",
    "plt.show()\n",
    "\n",
    "\n",
    "print('I think that it did not confirm our theorical suspisions, as I could have messed up a lot of variables,(i.e.\\\n",
    "    Using a cylinderical metal water bottle instead of something like a wine bottle, misinterperting the frequency\\\n",
    "    on the app, etc...')"
   ]
  },
  {
   "cell_type": "markdown",
   "id": "85e58e32",
   "metadata": {},
   "source": [
    "# Problem 4: Final Project Update"
   ]
  },
  {
   "cell_type": "markdown",
   "id": "456e3cc0",
   "metadata": {},
   "source": [
    "Be able to demonstrate that you and your group are making substantive progress on your final project."
   ]
  },
  {
   "cell_type": "markdown",
   "id": "95a61bb0",
   "metadata": {},
   "source": [
    "- Started developing our group's Github Page for the project:\n",
    "https://github.com/aaronsuu/star_luminosity_analysis"
   ]
  },
  {
   "cell_type": "markdown",
   "id": "dc4e58f5",
   "metadata": {},
   "source": [
    "- Started Collecting Data from websites/articles over the web"
   ]
  },
  {
   "cell_type": "markdown",
   "id": "7bfd15a1",
   "metadata": {},
   "source": [
    "- Started Assigning Postions/Tasks for Group Members"
   ]
  },
  {
   "cell_type": "markdown",
   "id": "ff9e7661",
   "metadata": {},
   "source": [
    "- Plans to split up work"
   ]
  },
  {
   "cell_type": "markdown",
   "id": "9c9fd02c",
   "metadata": {},
   "source": []
  }
 ],
 "metadata": {
  "kernelspec": {
   "display_name": "Python 3.9.12 ('base')",
   "language": "python",
   "name": "python3"
  },
  "language_info": {
   "codemirror_mode": {
    "name": "ipython",
    "version": 3
   },
   "file_extension": ".py",
   "mimetype": "text/x-python",
   "name": "python",
   "nbconvert_exporter": "python",
   "pygments_lexer": "ipython3",
   "version": "3.9.12"
  },
  "vscode": {
   "interpreter": {
    "hash": "80a93910b6ddd771e6649becc50c73cb2ee3264e66bce87c9fd88e4d3ddf5fd6"
   }
  }
 },
 "nbformat": 4,
 "nbformat_minor": 5
}
