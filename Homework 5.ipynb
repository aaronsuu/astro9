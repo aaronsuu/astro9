{
 "cells": [
  {
   "cell_type": "markdown",
   "id": "fb4c8e01",
   "metadata": {},
   "source": [
    "# Homework 5: Calculus and Linear Algebra in Python"
   ]
  },
  {
   "cell_type": "markdown",
   "id": "4aceff29",
   "metadata": {},
   "source": [
    "** Submit this notebook to bCourses to receive a credit for this assignment.**\n",
    "\n",
    "Please complete this homework assignment in code cells in the iPython notebook. Include comments in your code when necessary. Enter your name in the cell at the top of the notebook, and rename the notebook name_HW05.ipynb."
   ]
  },
  {
   "cell_type": "markdown",
   "id": "66827a10",
   "metadata": {},
   "source": [
    "# Problem 1: Numerical Differentiation"
   ]
  },
  {
   "cell_type": "code",
   "execution_count": 1,
   "id": "84732b13",
   "metadata": {},
   "outputs": [],
   "source": [
    "def forward_dy(y, x):\n",
    "    '''\n",
    "        Uses forward differences (see below) to estimate the derivatives at each value of x, \n",
    "        except for the last one. The derivative at the last value of x is estimated \n",
    "        using a backward difference.\n",
    "            dy/dx at x[i] is approximated by (y[i+1] - y[i]) /  (x[i+1] - x[i])\n",
    "    '''\n",
    "    dyf = [0.0]*len(x)\n",
    "    for i in range(len(y)-1):\n",
    "        dyf[i] = (y[i+1] - y[i])/(x[i+1]-x[i])\n",
    "    \n",
    "    #set last element by backwards difference\n",
    "    dyf[-1] = (y[-1] - y[-2])/(x[-1] - x[-2])\n",
    "    return dyf\n",
    "\n",
    "def backward_dy(y, x):\n",
    "    '''\n",
    "        Uses backward differences (see below) to estimate the derivatives at each value of x, \n",
    "        except for the first one. The derivative at the first value of x is estimated \n",
    "        using a forward difference.\n",
    "            dy/dx at x[i] is approximated by (y[i] - y[i-1]) /  (x[i] - x[i-1])\n",
    "    '''\n",
    "    \n",
    "    dyb = [0.0]*len(x)\n",
    "    #set first element by forward difference\n",
    "    dyb[0] = (y[0] - y[1])/(x[0] - x[1])\n",
    "    for i in range(1,len(y)):\n",
    "        dyb[i] = (y[i] - y[i-1])/(x[i]-x[i-1])\n",
    "\n",
    "    return dyb\n",
    "\n",
    "def centered_dy(y, x):\n",
    "    '''\n",
    "        Uses centered differences (see below) to estimate the derivatives at each value of x, \n",
    "        except for the first and last values. The derivative at the first value of x is estimated \n",
    "        using a forward difference. The derivative at the last value of x is estimated \n",
    "        using a backward difference.\n",
    "            dy/dx at x[i] is approximated by (y[i+1] - y[i-1]) / (x[i+1]-x[i-1])\n",
    "    '''\n",
    "    dyc = [0.0]*len(x)\n",
    "    dyc[0] = (y[0] - y[1])/(x[0] - x[1])\n",
    "    for i in range(1,len(y)-1):\n",
    "        dyc[i] = (y[i+1] - y[i-1])/(x[i+1]-x[i-1])\n",
    "    dyc[-1] = (y[-1] - y[-2])/(x[-1] - x[-2])\n",
    "\n",
    "    return dyc"
   ]
  },
  {
   "cell_type": "markdown",
   "id": "169affb1",
   "metadata": {},
   "source": [
    "1a) Use the functions above to estimate the $f'(x)$ in three ways for\n",
    "$$f(x) = \\cos(x)$$\n",
    "using $N = 100$ points in the window $x\\in [0, 2\\pi)$. Calculate the analytical derivative at each point as well. Plot the four curves together (forward derivatives, backward derivatives, centered derivatives, and analytical derivatives). If you have done everything right, they should all agree well with each other. You do not need axis labels, but do add a legend to indicate which curve is which."
   ]
  },
  {
   "cell_type": "code",
   "execution_count": null,
   "id": "6c0fe1bf",
   "metadata": {},
   "outputs": [],
   "source": []
  },
  {
   "cell_type": "markdown",
   "id": "1ce1ced2",
   "metadata": {},
   "source": [
    "1b) Plot the difference between result from each estimate method and the result from the analytical method. For example, you should compute `dyf - dy_analytical`,`dyb - dy_analytical`, and `dyc - dy_analytical` and plot all three together. You do not need axis labels, but do add a legend to indicate which curve is which. Which method is most accurate? "
   ]
  },
  {
   "cell_type": "code",
   "execution_count": null,
   "id": "88c9481a",
   "metadata": {},
   "outputs": [],
   "source": []
  },
  {
   "cell_type": "markdown",
   "id": "7a16f050",
   "metadata": {},
   "source": [
    "1c) Vary the number of points $N$ representing the original function (try $N = 10, 100, 1000$ points). How does the precision change (*Hint: look at the maximum/minimum value of the differences you calculated above*)."
   ]
  },
  {
   "cell_type": "code",
   "execution_count": null,
   "id": "2e9e17c6",
   "metadata": {},
   "outputs": [],
   "source": []
  },
  {
   "cell_type": "markdown",
   "id": "7b6452f0",
   "metadata": {},
   "source": [
    "# Problem 2: Numerical Integration"
   ]
  },
  {
   "cell_type": "markdown",
   "id": "c8fd6bcc",
   "metadata": {},
   "source": [
    "Compare results of the trapezoid integration method,  Simpson’s method, and the adaptive Gaussian quadrature method for the following integrals:\n",
    "\n",
    "1. $$\\int_0^{\\pi/2}\\sin x\\, dx $$\n",
    "1. $$\\int_2^7 \\frac{1}{x^2}\\, dx $$\n",
    "1. $$\\int_1^5 (3x^2+x-4)\\, dx$$\n",
    "\n",
    "For each part, try it with more and with fewer slices to determine how many slices are required to give an ‘acceptable’ answer. (If you double the number of slices and still get the same answer, then try half as many, etc.) In your submitted work, describe roughly how many points were required, and explain."
   ]
  },
  {
   "cell_type": "code",
   "execution_count": null,
   "id": "677eb458",
   "metadata": {},
   "outputs": [],
   "source": []
  },
  {
   "cell_type": "markdown",
   "id": "f21d78d1",
   "metadata": {},
   "source": [
    "# Problem 3: My Name is Neo"
   ]
  },
  {
   "cell_type": "markdown",
   "id": "0efa4777",
   "metadata": {},
   "source": [
    "![SegmentLocal](neo.gif \"segment\")"
   ]
  },
  {
   "cell_type": "markdown",
   "id": "72a971cf",
   "metadata": {},
   "source": [
    "3a) Store a $3\\times 3$ matrix $A$ which is with entries\n",
    "$$A = \\begin{pmatrix}\n",
    "10 & -7 & 0\\\\\n",
    "-3 & 2 & 6\\\\\n",
    "5 & -1 & 5\\\\\n",
    "\\end{pmatrix}$$\n",
    "Calculate its determinant using the built-in `np.linalg.det` function."
   ]
  },
  {
   "cell_type": "code",
   "execution_count": null,
   "id": "088b4052",
   "metadata": {},
   "outputs": [],
   "source": []
  },
  {
   "cell_type": "markdown",
   "id": "b0730f3f",
   "metadata": {},
   "source": [
    "3b) Write your own determinant function `determinant(M)`, which takes a 3x3 matrix `M` as an argument and returns the determinant of that matrix. Test your determinant function on the matrix $A$ above. Does your function agree with the built-in function?"
   ]
  },
  {
   "cell_type": "code",
   "execution_count": null,
   "id": "86fd5b86",
   "metadata": {},
   "outputs": [],
   "source": []
  },
  {
   "cell_type": "markdown",
   "id": "cf5fa211",
   "metadata": {},
   "source": [
    "3c) Invert matrix $A$ in the code cell below. Then multiply $A$ by your answer for its inverse Is the product what you expect?"
   ]
  },
  {
   "cell_type": "code",
   "execution_count": null,
   "id": "4e411645",
   "metadata": {},
   "outputs": [],
   "source": []
  },
  {
   "cell_type": "markdown",
   "id": "1ee8820c",
   "metadata": {},
   "source": [
    "# Problem 4: Final Project Update"
   ]
  },
  {
   "cell_type": "markdown",
   "id": "e1a11682",
   "metadata": {},
   "source": [
    "At this point you should be finishing up your research and starting on your presentation, if you haven't already. Report some of your research conclusions here so that I know you will be ready to present next Thursday."
   ]
  }
 ],
 "metadata": {
  "kernelspec": {
   "display_name": "Python 3 (ipykernel)",
   "language": "python",
   "name": "python3"
  },
  "language_info": {
   "codemirror_mode": {
    "name": "ipython",
    "version": 3
   },
   "file_extension": ".py",
   "mimetype": "text/x-python",
   "name": "python",
   "nbconvert_exporter": "python",
   "pygments_lexer": "ipython3",
   "version": "3.9.13"
  }
 },
 "nbformat": 4,
 "nbformat_minor": 5
}
