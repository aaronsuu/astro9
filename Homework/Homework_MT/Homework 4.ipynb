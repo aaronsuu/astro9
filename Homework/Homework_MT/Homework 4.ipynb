{
 "cells": [
  {
   "cell_type": "markdown",
   "id": "95714d93",
   "metadata": {},
   "source": [
    "# Homework 4: Statistics in Python"
   ]
  },
  {
   "cell_type": "markdown",
   "id": "9be34d37",
   "metadata": {},
   "source": [
    "** Submit this notebook to bCourses to receive a credit for this assignment.**\n",
    "\n",
    "Please complete this homework assignment in code cells in the iPython notebook. Include comments in your code when necessary. Enter your name in the cell at the top of the notebook, and rename the notebook name_HW04.ipynb."
   ]
  },
  {
   "cell_type": "markdown",
   "id": "0ba1181a",
   "metadata": {},
   "source": [
    "# Problem 1: An error walks into a bar..."
   ]
  },
  {
   "cell_type": "markdown",
   "id": "fa5ce648",
   "metadata": {},
   "source": [
    "1a) For this problem you will need some kind of measuring tool (if you do not have one you may gather and share data with a classmate, but be sure to mention in your answer who you shared with). Measure the lengths and the widths of your phone, your computer (keyboard and screen separatley), your pillow, then finally your bed. Repeat these measurments multiple times to get some idea of the random error introduced in your measurements. Record all your measurments in the cell below and print your final results with their corresponding error."
   ]
  },
  {
   "cell_type": "code",
   "execution_count": null,
   "id": "cd0fb289",
   "metadata": {},
   "outputs": [],
   "source": []
  },
  {
   "cell_type": "markdown",
   "id": "3a63493e",
   "metadata": {},
   "source": [
    "1b) Create three scatter plots of your measurements; length vs width, area vs length, and area vs width. Every point on these plots should have proper error bars and the plots should (as usual) be properly labeled."
   ]
  },
  {
   "cell_type": "markdown",
   "id": "0ba1eba0",
   "metadata": {},
   "source": [
    "# Problem 2: The Central Limit Theorem"
   ]
  },
  {
   "cell_type": "markdown",
   "id": "1d83cb87",
   "metadata": {},
   "source": [
    "2a) Write a function that returns $n$ integer random numbers, uniformly disributed between 1 and 6, inclusively. This represents $n$ throws of a fair 6-sided die."
   ]
  },
  {
   "cell_type": "code",
   "execution_count": null,
   "id": "d7d39640",
   "metadata": {},
   "outputs": [],
   "source": []
  },
  {
   "cell_type": "markdown",
   "id": "e2a899a6",
   "metadata": {},
   "source": [
    "2b) Generate a distribution of 1000 dice throws and plot it as a  histogram normalized to unit area. Compute the mean $\\mu_1$ and standard deviation $\\sigma_1$ of this distribution. Compare your numerical result to the analytical calculation."
   ]
  },
  {
   "cell_type": "code",
   "execution_count": null,
   "id": "cbbc3d12",
   "metadata": {},
   "outputs": [],
   "source": []
  },
  {
   "cell_type": "markdown",
   "id": "0e906631",
   "metadata": {},
   "source": [
    "2c) Generate 1000 sets of throws of $N=2,3,4,5,10$ dice, computing the total sum of dice scores for each set. For each value of $N$, plot the distribution of total scores, and compute the mean $\\mu_N$ and standard deviation $\\sigma_N$ of each distribution. This should be similar to the plot at the link above."
   ]
  },
  {
   "cell_type": "code",
   "execution_count": null,
   "id": "8dc25b04",
   "metadata": {},
   "outputs": [],
   "source": []
  },
  {
   "cell_type": "markdown",
   "id": "04aceeb3",
   "metadata": {},
   "source": [
    "2d) Plot the standard deviation $\\sigma_N$ as a function of $N$. Does it follow the Central Limit Theorem? \n",
    "\n",
    "(Hint: Information on the central limit theorem can be found here https://en.wikipedia.org/wiki/Central_limit_theorem#/media/File:Dice_sum_central_limit_theorem.svg)"
   ]
  },
  {
   "cell_type": "code",
   "execution_count": null,
   "id": "1cb73a3c",
   "metadata": {},
   "outputs": [],
   "source": []
  },
  {
   "cell_type": "markdown",
   "id": "76e2353b",
   "metadata": {},
   "source": [
    "# Problem 3: Helmholtz Resonance"
   ]
  },
  {
   "cell_type": "markdown",
   "id": "dc561670",
   "metadata": {},
   "source": [
    "3) This problem is going to require some irl work. As I would hope you are all aware, when you blow into a glass bottle, it makes a sound and you can change that sound by the size of the bottle or by how much liquid is left in the bottle. This is due to a phenomenon known as Helmholtz Resonance. For a given helmholtz resonator, the resonance frequency is given by the equation:\n",
    "$$ f_r = \\frac{v_s}{2\\pi}\\sqrt{\\frac{A}{VL_e}} $$\n",
    "where $v_s$ is the speed of sound in air (343 m/s), $A$ is the area of the opening of your resonator, $V$ is the volume of the resonator, and $L_e$ is the effective length of the neck with the opening. Explicitly, $Le = L + α\\sqrt(A)$ with L being the physical length of the neck and α ≈ 0.96."
   ]
  },
  {
   "cell_type": "markdown",
   "id": "3da1abc1",
   "metadata": {},
   "source": [
    "3a) Download an app on your phone for detecting sound. For apple products, the app SpectrumView would be useful. For any device using google play the app Spectroid would also work. Next, find a bottle to be your helmholtz resonator. Measure its dimensions carefully and, using the equation above, predict the resonance frequency of your bottle. Use your notebook as your calculator and make sure you define all your variables."
   ]
  },
  {
   "cell_type": "code",
   "execution_count": null,
   "id": "0213e90d",
   "metadata": {},
   "outputs": [],
   "source": []
  },
  {
   "cell_type": "markdown",
   "id": "51938e02",
   "metadata": {},
   "source": [
    "3b) Now, using your spectrum app, blow into your resonator and measure the resonance frequency. Repeat this process enough time that you feel you have a statistically significant result. Report your measurements in the cell below. Your final output should be the average of your measurements along with a reported error."
   ]
  },
  {
   "cell_type": "code",
   "execution_count": null,
   "id": "7d9a0a51",
   "metadata": {},
   "outputs": [],
   "source": []
  },
  {
   "cell_type": "markdown",
   "id": "0bab96ce",
   "metadata": {},
   "source": [
    "3c) Now that you have found the resonance frequency of your empty bottle, its time to start messing with the original parameters to try and change that frequency. Adjust the volume of your bottle and, just like you did in part (b), measure the new resonance frequency. Repeat this process at least five times, with a new volume each time. Finally, plot your results of your experiments along with their error bars. "
   ]
  },
  {
   "cell_type": "code",
   "execution_count": null,
   "id": "ee0bc005",
   "metadata": {},
   "outputs": [],
   "source": []
  },
  {
   "cell_type": "markdown",
   "id": "9b8df9c4",
   "metadata": {},
   "source": [
    "3d) You now have real life data demonstrating how resonance frequency relates to the volume of the resonantor. Using the equation for resonance frequency given, fit your experimental data to our theoretical expectations of the helmholtz resonator. Does your data seem to confirm our theoretical expectations? If not, why do you think that could be?"
   ]
  },
  {
   "cell_type": "code",
   "execution_count": null,
   "id": "4d368da6",
   "metadata": {},
   "outputs": [],
   "source": []
  },
  {
   "cell_type": "markdown",
   "id": "85e58e32",
   "metadata": {},
   "source": [
    "# Problem 4: Final Project Update"
   ]
  },
  {
   "cell_type": "markdown",
   "id": "456e3cc0",
   "metadata": {},
   "source": [
    "Be able to demonstrate that you and your group are making substantive progress on your final project."
   ]
  }
 ],
 "metadata": {
  "kernelspec": {
   "display_name": "Python 3 (ipykernel)",
   "language": "python",
   "name": "python3"
  },
  "language_info": {
   "codemirror_mode": {
    "name": "ipython",
    "version": 3
   },
   "file_extension": ".py",
   "mimetype": "text/x-python",
   "name": "python",
   "nbconvert_exporter": "python",
   "pygments_lexer": "ipython3",
   "version": "3.9.13"
  }
 },
 "nbformat": 4,
 "nbformat_minor": 5
}
