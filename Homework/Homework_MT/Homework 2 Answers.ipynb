{
 "cells": [
  {
   "cell_type": "markdown",
   "id": "c2a5b228",
   "metadata": {},
   "source": [
    "# Homework 2: Functions and Loops"
   ]
  },
  {
   "cell_type": "markdown",
   "id": "6d3ea5eb",
   "metadata": {},
   "source": [
    "** Submit this notebook to bCourses to receive a credit for this assignment.**\n",
    "\n",
    "Please complete this homework assignment in code cells in the iPython notebook. Include comments in your code when necessary. Enter your name in the cell at the top of the notebook, and rename the notebook name_HW02.ipynb."
   ]
  },
  {
   "cell_type": "code",
   "execution_count": 6,
   "id": "11342d93",
   "metadata": {},
   "outputs": [],
   "source": [
    "import numpy as np\n",
    "import matplotlib.pyplot as plt"
   ]
  },
  {
   "cell_type": "markdown",
   "id": "10723c59",
   "metadata": {},
   "source": [
    "# Problem 1: Functional Knowledge"
   ]
  },
  {
   "cell_type": "markdown",
   "id": "364b9845",
   "metadata": {},
   "source": [
    "1a) Define a global variable for the value of pi"
   ]
  },
  {
   "cell_type": "code",
   "execution_count": 7,
   "id": "81557285",
   "metadata": {},
   "outputs": [],
   "source": [
    "#2 points\n",
    "pi = np.pi"
   ]
  },
  {
   "cell_type": "markdown",
   "id": "144217ba",
   "metadata": {},
   "source": [
    "1b) Using your global variable, define a function for the circumference of a circle and one for the area of a circle with a given radius."
   ]
  },
  {
   "cell_type": "code",
   "execution_count": 8,
   "id": "4784c4b3",
   "metadata": {},
   "outputs": [],
   "source": [
    "#5 points\n",
    "def circ(r):\n",
    "    circ = 2*pi*r\n",
    "    return circ\n",
    "\n",
    "def area(r):\n",
    "    area = pi * r**2\n",
    "    return area"
   ]
  },
  {
   "cell_type": "markdown",
   "id": "b06c1887",
   "metadata": {},
   "source": [
    "1c) Use your functions to calculate the area and circumference of 10 circles with radii ranging between 1 and 100 cm. Plot these results as scatterplots in two subplots (be sure to properly label all aspects of your plots). "
   ]
  },
  {
   "cell_type": "code",
   "execution_count": 9,
   "id": "9fec9422",
   "metadata": {},
   "outputs": [
    {
     "data": {
      "text/plain": [
       "Text(0, 0.5, 'Areas ($cm^2$)')"
      ]
     },
     "execution_count": 9,
     "metadata": {},
     "output_type": "execute_result"
    },
    {
     "data": {
      "image/png": "[encoded data removed]",
      "text/plain": [
       "<Figure size 432x288 with 1 Axes>"
      ]
     },
     "metadata": {
      "needs_background": "light"
     },
     "output_type": "display_data"
    },
    {
     "data": {
      "image/png": "[encoded data removed]",
      "text/plain": [
       "<Figure size 432x288 with 1 Axes>"
      ]
     },
     "metadata": {
      "needs_background": "light"
     },
     "output_type": "display_data"
    }
   ],
   "source": [
    "#8 points\n",
    "r = np.linspace(1, 100, 10)\n",
    "circs = circ(r)\n",
    "areas = area(r)\n",
    "\n",
    "plt.figure()\n",
    "plt.plot(r, circs, 'o')\n",
    "plt.xlabel('Radius (cm)')\n",
    "plt.ylabel('Circumference ($cm$)')\n",
    "\n",
    "plt.figure()\n",
    "plt.plot(r, areas, 'o')\n",
    "plt.xlabel('Radius (cm)')\n",
    "plt.ylabel('Areas ($cm^2$)')\n"
   ]
  },
  {
   "cell_type": "markdown",
   "id": "35bc9745",
   "metadata": {},
   "source": [
    "# Problem 2: Loopy Practice"
   ]
  },
  {
   "cell_type": "markdown",
   "id": "48b63a08",
   "metadata": {},
   "source": [
    "2a) Write a Python program to construct the following pattern, using a nested `for` loop (or maybe two nested `for` loops).\n",
    "\n",
    "    * \n",
    "    * * \n",
    "    * * * \n",
    "    * * * * \n",
    "    * * * * * \n",
    "    * * * * \n",
    "    * * * \n",
    "    * * \n",
    "    *\n",
    "Hints: You can suppress a newline at the end of a `print` statement using `print(xxxx,end='')`.  By specifying `end=''`, this says don't append anything to `xxxx` before printing it, while the default behavior is to append `'\\n'` (an instruction to start a new line)."
   ]
  },
  {
   "cell_type": "code",
   "execution_count": 1,
   "id": "6e2a507c",
   "metadata": {},
   "outputs": [
    {
     "name": "stdout",
     "output_type": "stream",
     "text": [
      "*\n",
      "* *\n",
      "* * *\n",
      "* * * *\n",
      "* * * * *\n",
      "* * * *\n",
      "* * *\n",
      "* *\n",
      "*\n"
     ]
    }
   ],
   "source": [
    "#5 points\n",
    "list = ['*','* *','* * *','* * * *','* * * * *']\n",
    "lisst = ['* * * *','* * *', '* *', '*']\n",
    "count = 0\n",
    "for i in list:\n",
    "    count+=1\n",
    "    print(i)\n",
    "    if count > 4:\n",
    "        break\n",
    "for i in lisst:\n",
    "     print(i)"
   ]
  },
  {
   "cell_type": "markdown",
   "id": "61b35a16",
   "metadata": {},
   "source": [
    "2b) Write a program that prints all the numbers from 0 to 6 except 3 and 6. Use the `continue` statement."
   ]
  },
  {
   "cell_type": "code",
   "execution_count": 2,
   "id": "e1fa3df4",
   "metadata": {},
   "outputs": [
    {
     "name": "stdout",
     "output_type": "stream",
     "text": [
      "0\n",
      "1\n",
      "2\n",
      "4\n",
      "5\n"
     ]
    }
   ],
   "source": [
    "#5 points\n",
    "count = -1\n",
    "while count < 6:\n",
    "    count += 1\n",
    "    if count == 3:\n",
    "        continue\n",
    "    if count == 6:\n",
    "        continue\n",
    "    print(count)  "
   ]
  },
  {
   "cell_type": "markdown",
   "id": "23ea3d3c",
   "metadata": {},
   "source": [
    "2c) Write a program to count the number of even and odd numbers in the tuple `numbers = (1, 2, 3, 4, 5, 6, 7, 8, 9)`.\n",
    "Expected Output : \n",
    "        \n",
    "    Number of even numbers : 4\n",
    "    Number of odd numbers : 5"
   ]
  },
  {
   "cell_type": "code",
   "execution_count": 3,
   "id": "12022d6e",
   "metadata": {},
   "outputs": [
    {
     "name": "stdout",
     "output_type": "stream",
     "text": [
      "Number of even nubers : 4\n",
      "Number of odd numbers : 5\n"
     ]
    }
   ],
   "source": [
    "#5 points\n",
    "numbers = (1, 2, 3, 4, 5, 6, 7, 8, 9)\n",
    "even = 0\n",
    "odd = 0\n",
    "for i in numbers:\n",
    "    if i % 2 == 0:\n",
    "        even += 1\n",
    "    if i % 2 > 0:\n",
    "        odd += 1\n",
    "print('Number of even nubers :', even)\n",
    "print('Number of odd numbers :', odd)\n",
    "        "
   ]
  },
  {
   "cell_type": "markdown",
   "id": "ff0fe93b",
   "metadata": {},
   "source": [
    "# Problem 3: Binomial Coefficients"
   ]
  },
  {
   "cell_type": "markdown",
   "id": "11291ba0",
   "metadata": {},
   "source": [
    "The binomial coefficient $n \\choose k$ is an integer equal to\n",
    "\n",
    "$$ {n \\choose k} = \\frac{n!}{k!(n-k)!} = \\frac{n \\times (n-1) \\times (n-2) \\times \\cdots \\times (n-k + 1)}{1 \\times 2 \\times \\cdots \\times k} $$\n",
    "\n",
    "when $k \\geq 1$, or ${n \\choose 0} = 1$ when $k=0$. (The special case $k=0$ can be included in the general definition by using the conventional definition $0! \\equiv 1$.)\n",
    "\n",
    "1. Write a function `factorial(n)` that takes an integer $n$ and returns $n!$ as an integer. It should yield $1$ when $n=0$. You may assume that the argument will also be an integer greater than or equal to 0.\n",
    "\n",
    "1. Using the form of the binomial coefficient given above, write a function `binomial(n,k)` that calculates the binomial coefficient for given $n$ and $k$. Make sure your function returns the answer in the form of an integer (not a float) and gives the correct value of 1 for the case where $k=0$. (Hint: Use your `factorial` function from Part 1.)\n",
    "\n",
    "1. Using your `binomial` function, write a function `pascals_triangle(N)` to print out the first $N$ lines of \"Pascal's triangle\" (starting with the $0$th line). The $n$th line of Pascal's triangle contains $n+1$ numbers, which are the coefficients $n \\choose 0$, $n \\choose 1$, and so on up to $n \\choose n$. Thus the first few lines are\n",
    "        1\n",
    "        1 1\n",
    "        1 2 1\n",
    "        1 3 3 1\n",
    "        1 4 6 4 1     \n",
    "This would be the result of `pascals_triangle(5)`. Print the first 15 rows of Pascal's triangle.\n",
    "        \n",
    "1. The probability that an ubiased coin, tossed $n$ times, will come up heads $k$ times is ${n \\choose k} / 2^n$. (Or instead of coins, perhaps you'd prefer to think of spins measured in a [Stern-Gerlach experiment](https://en.wikipedia.org/wiki/Stern%E2%80%93Gerlach_experiment).)\n",
    "    - Write a function `heads_exactly(n,k)` to calculate the probability that a coin tossed $n$ times comes up heads exactly $k$ times.\n",
    "    - Write a function `heads_atleast(n,k)` to calculate the probability that a coin tossed $n$ times comes up heads $k$ or more times.\n",
    "    - Print the probabilities (to three decimal places) that a coin tossed 100 times comes up heads exactly 60 times, and at least 60 times. You should print corresponding statements with the numbers so it is clear what they each mean.\n",
    "\n",
    "1. Along with the printed statements from Part 4, have your code generate and display two labelled plots for `heads_exactly(n,k)` and `heads_atleast(n,k)` with $n=100$. You should have values of $k$ on the $x$-axis, and probabilities on the $y$-axis. (Note that $k$ only takes integer values from 0 to $n$, inclusive. Your plots can be connected curves or have discrete markers for each point; either is fine.)\n",
    "\n",
    "#### Output\n",
    "\n",
    "To summarize, your program should output the following things:\n",
    "\n",
    "1. The first 15 rows of Pascal's triangle\n",
    "1. The probabilities (to three decimal places) that a coin tossed 100 times comes up heads exactly 60 times, and at least 60 times, with corresponding statements so it is clear what each number signifies.\n",
    "1. Two labeled plots for `heads_exactly(n,k)` and `heads_atleast(n,k)` with $n=100$, representing probability distributions for 100 coin flips.\n",
    "\n",
    "#### Reminder\n",
    "\n",
    "Remember to write informative doc strings, comment your code, and use descriptive function and variable names so others (and future you) can understand what you're doing!\n"
   ]
  },
  {
   "cell_type": "code",
   "execution_count": 4,
   "id": "e7ff6726",
   "metadata": {},
   "outputs": [
    {
     "name": "stdout",
     "output_type": "stream",
     "text": [
      "1 \n",
      "1 1 \n",
      "1 2 1 \n",
      "1 3 3 1 \n",
      "1 4 6 4 1 \n",
      "1 5 10 10 5 1 \n",
      "1 6 15 20 15 6 1 \n",
      "1 7 21 35 35 21 7 1 \n",
      "1 8 28 56 70 56 28 8 1 \n",
      "1 9 36 84 126 126 84 36 9 1 \n",
      "1 10 45 120 210 252 210 120 45 10 1 \n",
      "1 11 55 165 330 462 462 330 165 55 11 1 \n",
      "1 12 66 220 495 792 924 792 495 220 66 12 1 \n",
      "1 13 78 286 715 1287 1716 1716 1287 715 286 78 13 1 \n",
      "1 14 91 364 1001 2002 3003 3432 3003 2002 1001 364 91 14 1 \n",
      "None\n",
      "Probability of getting exactly 60 heads in 100 flips: 0.010843866711637987\n",
      "Probability of getting at least 60 heads in 100 flips: 0.028443966820490392\n"
     ]
    },
    {
     "data": {
      "text/plain": [
       "Text(0.5, 1.0, 'Probability of getting At Least X Heads in 100 spins')"
      ]
     },
     "execution_count": 4,
     "metadata": {},
     "output_type": "execute_result"
    },
    {
     "data": {
      "image/png": "[encoded data removed]",
      "text/plain": [
       "<Figure size 432x288 with 1 Axes>"
      ]
     },
     "metadata": {
      "needs_background": "light"
     },
     "output_type": "display_data"
    },
    {
     "data": {
      "image/png": "[encoded data removed]",
      "text/plain": [
       "<Figure size 432x288 with 1 Axes>"
      ]
     },
     "metadata": {
      "needs_background": "light"
     },
     "output_type": "display_data"
    }
   ],
   "source": [
    "#15 points (5 points for each output)\n",
    "import numpy as np\n",
    "import math as m\n",
    "import matplotlib.pyplot as plt\n",
    "\n",
    "def factorial(n):                \n",
    "    value = 1\n",
    "    for i in range(2,n+1):      \n",
    "        value *= i              \n",
    "    return value\n",
    "\n",
    "def binomial(n,k):\n",
    "    value = 1\n",
    "    for i in range(2,n+1):\n",
    "        value = (factorial(n))/((factorial(k))*(factorial(n-k)))\n",
    "    \n",
    "    return value\n",
    "\n",
    "def pascals_triangle(N):\n",
    "    value = 1\n",
    "    for i in range(0,N):\n",
    "        for j in range(0,i+1):\n",
    "            value = int(binomial(i,j))\n",
    "            print(value, end=' ')\n",
    "        print('')\n",
    "            \n",
    "print(pascals_triangle(15))\n",
    "\n",
    "def heads_exactly(n,k):\n",
    "    P = binomial(n,k)/(2**n)\n",
    "    return P\n",
    "\n",
    "print('Probability of getting exactly 60 heads in 100 flips:', heads_exactly(100,60))\n",
    "\n",
    "\n",
    "L = []\n",
    "for i in range(0,100):\n",
    "    L.append(heads_exactly(100,i))\n",
    "\n",
    "\n",
    "def heads_atleast(n,k):\n",
    "    x = 0\n",
    "    for i in range(k,n):\n",
    "        values = heads_exactly(n,i)\n",
    "        x = x+values\n",
    "    return x\n",
    "\n",
    "H = []\n",
    "for i in range(0,100):\n",
    "    H.append(heads_atleast(100,i))\n",
    "    \n",
    "print('Probability of getting at least 60 heads in 100 flips:', heads_atleast(100,60))\n",
    "\n",
    "k = np.linspace(0.0,100.0,100)    \n",
    "plt.figure()\n",
    "plt.plot(k, L, 'r-')\n",
    "plt.xlabel('Number of Heads')\n",
    "plt.ylabel('Probability')\n",
    "plt.title('Probability of getting Exaclty X Heads in 100 spins')\n",
    "plt.figure()\n",
    "plt.plot(k, H, 'b-')\n",
    "plt.xlabel('Number of Heads')\n",
    "plt.ylabel('Probability')\n",
    "plt.title('Probability of getting At Least X Heads in 100 spins')"
   ]
  },
  {
   "cell_type": "markdown",
   "id": "f35ad7c2",
   "metadata": {},
   "source": [
    "# Problem 4: Final Projects"
   ]
  },
  {
   "cell_type": "markdown",
   "id": "81cdeb26",
   "metadata": {},
   "source": [
    "For this week's project update, narrow down your project topic to one idea. In the markdown cell below, write down your group's choice for project topic and the names of your group members. Over the next week, make sure you also think about how you could use python to answer a research question for your topic (we will be covering data analysis next week so that should help give some ideas)."
   ]
  },
  {
   "cell_type": "markdown",
   "id": "67f17b23",
   "metadata": {},
   "source": [
    "5 points"
   ]
  },
  {
   "cell_type": "markdown",
   "id": "a8f87afd",
   "metadata": {},
   "source": []
  }
 ],
 "metadata": {
  "kernelspec": {
   "display_name": "Python 3 (ipykernel)",
   "language": "python",
   "name": "python3"
  },
  "language_info": {
   "codemirror_mode": {
    "name": "ipython",
    "version": 3
   },
   "file_extension": ".py",
   "mimetype": "text/x-python",
   "name": "python",
   "nbconvert_exporter": "python",
   "pygments_lexer": "ipython3",
   "version": "3.9.13"
  }
 },
 "nbformat": 4,
 "nbformat_minor": 5
}
