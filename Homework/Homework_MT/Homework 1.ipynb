{
 "cells": [
  {
   "cell_type": "markdown",
   "id": "03afcdf9",
   "metadata": {},
   "source": [
    "# Homework 1: Math and Plotting Python Basics"
   ]
  },
  {
   "cell_type": "markdown",
   "id": "0e9367e3",
   "metadata": {},
   "source": [
    "** Submit this notebook to bCourses to receive a credit for this assignment.**\n",
    "\n",
    "Please complete this homework assignment in code cells in the iPython notebook. Include comments in your code when necessary. Enter your name in the cell at the top of the notebook, and rename the notebook name_HW01.ipynb."
   ]
  },
  {
   "cell_type": "markdown",
   "id": "c2444607",
   "metadata": {},
   "source": [
    "# Problem 1: Beginner Python Scales"
   ]
  },
  {
   "cell_type": "markdown",
   "id": "c044d085",
   "metadata": {},
   "source": [
    "Here is where you can demonstrate some of the basics of python you learned this first week. In this problem, I will give you a series of tasks that can be solved using python. Your job will be to write code to produce the solutions to each of those tasks"
   ]
  },
  {
   "cell_type": "markdown",
   "id": "25abdc17",
   "metadata": {},
   "source": [
    "1a) Write out the lines of code you should always write at the start of your notebooks. If you do not complete this part correctly you will be unable to complete the rest of the homework."
   ]
  },
  {
   "cell_type": "code",
   "execution_count": null,
   "id": "d0de6a35",
   "metadata": {},
   "outputs": [],
   "source": []
  },
  {
   "cell_type": "markdown",
   "id": "9f60bab0",
   "metadata": {},
   "source": [
    "1b) Define three variables, one as an integer, one as a float, and one as a string. Print each of these variables labeled with each of their respective types."
   ]
  },
  {
   "cell_type": "code",
   "execution_count": null,
   "id": "35b3bb6a",
   "metadata": {},
   "outputs": [],
   "source": []
  },
  {
   "cell_type": "markdown",
   "id": "fe1ff2f0",
   "metadata": {},
   "source": [
    "1c) Calculate and print the area of a circle with a radius of 4 cm."
   ]
  },
  {
   "cell_type": "code",
   "execution_count": null,
   "id": "afabfeda",
   "metadata": {},
   "outputs": [],
   "source": []
  },
  {
   "cell_type": "markdown",
   "id": "b1864444",
   "metadata": {},
   "source": [
    "1d) Solve the following quadratic equation: $x^2 - 12x - 3 = 0$"
   ]
  },
  {
   "cell_type": "code",
   "execution_count": null,
   "id": "fed6b662",
   "metadata": {},
   "outputs": [],
   "source": []
  },
  {
   "cell_type": "markdown",
   "id": "166d50dc",
   "metadata": {},
   "source": [
    "1e) Use the values given below to calculate the gravitational force the Earth excerts on the moon. Then, print the force the moon excerts on the Earth along side the name of the fundamental law you could use to easily determine that value."
   ]
  },
  {
   "cell_type": "markdown",
   "id": "1dfab779",
   "metadata": {},
   "source": [
    "$M_{Moon}$ = 7.347 × $10^{22}$ kg\n",
    "\n",
    "$M_{Earth}$ = 5.972 × $10^{24}$ kg\n",
    "\n",
    "$R_{E-M}$ = 3.844 × $10^{8}$ m"
   ]
  },
  {
   "cell_type": "code",
   "execution_count": null,
   "id": "410ab7fd",
   "metadata": {},
   "outputs": [],
   "source": []
  },
  {
   "cell_type": "markdown",
   "id": "4984b423",
   "metadata": {},
   "source": [
    "# Problem 2: Satellite Altitudes"
   ]
  },
  {
   "cell_type": "markdown",
   "id": "40869ae4",
   "metadata": {},
   "source": [
    "A satellite is to be launched into a circular orbit around the Earth so that it orbits the planet once every $T$ seconds. The altitude $h$ above the Earth's surface that the satellite must have is $$ h = \\left( \\frac{G M T^2}{4 \\pi^2} \\right)^{1/3} - R$$ where M is the mass of the Earth and $R = 6371~\\text{km}$ is its radius."
   ]
  },
  {
   "cell_type": "markdown",
   "id": "5a0424cc",
   "metadata": {},
   "source": [
    "2a) Write a program that, for a given value of $T$ (entered as a variable T in a cell), calculates and prints out the correct altitude in meters, kilometers, and miles, with one decimal place for each result.\n",
    "\n",
    "When the code cell for this part of the problem is entered, it should specify in the comments what units of $T$ are assumed. The program should print out the correct altitude in meters, kilometers, and miles."
   ]
  },
  {
   "cell_type": "code",
   "execution_count": null,
   "id": "86652473",
   "metadata": {},
   "outputs": [],
   "source": []
  },
  {
   "cell_type": "markdown",
   "id": "60d485b9",
   "metadata": {},
   "source": [
    "2b) Calculate the altitudes of satellites that orbit the Earth once a day (geosynchronous orbit), once every 90 minutes, and once every 45 minutes. What do your results tell you about the different orbits?"
   ]
  },
  {
   "cell_type": "code",
   "execution_count": null,
   "id": "999a5641",
   "metadata": {},
   "outputs": [],
   "source": []
  },
  {
   "cell_type": "markdown",
   "id": "908efa05",
   "metadata": {},
   "source": [
    "# Problem 3: When Cows Fly"
   ]
  },
  {
   "cell_type": "markdown",
   "id": "d1056b7b",
   "metadata": {},
   "source": [
    "This is a physics class, so we should all be able to do some simple physics problems. Lets say your a frenchman occupying a castle in medieval England. Some English knights have come to your castle and you're trying to get rid of them. So, naturally, you launch a cow at them with your catapult."
   ]
  },
  {
   "cell_type": "markdown",
   "id": "19807770",
   "metadata": {},
   "source": [
    "![SegmentLocal](la_vache.gif \"segment\")"
   ]
  },
  {
   "cell_type": "markdown",
   "id": "886a5be6",
   "metadata": {},
   "source": [
    "3a) Your castle walls are 100 meters high and the knights are standing 50 meters away from your catapult. Assuming your cow weighs 550 kg, use your knowledge of physics and python to calculate the velocity you need to launch your cow from in order to hit the knights 6 seconds after launch."
   ]
  },
  {
   "cell_type": "code",
   "execution_count": null,
   "id": "c19782e8",
   "metadata": {},
   "outputs": [],
   "source": []
  },
  {
   "cell_type": "markdown",
   "id": "a658584a",
   "metadata": {},
   "source": [
    "3b) Based on your calculations from the previous step, plot the optimal trajectory of your bovine projectiles."
   ]
  },
  {
   "cell_type": "code",
   "execution_count": null,
   "id": "327347c1",
   "metadata": {},
   "outputs": [],
   "source": []
  },
  {
   "cell_type": "markdown",
   "id": "0af322ab",
   "metadata": {},
   "source": [
    "3c) You now have the knights on the run. Luckily, you have more cows at your disposal. Assuming each of your cows weighs approximately the same, use your code from part a to calculate the necessary intial velocities to launch your cows, 100, 150, and 200 meters. Plot these trajectories, along with your 50 meter trajectory, on the one figure, taking care to distinguish and label each of your lines. Then, on a separate plot, create a scatter plot showing the relationship between initial velocity and launch distance."
   ]
  },
  {
   "cell_type": "code",
   "execution_count": null,
   "id": "fabf626c",
   "metadata": {},
   "outputs": [],
   "source": []
  },
  {
   "cell_type": "markdown",
   "id": "ced46325",
   "metadata": {},
   "source": [
    "# Problem 4: Final Project Ideas"
   ]
  },
  {
   "cell_type": "markdown",
   "id": "894587de",
   "metadata": {},
   "source": [
    "Write a list of two or three possible topics you might want to research for your final project. You will need to get this list narrowed down to one topic by next week so spend that time looking into your topic ideas to see which you are most interested in and what a possible coding project would look like for that topic. These will be group projects so you should take some time this week to talk with your fellow students and see if you have similar interests and could possibly group up."
   ]
  },
  {
   "cell_type": "markdown",
   "id": "cda47f1b",
   "metadata": {},
   "source": []
  }
 ],
 "metadata": {
  "kernelspec": {
   "display_name": "Python 3 (ipykernel)",
   "language": "python",
   "name": "python3"
  },
  "language_info": {
   "codemirror_mode": {
    "name": "ipython",
    "version": 3
   },
   "file_extension": ".py",
   "mimetype": "text/x-python",
   "name": "python",
   "nbconvert_exporter": "python",
   "pygments_lexer": "ipython3",
   "version": "3.9.13"
  }
 },
 "nbformat": 4,
 "nbformat_minor": 5
}
