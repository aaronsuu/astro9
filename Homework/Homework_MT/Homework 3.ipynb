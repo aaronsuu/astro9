{
 "cells": [
  {
   "cell_type": "markdown",
   "id": "82214663",
   "metadata": {},
   "source": [
    "# Homework 3: Python Data Analysis"
   ]
  },
  {
   "cell_type": "markdown",
   "id": "8357dbba",
   "metadata": {},
   "source": [
    "** Submit this notebook to bCourses to receive a credit for this assignment.**\n",
    "\n",
    "Please complete this homework assignment in code cells in the iPython notebook. Include comments in your code when necessary. Enter your name in the cell at the top of the notebook, and rename the notebook name_HW03.ipynb."
   ]
  },
  {
   "cell_type": "markdown",
   "id": "44f8cd48",
   "metadata": {},
   "source": [
    "# Problem 1: Conditional Review"
   ]
  },
  {
   "cell_type": "markdown",
   "id": "eee8d289",
   "metadata": {},
   "source": [
    "1a) Write a program that produces a random number and prints heads for even numbers and tails for odd numbers."
   ]
  },
  {
   "cell_type": "code",
   "execution_count": null,
   "id": "dce56f4c",
   "metadata": {},
   "outputs": [],
   "source": []
  },
  {
   "cell_type": "markdown",
   "id": "64fdcb46",
   "metadata": {},
   "source": [
    "1b) Write a Python program which takes two digits m (row) and n (column) as input and generates a two-dimensional array. The element value in the i-th row and j-th column of the array should be i*j.\n",
    "\n",
    "Note :\n",
    "i = 0,1.., m-1\n",
    "j = 0,1, n-1."
   ]
  },
  {
   "cell_type": "code",
   "execution_count": null,
   "id": "852effbe",
   "metadata": {},
   "outputs": [],
   "source": []
  },
  {
   "cell_type": "markdown",
   "id": "1805f53c",
   "metadata": {},
   "source": [
    "1c) The rate at which temperature changes with height is dependent on where you are in the atmosphere. Look up the temperature gradient functions for the different levels of the atmosphere in a standard day and write a python function which takes height as an input and outputs temperature."
   ]
  },
  {
   "cell_type": "code",
   "execution_count": null,
   "id": "eac4e894",
   "metadata": {},
   "outputs": [],
   "source": []
  },
  {
   "cell_type": "markdown",
   "id": "6811b072",
   "metadata": {},
   "source": [
    "1d) The mathematical function $\\text{sinc}(x)$ appears when deriving the theory for [double-slit experiments](https://en.wikipedia.org/wiki/Double-slit_experiment).\n",
    "\n",
    "$$ \\text{sinc}(x) \\equiv \\frac{\\sin x}{x} $$\n",
    "\n",
    "Write a python function for sinc(x). Make sure that your function handles $x=0$ correctly. Plot your result."
   ]
  },
  {
   "cell_type": "code",
   "execution_count": null,
   "id": "dccc593d",
   "metadata": {},
   "outputs": [],
   "source": []
  },
  {
   "cell_type": "markdown",
   "id": "1609292f",
   "metadata": {},
   "source": [
    "# Problem 2: Planet Pandas"
   ]
  },
  {
   "cell_type": "markdown",
   "id": "9287b66c",
   "metadata": {},
   "source": [
    "2a) Read into your notebook the csv file labeled \"planets.csv\" using pandas. Load this data into a pandas dataframe and display that dataframe with its proper header."
   ]
  },
  {
   "cell_type": "code",
   "execution_count": null,
   "id": "329cd09e",
   "metadata": {},
   "outputs": [],
   "source": []
  },
  {
   "cell_type": "markdown",
   "id": "46dce14a",
   "metadata": {},
   "source": [
    "2b) Use the data-set to plot a histrogram showing the frequency an exoplanet is discovered using each different discovery methods."
   ]
  },
  {
   "cell_type": "code",
   "execution_count": null,
   "id": "2240f777",
   "metadata": {},
   "outputs": [],
   "source": []
  },
  {
   "cell_type": "markdown",
   "id": "a72cd9d5",
   "metadata": {},
   "source": [
    "2c) The outer and inner limits of the habitable zone for a stellar system can be described using Luminosity in the equations below. Use these equations to calculate and plot the inner and outer radii of the stellar systems listed in your dataframe. Be sure to properly label each aspect of your plot. Finally, add these values to your dataframe, adding to the useful data you have easy access to."
   ]
  },
  {
   "cell_type": "code",
   "execution_count": null,
   "id": "71e129a6",
   "metadata": {},
   "outputs": [],
   "source": []
  },
  {
   "cell_type": "markdown",
   "id": "8cf0f4bc",
   "metadata": {},
   "source": [
    "2d) Finally, use the simplified version of Kepler's Third Law below to calculate the orbital radius of the planets for which oribtal period data is given. Then, use that value to calculate an estimate for how many planets reside in the habitable zones of their respecitve systems."
   ]
  },
  {
   "cell_type": "markdown",
   "id": "830b4b6b",
   "metadata": {},
   "source": [
    "$$P^2 = r^3$$, \n",
    "\n",
    "where P is the orbital period and r is the orbital radius"
   ]
  },
  {
   "cell_type": "code",
   "execution_count": null,
   "id": "f48975e4",
   "metadata": {},
   "outputs": [],
   "source": []
  },
  {
   "cell_type": "markdown",
   "id": "07093e9c",
   "metadata": {},
   "source": [
    "# Problem 3: Final Project Proposal"
   ]
  },
  {
   "cell_type": "markdown",
   "id": "85b6ae25",
   "metadata": {},
   "source": [
    "Now it is time to decide exactly what your research project will be. For this section of the homework, turn in another document outlining your plan for your project, including what you will be researching, what you hope to accomplish through your research, and how you will be using python in your project. Feel free to use the examples given for formatting and contextual inspiration and reach out if you have questions or need help."
   ]
  }
 ],
 "metadata": {
  "kernelspec": {
   "display_name": "Python 3 (ipykernel)",
   "language": "python",
   "name": "python3"
  },
  "language_info": {
   "codemirror_mode": {
    "name": "ipython",
    "version": 3
   },
   "file_extension": ".py",
   "mimetype": "text/x-python",
   "name": "python",
   "nbconvert_exporter": "python",
   "pygments_lexer": "ipython3",
   "version": "3.9.13"
  }
 },
 "nbformat": 4,
 "nbformat_minor": 5
}
