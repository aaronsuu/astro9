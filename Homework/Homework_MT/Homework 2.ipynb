{
 "cells": [
  {
   "cell_type": "markdown",
   "id": "b9a28e82",
   "metadata": {},
   "source": [
    "# Homework 2: Functions and Loops"
   ]
  },
  {
   "cell_type": "markdown",
   "id": "e66c8d70",
   "metadata": {},
   "source": [
    "** Submit this notebook to bCourses to receive a credit for this assignment.**\n",
    "\n",
    "Please complete this homework assignment in code cells in the iPython notebook. Include comments in your code when necessary. Enter your name in the cell at the top of the notebook, and rename the notebook name_HW02.ipynb."
   ]
  },
  {
   "cell_type": "markdown",
   "id": "3b3dc92c",
   "metadata": {},
   "source": [
    "# Problem 1: Functional Knowledge"
   ]
  },
  {
   "cell_type": "markdown",
   "id": "1ce5d926",
   "metadata": {},
   "source": [
    "1a) Define a global variable for the value of pi"
   ]
  },
  {
   "cell_type": "code",
   "execution_count": null,
   "id": "f5990b8d",
   "metadata": {},
   "outputs": [],
   "source": []
  },
  {
   "cell_type": "markdown",
   "id": "7c00ed1d",
   "metadata": {},
   "source": [
    "1b) Using your global variable, define a function for the circumference of a circle and one for the area of a circle with a given radius."
   ]
  },
  {
   "cell_type": "code",
   "execution_count": null,
   "id": "3b448dc7",
   "metadata": {},
   "outputs": [],
   "source": []
  },
  {
   "cell_type": "markdown",
   "id": "68e5551f",
   "metadata": {},
   "source": [
    "1c) Use your functions to calculate the area and circumference of 10 circles with radii ranging between 1 and 100 cm. Plot these results as scatterplots in two subplots (be sure to properly label all aspects of your plots). "
   ]
  },
  {
   "cell_type": "code",
   "execution_count": null,
   "id": "532b3c5b",
   "metadata": {},
   "outputs": [],
   "source": []
  },
  {
   "cell_type": "markdown",
   "id": "eae58f7d",
   "metadata": {},
   "source": [
    "# Problem 2: Loopy Practice"
   ]
  },
  {
   "cell_type": "markdown",
   "id": "fe4a2dfc",
   "metadata": {},
   "source": [
    "2a) Write a Python program to construct the following pattern, using a nested `for` loop (or maybe two nested `for` loops).\n",
    "\n",
    "    * \n",
    "    * * \n",
    "    * * * \n",
    "    * * * * \n",
    "    * * * * * \n",
    "    * * * * \n",
    "    * * * \n",
    "    * * \n",
    "    *\n",
    "Hints: You can suppress a newline at the end of a `print` statement using `print(xxxx,end='')`.  By specifying `end=''`, this says don't append anything to `xxxx` before printing it, while the default behavior is to append `'\\n'` (an instruction to start a new line)."
   ]
  },
  {
   "cell_type": "code",
   "execution_count": null,
   "id": "0240a76d",
   "metadata": {},
   "outputs": [],
   "source": []
  },
  {
   "cell_type": "markdown",
   "id": "04f4bf02",
   "metadata": {},
   "source": [
    "2b) Write a program that prints all the numbers from 0 to 6 except 3 and 6. Use the `continue` statement."
   ]
  },
  {
   "cell_type": "code",
   "execution_count": null,
   "id": "57216cf0",
   "metadata": {},
   "outputs": [],
   "source": []
  },
  {
   "cell_type": "markdown",
   "id": "7de30646",
   "metadata": {},
   "source": [
    "2c) Write a program to count the number of even and odd numbers in the tuple `numbers = (1, 2, 3, 4, 5, 6, 7, 8, 9)`.\n",
    "Expected Output : \n",
    "        \n",
    "    Number of even numbers : 4\n",
    "    Number of odd numbers : 5"
   ]
  },
  {
   "cell_type": "code",
   "execution_count": null,
   "id": "c9bf959f",
   "metadata": {},
   "outputs": [],
   "source": []
  },
  {
   "cell_type": "markdown",
   "id": "ad129165",
   "metadata": {},
   "source": [
    "# Problem 3: Binomial Coefficients"
   ]
  },
  {
   "cell_type": "markdown",
   "id": "23ebd378",
   "metadata": {},
   "source": [
    "The binomial coefficient $n \\choose k$ is an integer equal to\n",
    "\n",
    "$$ {n \\choose k} = \\frac{n!}{k!(n-k)!} = \\frac{n \\times (n-1) \\times (n-2) \\times \\cdots \\times (n-k + 1)}{1 \\times 2 \\times \\cdots \\times k} $$\n",
    "\n",
    "when $k \\geq 1$, or ${n \\choose 0} = 1$ when $k=0$. (The special case $k=0$ can be included in the general definition by using the conventional definition $0! \\equiv 1$.)\n",
    "\n",
    "1. Write a function `factorial(n)` that takes an integer $n$ and returns $n!$ as an integer. It should yield $1$ when $n=0$. You may assume that the argument will also be an integer greater than or equal to 0.\n",
    "\n",
    "1. Using the form of the binomial coefficient given above, write a function `binomial(n,k)` that calculates the binomial coefficient for given $n$ and $k$. Make sure your function returns the answer in the form of an integer (not a float) and gives the correct value of 1 for the case where $k=0$. (Hint: Use your `factorial` function from Part 1.)\n",
    "\n",
    "1. Using your `binomial` function, write a function `pascals_triangle(N)` to print out the first $N$ lines of \"Pascal's triangle\" (starting with the $0$th line). The $n$th line of Pascal's triangle contains $n+1$ numbers, which are the coefficients $n \\choose 0$, $n \\choose 1$, and so on up to $n \\choose n$. Thus the first few lines are\n",
    "        1\n",
    "        1 1\n",
    "        1 2 1\n",
    "        1 3 3 1\n",
    "        1 4 6 4 1     \n",
    "This would be the result of `pascals_triangle(5)`. Print the first 15 rows of Pascal's triangle.\n",
    "        \n",
    "1. The probability that an ubiased coin, tossed $n$ times, will come up heads $k$ times is ${n \\choose k} / 2^n$. (Or instead of coins, perhaps you'd prefer to think of spins measured in a [Stern-Gerlach experiment](https://en.wikipedia.org/wiki/Stern%E2%80%93Gerlach_experiment).)\n",
    "    - Write a function `heads_exactly(n,k)` to calculate the probability that a coin tossed $n$ times comes up heads exactly $k$ times.\n",
    "    - Write a function `heads_atleast(n,k)` to calculate the probability that a coin tossed $n$ times comes up heads $k$ or more times.\n",
    "    - Print the probabilities (to three decimal places) that a coin tossed 100 times comes up heads exactly 60 times, and at least 60 times. You should print corresponding statements with the numbers so it is clear what they each mean.\n",
    "\n",
    "1. Along with the printed statements from Part 4, have your code generate and display two labelled plots for `heads_exactly(n,k)` and `heads_atleast(n,k)` with $n=100$. You should have values of $k$ on the $x$-axis, and probabilities on the $y$-axis. (Note that $k$ only takes integer values from 0 to $n$, inclusive. Your plots can be connected curves or have discrete markers for each point; either is fine.)\n",
    "\n",
    "#### Output\n",
    "\n",
    "To summarize, your program should output the following things:\n",
    "\n",
    "1. The first 15 rows of Pascal's triangle\n",
    "1. The probabilities (to three decimal places) that a coin tossed 100 times comes up heads exactly 60 times, and at least 60 times, with corresponding statements so it is clear what each number signifies.\n",
    "1. Two labeled plots for `heads_exactly(n,k)` and `heads_atleast(n,k)` with $n=100$, representing probability distributions for 100 coin flips.\n",
    "\n",
    "#### Reminder\n",
    "\n",
    "Remember to write informative doc strings, comment your code, and use descriptive function and variable names so others (and future you) can understand what you're doing!\n"
   ]
  },
  {
   "cell_type": "code",
   "execution_count": null,
   "id": "8809531b",
   "metadata": {},
   "outputs": [],
   "source": []
  },
  {
   "cell_type": "markdown",
   "id": "c6a880b5",
   "metadata": {},
   "source": [
    "# Problem 4: Final Projects"
   ]
  },
  {
   "cell_type": "markdown",
   "id": "3ad0324f",
   "metadata": {},
   "source": [
    "For this week's project update, narrow down your project topic to one idea. In the markdown cell below, write down your group's choice for project topic and the names of your group members. Over the next week, make sure you also think about how you could use python to answer a research question for your topic (we will be covering data analysis next week so that should help give some ideas)."
   ]
  },
  {
   "cell_type": "markdown",
   "id": "874834d3",
   "metadata": {},
   "source": []
  }
 ],
 "metadata": {
  "kernelspec": {
   "display_name": "Python 3 (ipykernel)",
   "language": "python",
   "name": "python3"
  },
  "language_info": {
   "codemirror_mode": {
    "name": "ipython",
    "version": 3
   },
   "file_extension": ".py",
   "mimetype": "text/x-python",
   "name": "python",
   "nbconvert_exporter": "python",
   "pygments_lexer": "ipython3",
   "version": "3.9.13"
  }
 },
 "nbformat": 4,
 "nbformat_minor": 5
}
