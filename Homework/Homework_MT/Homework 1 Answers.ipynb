{
 "cells": [
  {
   "cell_type": "markdown",
   "id": "03afcdf9",
   "metadata": {},
   "source": [
    "# Homework 1: Math and Plotting Python Basics"
   ]
  },
  {
   "cell_type": "markdown",
   "id": "0e9367e3",
   "metadata": {},
   "source": [
    "** Submit this notebook to bCourses to receive a credit for this assignment.**\n",
    "\n",
    "Please complete this homework assignment in code cells in the iPython notebook. Include comments in your code when necessary. Enter your name in the cell at the top of the notebook, and rename the notebook name_HW01.ipynb."
   ]
  },
  {
   "cell_type": "markdown",
   "id": "c2444607",
   "metadata": {},
   "source": [
    "# Problem 1: Beginner Python Scales"
   ]
  },
  {
   "cell_type": "markdown",
   "id": "2b3ba1fe",
   "metadata": {},
   "source": [
    "Here is where you can demonstrate some of the basics of python you learned this first week. In this problem, I will give you a series of tasks that can be solved using python. Your job will be to write code to produce the solutions to each of those tasks"
   ]
  },
  {
   "cell_type": "markdown",
   "id": "a8ccc99b",
   "metadata": {},
   "source": [
    "1a) Write out the lines of code you should always write at the start of your notebooks. If you do not complete this part correctly you will be unable to complete the rest of the homework."
   ]
  },
  {
   "cell_type": "code",
   "execution_count": 2,
   "id": "d0de6a35",
   "metadata": {},
   "outputs": [],
   "source": [
    "#2 points\n",
    "import numpy as np\n",
    "import matplotlib.pyplot as plt"
   ]
  },
  {
   "cell_type": "markdown",
   "id": "8eb904df",
   "metadata": {},
   "source": [
    "1b) Define three variables, one as an integer, one as a float, and one as a string. Print each of these variables labeled with each of their respective types."
   ]
  },
  {
   "cell_type": "code",
   "execution_count": 3,
   "id": "4ad75652",
   "metadata": {},
   "outputs": [
    {
     "name": "stdout",
     "output_type": "stream",
     "text": [
      "Int: 2\n",
      "Float: 4.4\n",
      "Str: Physics!\n"
     ]
    }
   ],
   "source": [
    "#2 points\n",
    "x = 2\n",
    "y = 4.4\n",
    "z = 'Physics!'\n",
    "\n",
    "print('Int:', x)\n",
    "print('Float:', y)\n",
    "print('Str:', z)"
   ]
  },
  {
   "cell_type": "markdown",
   "id": "61b1af40",
   "metadata": {},
   "source": [
    "1c) Calculate and print the area of a circle with a radius of 4 cm."
   ]
  },
  {
   "cell_type": "code",
   "execution_count": 4,
   "id": "27dc386c",
   "metadata": {},
   "outputs": [
    {
     "name": "stdout",
     "output_type": "stream",
     "text": [
      "50.26548245743669\n"
     ]
    }
   ],
   "source": [
    "#3 points\n",
    "radius = np.pi * 4**2\n",
    "print(radius)"
   ]
  },
  {
   "cell_type": "markdown",
   "id": "c0f4c95d",
   "metadata": {},
   "source": [
    "1d) Solve the following quadratic equation: $x^2 - 12x - 3 = 0$"
   ]
  },
  {
   "cell_type": "code",
   "execution_count": 5,
   "id": "1a553b58",
   "metadata": {},
   "outputs": [
    {
     "name": "stdout",
     "output_type": "stream",
     "text": [
      "12.244997998398398\n",
      "-0.2449979983983983\n"
     ]
    }
   ],
   "source": [
    "#3 points\n",
    "x_1 = (12 + np.sqrt(12**2 + 4*3*1))/2\n",
    "x_2 = (12 - np.sqrt(12**2 + 4*3*1))/2\n",
    "\n",
    "print(x_1)\n",
    "print(x_2)"
   ]
  },
  {
   "cell_type": "markdown",
   "id": "c17eb7b6",
   "metadata": {},
   "source": [
    "1e) Use the values given below to calculate the gravitational force the Earth excerts on the moon. Then, print the force the moon excerts on the Earth along side the name of the fundamental law you could use to easily determine that value."
   ]
  },
  {
   "cell_type": "markdown",
   "id": "1dfab779",
   "metadata": {},
   "source": [
    "$M_{Moon}$ = 7.347 × $10^{22}$ kg\n",
    "\n",
    "$M_{Earth}$ = 5.972 × $10^{24}$ kg\n",
    "\n",
    "$R_{E-M}$ = 3.844 × $10^{8}$ m"
   ]
  },
  {
   "cell_type": "code",
   "execution_count": 6,
   "id": "410ab7fd",
   "metadata": {},
   "outputs": [],
   "source": [
    "#5 points\n",
    "M_moon = 7.347e22\n",
    "M_earth = 5.972e24\n",
    "R_em = 3.833e8\n",
    "G = 6.6743e-11\n",
    "\n",
    "F = G*M_moon*M_earth/R_em**2"
   ]
  },
  {
   "cell_type": "code",
   "execution_count": 7,
   "id": "dfc6f52a",
   "metadata": {},
   "outputs": [
    {
     "name": "stdout",
     "output_type": "stream",
     "text": [
      "Force of Earth on the moon: 1.993232335890912e+20 N\n",
      "Force of the moon on the Earth: -1.993232335890912e+20 N By Newtons third law of motion\n"
     ]
    }
   ],
   "source": [
    "print('Force of Earth on the moon:', F, 'N')\n",
    "print('Force of the moon on the Earth:', -F, 'N','By Newtons third law of motion')"
   ]
  },
  {
   "cell_type": "markdown",
   "id": "4984b423",
   "metadata": {},
   "source": [
    "# Problem 2: Satellite Altitudes"
   ]
  },
  {
   "cell_type": "markdown",
   "id": "81bd1383",
   "metadata": {},
   "source": [
    "A satellite is to be launched into a circular orbit around the Earth so that it orbits the planet once every $T$ seconds. The altitude $h$ above the Earth's surface that the satellite must have is $$ h = \\left( \\frac{G M T^2}{4 \\pi^2} \\right)^{1/3} - R$$ where M is the mass of the Earth and $R = 6371~\\text{km}$ is its radius."
   ]
  },
  {
   "cell_type": "markdown",
   "id": "5a0424cc",
   "metadata": {},
   "source": [
    "2a) Write a program that, for a given value of $T$ (entered as a variable T in a cell), calculates and prints out the correct altitude in meters, kilometers, and miles, with one decimal place for each result.\n",
    "\n",
    "When the code cell for this part of the problem is entered, it should specify in the comments what units of $T$ are assumed. The program should print out the correct altitude in meters, kilometers, and miles."
   ]
  },
  {
   "cell_type": "code",
   "execution_count": 8,
   "id": "86652473",
   "metadata": {},
   "outputs": [
    {
     "name": "stdout",
     "output_type": "stream",
     "text": [
      "h = 9548648.5 meters\n",
      "h1 = 9548.6 kilometers\n",
      "h2 = 5933.3 miles\n"
     ]
    }
   ],
   "source": [
    "#6 points\n",
    "\n",
    "import math as m\n",
    "#Define Variables\n",
    "G = 6.67 * 10**-11\n",
    "R = 6371000\n",
    "M = 5.97 * 10**24\n",
    "T = 20000 #value of T that I picked\n",
    "#Create Funtion\n",
    "h = (G * M * T**2 / (4 * m.pi**2))**(1/3)-R #In meters\n",
    "\n",
    "#Convert to different Units\n",
    "h1 = h / 1000 #Kilometers\n",
    "h2 = h * 0.000621371 #Miles\n",
    "\n",
    "#Print Three Values\n",
    "print('h = {0:6.1f}'.format(h), 'meters')\n",
    "print('h1 = {0:6.1f}'.format(h1), 'kilometers')\n",
    "print('h2 = {0:6.1f}'.format(h2), 'miles')"
   ]
  },
  {
   "cell_type": "markdown",
   "id": "60d485b9",
   "metadata": {},
   "source": [
    "2b) Calculate the altitudes of satellites that orbit the Earth once a day (geosynchronous orbit), once every 90 minutes, and once every 45 minutes. What do your results tell you about the different orbits?"
   ]
  },
  {
   "cell_type": "code",
   "execution_count": 9,
   "id": "999a5641",
   "metadata": {},
   "outputs": [
    {
     "name": "stdout",
     "output_type": "stream",
     "text": [
      "Geosynchronous\n",
      "h = 35855910.2 meters\n",
      "h1 = 35855.9 kilometers\n",
      "h2 = 22279.8 miles\n"
     ]
    }
   ],
   "source": [
    "#9 points (3 per time zone)\n",
    "\n",
    "#Geosynchronous\n",
    "import math as m\n",
    "G = 6.67 * 10**-11\n",
    "R = 6371000\n",
    "M = 5.97 * 10**24\n",
    "T = 86400\n",
    "h = (G * M * T**2 / (4 * m.pi**2))**(1/3)-R\n",
    "h1 = h / 1000\n",
    "h2 = h * 0.000621371\n",
    "print('Geosynchronous')\n",
    "print('h = {0:6.1f}'.format(h), 'meters')\n",
    "print('h1 = {0:6.1f}'.format(h1), 'kilometers')\n",
    "print('h2 = {0:6.1f}'.format(h2), 'miles')"
   ]
  },
  {
   "cell_type": "code",
   "execution_count": 10,
   "id": "b8bbccea",
   "metadata": {},
   "outputs": [
    {
     "name": "stdout",
     "output_type": "stream",
     "text": [
      "90 minutes\n",
      "h = 279321.6 meters\n",
      "h1 =  279.3 kilometers\n",
      "h2 =  173.6 miles\n"
     ]
    }
   ],
   "source": [
    "#90 Minutes\n",
    "import math as m\n",
    "G = 6.67 * 10**-11\n",
    "R = 6371000\n",
    "M = 5.97 * 10**24\n",
    "T = 5400\n",
    "h = (G * M * T**2 / (4 * m.pi**2))**(1/3)-R\n",
    "h1 = h / 1000\n",
    "h2 = h * 0.000621371\n",
    "print('90 minutes')\n",
    "print('h = {0:6.1f}'.format(h), 'meters')\n",
    "print('h1 = {0:6.1f}'.format(h1), 'kilometers')\n",
    "print('h2 = {0:6.1f}'.format(h2), 'miles')"
   ]
  },
  {
   "cell_type": "code",
   "execution_count": 11,
   "id": "30d22c9d",
   "metadata": {},
   "outputs": [
    {
     "name": "stdout",
     "output_type": "stream",
     "text": [
      "45 Minutes\n",
      "h = -2181559.9 meters\n",
      "h1 = -2181.6 kilometers\n",
      "h2 = -1355.6 miles\n"
     ]
    }
   ],
   "source": [
    "#45 Minutes\n",
    "import math as m\n",
    "G = 6.67 * 10**-11\n",
    "R = 6371000\n",
    "M = 5.97 * 10**24\n",
    "T = 2700\n",
    "h = (G * M * T**2 / (4 * m.pi**2))**(1/3)-R\n",
    "h1 = h / 1000\n",
    "h2 = h * 0.000621371\n",
    "print('45 Minutes')\n",
    "print('h = {0:6.1f}'.format(h), 'meters')\n",
    "print('h1 = {0:6.1f}'.format(h1), 'kilometers')\n",
    "print('h2 = {0:6.1f}'.format(h2), 'miles')"
   ]
  },
  {
   "cell_type": "markdown",
   "id": "a976ec42",
   "metadata": {},
   "source": [
    "The third orbit is not possible which we get from the negative altitude."
   ]
  },
  {
   "cell_type": "markdown",
   "id": "908efa05",
   "metadata": {},
   "source": [
    "# Problem 3: When Cows Fly"
   ]
  },
  {
   "cell_type": "markdown",
   "id": "d1056b7b",
   "metadata": {},
   "source": [
    "This is a physics class, so we should all be able to do some simple physics problems. Lets say your a frenchman occupying a castle in medieval England. Some English knights have come to your castle and you're trying to get rid of them. So, naturally, you launch a cow at them with your catapult."
   ]
  },
  {
   "cell_type": "markdown",
   "id": "19807770",
   "metadata": {},
   "source": [
    "![SegmentLocal](la_vache.gif \"segment\")"
   ]
  },
  {
   "cell_type": "markdown",
   "id": "886a5be6",
   "metadata": {},
   "source": [
    "3a) Your castle walls are 100 meters high and the knights are standing 50 meters away from your catapult. Assuming your cow weighs 550 kg, use your knowledge of physics and python to calculate the velocity you need to launch your cow from in order to hit the knights nine seconds from launch."
   ]
  },
  {
   "cell_type": "code",
   "execution_count": 12,
   "id": "c19782e8",
   "metadata": {},
   "outputs": [
    {
     "name": "stdout",
     "output_type": "stream",
     "text": [
      "44.61910126314586 m/s\n"
     ]
    }
   ],
   "source": [
    "#5 points\n",
    "\n",
    "#Calculate initial Y_velocity\n",
    "m = 550000 #g\n",
    "g = 9.8 #m/s^2\n",
    "h = 100 #m\n",
    "\n",
    "P_E = m*g*h\n",
    "K_E = P_E\n",
    "V_yo = np.sqrt(2*K_E/m) #m/s\n",
    "\n",
    "#Calculate Initial X velocity\n",
    "X = 50 #m\n",
    "X_o = 0 #m\n",
    "t = 9 #sec\n",
    "\n",
    "V_xo = X/t\n",
    "\n",
    "V_o = np.sqrt(V_xo**2 + V_yo**2)\n",
    "print(V_o, 'm/s')"
   ]
  },
  {
   "cell_type": "markdown",
   "id": "a658584a",
   "metadata": {},
   "source": [
    "3b) Based on your calculations from the previous step, plot the optimal trajectory of your bovine projectiles."
   ]
  },
  {
   "cell_type": "code",
   "execution_count": 13,
   "id": "327347c1",
   "metadata": {},
   "outputs": [
    {
     "data": {
      "text/plain": [
       "Text(0.5, 1.0, 'Launchez le vache')"
      ]
     },
     "execution_count": 13,
     "metadata": {},
     "output_type": "execute_result"
    },
    {
     "data": {
      "image/png": "[encoded data removed]",
      "text/plain": [
       "<Figure size 432x288 with 1 Axes>"
      ]
     },
     "metadata": {
      "needs_background": "light"
     },
     "output_type": "display_data"
    }
   ],
   "source": [
    "#5 points\n",
    "\n",
    "t = np.linspace(0, 9, 100)\n",
    "x = V_xo*t + X_o\n",
    "y = -0.5*g*t**2 + V_yo*t \n",
    "\n",
    "plt.plot(x, y, 'r')\n",
    "plt.xlabel('X Position (meters)')\n",
    "plt.ylabel('Y Position (meters)')\n",
    "plt.title('Launchez le vache')"
   ]
  },
  {
   "cell_type": "markdown",
   "id": "0af322ab",
   "metadata": {},
   "source": [
    "3c) You now have the knights on the run. Luckily, you have more cows at your disposal. Assuming each of your cows weighs approximately the same, use your code from part a to calculate the necessary intial velocities to launch your cows, 100, 150, and 200 meters. Plot these trajectories, along with your 50 meter trajectory, on the one figure, taking care to distinguish and label each of your lines. Then, on a separate plot, create a scatter plot showing the relationship between initial velocity and launch distance."
   ]
  },
  {
   "cell_type": "code",
   "execution_count": 19,
   "id": "fabf626c",
   "metadata": {},
   "outputs": [
    {
     "data": {
      "image/png": "[encoded data removed]",
      "text/plain": [
       "<Figure size 432x288 with 1 Axes>"
      ]
     },
     "metadata": {
      "needs_background": "light"
     },
     "output_type": "display_data"
    },
    {
     "data": {
      "text/plain": [
       "Text(0, 0.5, 'Required Initial Velocity (meters/sec)')"
      ]
     },
     "execution_count": 19,
     "metadata": {},
     "output_type": "execute_result"
    },
    {
     "data": {
      "image/png": "[encoded data removed]",
      "text/plain": [
       "<Figure size 432x288 with 1 Axes>"
      ]
     },
     "metadata": {
      "needs_background": "light"
     },
     "output_type": "display_data"
    }
   ],
   "source": [
    "#8 points\n",
    "\n",
    "import numpy as np\n",
    "import matplotlib.pyplot as plt\n",
    "#Calculate initial Y_velocity\n",
    "m = 550000 #g\n",
    "g = 9.8 #m/s^2\n",
    "h = 100 #m\n",
    "\n",
    "P_E = m*g*h\n",
    "K_E = P_E\n",
    "V_yo = np.sqrt(2*K_E/m) #m/s\n",
    "\n",
    "#Calculate Initial X velocity\n",
    "X_1 = 100 #m\n",
    "X_2 = 150 #m\n",
    "X_3 = 200 #m\n",
    "X_o = 0 #m\n",
    "t = 9 #sec\n",
    "\n",
    "V_xo1 = X_1/t\n",
    "V_xo2 = X_2/t\n",
    "V_xo3 = X_3/t\n",
    "\n",
    "V_o1 = np.sqrt(V_xo1**2 + V_yo**2)\n",
    "V_o2 = np.sqrt(V_xo2**2 + V_yo**2)\n",
    "V_o3 = np.sqrt(V_xo3**2 + V_yo**2)\n",
    "\n",
    "\n",
    "t = np.linspace(0, 9, 100)\n",
    "x1 = V_xo1*t + X_o\n",
    "x2 = V_xo2*t + X_o\n",
    "x3 = V_xo3*t + X_o\n",
    "y = -0.5*g*t**2 + V_yo*t \n",
    "\n",
    "plt.plot(x, y, 'r', label = '50 meters')\n",
    "plt.plot(x1, y, label = '100 meters')\n",
    "plt.plot(x2, y, label = '150 meters')\n",
    "plt.plot(x3, y, 'g', label = '200 meters')\n",
    "plt.legend()\n",
    "plt.xlabel('Horizontal Distance (meters)')\n",
    "plt.ylabel('Vertical Distance (meters)')\n",
    "plt.show()\n",
    "\n",
    "dist = [50, 100, 150, 200]\n",
    "vel = [V_o, V_o1, V_o2, V_o3]\n",
    "\n",
    "plt.figure()\n",
    "plt.plot(dist, vel, 'bo')\n",
    "plt.xlabel('Launch Distance Required (meters)')\n",
    "plt.ylabel('Required Initial Velocity (meters/sec)')"
   ]
  },
  {
   "cell_type": "markdown",
   "id": "f3b443bb",
   "metadata": {},
   "source": [
    "# Problem 4: Final Project Ideas"
   ]
  },
  {
   "cell_type": "markdown",
   "id": "f8f10606",
   "metadata": {},
   "source": [
    "Write a list of two or three possible topics you might want to research for your final project. You will need to get this list narrowed down to one topic by next week so spend that time looking into your topic ideas to see which you are most interested in and what a possible coding project would look like for that topic. These will be group projects so you should take some time this week to talk with your fellow students and see if you have similar interests and could possibly group up."
   ]
  },
  {
   "cell_type": "markdown",
   "id": "5dd9990f",
   "metadata": {},
   "source": [
    "2 points for putting something here we can use to sort groups"
   ]
  },
  {
   "cell_type": "code",
   "execution_count": null,
   "id": "536e954d",
   "metadata": {},
   "outputs": [],
   "source": []
  }
 ],
 "metadata": {
  "kernelspec": {
   "display_name": "Python 3 (ipykernel)",
   "language": "python",
   "name": "python3"
  },
  "language_info": {
   "codemirror_mode": {
    "name": "ipython",
    "version": 3
   },
   "file_extension": ".py",
   "mimetype": "text/x-python",
   "name": "python",
   "nbconvert_exporter": "python",
   "pygments_lexer": "ipython3",
   "version": "3.9.13"
  }
 },
 "nbformat": 4,
 "nbformat_minor": 5
}
