{
 "cells": [
  {
   "cell_type": "markdown",
   "id": "03afcdf9",
   "metadata": {},
   "source": [
    "# Homework 1: Math and Plotting Python Basics"
   ]
  },
  {
   "cell_type": "markdown",
   "id": "0e9367e3",
   "metadata": {},
   "source": [
    "** Submit this notebook to bCourses to receive a credit for this assignment.**\n",
    "\n",
    "Please complete this homework assignment in code cells in the iPython notebook. Include comments in your code when necessary. Enter your name in the cell at the top of the notebook, and rename the notebook name_HW01.ipynb."
   ]
  },
  {
   "cell_type": "markdown",
   "id": "c2444607",
   "metadata": {},
   "source": [
    "# Problem 1: Beginner Python Scales"
   ]
  },
  {
   "cell_type": "markdown",
   "id": "c044d085",
   "metadata": {},
   "source": [
    "Here is where you can demonstrate some of the basics of python you learned this first week. In this problem, I will give you a series of tasks that can be solved using python. Your job will be to write code to produce the solutions to each of those tasks"
   ]
  },
  {
   "cell_type": "markdown",
   "id": "25abdc17",
   "metadata": {},
   "source": [
    "1a) Write out the lines of code you should always write at the start of your notebooks. If you do not complete this part correctly you will be unable to complete the rest of the homework."
   ]
  },
  {
   "cell_type": "code",
   "execution_count": 37,
   "id": "d0de6a35",
   "metadata": {},
   "outputs": [],
   "source": [
    "import numpy as np\n",
    "import matplotlib.pyplot as plt"
   ]
  },
  {
   "cell_type": "markdown",
   "id": "9f60bab0",
   "metadata": {},
   "source": [
    "1b) Define three variables, one as an integer, one as a float, and one as a string. Print each of these variables labeled with each of their respective types."
   ]
  },
  {
   "cell_type": "code",
   "execution_count": 51,
   "id": "35b3bb6a",
   "metadata": {},
   "outputs": [
    {
     "name": "stdout",
     "output_type": "stream",
     "text": [
      "12 <class 'int'>\n",
      "12.4 <class 'float'>\n",
      "Berkeley <class 'str'>\n"
     ]
    }
   ],
   "source": [
    "x = 12 #Integer\n",
    "y = 12.4 #Float\n",
    "z = 'Berkeley' #String\n",
    "\n",
    "print(x, type(x))\n",
    "print (y,type(y))\n",
    "print (z, type (z))"
   ]
  },
  {
   "cell_type": "markdown",
   "id": "fe1ff2f0",
   "metadata": {},
   "source": [
    "1c) Calculate and print the area of a circle with a radius of 4 cm."
   ]
  },
  {
   "cell_type": "code",
   "execution_count": 11,
   "id": "afabfeda",
   "metadata": {},
   "outputs": [
    {
     "name": "stdout",
     "output_type": "stream",
     "text": [
      "The Area of the circle is 50.265 Cm Squared\n"
     ]
    }
   ],
   "source": [
    "#Importing all the values needed in this equation\n",
    "import numpy as np\n",
    "radius = 4\n",
    "#Calculating and Printing the answer\n",
    "circle = np.pi*((radius)**2)\n",
    "#Rounding\n",
    "circle_round = round(circle,3)\n",
    "print ('The Area of the circle is',circle_round,'Cm Squared')"
   ]
  },
  {
   "cell_type": "markdown",
   "id": "b1864444",
   "metadata": {},
   "source": [
    "1d) Solve the following quadratic equation: $x^2 - 12x - 3 = 0$"
   ]
  },
  {
   "cell_type": "code",
   "execution_count": 10,
   "id": "fed6b662",
   "metadata": {},
   "outputs": [
    {
     "name": "stdout",
     "output_type": "stream",
     "text": [
      "The solution is 1.5 units\n"
     ]
    }
   ],
   "source": [
    "import numpy as np\n",
    "\n",
    "#Quadratic Equation values\n",
    "a = 1\n",
    "b = -12\n",
    "c = -3\n",
    "# Calculating of the discriminant\n",
    "d = (b**2) - (4*b*c)\n",
    "# Finding the two solutions\n",
    "negsolution = (-c-np.sqrt(d))/(2*a)\n",
    "possolution = (-c+np.sqrt(d))/(2*a)\n",
    "\n",
    "#Checking if the solutions are the same, if it not the same it would print both solutions.\n",
    "if negsolution == possolution:\n",
    "    print(\"The solution is\",negsolution, 'units')\n",
    "else:\n",
    "    print(\"The solutions are\",negsolution, 'and', possolution)"
   ]
  },
  {
   "cell_type": "markdown",
   "id": "166d50dc",
   "metadata": {},
   "source": [
    "1e) Use the values given below to calculate the gravitational force the Earth excerts on the moon. Then, print the force the moon excerts on the Earth along side the name of the fundamental law you could use to easily determine that value."
   ]
  },
  {
   "cell_type": "markdown",
   "id": "1dfab779",
   "metadata": {},
   "source": [
    "$M_{Moon}$ = 7.347 × $10^{22}$ kg\n",
    "\n",
    "$M_{Earth}$ = 5.972 × $10^{24}$ kg\n",
    "\n",
    "$R_{E-M}$ = 3.844 × $10^{8}$ m"
   ]
  },
  {
   "cell_type": "code",
   "execution_count": 46,
   "id": "410ab7fd",
   "metadata": {},
   "outputs": [
    {
     "name": "stdout",
     "output_type": "stream",
     "text": [
      "Using the Universal Gravitation Equation, the force of attraction is 1.9822913723131363e+20 Newtons\n"
     ]
    }
   ],
   "source": [
    "import numpy as np\n",
    "\n",
    "#Values\n",
    "\n",
    "mmoon = 7.349e22\n",
    "mearth= 5.972e24\n",
    "distance= 3.844e8\n",
    "gconstant = 6.674e-11\n",
    "\n",
    "#Using Universal Gravitation Equation\n",
    "\n",
    "f = (gconstant * mmoon * mearth)/(distance)**2\n",
    "\n",
    "print ('Using the Universal Gravitation Equation, the force of attraction is', f, 'Newtons')"
   ]
  },
  {
   "cell_type": "markdown",
   "id": "4984b423",
   "metadata": {},
   "source": [
    "# Problem 2: Satellite Altitudes"
   ]
  },
  {
   "cell_type": "markdown",
   "id": "5a0424cc",
   "metadata": {},
   "source": [
    "2a) Write a program that, for a given value of $T$ (entered as a variable T in a cell), calculates and prints out the correct altitude in meters, kilometers, and miles, with one decimal place for each result.\n",
    "\n",
    "   $$ h = \\left( \\frac{G M T^2}{4 \\pi^2} \\right)^{1/3} - R$$\n",
    "\n",
    "When the code cell for this part of the problem is entered, it should specify in the comments what units of $T$ are assumed. The program should print out the correct altitude in meters, kilometers, and miles."
   ]
  },
  {
   "cell_type": "code",
   "execution_count": 12,
   "id": "86652473",
   "metadata": {},
   "outputs": [
    {
     "name": "stdout",
     "output_type": "stream",
     "text": [
      "The altitudes are:\n",
      "45603135239.54 meters\n",
      "45603135.24 kilometers\n",
      "28501959524.71 miles\n"
     ]
    }
   ],
   "source": [
    "import numpy as np\n",
    "\n",
    "#Values\n",
    "M = 5.972e24 #Mass of the Earth, Untis are in Kilograms\n",
    "R = 6371 #The Radius of the Earth, Units are in Kilometers.\n",
    "T = 8000 #CHANGE VARIABLE TO CHANGE THE TIME in Seconds\n",
    "G = 9.8 #Units are in m**2\n",
    "\n",
    "\n",
    "#Forumla Calculation\n",
    "alttitude = (G*M*(T**2)/(4*(np.pi**2)))**(1/3)-R*1000 #Units are in Meters\n",
    "\n",
    "#Converts into Km and Miles\n",
    "alttitude_km = alttitude/1000 #Converts back into Kilometers\n",
    "alttitude_miles = alttitude/1.6 #Converts into Miles\n",
    "\n",
    "#Rounding to two decimal points\n",
    "altittude_round = round(alttitude,2)\n",
    "altittude_round_km = round(alttitude_km,2)\n",
    "altittude_round_miles = round(alttitude_miles,2)\n",
    "\n",
    "#PRINT\n",
    "print ('The altitudes are:')\n",
    "print (altittude_round , \"meters\")\n",
    "print (altittude_round_km , \"kilometers\")\n",
    "print (altittude_round_miles , \"miles\")\n",
    "\n"
   ]
  },
  {
   "cell_type": "markdown",
   "id": "60d485b9",
   "metadata": {},
   "source": [
    "2b) Calculate the altitudes of satellites that orbit the Earth once a day (geosynchronous orbit), once every 90 minutes, and once every 45 minutes. What do your results tell you about the different orbits?"
   ]
  },
  {
   "cell_type": "code",
   "execution_count": 13,
   "id": "999a5641",
   "metadata": {},
   "outputs": [
    {
     "name": "stdout",
     "output_type": "stream",
     "text": [
      "The altitude of the 90 minute orbit is 35096015003.24 kilometers\n",
      "The altitude of the 45 minute orbit is 22109101677.48 kilometers\n",
      "The altitude of the geosynchronous orbit is 222845838626.46 kilometers\n",
      "The results tells me that longer orbital times require higher altitudes\n"
     ]
    }
   ],
   "source": [
    "import numpy as np\n",
    "\n",
    "#Values\n",
    "G = 9.8 #Units are in m**2\n",
    "M = 5.972e24 #Mass of the Earth, Untis are in Kilograms\n",
    "T1 = 5400 #90 Minutes\n",
    "T2 = 2700 #45 Minutes\n",
    "T3 = 86400 #Geosynchronous Orbit\n",
    "R = 6371 #The Radius of the Earth, Units are in Kilometers.\n",
    "\n",
    "#Forumla Calculation and Rounding\n",
    "\n",
    "\n",
    "alttitude_90 = round((G*M*(T1**2)/(4*(np.pi**2)))**(1/3)-R,2)\n",
    "alttitude_45 = round((G*M*(T2**2)/(4*(np.pi**2)))**(1/3)-R,2)\n",
    "geo_orbit = round((G*M*(T3**2)/(4*(np.pi**2)))**(1/3)-R,2)\n",
    "\n",
    "\n",
    "#Prints the correct altitudes\n",
    "print('The altitude of the 90 minute orbit is', alttitude_90, \"kilometers\")\n",
    "print('The altitude of the 45 minute orbit is',alttitude_45, \"kilometers\")\n",
    "print('The altitude of the geosynchronous orbit is', geo_orbit, \"kilometers\")\n",
    "\n",
    "#Results commentary\n",
    "\n",
    "print('The results tells me that longer orbital times require higher altitudes')\n",
    "\n"
   ]
  },
  {
   "cell_type": "markdown",
   "id": "908efa05",
   "metadata": {},
   "source": [
    "# Problem 3: When Cows Fly"
   ]
  },
  {
   "cell_type": "markdown",
   "id": "d1056b7b",
   "metadata": {},
   "source": [
    "This is a physics class, so we should all be able to do some simple physics problems. Lets say your a frenchman occupying a castle in medieval England. Some English knights have come to your castle and you're trying to get rid of them. So, naturally, you launch a cow at them with your catapult."
   ]
  },
  {
   "cell_type": "markdown",
   "id": "19807770",
   "metadata": {},
   "source": [
    "![SegmentLocal](la_vache.gif \"segment\")"
   ]
  },
  {
   "cell_type": "markdown",
   "id": "886a5be6",
   "metadata": {},
   "source": [
    "3a) Your castle walls are 100 meters high and the knights are standing 50 meters away from your catapult. Assuming your cow weighs 550 kg, use your knowledge of physics and python to calculate the velocity you need to launch your cow from in order to hit the knights 9 seconds after launch."
   ]
  },
  {
   "cell_type": "code",
   "execution_count": 3,
   "id": "c19782e8",
   "metadata": {},
   "outputs": [
    {
     "name": "stdout",
     "output_type": "stream",
     "text": [
      "The velocity that you will need to launch the cow to hit the evil English knights is 44.45 meters squared\n"
     ]
    }
   ],
   "source": [
    "import numpy as np\n",
    "import matplotlib.pyplot as plt\n",
    "\n",
    "G = 9.8 #Gravity, Units are in m**2\n",
    "D = 50 #Distance, Units are in meters\n",
    "T = 9 #Time, measured in seconds\n",
    "\n",
    "\n",
    "#Solve for Velocity_x and Velocity_y\n",
    "v_x = D/T\n",
    "v_y = (0 + (1/2)*G*(T**2))/T #Plugged in y(t=9) = 0, Hense the first number is 0\n",
    "\n",
    "#Finding Velocity\n",
    "\n",
    "v = np.sqrt((v_x**2)+(v_y**2))\n",
    "\n",
    "#Rounding\n",
    "v_round = round(v,2)\n",
    "print ('The velocity that you will need to launch the cow to hit the evil English knights is',v_round,'meters squared' )\n"
   ]
  },
  {
   "cell_type": "markdown",
   "id": "a658584a",
   "metadata": {},
   "source": [
    "3b) Based on your calculations from the previous step, plot the optimal trajectory of your bovine projectiles."
   ]
  },
  {
   "cell_type": "code",
   "execution_count": 60,
   "id": "327347c1",
   "metadata": {},
   "outputs": [
    {
     "data": {
      "image/png": "[encoded data removed]",
      "text/plain": [
       "<Figure size 432x288 with 1 Axes>"
      ]
     },
     "metadata": {
      "needs_background": "light"
     },
     "output_type": "display_data"
    }
   ],
   "source": [
    "import numpy as np\n",
    "import matplotlib.pyplot as plt\n",
    "\n",
    "\n",
    "G = 9.8 #Gravity, Units are in m**2\n",
    "D = 50 #Distance, Units are in meters\n",
    "\n",
    "#Linspace, for graphing, as the formulas are a function of t,\n",
    "T = np.linspace(0,9) #Time, measured in seconds\n",
    "\n",
    "#v_y and v_x are defined in the above cell\n",
    "y = v_y * T - (1/2)*G*(T**2)\n",
    "x = v_x * T\n",
    "\n",
    "plt.plot(x, y, 'm')\n",
    "plt.xlim(0,55)\n",
    "plt.ylim(0,120)\n",
    "plt.xlabel('Distance (m)')\n",
    "plt.ylabel('Altitude (m)')\n",
    "plt.show()\n"
   ]
  },
  {
   "cell_type": "markdown",
   "id": "0af322ab",
   "metadata": {},
   "source": [
    "3c) You now have the knights on the run. Luckily, you have more cows at your disposal. Assuming each of your cows weighs approximately the same, use your code from part a to calculate the necessary intial velocities to launch your cows, 100, 150, and 200 meters. Plot these trajectories, along with your 50 meter trajectory, on the one figure, taking care to distinguish and label each of your lines. Then, on a separate plot, create a scatter plot showing the relationship between initial velocity and launch distance."
   ]
  },
  {
   "cell_type": "code",
   "execution_count": 69,
   "id": "fabf626c",
   "metadata": {},
   "outputs": [
    {
     "data": {
      "image/png": "[encoded data removed]",
      "text/plain": [
       "<Figure size 432x288 with 1 Axes>"
      ]
     },
     "metadata": {
      "needs_background": "light"
     },
     "output_type": "display_data"
    },
    {
     "data": {
      "image/png": "[encoded data removed]",
      "text/plain": [
       "<Figure size 432x288 with 1 Axes>"
      ]
     },
     "metadata": {
      "needs_background": "light"
     },
     "output_type": "display_data"
    }
   ],
   "source": [
    "import numpy as np\n",
    "import matplotlib.pyplot as plt\n",
    "\n",
    "#Import Units\n",
    "G = 9.8 #Gravity, Units are in m**2\n",
    "d_50 = 50 #Distance, Units are in meters\n",
    "d_100 = 100 #Distance, Units are in meters\n",
    "d_150 = 150 #Distance, Units are in meters\n",
    "d_200 = 200 #Distance, Units are in meters\n",
    "T = 9\n",
    "\n",
    "#Linspace, for graphing, as the formulas are a function of t,\n",
    "T_linspace = np.linspace(0,9) #Time, measured in seconds\n",
    "\n",
    "#Calculating the initial velocities in the x&y  equations\n",
    "v_x_50 = d_50/T\n",
    "v_y_50 = (0 + (1/2)*G*(T**2))/T\n",
    "y_50 = v_y_50 * T_linspace - (1/2)*G*(T_linspace**2)\n",
    "x_50 = v_x_50 * T_linspace\n",
    "\n",
    "v_x_100 = d_100/T\n",
    "v_y_100 = (0 + (1/2)*G*(T**2))/T\n",
    "y_100 = v_y_100 * T_linspace - (1/2)*G*(T_linspace**2)\n",
    "x_100 = v_x_100 * T_linspace\n",
    "\n",
    "v_x_150 = d_150/T\n",
    "v_y_150 = (0 + (1/2)*G*(T**2))/T\n",
    "y_150 = v_y_150 * T_linspace - (1/2)*G*(T_linspace**2)\n",
    "x_150 = v_x_150 * T_linspace\n",
    "\n",
    "v_x_200 = d_200/T\n",
    "v_y_200 = (0 + (1/2)*G*(T**2))/T\n",
    "y_200 = v_y_200 * T_linspace - (1/2)*G*(T_linspace**2)\n",
    "x_200 = v_x_200 * T_linspace\n",
    "\n",
    "\n",
    "#Plotting\n",
    "plt.plot(x_50, y_50, 'xkcd:purple',label='50 Meters')\n",
    "plt.plot(x_100,y_100,'xkcd:blue',label='100 Meters')\n",
    "plt.plot(x_150,y_150,'xkcd:chocolate',label='150 Meters')\n",
    "plt.plot(x_200,y_200,'xkcd:green',label='200 Meters')\n",
    "plt.xlim(0,200)\n",
    "plt.ylim(0,120)\n",
    "plt.xlabel('Distance (m)')\n",
    "plt.ylabel('Altitude (m)')\n",
    "plt.legend(loc='upper right')\n",
    "plt.show()\n",
    "\n",
    "#Converting horizonal and vertical velocity into velocity\n",
    "v_50 = np.sqrt((v_x_50**2)+(v_y_50**2))\n",
    "v_100 = np.sqrt((v_x_100**2)+(v_y_100**2))\n",
    "v_150 = np.sqrt((v_x_150**2)+(v_y_150**2))\n",
    "v_200 = np.sqrt((v_x_200**2)+(v_y_200**2))\n",
    "\n",
    "\n",
    "x_scatter = [50,100,150,200] #Distance variables\n",
    "y_scatter = [v_50,v_100,v_150,v_200] #Velocities\n",
    "plt.scatter(x_scatter, y_scatter)\n",
    "plt.xlabel('Distance (m)')\n",
    "plt.ylabel('Velocity m/s')\n",
    "plt.xlim(0,220)\n",
    "plt.show()\n",
    "\n"
   ]
  },
  {
   "cell_type": "markdown",
   "id": "ced46325",
   "metadata": {},
   "source": [
    "# Problem 4: Final Project Ideas"
   ]
  },
  {
   "cell_type": "markdown",
   "id": "894587de",
   "metadata": {},
   "source": [
    "Write a list of two or three possible topics you might want to research for your final project. You will need to get this list narrowed down to one topic by next week so spend that time looking into your topic ideas to see which you are most interested in and what a possible coding project would look like for that topic. These will be group projects so you should take some time this week to talk with your fellow students and see if you have similar interests and could possibly group up."
   ]
  },
  {
   "cell_type": "markdown",
   "id": "cda47f1b",
   "metadata": {},
   "source": []
  },
  {
   "cell_type": "markdown",
   "id": "2c49dd3f",
   "metadata": {},
   "source": [
    " - Data Analysis of the Human Heart\n",
    " - Using Python and Statistics analysis"
   ]
  },
  {
   "cell_type": "code",
   "execution_count": null,
   "id": "b7c38e62",
   "metadata": {},
   "outputs": [],
   "source": []
  }
 ],
 "metadata": {
  "kernelspec": {
   "display_name": "Python 3 (ipykernel)",
   "language": "python",
   "name": "python3"
  },
  "language_info": {
   "codemirror_mode": {
    "name": "ipython",
    "version": 3
   },
   "file_extension": ".py",
   "mimetype": "text/x-python",
   "name": "python",
   "nbconvert_exporter": "python",
   "pygments_lexer": "ipython3",
   "version": "3.9.12"
  }
 },
 "nbformat": 4,
 "nbformat_minor": 5
}
