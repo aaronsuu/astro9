{
 "cells": [
  {
   "cell_type": "markdown",
   "id": "a62be42a",
   "metadata": {},
   "source": [
    "# Workshop 1: Math and Plotting Python Basics"
   ]
  },
  {
   "cell_type": "markdown",
   "id": "fe059148",
   "metadata": {},
   "source": [
    "## Exercise 1: Type Writer "
   ]
  },
  {
   "cell_type": "markdown",
   "id": "52d52478",
   "metadata": {},
   "source": [
    "Define three different variables, one as an integer type, one as a float, and one as a string. Prove to yourself that each of your answers is correct by printing the type of each of your variables."
   ]
  },
  {
   "cell_type": "code",
   "execution_count": null,
   "id": "e30534f0",
   "metadata": {},
   "outputs": [],
   "source": []
  },
  {
   "cell_type": "markdown",
   "id": "4c181d8d",
   "metadata": {},
   "source": [
    "## Exercise 2: Varied Variables"
   ]
  },
  {
   "cell_type": "markdown",
   "id": "9a624cba",
   "metadata": {},
   "source": [
    "Define 5 different vairables with the following values and using the respective mathematic operations:\n",
    "\n",
    "1. 16 - addition\n",
    "2. 42 - subtraction\n",
    "3. 32 - multiplication\n",
    "4. 23 - division\n",
    "5. 8 - using another variable"
   ]
  },
  {
   "cell_type": "code",
   "execution_count": null,
   "id": "6a8b0384",
   "metadata": {},
   "outputs": [],
   "source": []
  },
  {
   "cell_type": "markdown",
   "id": "5b8076a2",
   "metadata": {},
   "source": [
    "## Exercise 3: Four Fours\n",
    "\n",
    "Here's an arithmetic game to try your hand at. Your task is to compute each of the numbers, from 1 through 11, using exactly four 4's and simple math operations. You're allowed to use `+` (addition), `-` (subtraction), `*` (multiplication), `/` (division), `sqrt()` (square root), `factorial()` (factorial), and `%` (modulus). You're also allowed to use `.4` (that's one 4) or `44` (that's two 4's) if you'd like. Just remember, you must use exactly four 4 digits total!\n",
    "\n",
    "As a reminder, four factorial (denoted by $!$ in mathematics) is $4! = 4 \\cdot 3 \\cdot 2 \\cdot 1$, and the modulus operator (usually denoted by $\\text{mod}$ in mathematics) is the remainder after division. For instance, $\\ 5\\ \\text{mod}\\ 2 = 1$, $\\ 13\\ \\text{mod}\\ 7 = 6$, and $\\ 14\\ \\text{mod}\\ 7 = 0$.\n",
    "\n",
    "Copy and paste the following code to start:\n",
    "\n",
    "    from math import factorial, sqrt\n",
    "    \n",
    "    print('Zero:', 4 - 4 + 4 - 4)\n",
    "    print('One:')\n",
    "    print('Two:')\n",
    "    print('Three:')\n",
    "    print('Four:')\n",
    "    print('Five:')\n",
    "    print('Six:')\n",
    "    print('Seven:')\n",
    "    print('Eight:')\n",
    "    print('Nine:')\n",
    "    print('Ten:')\n",
    "    print('Eleven:')\n",
    "\n",
    "We've given you `zero` for free, as `4 - 4 + 4 - 4`. Of course, we could have also done `44 * (.4 - .4)` or `factorial(4) - 4 * (4 + sqrt(4))`, since both of those also yield `0` (or rather, `0.0`. Why is that?) and use exactly four 4's."
   ]
  },
  {
   "cell_type": "code",
   "execution_count": null,
   "id": "c67f6199",
   "metadata": {},
   "outputs": [],
   "source": []
  },
  {
   "cell_type": "markdown",
   "id": "0e9b8f92",
   "metadata": {},
   "source": [
    "## Exercise 4: Dots and Lines"
   ]
  },
  {
   "cell_type": "markdown",
   "id": "83e3b112",
   "metadata": {},
   "source": [
    "Time to get some plotting practice. Create three different plots of 100 values between 0-20, one displaying a linear function, one displaying a quadratic function, and one displaying a quartic function. Make sure each plot is properly labeled and use a different method to display the data for each of the three plots. "
   ]
  },
  {
   "cell_type": "code",
   "execution_count": null,
   "id": "37256319",
   "metadata": {},
   "outputs": [],
   "source": []
  },
  {
   "cell_type": "markdown",
   "id": "5880cdf6",
   "metadata": {},
   "source": [
    "## Exercise 5: Sine-ster Plots\n",
    "\n",
    "In this next exercise you are going to create four different plots of sine wave functions. Your four plots should include; one fairly standard sine wave beginning at x = 0 and y = 0, one which has an adjusted x-axis to show both positive and negative aspects of the wave, one in which you adjust the amplitude of the wave but have changed the y-axis ticks so that it matches your other plots, and finally display a cosine and a sine wave on the same plot distinguishing them as distinctly as you can and making sure to properly label the figure so the reader knows which is which. "
   ]
  },
  {
   "cell_type": "code",
   "execution_count": null,
   "id": "752b8094",
   "metadata": {},
   "outputs": [],
   "source": []
  },
  {
   "cell_type": "markdown",
   "id": "94bd99b8",
   "metadata": {},
   "source": [
    "## Exercise 6: Kinematics Plot\n",
    "\n",
    "Create a single figure that shows separate graphs of vertical position, velocity, and acceleration for an object in free-fall. Your plot should have a single horizontal time axis and separate stacked graphs showing position, velocity, and acceleration each on their own vertical axis. The online [matplotlib gallery](http://matplotlib.org/gallery.html) will probably be helpful. Make each curve a different color.\n",
    "\n",
    "Hint: Look for \"subplots_demo\" or \"shared_axis_demo\" in the gallery."
   ]
  },
  {
   "cell_type": "code",
   "execution_count": null,
   "id": "6272dfeb",
   "metadata": {},
   "outputs": [],
   "source": []
  },
  {
   "cell_type": "markdown",
   "id": "66ffb41b",
   "metadata": {},
   "source": [
    "## Exercise 7: Practice Debugging"
   ]
  },
  {
   "cell_type": "markdown",
   "id": "2f7b11bc",
   "metadata": {},
   "source": [
    "Type these statements into your python interpreter. Figure out why some statements fail and correct the errors.\n",
    "\n",
    "    1a = 3\n",
    "    a1 = b\n",
    "    x = 4\n",
    "    y = X + 4    # is it 8?\n",
    "    12 = 12    # is it True?\n",
    "    4/5 == 4.0/5.0   # is it True?\n",
    "    10/2 == 10/2.   # is it True?\n",
    "    a = np.sqrt(np.cos(np.pi/4))) "
   ]
  },
  {
   "cell_type": "code",
   "execution_count": null,
   "id": "229f6d13",
   "metadata": {},
   "outputs": [],
   "source": []
  },
  {
   "cell_type": "markdown",
   "id": "223262de",
   "metadata": {},
   "source": [
    "## You're done!\n",
    "\n",
    "Congratulations, you've finished this week's workshop! You're welcome to leave early or get started on this week's homework."
   ]
  }
 ],
 "metadata": {
  "kernelspec": {
   "display_name": "Python 3 (ipykernel)",
   "language": "python",
   "name": "python3"
  },
  "language_info": {
   "codemirror_mode": {
    "name": "ipython",
    "version": 3
   },
   "file_extension": ".py",
   "mimetype": "text/x-python",
   "name": "python",
   "nbconvert_exporter": "python",
   "pygments_lexer": "ipython3",
   "version": "3.9.13"
  }
 },
 "nbformat": 4,
 "nbformat_minor": 5
}
