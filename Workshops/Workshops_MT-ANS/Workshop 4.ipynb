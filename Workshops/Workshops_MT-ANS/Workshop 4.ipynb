{
 "cells": [
  {
   "cell_type": "markdown",
   "id": "cbd042de",
   "metadata": {},
   "source": [
    "# Workshop 4: Python Statistics"
   ]
  },
  {
   "cell_type": "markdown",
   "id": "3e85d24f",
   "metadata": {},
   "source": [
    "## Exercise 1: What do you Mean?"
   ]
  },
  {
   "cell_type": "markdown",
   "id": "c9db684c",
   "metadata": {},
   "source": [
    "Create an array of 1000 random numbers with a Poisonnian distribution. Plot a histogram of your results. Then, calculate the mean and standard deviation of your distribution using both the built in python functions and with the known formulas for these values. Do your calculations match?"
   ]
  },
  {
   "cell_type": "code",
   "execution_count": null,
   "id": "ee2ff65d",
   "metadata": {},
   "outputs": [],
   "source": []
  },
  {
   "cell_type": "markdown",
   "id": "90022e1e",
   "metadata": {},
   "source": [
    "## Exercise 2: Elemental Uncertainty"
   ]
  },
  {
   "cell_type": "markdown",
   "id": "d163bc3d",
   "metadata": {},
   "source": [
    "Pick 5 elements on the periodic table that have known isotopes (ex. Hydrogen has Deuterium, Carbon has Carbon 14, etc.). List the isotopes, along with their atomic mass, for each of your chosen elements. Then, create a scatterplot of atomic mass vs atomic number for your chosen elements, with error bars as determined by the variance of atomic masses that appear in the isotopes. Be sure to properly label your plot."
   ]
  },
  {
   "cell_type": "code",
   "execution_count": null,
   "id": "7dfc817a",
   "metadata": {},
   "outputs": [],
   "source": []
  },
  {
   "cell_type": "markdown",
   "id": "dd020dba",
   "metadata": {},
   "source": [
    "## Exercise 3: Polynomial Fitting"
   ]
  },
  {
   "cell_type": "markdown",
   "id": "a183112e",
   "metadata": {},
   "source": [
    "The code in the cell immediately below will generate some data and store it an array of size `(500,3)` where the first column is $x$ values, the second column is the $y$ values, the third column is the uncertainty in each value. Use the techniques above to a quadratic model of the form\n",
    "$$y = a_0 + a_1 x + a_2 x^2$$\n",
    "\n",
    "Plot the data and your best fit curve with error and print out the values and their uncertainties"
   ]
  },
  {
   "cell_type": "code",
   "execution_count": null,
   "id": "ac82eb9a",
   "metadata": {},
   "outputs": [],
   "source": [
    "# Generate artificial data for Exercise 6 and plot it\n",
    "\n",
    "import numpy as np\n",
    "import matplotlib.pyplot as plt\n",
    "import scipy.optimize as fitter\n",
    "%matplotlib inline\n",
    "\n",
    "# Generate artificial data = quadratic function with a0 = 0, a1=1, a2 = -0.3\n",
    "# plus some noise.\n",
    "a0 = 0.5\n",
    "a1 = 1\n",
    "a2 = -0.3\n",
    "sig = 0.4\n",
    "Npoints = 10\n",
    "\n",
    "xdata = np.arange(0,Npoints,1.)\n",
    "ydata = a0 + a1 * xdata + a2 * xdata **2 + sig * np.random.standard_normal(size=Npoints)\n",
    "sigma = np.ones(Npoints)*sig\n",
    "plt.scatter(xdata,ydata,color='b')\n",
    "plt.errorbar(xdata,ydata, sigma, color='r',ls='none')\n",
    "plt.xlim(-1,Npoints)\n",
    "plt.show()"
   ]
  },
  {
   "cell_type": "code",
   "execution_count": null,
   "id": "d35b5cbc",
   "metadata": {},
   "outputs": [],
   "source": []
  },
  {
   "cell_type": "markdown",
   "id": "62faf169",
   "metadata": {},
   "source": [
    "## Exercise 4: Normal Distributions"
   ]
  },
  {
   "cell_type": "markdown",
   "id": "d3cb9973",
   "metadata": {},
   "source": [
    "1. Generate $N=100$ random numbers, Gaussian-distributed with $\\mu=0$ and $\\sigma=1$. \n",
    "1. Plot them in a histogram. \n",
    "1. Compute mean, standard deviation, and the error on the mean. Error on the Mean = $\\frac{\\sigma}{\\sqrt{N}}$\n",
    "1. Compute the median of this distribution\n",
    "1. Now find the means, standard deviations, and errors on the means for each of the $M=1000$ experiments of $N=100$ measurements each. Plot a histogram of the means. Is it consistent with your calculation of the error on the mean for $N=100$ ? About how many experiments yield a result within $1\\sigma$ of the true mean of 0 ? About how many are within $2\\sigma$ ? Is this what you expected?\n",
    "1. Now repeat question 4 for $N=10,50,1000,10000$. Plot a graph of the standard deviation of the distribution of the means vs $N$."
   ]
  },
  {
   "cell_type": "code",
   "execution_count": null,
   "id": "7388fa33",
   "metadata": {},
   "outputs": [],
   "source": []
  },
  {
   "cell_type": "markdown",
   "id": "884a2aac",
   "metadata": {},
   "source": [
    "## Exercise 5: Binomial Distribution"
   ]
  },
  {
   "cell_type": "markdown",
   "id": "dfc8cb10",
   "metadata": {},
   "source": [
    "The binomial distribution with parameters $n$ and $p$ is the *discrete* probability distribution of the number of successes in a sequence of $n$ independent yes/no experiments, each of which yields success with probability $p$. A typical example is a distribution of the number of *heads* for $n$ coin flips ($p=0.5$) \n",
    "\n",
    "The function `np.random.binomial(n,p)` requires two arguments, `n` the number of events in a single trial and `p` the probability of the desired outcome. `size` is another optional keyword argument.\n",
    "1. Generate an array of outcomes for flipping 1 unbiased coin 10 times.\n",
    "1. Plot the outcomes in a histogram (0=heads, 1=tails). \n",
    "1. Compute mean, standard deviation, and the error on the mean. Is this what you expected?"
   ]
  },
  {
   "cell_type": "code",
   "execution_count": null,
   "id": "163d0428",
   "metadata": {},
   "outputs": [],
   "source": []
  },
  {
   "cell_type": "markdown",
   "id": "c9591364",
   "metadata": {},
   "source": [
    "## Exercise 6: Root Finding"
   ]
  },
  {
   "cell_type": "markdown",
   "id": "2bf7fbf2",
   "metadata": {},
   "source": [
    "Consider a sixth-order polynomial: \n",
    "\n",
    "$f(x) = 924 x^6 - 2772 x^5 + 3150 x^4 - 1680 x^3 + 420 x^2 - 42 x + 1$\n",
    "\n",
    "There is no general formula for the roots of a polynomial of degree 6, but you can compute the roots numerically.\n",
    "\n",
    "Make a plot of  from  to  and by inspecting it find rough values for the six roots of the polynomial.\n",
    "Write the code to solve for the positions of all six roots to at least ten decimal places using at least one of the methods dsicussed in class. (you can/should use the built-in functions).\n",
    "Hint: I would recommend using fsolve in the scipy library"
   ]
  },
  {
   "cell_type": "code",
   "execution_count": null,
   "id": "1618c86c",
   "metadata": {},
   "outputs": [],
   "source": []
  },
  {
   "cell_type": "markdown",
   "id": "e8ecf0fe",
   "metadata": {},
   "source": [
    "## Exercise 7: Optical Pumping"
   ]
  },
  {
   "cell_type": "markdown",
   "id": "a157d0ae",
   "metadata": {},
   "source": [
    "One of the experiments in the Physics 111B lab is the study of the optical pumping of atomic rubidium. In that experiment, we measure the resonant frequency of a Zeeman transition as a function of the applied current (local magnetic field). Consider a mock data set:\n",
    "<table border=\"1\" align=\"center\">\n",
    "\n",
    "<tr>\n",
    "<td>Current <i>I</i> (Amps)\n",
    "</td><td>0.0 </td><td> 0.2 </td><td> 0.4 </td><td> 0.6 </td><td> 0.8 </td><td> 1.0 </td><td> 1.2 </td><td> 1.4 </td><td> 1.6 </td><td> 1.8 </td><td> 2.0 </td><td> 2.2\n",
    "</td></tr>\n",
    "<tr>\n",
    "<td>Frequency <i>f</i> (MHz)\n",
    "</td><td> 0.14 </td><td> 0.60 </td><td> 1.21 </td><td> 1.94 </td><td> 2.47 </td><td> 3.07 </td><td> 3.83 </td><td> 4.16 </td><td> 4.68 </td><td> 5.60 </td><td> 6.31 </td><td> 6.78\n",
    "</td></tr></table>\n",
    "\n",
    "1. Plot a graph of the pairs of values. Assuming a linear relationship between $I$ and $f$, determine the slope and the intercept of the best-fit line and draw the best-fit line through the data points in the graph.\n",
    "1. From what they know about the equipment used to measure the resonant frequency, your lab partner hastily estimates the uncertainty in the measurement of $f$ to be $\\sigma(f) = 0.01$ MHz. Estimate the probability that the straight line you found is an adequate description of the observed data if it is distributed with the uncertainty guessed by your lab partner. (Hint: use scipy.stats.chi2 class to compute the quantile of the chi2 distribution).  What can you conclude from these results? \n",
    "1. Repeat the analysis assuming your partner estimated the uncertainty to be $\\sigma(f) = 1$ MHz. What can you conclude from these results?\n",
    "1. Assume that the best-fit line found in Part 1 is a good fit to the data. Estimate the uncertainty in measurement of $y$ from the scatter of the observed data about this line. Again, assume that all the data points have equal weight. Use this to estimate the uncertainty in both the slope and the intercept of the best-fit line. This is the technique you will use in the Optical Pumping lab to determine the uncertainties in the fit parameters.\n",
    "1. Now assume that the uncertainty in each value of $f$ grows with $f$: $\\sigma(f) = 0.03 + 0.03 * f$ (MHz). Determine the slope and the intercept of the best-fit line using the least-squares method with unequal weights (weighted least-squares fit)\n"
   ]
  },
  {
   "cell_type": "code",
   "execution_count": null,
   "id": "539fad25",
   "metadata": {},
   "outputs": [],
   "source": []
  }
 ],
 "metadata": {
  "kernelspec": {
   "display_name": "Python 3 (ipykernel)",
   "language": "python",
   "name": "python3"
  },
  "language_info": {
   "codemirror_mode": {
    "name": "ipython",
    "version": 3
   },
   "file_extension": ".py",
   "mimetype": "text/x-python",
   "name": "python",
   "nbconvert_exporter": "python",
   "pygments_lexer": "ipython3",
   "version": "3.9.13"
  }
 },
 "nbformat": 4,
 "nbformat_minor": 5
}
