{
 "cells": [
  {
   "cell_type": "markdown",
   "id": "53fd94b8",
   "metadata": {},
   "source": [
    "# Workshop 2: Functions and Loops"
   ]
  },
  {
   "cell_type": "markdown",
   "id": "e8d4adcb",
   "metadata": {},
   "source": [
    "## Exercise 1: What's Your Function?"
   ]
  },
  {
   "cell_type": "markdown",
   "id": "599a5503",
   "metadata": {},
   "source": [
    "Take your favorite equation and turn it into a python function (make sure you have at least one dependent and one independent variable)."
   ]
  },
  {
   "cell_type": "code",
   "execution_count": null,
   "id": "21fb8612",
   "metadata": {},
   "outputs": [],
   "source": []
  },
  {
   "cell_type": "markdown",
   "id": "b341438e",
   "metadata": {},
   "source": [
    "## Exercise 2: For What?"
   ]
  },
  {
   "cell_type": "markdown",
   "id": "98586d63",
   "metadata": {},
   "source": [
    "Use a for loop to reverse the string `'!ymonortsA'` and print the result."
   ]
  },
  {
   "cell_type": "code",
   "execution_count": null,
   "id": "b138b83c",
   "metadata": {},
   "outputs": [],
   "source": []
  },
  {
   "cell_type": "markdown",
   "id": "0eca9494",
   "metadata": {},
   "source": [
    "## Exercise 3: Looped Factors"
   ]
  },
  {
   "cell_type": "markdown",
   "id": "531ddd74",
   "metadata": {},
   "source": [
    "Write a program to make a list those multiples of 7 which are divisible by 6, between 1500 and 2700 (both included). Print this list."
   ]
  },
  {
   "cell_type": "code",
   "execution_count": null,
   "id": "f8af574e",
   "metadata": {},
   "outputs": [],
   "source": []
  },
  {
   "cell_type": "markdown",
   "id": "26e4ce19",
   "metadata": {},
   "source": [
    "## Exercise 4: Factorial Functionality"
   ]
  },
  {
   "cell_type": "markdown",
   "id": "f59f5d9d",
   "metadata": {},
   "source": [
    "Write a function to calculate the factorial of an input number (without using any pre-made python functions)."
   ]
  },
  {
   "cell_type": "code",
   "execution_count": null,
   "id": "d8556dc7",
   "metadata": {},
   "outputs": [],
   "source": []
  },
  {
   "cell_type": "markdown",
   "id": "ba56468b",
   "metadata": {},
   "source": [
    "## Exercise 5: The Fibonacci Sequence"
   ]
  },
  {
   "cell_type": "markdown",
   "id": "6e3d8b89",
   "metadata": {},
   "source": [
    "The Fibonacci sequence is a sequence of integers defined by the following recursion relation. The $n$-th integer $a_n$ is defined in terms of previous integers of the sequence as\n",
    "\n",
    "$$a_n = a_{n-1} + a_{n-2}$$\n",
    "\n",
    "and $a_0 = 0$ and $a_1 = 1$. So the first few numbers are 0, 1, 1, 2, 3, 5, 8, 13, 21, .... Write a program to print the Fibonacci series from 0 to 100."
   ]
  },
  {
   "cell_type": "code",
   "execution_count": null,
   "id": "a0dd2157",
   "metadata": {},
   "outputs": [],
   "source": []
  },
  {
   "cell_type": "markdown",
   "id": "a5685181",
   "metadata": {},
   "source": [
    "## Exercise 6: Prime Ribs"
   ]
  },
  {
   "cell_type": "markdown",
   "id": "e93eefd2",
   "metadata": {},
   "source": [
    "Write a function which returns a bool value True or False decided by whether or not the input value is a prime number."
   ]
  },
  {
   "cell_type": "code",
   "execution_count": null,
   "id": "42d8ffaf",
   "metadata": {},
   "outputs": [],
   "source": []
  },
  {
   "cell_type": "markdown",
   "id": "8d3c0aeb",
   "metadata": {},
   "source": [
    "## Exercise 7: Escape Velocity"
   ]
  },
  {
   "cell_type": "markdown",
   "id": "002373bd",
   "metadata": {},
   "source": [
    "$$ V_{esc} = \\left( \\frac{2 G M}{R} \\right)^{1/2} $$"
   ]
  },
  {
   "cell_type": "markdown",
   "id": "05968bb2",
   "metadata": {},
   "source": [
    "6a) The formula for escape velocity is given above. In the cell below, create three different lists; one listing the names of each planet in the solar system, one listing their respective masses in kilograms, and one listing their radii in meters. Then, write the formula given above as a python function and use loops to calculate the escape velocity for each planet. "
   ]
  },
  {
   "cell_type": "code",
   "execution_count": null,
   "id": "6e3e9ff2",
   "metadata": {},
   "outputs": [],
   "source": []
  },
  {
   "cell_type": "markdown",
   "id": "5c0b7fbb",
   "metadata": {},
   "source": [
    "6b) Create 2 different scatter plots. In the first, use your code created in the last part to plot the relationship between mass and radius of the planets in the solar system. Then, in the second scatterplot, use the calculations you made in the previous part to plot escape velocity against both mass and radius in the same plot. Be sure to include a way for the reaser of your plot to differentiate the two. Be sure to properly label all of your plots."
   ]
  },
  {
   "cell_type": "code",
   "execution_count": null,
   "id": "f75bad25",
   "metadata": {},
   "outputs": [],
   "source": []
  },
  {
   "cell_type": "markdown",
   "id": "0ef5c73e",
   "metadata": {},
   "source": [
    "## Exercise 8: Particle in a Box"
   ]
  },
  {
   "cell_type": "markdown",
   "id": "f9ed9521",
   "metadata": {},
   "source": [
    "The energy levels for a quantum particle in a three-dimensional rectangular box of dimensions $\\{L_1, L_2, \\text{ and } L_3\\}$ are given by\n",
    "\n",
    "$$ E_{n_1, n_2, n_3} = \\frac{\\hbar^2 \\pi^2}{2m} \\left[ \\frac{n_1^2}{L_1^2} + \\frac{n_2^2}{L_2^2} + \\frac{n_3^2}{L_3^2} \\right] $$\n",
    "\n",
    "where the $n$'s are integers greater than or equal to one. Your goal is to write a program that will calculate, and list in order of increasing energy, the values of the $n$'s for the 10 lowest *different* energy levels, given a box for which $L_2 = 2L_1$ and $L_3 = 4L_1$.\n",
    "\n",
    "Your program should include two user-defined functions:\n",
    "\n",
    "1. A function `energy(n1, n2, n3)` that takes integer values $n_1$, $n_2$, and $n_3$, and computes the corresponding energy level in units of $\\hbar^2 \\pi^2/2 m L_1^2$.\n",
    "\n",
    "1. A function `lowest_unique_K(K, List)` which takes a positive integer $K$ and a list of real numbers `List`, and returns an ordered (ascending) list of the lowest $K$ unique numbers in the list `List`. For instance, `lowest_unique_K(3, [-0.5, 3, 3, 2, 6, 7, 7])` would return `[-0.5, 2, 3]`. The function should not modify the original list `List`.\n",
    "    \n",
    "You may also wish to make other user-defined functions depending on how you go about solving the problem. In fact, if you find some clever way to solve the problem that doesn't use `lowest_unique_K`, that is fine too! (You still need to write `lowest_unique_K`, though.) But whatever you do, be sure to comment your code clearly!\n",
    "\n",
    "#### Output\n",
    "\n",
    "Your final output should look like this (though with different numbers, and not necessarily the same number of lines):\n",
    "\n",
    "    energy, n1, n2, n3\n",
    "    (0.4375, 1, 1, 1)\n",
    "    (0.625, 1, 2, 1)\n",
    "    (0.8125, 2, 1, 1)\n",
    "    (0.9375, 1, 3, 1)\n",
    "    (1.0, 2, 2, 1)\n",
    "    (1.1875, 1, 1, 2)\n",
    "    (1.3125, 2, 3, 1)\n",
    "    (1.375, 1, 2, 2)\n",
    "    (1.375, 1, 4, 1)\n",
    "    (1.4375, 3, 1, 1)\n",
    "    (1.5625, 2, 1, 2)\n",
    "\n",
    "Notice how there are only 10 unique energies listed, but more than 10 lines."
   ]
  },
  {
   "cell_type": "code",
   "execution_count": null,
   "id": "fcd1d8fb",
   "metadata": {},
   "outputs": [],
   "source": []
  }
 ],
 "metadata": {
  "kernelspec": {
   "display_name": "Python 3 (ipykernel)",
   "language": "python",
   "name": "python3"
  },
  "language_info": {
   "codemirror_mode": {
    "name": "ipython",
    "version": 3
   },
   "file_extension": ".py",
   "mimetype": "text/x-python",
   "name": "python",
   "nbconvert_exporter": "python",
   "pygments_lexer": "ipython3",
   "version": "3.9.13"
  }
 },
 "nbformat": 4,
 "nbformat_minor": 5
}
