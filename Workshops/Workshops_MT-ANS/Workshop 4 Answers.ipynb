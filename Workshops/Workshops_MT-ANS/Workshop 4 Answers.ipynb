{
 "cells": [
  {
   "cell_type": "markdown",
   "id": "cbd042de",
   "metadata": {},
   "source": [
    "# Workshop 4: Python Statistics"
   ]
  },
  {
   "cell_type": "code",
   "execution_count": 1,
   "id": "01bc101d",
   "metadata": {},
   "outputs": [],
   "source": [
    "import numpy as np\n",
    "import matplotlib.pyplot as plt"
   ]
  },
  {
   "cell_type": "markdown",
   "id": "3e85d24f",
   "metadata": {},
   "source": [
    "## Exercise 1: What do you Mean?"
   ]
  },
  {
   "cell_type": "markdown",
   "id": "c9db684c",
   "metadata": {},
   "source": [
    "Create an array of 1000 random numbers with a Poisonnian distribution. Plot a histogram of your results. Then, calculate the mean and standard deviation of your distribution using both the built in python functions and with the known formulas for these values. Do your calculations match?"
   ]
  },
  {
   "cell_type": "code",
   "execution_count": 6,
   "id": "ee2ff65d",
   "metadata": {},
   "outputs": [
    {
     "name": "stdout",
     "output_type": "stream",
     "text": [
      "Numpy Mean: 5.163\n",
      "Numpy Std: 2.2339272593350037\n",
      "Mean: 5.163\n",
      "Std: 31.622776601683793\n"
     ]
    },
    {
     "data": {
      "image/png": "[encoded data removed]",
      "text/plain": [
       "<Figure size 432x288 with 1 Axes>"
      ]
     },
     "metadata": {
      "needs_background": "light"
     },
     "output_type": "display_data"
    }
   ],
   "source": [
    "x = np.random.poisson(5, 1000)\n",
    "N = 1000\n",
    "mean_np = np.mean(x)\n",
    "std_np = np.std(x)\n",
    "\n",
    "mean = np.sum(x)/N\n",
    "std = np.sqrt(1000)\n",
    "\n",
    "plt.hist(x, 50)\n",
    "plt.xlabel('Data')\n",
    "\n",
    "print('Numpy Mean:', mean_np)\n",
    "print('Numpy Std:', std_np)\n",
    "print('Mean:', mean)\n",
    "print('Std:', std)"
   ]
  },
  {
   "cell_type": "markdown",
   "id": "90022e1e",
   "metadata": {},
   "source": [
    "## Exercise 2: Elemental Uncertainty"
   ]
  },
  {
   "cell_type": "markdown",
   "id": "d163bc3d",
   "metadata": {},
   "source": [
    "Pick 5 elements on the periodic table that have known isotopes (ex. Hydrogen has Deuterium, Carbon has Carbon 14, etc.). List the isotopes, along with their atomic mass, for each of your chosen elements. Then, create a scatterplot of atomic mass vs atomic number for your chosen elements, with error bars as determined by the variance of atomic masses that appear in the isotopes. Be sure to properly label your plot."
   ]
  },
  {
   "cell_type": "code",
   "execution_count": 4,
   "id": "7dfc817a",
   "metadata": {},
   "outputs": [
    {
     "data": {
      "text/plain": [
       "Text(0, 0.5, 'Atomic Mass')"
      ]
     },
     "execution_count": 4,
     "metadata": {},
     "output_type": "execute_result"
    },
    {
     "data": {
      "image/png": "[encoded data removed]",
      "text/plain": [
       "<Figure size 432x288 with 1 Axes>"
      ]
     },
     "metadata": {
      "needs_background": "light"
     },
     "output_type": "display_data"
    }
   ],
   "source": [
    "O = [16, 17, 18]\n",
    "C = [12, 13, 14]\n",
    "S = [32, 33, 34, 36]\n",
    "Ca = [40, 42, 43, 44, 46]\n",
    "K = [39, 41]\n",
    "\n",
    "mass = [np.mean(O), np.mean(C), np.mean(S), np.mean(Ca), np.mean(K)]\n",
    "sig = [np.std(O), np.std(C), np.std(S), np.std(Ca), np.std(K)]\n",
    "num = [8, 6, 16, 20, 19]\n",
    "\n",
    "plt.errorbar(num, mass, xerr=0, yerr=sig, fmt ='bo')\n",
    "plt.xlabel('Atomic Number')\n",
    "plt.ylabel('Atomic Mass')"
   ]
  },
  {
   "cell_type": "markdown",
   "id": "dd020dba",
   "metadata": {},
   "source": [
    "## Exercise 3: Polynomial Fitting"
   ]
  },
  {
   "cell_type": "markdown",
   "id": "a183112e",
   "metadata": {},
   "source": [
    "The code in the cell immediately below will generate some data and store it an array of size `(500,3)` where the first column is $x$ values, the second column is the $y$ values, the third column is the uncertainty in each value. Use the techniques above to a quadratic model of the form\n",
    "$$y = a_0 + a_1 x + a_2 x^2$$\n",
    "\n",
    "Plot the data and your best fit curve with error and print out the values and their uncertainties"
   ]
  },
  {
   "cell_type": "code",
   "execution_count": 13,
   "id": "ac82eb9a",
   "metadata": {},
   "outputs": [
    {
     "data": {
      "image/png": "[encoded data removed]",
      "text/plain": [
       "<Figure size 432x288 with 1 Axes>"
      ]
     },
     "metadata": {
      "needs_background": "light"
     },
     "output_type": "display_data"
    }
   ],
   "source": [
    "# Generate artificial data for Exercise 6 and plot it\n",
    "import numpy as np\n",
    "import matplotlib.pyplot as plt\n",
    "import scipy.optimize as fitter\n",
    "%matplotlib inline\n",
    "\n",
    "# Generate artificial data = quadratic function with a0 = 0, a1=1, a2 = -0.3\n",
    "# plus some noise.\n",
    "a0 = 0.5\n",
    "a1 = 1\n",
    "a2 = -0.3\n",
    "sig = 0.4\n",
    "Npoints = 10\n",
    "\n",
    "xdata = np.arange(0,Npoints,1.)\n",
    "ydata = a0 + a1 * xdata + a2 * xdata **2 + sig * np.random.standard_normal(size=Npoints)\n",
    "sigma = np.ones(Npoints)*sig\n",
    "plt.scatter(xdata,ydata,color='b')\n",
    "plt.errorbar(xdata,ydata, sigma, color='r',ls='none')\n",
    "plt.xlim(-1,Npoints)\n",
    "plt.show()"
   ]
  },
  {
   "cell_type": "code",
   "execution_count": 15,
   "id": "d35b5cbc",
   "metadata": {},
   "outputs": [
    {
     "name": "stdout",
     "output_type": "stream",
     "text": [
      "a0= 0.256+/-0.314\n",
      "a1=-0.300+/-0.163\n",
      "a2=-0.321+/-0.017\n",
      "chi^2 =  7.69\n",
      "chi^2/d.f.= 1.10\n"
     ]
    },
    {
     "data": {
      "image/png": "[encoded data removed]",
      "text/plain": [
       "<Figure size 432x288 with 1 Axes>"
      ]
     },
     "metadata": {
      "needs_background": "light"
     },
     "output_type": "display_data"
    }
   ],
   "source": [
    "def model(x, a0, a1, a2):\n",
    "    return a0 + a1*x + a2*(x**2)\n",
    "\n",
    "\n",
    "par0    = np.array([0.5, -0.3, 0.2]) # initial guess for parameters\n",
    "par, cov = fitter.curve_fit(model, xdata, ydata, par0, sigma, absolute_sigma=True)\n",
    "\n",
    "#find coefficient values\n",
    "a0 = par[0]\n",
    "ea0 = np.sqrt(cov[0,0])\n",
    "print('a0={0:6.3f}+/-{1:5.3f}'.format(a0,ea0))\n",
    "a1 = par[1]\n",
    "ea1 = np.sqrt(cov[1,1])\n",
    "print('a1={0:6.3f}+/-{1:5.3f}'.format(a2,ea1))\n",
    "a2 = par[2]\n",
    "ea2 = np.sqrt(cov[2,2])\n",
    "print('a2={0:6.3f}+/-{1:5.3f}'.format(a2,ea2))\n",
    "\n",
    "\n",
    "# compute reduced chi2\n",
    "chi_squared = np.sum(((model(xdata, *par)-ydata)/sigma)**2)\n",
    "reduced_chi_squared = (chi_squared)/(len(xdata)-len(par))\n",
    "print ('chi^2 = {0:5.2f}'.format(chi_squared))\n",
    "print ('chi^2/d.f.={0:5.2f}'.format(reduced_chi_squared))\n",
    "\n",
    "# overlay plot over data\n",
    "plt.errorbar(xdata, ydata, xerr=0, yerr=sigma, fmt='o')\n",
    "plt.xlim(-1,Npoints)\n",
    "xfit = np.linspace(0,Npoints-1.,50)\n",
    "plt.plot(xfit,model(xfit,par[0],par[1],par[2]),'r-')\n",
    "plt.show()"
   ]
  },
  {
   "cell_type": "markdown",
   "id": "62faf169",
   "metadata": {},
   "source": [
    "## Exercise 4: Normal Distributions"
   ]
  },
  {
   "cell_type": "markdown",
   "id": "d3cb9973",
   "metadata": {},
   "source": [
    "1. Generate $N=100$ random numbers, Gaussian-distributed with $\\mu=0$ and $\\sigma=1$. \n",
    "1. Plot them in a histogram. \n",
    "1. Compute mean, standard deviation, and the error on the mean. Error on the Mean = $\\frac{\\sigma}{\\sqrt{N}}$\n",
    "1. Compute the median of this distribution\n",
    "1. Now find the means, standard deviations, and errors on the means for each of the $M=1000$ experiments of $N=100$ measurements each. Plot a histogram of the means. Is it consistent with your calculation of the error on the mean for $N=100$ ? About how many experiments yield a result within $1\\sigma$ of the true mean of 0 ? About how many are within $2\\sigma$ ? Is this what you expected?\n",
    "1. Now repeat question 5 for $N=10,50,1000,10000$. Plot a graph of the standard deviation of the distribution of the means vs $N$."
   ]
  },
  {
   "cell_type": "code",
   "execution_count": 5,
   "id": "7388fa33",
   "metadata": {},
   "outputs": [
    {
     "name": "stderr",
     "output_type": "stream",
     "text": [
      "/tmp/ipykernel_24/1489176751.py:12: DeprecationWarning: scipy.mean is deprecated and will be removed in SciPy 2.0.0, use numpy.mean instead\n",
      "  print('Mean = {0:5.2f}'.format(sp.mean(a)))\n",
      "/tmp/ipykernel_24/1489176751.py:18: DeprecationWarning: scipy.median is deprecated and will be removed in SciPy 2.0.0, use numpy.median instead\n",
      "  print ('Median = {0:5.2f}'.format(sp.median(a)))\n"
     ]
    },
    {
     "name": "stdout",
     "output_type": "stream",
     "text": [
      "Mean =  0.16\n",
      "Error on the Mean =  0.10\n",
      "Standard deviation = 1.049\n",
      "The mean is about zero and the standard deviation is about 1 which is what I expected\n",
      "Median =  0.14\n",
      "The Mean Given By 1000 trials of 100 measurements (0.36284) \n",
      " within the error on the mean for just 100 measurments (+/- 0.10493).\n",
      "The values found within one standard deviation (68.1%) and \n",
      " two standard deviations (95.4%) are roughly close to the expected values \n",
      "68% & 95%.\n",
      "Within one, two standard deviations for N=10: (68.7, 95.39999999999999)\n",
      "Within one, two standard deviations for N=50: (68.0, 95.0)\n",
      "Within one, two standard deviations for N=1000: (66.7, 95.89999999999999)\n",
      "Within one, two standard deviations for N=10000: (67.10000000000001, 95.39999999999999)\n",
      "As N increases the fractions get closer to the expected values.\n",
      "The plot of RMS vs N makes sense as more measurements should yield a smaller standard deviation.\n"
     ]
    },
    {
     "data": {
      "image/png": "[encoded data removed]",
      "text/plain": [
       "<Figure size 432x288 with 1 Axes>"
      ]
     },
     "metadata": {
      "needs_background": "light"
     },
     "output_type": "display_data"
    },
    {
     "data": {
      "image/png": "[encoded data removed]",
      "text/plain": [
       "<Figure size 432x288 with 1 Axes>"
      ]
     },
     "metadata": {
      "needs_background": "light"
     },
     "output_type": "display_data"
    },
    {
     "data": {
      "image/png": "[encoded data removed]",
      "text/plain": [
       "<Figure size 432x288 with 1 Axes>"
      ]
     },
     "metadata": {
      "needs_background": "light"
     },
     "output_type": "display_data"
    },
    {
     "data": {
      "image/png": "[encoded data removed]",
      "text/plain": [
       "<Figure size 432x288 with 1 Axes>"
      ]
     },
     "metadata": {
      "needs_background": "light"
     },
     "output_type": "display_data"
    },
    {
     "data": {
      "image/png": "[encoded data removed]",
      "text/plain": [
       "<Figure size 432x288 with 1 Axes>"
      ]
     },
     "metadata": {
      "needs_background": "light"
     },
     "output_type": "display_data"
    },
    {
     "data": {
      "image/png": "[encoded data removed]",
      "text/plain": [
       "<Figure size 432x288 with 1 Axes>"
      ]
     },
     "metadata": {
      "needs_background": "light"
     },
     "output_type": "display_data"
    },
    {
     "data": {
      "image/png": "[encoded data removed]",
      "text/plain": [
       "<Figure size 432x288 with 1 Axes>"
      ]
     },
     "metadata": {
      "needs_background": "light"
     },
     "output_type": "display_data"
    }
   ],
   "source": [
    "import scipy as sp\n",
    "#1 Generate Random Numbers\n",
    "a = np.random.standard_normal(size=100)\n",
    "\n",
    "#2 Plot Histogram\n",
    "plt.figure()\n",
    "n, bins, patches = plt.hist(a, 30)\n",
    "plt.title('100 Measurments')\n",
    "\n",
    "#3 Compute Mean, its error and standard deviation\n",
    "mean_error = np.std(a)/np.sqrt(100)\n",
    "print('Mean = {0:5.2f}'.format(sp.mean(a)))\n",
    "print('Error on the Mean = {0:5.2f}'.format(mean_error))\n",
    "print('Standard deviation = {0:5.3f}'.format(np.std(a)))\n",
    "print('The mean is about zero and the standard deviation is about 1 which is what I expected')\n",
    "\n",
    "#4 Compute Median\n",
    "print ('Median = {0:5.2f}'.format(sp.median(a)))\n",
    "\n",
    "#5 \n",
    "def stat(N): ##Define function for taking N measurements\n",
    "    b = np.random.standard_normal(size=N)\n",
    "    mn = np.mean(b)\n",
    "    sd = np.std(b)\n",
    "    mn_er = sd/np.sqrt(len(b))\n",
    "    return mn, sd, mn_er\n",
    "def exp(N,M): ##Define functions for doing M experiments of N measurements\n",
    "    Means = []\n",
    "    std = []\n",
    "    errors = []\n",
    "    for i in range(0,M):\n",
    "        n = stat(N)\n",
    "        Means.append(n[0])\n",
    "        std.append(n[1])\n",
    "        errors.append(n[2])\n",
    "    return Means, std, errors\n",
    "msr = exp(100, 1000)[0]\n",
    "\n",
    "plt.figure()\n",
    "n, bins, patches = plt.hist(msr, 10)\n",
    "plt.title('1000 Trials of 100 Experiments')\n",
    "\n",
    "total_mean = np.mean(exp(100, 1000))\n",
    "print('The Mean Given By 1000 trials of 100 measurements ({:.5f}) \\n within the error on the mean for just 100 measurments (+/- {:.5f}).'.format(total_mean, mean_error))\n",
    "\n",
    "##find values within 1 and 2 standard deviations\n",
    "sd = np.std(msr)\n",
    "mn = 0\n",
    "\n",
    "sp1, sm1 = mn + sd, mn - sd\n",
    "sp2, sm2 = mn + 2*sd, mn - 2*sd\n",
    "\n",
    "std1 = []\n",
    "for val in range(len(msr)):\n",
    "    if msr[val] >= sm1 and msr[val] <= sp1:\n",
    "        std1.append(msr[val])\n",
    "std2 = []\n",
    "for val in range(len(msr)):\n",
    "    if msr[val] >= sm2 and msr[val] <= sp2:\n",
    "        std2.append(msr[val])\n",
    "        \n",
    "frac1s = len(std1)/len(msr)\n",
    "frac2s = len(std2)/len(msr)\n",
    "\n",
    "print('The values found within one standard deviation ({:.1f}%) and \\n two standard deviations ({:.1f}%) are roughly close to the expected values \\n68% & 95%.'.format(frac1s*100, frac2s*100))\n",
    "\n",
    "#6 Vary N\n",
    "plt.figure()\n",
    "n, bins, patches = plt.hist(exp(10, 1000)[0], 20)\n",
    "plt.title('Distribution of Means for 1000 experiments of 10 measurements each')\n",
    "\n",
    "plt.figure()\n",
    "n, bins, patches = plt.hist(exp(50, 1000)[0], 20)\n",
    "plt.title('Distribution of Means for 1000 experiments of 50 measurements each')\n",
    "\n",
    "plt.figure()\n",
    "n, bins, patches = plt.hist(exp(1000, 1000)[0], 20)\n",
    "plt.title('Distribution of Means for 1000 experiments of 1000 measurements each')\n",
    "\n",
    "plt.figure()\n",
    "n, bins, patches = plt.hist(exp(10000, 1000)[0], 20)\n",
    "plt.title('Distribution of Means for 1000 experiments of 10,000 measurements each')\n",
    "\n",
    "\n",
    "\n",
    "\n",
    "def fraction(means): ##define function to find fraction of values within 1 and 2 standard deviations of 0 for varied N\n",
    "    mn = 0\n",
    "    sd = np.std(means)\n",
    "    sp1, sm1 = mn + sd, mn - sd\n",
    "    sp2, sm2 = mn + 2*sd, mn - 2*sd\n",
    "    std1 = []\n",
    "    for val in range(len(means)):\n",
    "        if means[val] >= sm1 and means[val] <= sp1:\n",
    "            std1.append(means[val])\n",
    "    std2 = []\n",
    "    for val in range(len(means)):\n",
    "        if means[val] >= sm2 and means[val] <= sp2:\n",
    "            std2.append(means[val])\n",
    "    frac1s = len(std1)/len(means)\n",
    "    frac2s = len(std2)/len(means)\n",
    "    return frac1s*100, frac2s*100\n",
    "\n",
    "print('Within one, two standard deviations for N=10:', fraction(exp(10, 1000)[0]))\n",
    "print('Within one, two standard deviations for N=50:', fraction(exp(50, 1000)[0]))\n",
    "print('Within one, two standard deviations for N=1000:', fraction(exp(1000, 1000)[0]))\n",
    "print('Within one, two standard deviations for N=10000:', fraction(exp(10000, 1000)[0]))\n",
    "print('As N increases the fractions get closer to the expected values.')\n",
    "\n",
    "#plot standard deviation VS N\n",
    "std10 = np.std(exp(10, 1000)[0])\n",
    "std50 = np.std(exp(50, 1000)[0])\n",
    "std100 = np.std(exp(100, 1000)[0])\n",
    "std1000 = np.std(exp(1000, 1000)[0])\n",
    "std10000 = np.std(exp(10000, 1000)[0])\n",
    "\n",
    "Std_values = [std10, std50, std100, std1000, std10000]\n",
    "Nvals = [10, 50, 100, 1000, 10000]\n",
    "\n",
    "plt.figure()\n",
    "plt.plot(Nvals, Std_values, 'b.-')\n",
    "plt.title('RMS of means vs Measurments Per Trial')\n",
    "print('The plot of RMS vs N makes sense as more measurements should yield a smaller standard deviation.')"
   ]
  },
  {
   "cell_type": "markdown",
   "id": "884a2aac",
   "metadata": {},
   "source": [
    "## Exercise 5: Binomial Distribution"
   ]
  },
  {
   "cell_type": "markdown",
   "id": "dfc8cb10",
   "metadata": {},
   "source": [
    "The binomial distribution with parameters $n$ and $p$ is the *discrete* probability distribution of the number of successes in a sequence of $n$ independent yes/no experiments, each of which yields success with probability $p$. A typical example is a distribution of the number of *heads* for $n$ coin flips ($p=0.5$) \n",
    "\n",
    "The function `np.random.binomial(n,p)` requires two arguments, `n` the number of events in a single trial and `p` the probability of the desired outcome. `size` is another optional keyword argument.\n",
    "1. Generate an array of outcomes for flipping 1 unbiased coin 10 times.\n",
    "1. Plot the outcomes in a histogram (0=heads, 1=tails). \n",
    "1. Compute mean, standard deviation, and the error on the mean. Is this what you expected?"
   ]
  },
  {
   "cell_type": "code",
   "execution_count": 7,
   "id": "163d0428",
   "metadata": {},
   "outputs": [
    {
     "name": "stdout",
     "output_type": "stream",
     "text": [
      "Mean =  0.60\n",
      "Error on the Mean =  0.15\n",
      "Standard deviation = 0.490\n",
      "The mean falls within .5 with its error so this is what should be expected\n"
     ]
    },
    {
     "name": "stderr",
     "output_type": "stream",
     "text": [
      "/tmp/ipykernel_24/2679561337.py:10: DeprecationWarning: scipy.mean is deprecated and will be removed in SciPy 2.0.0, use numpy.mean instead\n",
      "  print('Mean = {0:5.2f}'.format(sp.mean(x)))\n"
     ]
    },
    {
     "data": {
      "image/png": "[encoded data removed]",
      "text/plain": [
       "<Figure size 432x288 with 1 Axes>"
      ]
     },
     "metadata": {
      "needs_background": "light"
     },
     "output_type": "display_data"
    }
   ],
   "source": [
    "#1 generate array\n",
    "p = 0.5\n",
    "x = np.random.binomial(1,p, size=10)\n",
    "#2 Plot \n",
    "n, bins, patches = plt.hist(x, 2)\n",
    "plt.title('Heads and Tails Distribution')\n",
    "plt.xlabel('Heads on Right, Tails on Left')\n",
    "#3 calculate mean, its error, and standard deviation\n",
    "mean_error = np.std(x)/np.sqrt(10)\n",
    "print('Mean = {0:5.2f}'.format(sp.mean(x)))\n",
    "print('Error on the Mean = {0:5.2f}'.format(mean_error))\n",
    "print('Standard deviation = {0:5.3f}'.format(np.std(x)))\n",
    "print('The mean falls within .5 with its error so this is what should be expected')"
   ]
  },
  {
   "cell_type": "markdown",
   "id": "c9591364",
   "metadata": {},
   "source": [
    "## Exercise 6: Root Finding"
   ]
  },
  {
   "cell_type": "markdown",
   "id": "2bf7fbf2",
   "metadata": {},
   "source": [
    "Consider a sixth-order polynomial: \n",
    "\n",
    "$f(x) = 924 x^6 - 2772 x^5 + 3150 x^4 - 1680 x^3 + 420 x^2 - 42 x + 1$\n",
    "\n",
    "There is no general formula for the roots of a polynomial of degree 6, but you can compute the roots numerically.\n",
    "\n",
    "Make a plot of  from  to  and by inspecting it find rough values for the six roots of the polynomial.\n",
    "Write the code to solve for the positions of all six roots to at least ten decimal places using at least one of the methods dsicussed in class. (you can/should use the built-in functions).\n",
    "Hint: I would recommend using fsolve in the scipy library"
   ]
  },
  {
   "cell_type": "code",
   "execution_count": 20,
   "id": "1618c86c",
   "metadata": {},
   "outputs": [
    {
     "data": {
      "image/png": "[encoded data removed]",
      "text/plain": [
       "<Figure size 432x288 with 1 Axes>"
      ]
     },
     "metadata": {
      "needs_background": "light"
     },
     "output_type": "display_data"
    },
    {
     "name": "stdout",
     "output_type": "stream",
     "text": [
      "Roots are approximately: 0.05, 0.2, 0.4, 0.65, 0.85, 0.95. Just by examination\n",
      "of the graph intersecting the y-axis when y = 0.\n",
      "\n",
      "The values of the roots are: 0.0337652429, 0.1693953068,0.3806904070,\n",
      "0.6193095930,0.8306046932, 0.9662347571\n"
     ]
    }
   ],
   "source": [
    "from scipy.optimize import fsolve\n",
    "###Your Code Here###\n",
    "\n",
    "def P(x):\n",
    "    y = 924*x**6 - 2772*x**5 + 3150*x**4 - 1680*x**3 + 420*x**2 - 42*x + 1\n",
    "    return y\n",
    "\n",
    "\n",
    "x = np.linspace(0,1,1000)\n",
    "zer = np.zeros(1000)\n",
    "plt.figure()\n",
    "plt.title(\"6th Order Polynomial $P(x)$\")\n",
    "plt.xlabel(\"x-axis\")\n",
    "plt.ylabel(\"y-axis\")\n",
    "plt.plot(x,P(x),\"r-\",label=\"P(x)\")\n",
    "plt.plot(x,zer,\"k-\",label=\"y=0\")\n",
    "plt.show()\n",
    "print(\"\"\"Roots are approximately: 0.05, 0.2, 0.4, 0.65, 0.85, 0.95. Just by examination\n",
    "of the graph intersecting the y-axis when y = 0.\"\"\")\n",
    "#part 2\n",
    "\n",
    "roots = fsolve(P, [0.0,0.2,0.4,0.6,0.85,0.95])\n",
    "print(\"\"\"\\nThe values of the roots are: {0:1.10f}, {1:1.10f},{2:1.10f},\n",
    "{3:1.10f},{4:1.10f}, {5:1.10f}\"\"\".format(roots[0],roots[1],roots[2],roots[3],roots[4],roots[5]))"
   ]
  },
  {
   "cell_type": "markdown",
   "id": "e8ecf0fe",
   "metadata": {},
   "source": [
    "## Exercise 7: Optical Pumping"
   ]
  },
  {
   "cell_type": "markdown",
   "id": "a157d0ae",
   "metadata": {},
   "source": [
    "One of the experiments in the Physics 111B lab is the study of the optical pumping of atomic rubidium. In that experiment, we measure the resonant frequency of a Zeeman transition as a function of the applied current (local magnetic field). Consider a mock data set:\n",
    "<table border=\"1\" align=\"center\">\n",
    "\n",
    "<tr>\n",
    "<td>Current <i>I</i> (Amps)\n",
    "</td><td>0.0 </td><td> 0.2 </td><td> 0.4 </td><td> 0.6 </td><td> 0.8 </td><td> 1.0 </td><td> 1.2 </td><td> 1.4 </td><td> 1.6 </td><td> 1.8 </td><td> 2.0 </td><td> 2.2\n",
    "</td></tr>\n",
    "<tr>\n",
    "<td>Frequency <i>f</i> (MHz)\n",
    "</td><td> 0.14 </td><td> 0.60 </td><td> 1.21 </td><td> 1.94 </td><td> 2.47 </td><td> 3.07 </td><td> 3.83 </td><td> 4.16 </td><td> 4.68 </td><td> 5.60 </td><td> 6.31 </td><td> 6.78\n",
    "</td></tr></table>\n",
    "\n",
    "1. Plot a graph of the pairs of values. Assuming a linear relationship between $I$ and $f$, determine the slope and the intercept of the best-fit line and draw the best-fit line through the data points in the graph.\n",
    "1. From what they know about the equipment used to measure the resonant frequency, your lab partner hastily estimates the uncertainty in the measurement of $f$ to be $\\sigma(f) = 0.01$ MHz. Estimate the probability that the straight line you found is an adequate description of the observed data if it is distributed with the uncertainty guessed by your lab partner. (Hint: use scipy.stats.chi2 class to compute the quantile of the chi2 distribution).  What can you conclude from these results? \n",
    "1. Repeat the analysis assuming your partner estimated the uncertainty to be $\\sigma(f) = 1$ MHz. What can you conclude from these results?\n",
    "1. Assume that the best-fit line found in Part 1 is a good fit to the data. Estimate the uncertainty in measurement of $y$ from the scatter of the observed data about this line. Again, assume that all the data points have equal weight. Use this to estimate the uncertainty in both the slope and the intercept of the best-fit line. This is the technique you will use in the Optical Pumping lab to determine the uncertainties in the fit parameters.\n",
    "1. Now assume that the uncertainty in each value of $f$ grows with $f$: $\\sigma(f) = 0.03 + 0.03 * f$ (MHz). Determine the slope and the intercept of the best-fit line using the least-squares method with unequal weights (weighted least-squares fit)\n"
   ]
  },
  {
   "cell_type": "code",
   "execution_count": 21,
   "id": "539fad25",
   "metadata": {},
   "outputs": [
    {
     "name": "stdout",
     "output_type": "stream",
     "text": [
      "#1\n",
      "intercept= 0.040\n",
      "slope= 3.054\n"
     ]
    },
    {
     "data": {
      "image/png": "[encoded data removed]",
      "text/plain": [
       "<Figure size 432x288 with 1 Axes>"
      ]
     },
     "metadata": {
      "needs_background": "light"
     },
     "output_type": "display_data"
    },
    {
     "name": "stdout",
     "output_type": "stream",
     "text": [
      "#2\n",
      "chi2 =  1517.9918414918416  for  10 df\n",
      "p-value = 0.00\n",
      "Because the probability is zero, this is not the correct uncertainty\n",
      "#3\n",
      "chi2 =  0.15179918414918414  for  10 df\n",
      "p-value = 1.00\n",
      "Because the probability is one, this must be the correct uncertainty for this fit.\n",
      "#4\n",
      "Computed error For Each Point =  0.12\n",
      "intercept with errror= 0.040+/-0.067\n",
      "slope with error= 3.054+/-0.052\n",
      "\n",
      "#5\n"
     ]
    },
    {
     "data": {
      "image/png": "[encoded data removed]",
      "text/plain": [
       "<Figure size 432x288 with 1 Axes>"
      ]
     },
     "metadata": {
      "needs_background": "light"
     },
     "output_type": "display_data"
    },
    {
     "name": "stdout",
     "output_type": "stream",
     "text": [
      "intercept= 0.089+/-0.027\n",
      "slope= 2.991+/-0.046\n"
     ]
    }
   ],
   "source": [
    "import numpy as np\n",
    "import scipy as sp\n",
    "from scipy import stats\n",
    "import scipy.optimize as fitter\n",
    "import matplotlib.pyplot as plt\n",
    "%matplotlib inline\n",
    "\n",
    "#1\n",
    "print('#1')\n",
    "#load in data\n",
    "I = np.array([0, .2, .4, .6, .8, 1.0, 1.2, 1.4, 1.6, 1.8, 2.0, 2.2])\n",
    "F = np.array([.14, .60, 1.21, 1.94, 2.47, 3.07, 3.83, 4.16, 4.68, 5.60, 6.31, 6.78])\n",
    "\n",
    "#plot data\n",
    "plt.plot(I, F, 'ro')\n",
    "\n",
    "#create fitting model\n",
    "def model(x, a, b):\n",
    "    return a + b*x\n",
    "\n",
    "par0 = np.array([2.5, 0]) # initial guess for parameters\n",
    "par, cov = fitter.curve_fit(model, I, F, p0=par0)\n",
    "\n",
    "\n",
    "# decode parameters\n",
    "a = par[0]\n",
    "print('intercept={0:6.3f}'.format(a))\n",
    "b = par[1]\n",
    "print('slope={0:6.3f}'.format(b))\n",
    "\n",
    "\n",
    "# overlay plot over data\n",
    "plt.xlim(-.1,2.4)\n",
    "xfit = np.linspace(0,2.22,50)\n",
    "plt.plot(xfit,model(xfit,par[0],par[1]),'b-')\n",
    "plt.show()\n",
    "\n",
    "#2\n",
    "#create array of uncertainties\n",
    "sigma = np.array([.01, .01, .01, .01, .01, .01, .01, .01, .01, .01, .01, .01])\n",
    "#find chi-squared\n",
    "chi_squared = np.sum(((model(I, *par)-F)/sigma)**2)\n",
    "ndf = len(F)-2\n",
    "print('#2')\n",
    "print('chi2 = ',chi_squared,' for ',ndf, 'df')\n",
    "print('p-value = {0:4.2f}'.format(sp.stats.chi2.sf(chi_squared,ndf))) #calculates probability\n",
    "print('Because the probability is zero, this is not the correct uncertainty')\n",
    "\n",
    "#3\n",
    "#same as 2 with new uncertainty\n",
    "sigma1 = np.array([1, 1, 1, 1, 1, 1, 1, 1, 1, 1, 1, 1])\n",
    "chi_squared = np.sum(((model(I, *par)-F)/sigma1)**2)\n",
    "print('#3')\n",
    "print('chi2 = ',chi_squared,' for ',ndf, 'df')\n",
    "print('p-value = {0:4.2f}'.format(sp.stats.chi2.sf(chi_squared,ndf)))\n",
    "print('Because the probability is one, this must be the correct uncertainty for this fit.')\n",
    "\n",
    "\n",
    "#4\n",
    "sigCalc = np.sqrt(np.sum(((model(I, *par)-F))**2)/(len(I)-len(par))) #find uncertainty for each y-value\n",
    "print('#4')\n",
    "print ('Computed error For Each Point = {0:5.2f}'.format(sigCalc))\n",
    "#use uncertainties to compute error in parameters\n",
    "a_error = np.sqrt((sigCalc**2)*np.sum(I**2)/ (len(I)*np.sum(I**2) - (np.sum(I)**2)))\n",
    "b_error = np.sqrt((sigCalc**2)*len(I)/ (len(I)*np.sum(I**2) - (np.sum(I)**2)))\n",
    "print('intercept with errror={0:6.3f}+/-{1:5.3f}'.format(a,a_error))\n",
    "print('slope with error={0:6.3f}+/-{1:5.3f}'.format(b,b_error))\n",
    "print(\"\")\n",
    "\n",
    "#5\n",
    "print('#5')\n",
    "#create list with new sigma funciton\n",
    "sig = []\n",
    "for i in range(len(F)):\n",
    "    unc = .03 + .03*F[i]\n",
    "    sig.append(unc)\n",
    "\n",
    "par01 = np.array([2.5, 0]) # initial guess for parameters\n",
    "par1, cov1 = fitter.curve_fit(model, I, F, par01, sig, absolute_sigma=True)\n",
    "\n",
    "\n",
    "plt.figure()\n",
    "plt.errorbar(I, F, xerr=0, yerr=sig, fmt='mo')\n",
    "plt.xlim(-.1, 2.4)\n",
    "xfit = np.linspace(0,2.22,50)\n",
    "plt.plot(xfit,model(xfit,par1[0],par1[1]),'y-')\n",
    "plt.show()\n",
    "\n",
    "#find parameters and uncertainties\n",
    "c = par1[0]\n",
    "ec = np.sqrt(cov1[0,0])\n",
    "print('intercept={0:6.3f}+/-{1:5.3f}'.format(c,ec))\n",
    "d = par1[1]\n",
    "ed = np.sqrt(cov1[1,1])\n",
    "print('slope={0:6.3f}+/-{1:5.3f}'.format(d,ed))"
   ]
  },
  {
   "cell_type": "code",
   "execution_count": null,
   "id": "f0233391",
   "metadata": {},
   "outputs": [],
   "source": []
  }
 ],
 "metadata": {
  "kernelspec": {
   "display_name": "Python 3 (ipykernel)",
   "language": "python",
   "name": "python3"
  },
  "language_info": {
   "codemirror_mode": {
    "name": "ipython",
    "version": 3
   },
   "file_extension": ".py",
   "mimetype": "text/x-python",
   "name": "python",
   "nbconvert_exporter": "python",
   "pygments_lexer": "ipython3",
   "version": "3.9.13"
  }
 },
 "nbformat": 4,
 "nbformat_minor": 5
}
