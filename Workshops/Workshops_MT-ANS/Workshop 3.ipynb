{
 "cells": [
  {
   "cell_type": "markdown",
   "id": "46a09cc8",
   "metadata": {},
   "source": [
    "# Workshop 3: Data Analysis"
   ]
  },
  {
   "cell_type": "markdown",
   "id": "37e9657d",
   "metadata": {},
   "source": [
    "## Exercise 1: Illegal Imports"
   ]
  },
  {
   "cell_type": "markdown",
   "id": "9a1aa715",
   "metadata": {},
   "source": [
    "Import all the python packages that will be required through this workshop. Then, create your own pandas dataframe with at least two rows and three columns (I leave the contents up to you)"
   ]
  },
  {
   "cell_type": "code",
   "execution_count": null,
   "id": "6c57dbc6",
   "metadata": {},
   "outputs": [],
   "source": []
  },
  {
   "cell_type": "markdown",
   "id": "a1313c96",
   "metadata": {},
   "source": [
    "## Exercise 2: Data Framed"
   ]
  },
  {
   "cell_type": "markdown",
   "id": "b9f270aa",
   "metadata": {},
   "source": [
    "Sample 10 of your classmates for their favorite movies. Then create a Pandas dataframe where one column lists the classmates and the other lists their associated movie."
   ]
  },
  {
   "cell_type": "code",
   "execution_count": null,
   "id": "b2c97e11",
   "metadata": {},
   "outputs": [],
   "source": []
  },
  {
   "cell_type": "markdown",
   "id": "fa21c6f1",
   "metadata": {},
   "source": [
    "## Exercise 3: Population Control"
   ]
  },
  {
   "cell_type": "markdown",
   "id": "8ef71374",
   "metadata": {},
   "source": [
    "Import the nationData.csv file. Use that data to create a histogram of the population of the different South American nations. What is something about the population of the South American continent that you can learn from this plot?"
   ]
  },
  {
   "cell_type": "code",
   "execution_count": null,
   "id": "a2516f41",
   "metadata": {},
   "outputs": [],
   "source": []
  },
  {
   "cell_type": "markdown",
   "id": "4849219b",
   "metadata": {},
   "source": [
    "## Exercise 4: Campbell Hall Projectile Test"
   ]
  },
  {
   "cell_type": "markdown",
   "id": "e8a03e9a",
   "metadata": {},
   "source": [
    "Read in the file named \"projectile.csv\" into a Pandas dataframe. Print out your DataFrame. Then plot the data in a scatterplot of position vs time."
   ]
  },
  {
   "cell_type": "code",
   "execution_count": null,
   "id": "37639222",
   "metadata": {},
   "outputs": [],
   "source": []
  },
  {
   "cell_type": "markdown",
   "id": "1885a1b9",
   "metadata": {},
   "source": [
    "## Exercise 5: Stellar Nuclear Energy Generation"
   ]
  },
  {
   "cell_type": "markdown",
   "id": "6bbd8162",
   "metadata": {},
   "source": [
    "Import the isochrone.csv into a pandas dataframe. This data set lists the stellar properties of stars of different masses (measured relative to the mass of the sun). Plot the central temperature and density for each\n",
    "star as a function of initial mass for stars on the main-sequence. What do these plots tell you?"
   ]
  },
  {
   "cell_type": "code",
   "execution_count": null,
   "id": "be343efd",
   "metadata": {},
   "outputs": [],
   "source": []
  },
  {
   "cell_type": "markdown",
   "id": "800cf12a",
   "metadata": {},
   "source": [
    "## Exercise 6: Presidential Pandas"
   ]
  },
  {
   "cell_type": "markdown",
   "id": "c85ada7d",
   "metadata": {},
   "source": [
    "This week you were shown how python and pandas can be used to study and understand the behavior of voters in U.S. elections. Now, you are going to try to do a little of that yourself. \n",
    "1. Use pandas to load in the 1976-2020-presdient.csv file into a dataframe. Pick one state from the dataframe to study (just for my own curiosity also list why you picked your state). \n",
    "1. Create a plot showing the number of votes the Republican candiadate and Democratic candidate recieved in your state each year since 1976 (should be one plot with two lines on it properly labeled so it is easy to read). Your plot should also display the number of third party votes cast in each election (lumping all third parties into one group). \n",
    "1. Finally, create a histogram showing the number of times a certain party's candidate recieved the most votes in your state (again you can lump all the third parties together). What does your analysis tell you about the voting trends in your state? "
   ]
  },
  {
   "cell_type": "code",
   "execution_count": null,
   "id": "bebac4d8",
   "metadata": {},
   "outputs": [],
   "source": []
  }
 ],
 "metadata": {
  "kernelspec": {
   "display_name": "Python 3 (ipykernel)",
   "language": "python",
   "name": "python3"
  },
  "language_info": {
   "codemirror_mode": {
    "name": "ipython",
    "version": 3
   },
   "file_extension": ".py",
   "mimetype": "text/x-python",
   "name": "python",
   "nbconvert_exporter": "python",
   "pygments_lexer": "ipython3",
   "version": "3.9.13"
  }
 },
 "nbformat": 4,
 "nbformat_minor": 5
}
