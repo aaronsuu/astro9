{
 "cells": [
  {
   "cell_type": "markdown",
   "id": "53fd94b8",
   "metadata": {},
   "source": [
    "# Workshop 2: Functions and Loops"
   ]
  },
  {
   "cell_type": "code",
   "execution_count": 2,
   "id": "b06ff7a2",
   "metadata": {},
   "outputs": [],
   "source": [
    "import numpy as np\n",
    "import matplotlib.pyplot as plt"
   ]
  },
  {
   "cell_type": "markdown",
   "id": "e8d4adcb",
   "metadata": {},
   "source": [
    "## Exercise 1: What's Your Function?"
   ]
  },
  {
   "cell_type": "markdown",
   "id": "599a5503",
   "metadata": {},
   "source": [
    "Take your favorite equation and turn it into a python function (make sure you have at least one dependent and one independent variable)."
   ]
  },
  {
   "cell_type": "code",
   "execution_count": null,
   "id": "21fb8612",
   "metadata": {},
   "outputs": [],
   "source": [
    "#Luminosity of a star\n",
    "def Luminosity(A, T):\n",
    "    sigma = 5.670374e-8 #W/m^2K^4\n",
    "    # A = Area, T = temperature\n",
    "    L = sigma*A*T**4\n",
    "    \n",
    "    return L"
   ]
  },
  {
   "cell_type": "markdown",
   "id": "b341438e",
   "metadata": {},
   "source": [
    "## Exercise 2: For What?"
   ]
  },
  {
   "cell_type": "markdown",
   "id": "98586d63",
   "metadata": {},
   "source": [
    "Use a for loop to reverse the string `'!ymonortsA'` and print the result."
   ]
  },
  {
   "cell_type": "code",
   "execution_count": 1,
   "id": "b138b83c",
   "metadata": {},
   "outputs": [
    {
     "name": "stdout",
     "output_type": "stream",
     "text": [
      "Astronomy!"
     ]
    }
   ],
   "source": [
    "x = '!ymonortsA'\n",
    "for i in range(0,10):\n",
    "    y = x[9-i]\n",
    "    print(y, end='') ##end='' prints it all on one line"
   ]
  },
  {
   "cell_type": "markdown",
   "id": "0eca9494",
   "metadata": {},
   "source": [
    "## Exercise 3: Looped Factors"
   ]
  },
  {
   "cell_type": "markdown",
   "id": "531ddd74",
   "metadata": {},
   "source": [
    "Write a program to make a list those multiples of 7 which are divisible by 6, between 1500 and 2700 (both included). Print this list."
   ]
  },
  {
   "cell_type": "code",
   "execution_count": 4,
   "id": "f8af574e",
   "metadata": {},
   "outputs": [
    {
     "name": "stdout",
     "output_type": "stream",
     "text": [
      "1512\n",
      "1554\n",
      "1596\n",
      "1638\n",
      "1680\n",
      "1722\n",
      "1764\n",
      "1806\n",
      "1848\n",
      "1890\n",
      "1932\n",
      "1974\n",
      "2016\n",
      "2058\n",
      "2100\n",
      "2142\n",
      "2184\n",
      "2226\n",
      "2268\n",
      "2310\n",
      "2352\n",
      "2394\n",
      "2436\n",
      "2478\n",
      "2520\n",
      "2562\n",
      "2604\n",
      "2646\n",
      "2688\n"
     ]
    }
   ],
   "source": [
    "sum = 1470 #start loop at 1512\n",
    "while sum < 2700: #end loop before 2700\n",
    "    sum += 42 #multiples of 7 divisible by 6\n",
    "    if sum > 2700: #end loop before 2700\n",
    "        break\n",
    "    print(sum)"
   ]
  },
  {
   "cell_type": "markdown",
   "id": "69384713",
   "metadata": {},
   "source": [
    "## Exercise 4: Factorial Functionality"
   ]
  },
  {
   "cell_type": "markdown",
   "id": "607862a4",
   "metadata": {},
   "source": [
    "Write a function to calculate the factorial of an input number (without using any pre-made python functions)."
   ]
  },
  {
   "cell_type": "code",
   "execution_count": 11,
   "id": "a35cf0f5",
   "metadata": {},
   "outputs": [
    {
     "name": "stdout",
     "output_type": "stream",
     "text": [
      "6 24 120\n"
     ]
    }
   ],
   "source": [
    "def factorial(n):                # definition of the function\n",
    "    value = 1\n",
    "    for i in range(2,n+1):       # loop\n",
    "        value *= i               # increment factorial \n",
    "        \n",
    "    return value                 # return value\n",
    "\n",
    "print(factorial(3), factorial(4), factorial(5))"
   ]
  },
  {
   "cell_type": "markdown",
   "id": "ba56468b",
   "metadata": {},
   "source": [
    "## Exercise 5: The Fibonacci Sequence"
   ]
  },
  {
   "cell_type": "markdown",
   "id": "6e3d8b89",
   "metadata": {},
   "source": [
    "The Fibonacci sequence is a sequence of integers defined by the following recursion relation. The $n$-th integer $a_n$ is defined in terms of previous integers of the sequence as\n",
    "\n",
    "$$a_n = a_{n-1} + a_{n-2}$$\n",
    "\n",
    "and $a_0 = 0$ and $a_1 = 1$. So the first few numbers are 0, 1, 1, 2, 3, 5, 8, 13, 21, .... Write a program to print the Fibonacci series from 0 to 100."
   ]
  },
  {
   "cell_type": "code",
   "execution_count": 10,
   "id": "a0dd2157",
   "metadata": {},
   "outputs": [
    {
     "name": "stdout",
     "output_type": "stream",
     "text": [
      "[0, 1, 1, 2, 3, 5, 8, 13, 21, 34, 55, 89]\n"
     ]
    }
   ],
   "source": [
    "import numpy as np\n",
    "y = [j for j in range(0,12)]\n",
    "for i in y:\n",
    "    y[0]= 0\n",
    "    y[1]= 1\n",
    "    if i > 1:\n",
    "        y[i] = y[i-1]+y[i-2]\n",
    "\n",
    "print(y)"
   ]
  },
  {
   "cell_type": "markdown",
   "id": "a5685181",
   "metadata": {},
   "source": [
    "## Exercise 6: Prime Ribs"
   ]
  },
  {
   "cell_type": "markdown",
   "id": "e93eefd2",
   "metadata": {},
   "source": [
    "Write a function which returns a bool value True or False decided by whether or not the input value is a prime number."
   ]
  },
  {
   "cell_type": "code",
   "execution_count": 3,
   "id": "42d8ffaf",
   "metadata": {},
   "outputs": [
    {
     "name": "stdout",
     "output_type": "stream",
     "text": [
      "enter number:6\n",
      "False\n"
     ]
    }
   ],
   "source": [
    "n_in = int(input(\"enter number:\"))\n",
    "n = abs(n_in)\n",
    "\n",
    "def is_prime(n):\n",
    "    \"\"\" Determines if n is prime or not. Takes an integer n.\n",
    "    Returns True if n is prime, and False otherwise. \"\"\"\n",
    "    L =[]\n",
    "    for i in range (2, n-1):\n",
    "        L.append(n%i) #fills L with remainders of n divided by any number between 1 and n\n",
    "    if n == 0:\n",
    "        return False \n",
    "    elif 0 not in L: \n",
    "        return True\n",
    "    else: #if any number besides 1 and n has zero remainder it is not prime\n",
    "        return False\n",
    "print(is_prime(n))"
   ]
  },
  {
   "cell_type": "markdown",
   "id": "8d3c0aeb",
   "metadata": {},
   "source": [
    "## Exercise 7: Escape Velocity"
   ]
  },
  {
   "cell_type": "markdown",
   "id": "002373bd",
   "metadata": {},
   "source": [
    "$$ V_{esc} = \\left( \\frac{2 G M}{R} \\right)^{1/2} $$"
   ]
  },
  {
   "cell_type": "markdown",
   "id": "05968bb2",
   "metadata": {},
   "source": [
    "6a) The formula for escape velocity is given above. In the cell below, create three different lists; one listing the names of each planet in the solar system, one listing their respective masses in kilograms, and one listing their radii in meters. Then, write the formula given above as a python function and use loops to calculate the escape velocity for each planet. "
   ]
  },
  {
   "cell_type": "code",
   "execution_count": 4,
   "id": "6e3e9ff2",
   "metadata": {},
   "outputs": [
    {
     "name": "stdout",
     "output_type": "stream",
     "text": [
      "[23565.12688489 21375.23945876 36098.31761767 60209.05914769\n",
      "  5027.29978193 11187.47624801 10363.59863348  4250.34940319] m/s\n"
     ]
    }
   ],
   "source": [
    "planets = ['Mercury', 'Venus', 'Earth', 'Mars', 'Jupiter', 'Saturn', 'Uranus', 'Neptune']\n",
    "masses = [3.3022e23, 4.8695e24, 5.9736e24, 6.4185e23, 1.8986e27, 5.6846e26, 8.6810e25, 1.0243e26]\n",
    "radii = [2.44e6, 6.052e6, 6.371e6, 3.39e6, 6.9911e7, 5.8232e7, 2.5362e7, 2.4622e7]\n",
    "\n",
    "G = 6.6743e-11\n",
    "def esc_vel(M, R):\n",
    "    V = np.sqrt(2*G*M/R)\n",
    "    return V\n",
    "\n",
    "V_esc = []\n",
    "for i in range(len(masses)):\n",
    "    v = esc_vel(masses[i], radii[i])\n",
    "    V_esc = np.append(v, V_esc)\n",
    "\n",
    "print(V_esc, 'm/s')"
   ]
  },
  {
   "cell_type": "markdown",
   "id": "5c0b7fbb",
   "metadata": {},
   "source": [
    "6b) Create 2 different scatter plots. In the first, use your code created in the last part to plot the relationship between mass and radius of the planets in the solar system. Then, in the second scatterplot, use the calculations you made in the previous part to plot escape velocity against both mass and radius in the same plot. Be sure to include a way for the reaser of your plot to differentiate the two. Be sure to properly label all of your plots."
   ]
  },
  {
   "cell_type": "code",
   "execution_count": 13,
   "id": "f75bad25",
   "metadata": {},
   "outputs": [
    {
     "data": {
      "image/png": "[encoded data removed]",
      "text/plain": [
       "<Figure size 432x288 with 1 Axes>"
      ]
     },
     "metadata": {
      "needs_background": "light"
     },
     "output_type": "display_data"
    },
    {
     "data": {
      "image/png": "[encoded data removed]",
      "text/plain": [
       "<Figure size 432x288 with 1 Axes>"
      ]
     },
     "metadata": {
      "needs_background": "light"
     },
     "output_type": "display_data"
    }
   ],
   "source": [
    "plt.figure()\n",
    "plt.scatter(masses, radii)\n",
    "plt.xlabel('Planet Mass (kg)')\n",
    "plt.ylabel('Planet Radii (m)')\n",
    "plt.title('Mass vs Radius')\n",
    "plt.show()\n",
    "\n",
    "plt.figure()\n",
    "plt.scatter(masses, V_esc, label = 'Mass vs Vel')\n",
    "plt.scatter(radii, V_esc, label = 'Radii vs Vel')\n",
    "plt.xlabel('Planet Mass (kg)/Planet Radii (m)')\n",
    "plt.ylabel('Escape Velocity (m/s)')\n",
    "plt.title('Mass & Radius vs Excape Velocity')\n",
    "plt.legend()\n",
    "plt.show()\n"
   ]
  },
  {
   "cell_type": "markdown",
   "id": "80308f34",
   "metadata": {},
   "source": [
    "## Exercise 8: Particle in a Box"
   ]
  },
  {
   "cell_type": "markdown",
   "id": "02a55f65",
   "metadata": {},
   "source": [
    "The energy levels for a quantum particle in a three-dimensional rectangular box of dimensions $\\{L_1, L_2, \\text{ and } L_3\\}$ are given by\n",
    "\n",
    "$$ E_{n_1, n_2, n_3} = \\frac{\\hbar^2 \\pi^2}{2m} \\left[ \\frac{n_1^2}{L_1^2} + \\frac{n_2^2}{L_2^2} + \\frac{n_3^2}{L_3^2} \\right] $$\n",
    "\n",
    "where the $n$'s are integers greater than or equal to one. Your goal is to write a program that will calculate, and list in order of increasing energy, the values of the $n$'s for the 10 lowest *different* energy levels, given a box for which $L_2 = 2L_1$ and $L_3 = 4L_1$.\n",
    "\n",
    "Your program should include two user-defined functions:\n",
    "\n",
    "1. A function `energy(n1, n2, n3)` that takes integer values $n_1$, $n_2$, and $n_3$, and computes the corresponding energy level in units of $\\hbar^2 \\pi^2/2 m L_1^2$.\n",
    "\n",
    "1. A function `lowest_unique_K(K, List)` which takes a positive integer $K$ and a list of real numbers `List`, and returns an ordered (ascending) list of the lowest $K$ unique numbers in the list `List`. For instance, `lowest_unique_K(3, [-0.5, 3, 3, 2, 6, 7, 7])` would return `[-0.5, 2, 3]`. The function should not modify the original list `List`.\n",
    "    \n",
    "You may also wish to make other user-defined functions depending on how you go about solving the problem. In fact, if you find some clever way to solve the problem that doesn't use `lowest_unique_K`, that is fine too! (You still need to write `lowest_unique_K`, though.) But whatever you do, be sure to comment your code clearly!\n",
    "\n",
    "#### Output\n",
    "\n",
    "Your final output should look like this (though with different numbers, and not necessarily the same number of lines):\n",
    "\n",
    "    energy, n1, n2, n3\n",
    "    (0.4375, 1, 1, 1)\n",
    "    (0.625, 1, 2, 1)\n",
    "    (0.8125, 2, 1, 1)\n",
    "    (0.9375, 1, 3, 1)\n",
    "    (1.0, 2, 2, 1)\n",
    "    (1.1875, 1, 1, 2)\n",
    "    (1.3125, 2, 3, 1)\n",
    "    (1.375, 1, 2, 2)\n",
    "    (1.375, 1, 4, 1)\n",
    "    (1.4375, 3, 1, 1)\n",
    "    (1.5625, 2, 1, 2)\n",
    "\n",
    "Notice how there are only 10 unique energies listed, but more than 10 lines."
   ]
  },
  {
   "cell_type": "code",
   "execution_count": 5,
   "id": "e92c3e75",
   "metadata": {},
   "outputs": [
    {
     "name": "stdout",
     "output_type": "stream",
     "text": [
      "Energies | N1, N2,N3\n",
      "1.3125   | [1. 1. 1.]\n",
      "1.5      | [1. 1. 2.]\n",
      "1.8125   | [1. 1. 3.]\n",
      "2.0625   | [1. 2. 1.]\n",
      "2.25     | [1. 2. 2.]\n",
      "2.5625   | [1. 2. 3.]\n",
      "3.3125   | [1. 3. 1.]\n",
      "3.5      | [1. 3. 2.]\n",
      "3.8125   | [1. 3. 3.]\n",
      "4.3125   | [2. 1. 1.]\n"
     ]
    }
   ],
   "source": [
    "import numpy as np\n",
    "from datascience import *\n",
    "L1 = 5\n",
    "L2 = 2*L1\n",
    "L3 = 4*L1\n",
    "\n",
    "def energy(n1, n2, n3):\n",
    "    energy = (16*(n1**2) + 4*(n2**2) + n3**2)/(16)\n",
    "    return energy\n",
    "\n",
    "\n",
    "def lowest_unique_K(K, List):\n",
    "    L2 = List.copy()\n",
    "    L2.sort()\n",
    "    return L2[:K]\n",
    "\n",
    "\n",
    "def energy_values(n1,n2,n3): #make different combos of n1, n2, n3 to test\n",
    "    values = make_array(n1,n2,n3)\n",
    "    result_array = []\n",
    "    for i in np.arange(1000):\n",
    "        result = np.random.choice(values, 3)\n",
    "        result_array = np.append(result_array, result)\n",
    "    groups = np.array_split(result_array, 1000)\n",
    "    return groups\n",
    "\n",
    "def identity(array):\n",
    "    return array[1]\n",
    "\n",
    "def bottom_energies(n1,n2,n3):\n",
    "    ns = energy_values(n1, n2, n3)\n",
    "    energy_array = make_array()\n",
    "    for i in ns:\n",
    "        energies = energy(i.item(0), i.item(1), i.item(2))\n",
    "        energy_array = np.append(energy_array, energies)\n",
    "    final_table= Table().with_columns(\"Energies\", energy_array, \n",
    "                                      \"N1, N2, N3\", ns)\n",
    "    energy_array = np.unique(energy_array)\n",
    "    bottom10 = lowest_unique_K(10, energy_array)\n",
    "    final_table = final_table.where(\"Energies\", are.contained_in(bottom10)).group(\"Energies\", identity).relabel(1, \"N1, N2,N3\")\n",
    "    return final_table\n",
    "print(bottom_energies(1,2,3))"
   ]
  },
  {
   "cell_type": "code",
   "execution_count": null,
   "id": "09ac2058",
   "metadata": {},
   "outputs": [],
   "source": []
  }
 ],
 "metadata": {
  "kernelspec": {
   "display_name": "Python 3 (ipykernel)",
   "language": "python",
   "name": "python3"
  },
  "language_info": {
   "codemirror_mode": {
    "name": "ipython",
    "version": 3
   },
   "file_extension": ".py",
   "mimetype": "text/x-python",
   "name": "python",
   "nbconvert_exporter": "python",
   "pygments_lexer": "ipython3",
   "version": "3.9.13"
  }
 },
 "nbformat": 4,
 "nbformat_minor": 5
}
