{
 "cells": [
  {
   "cell_type": "markdown",
   "id": "cbd042de",
   "metadata": {},
   "source": [
    "# Workshop 4: Python Statistics"
   ]
  },
  {
   "cell_type": "code",
   "execution_count": 15,
   "id": "21b2e05a",
   "metadata": {},
   "outputs": [],
   "source": [
    "#Standard Practice\n",
    "\n",
    "import numpy as np\n",
    "import matplotlib.pyplot as plt\n",
    "import scipy as sp\n",
    "import scipy.optimize as spo\n",
    "from scipy import stats"
   ]
  },
  {
   "cell_type": "markdown",
   "id": "3e85d24f",
   "metadata": {},
   "source": [
    "## Exercise 1: What do you Mean?"
   ]
  },
  {
   "cell_type": "markdown",
   "id": "c9db684c",
   "metadata": {},
   "source": [
    "Create an array of 1000 random numbers with a Poisonnian distribution. Plot a histogram of your results. Then, calculate the mean and standard deviation of your distribution using both the built in python functions and with the known formulas for these values. Do your calculations match?"
   ]
  },
  {
   "cell_type": "code",
   "execution_count": 19,
   "id": "ee2ff65d",
   "metadata": {},
   "outputs": [
    {
     "data": {
      "image/png": "[encoded data removed]",
      "text/plain": [
       "<Figure size 432x288 with 1 Axes>"
      ]
     },
     "metadata": {
      "needs_background": "light"
     },
     "output_type": "display_data"
    },
    {
     "name": "stdout",
     "output_type": "stream",
     "text": [
      "Mean = 1001.6\n",
      "Median = 1001.0\n",
      "Standard deviation = 31.8\n"
     ]
    }
   ],
   "source": [
    "i = np.random.poisson(1000,1000)\n",
    "count, bins, ignored = plt.hist(i, 14, density=True)\n",
    "plt.show()\n",
    "# various measures of \"average value\":\n",
    "print ('Mean = {0:3.1f}'.format(np.mean(i)))\n",
    "print ('Median = {0:3.1f}'.format(np.median(i)))\n",
    "\n",
    "# measure of the spread\n",
    "print ('Standard deviation = {0:3.1f}'.format(np.std(i)))\n"
   ]
  },
  {
   "cell_type": "markdown",
   "id": "90022e1e",
   "metadata": {},
   "source": [
    "## Exercise 2: Elemental Uncertainty"
   ]
  },
  {
   "cell_type": "markdown",
   "id": "d163bc3d",
   "metadata": {},
   "source": [
    "Pick 5 elements on the periodic table that have known isotopes (ex. Hydrogen has Deuterium, Carbon has Carbon 14, etc.). List the isotopes, along with their atomic mass, for each of your chosen elements. Then, create a scatterplot of atomic mass vs atomic number for your chosen elements, with error bars as determined by the variance of atomic masses that appear in the isotopes. Be sure to properly label your plot."
   ]
  },
  {
   "cell_type": "code",
   "execution_count": 32,
   "id": "7dfc817a",
   "metadata": {},
   "outputs": [
    {
     "data": {
      "image/png": "[encoded data removed]",
      "text/plain": [
       "<Figure size 432x288 with 1 Axes>"
      ]
     },
     "metadata": {
      "needs_background": "light"
     },
     "output_type": "display_data"
    }
   ],
   "source": [
    "#Uranium-235\n",
    "#Carbon-12\n",
    "#Helium-3\n",
    "#Hydrogen-2\n",
    "#Chlorine-36\n",
    "\n",
    "import numpy as np\n",
    "import matplotlib.pyplot as plt\n",
    "import scipy as sp\n",
    "from scipy import stats\n",
    "\n",
    "elements = np.array(['Uranium','Carbon','Helium','Hydrogen','Chlorine'])\n",
    "isotopes = np.array (['Uranium-235','Carbon-12','Helium-3','Hydrogen-2','Chlorine-36'])\n",
    "atomic_number = np.array([92, 6, 2, 1, 17])\n",
    "element_mass = np.array([238.02891, 12.011, 4.002602, 1.00784, 35.453])\n",
    "isotope_mass = np.array([235.0439299, 12, 3.016029, 2.0141017781, 36.9763])\n",
    "sigma_raw = (element_mass - isotope_mass)\n",
    "sigma = abs(sigma_raw)\n",
    "\n",
    "\n",
    "plt.figure()\n",
    "plt.errorbar(atomic_number, element_mass, xerr=0, yerr=sigma, fmt='o')\n",
    "plt.xlabel('Atomic Number')\n",
    "plt.ylabel('Atomic Mass')\n",
    "#Remove the #, for the bottom 2 to see the error bars, Urainium makes it harder to see the rest of the bars.\n",
    "#plt.xlim(0,30)\n",
    "#plt.ylim(0,40)\n",
    "plt.show()\n",
    "\n"
   ]
  },
  {
   "cell_type": "markdown",
   "id": "dd020dba",
   "metadata": {},
   "source": [
    "## Exercise 3: Polynomial Fitting"
   ]
  },
  {
   "cell_type": "markdown",
   "id": "a183112e",
   "metadata": {},
   "source": [
    "The code in the cell immediately below will generate some data and store it an array of size `(500,3)` where the first column is $x$ values, the second column is the $y$ values, the third column is the uncertainty in each value. Use the techniques above to a quadratic model of the form\n",
    "$$y = a_0 + a_1 x + a_2 x^2$$\n",
    "\n",
    "Plot the data and your best fit curve with error and print out the values and their uncertainties"
   ]
  },
  {
   "cell_type": "code",
   "execution_count": 11,
   "id": "ac82eb9a",
   "metadata": {},
   "outputs": [
    {
     "name": "stdout",
     "output_type": "stream",
     "text": [
      "chi^2 =  4.38\n",
      "chi^2/d.f.= 0.63\n"
     ]
    },
    {
     "data": {
      "image/png": "[encoded data removed]",
      "text/plain": [
       "<Figure size 432x288 with 1 Axes>"
      ]
     },
     "metadata": {
      "needs_background": "light"
     },
     "output_type": "display_data"
    },
    {
     "name": "stdout",
     "output_type": "stream",
     "text": [
      "[ 0.00872686  1.23021692 -0.32097175]\n"
     ]
    }
   ],
   "source": [
    "# Generate artificial data for Exercise 6 and plot it\n",
    "\n",
    "import numpy as np\n",
    "import matplotlib.pyplot as plt\n",
    "import scipy.optimize as fitter\n",
    "%matplotlib inline\n",
    "\n",
    "# Generate artificial data = quadratic function with a0 = 0, a1=1, a2 = -0.3\n",
    "# plus some noise.\n",
    "a0 = 0.5\n",
    "a1 = 1\n",
    "a2 = -0.3\n",
    "sig = 0.4\n",
    "Npoints = 10\n",
    "\n",
    "xdata = np.arange(0,Npoints,1.)\n",
    "ydata = a0 + a1 * xdata + a2 * xdata **2 + sig * np.random.standard_normal(size=Npoints)\n",
    "sigma = np.ones(Npoints)*sig\n",
    "plt.scatter(xdata,ydata,color='b')\n",
    "plt.errorbar(xdata,ydata, sigma, color='r',ls='none')\n",
    "plt.xlim(-1,Npoints)\n",
    "\n",
    "\n",
    "#############--------------################\n",
    "\n",
    "\n",
    "def model2(x, a, b, c):\n",
    "    return a + b*x + c*x*x\n",
    "\n",
    "par0    = np.array([0.0, 4.0, 3.0])\n",
    "par, cov = fitter.curve_fit(model2, xdata, ydata, par0, sigma)\n",
    "\n",
    "corr = cov.copy()\n",
    "for i in range(len(par)):\n",
    "    for j in range(len(par)):\n",
    "        corr[i,j] = cov[i,j]/np.sqrt(cov[i,i]*cov[j,j])\n",
    "        \n",
    "\n",
    "chi_squared = np.sum(((model2(xdata, *par)-ydata)/sigma)**2)\n",
    "reduced_chi_squared = (chi_squared)/(len(xdata)-len(par))\n",
    "print ('chi^2 = {0:5.2f}'.format(chi_squared))\n",
    "print ('chi^2/d.f.={0:5.2f}'.format(reduced_chi_squared))\n",
    "\n",
    "\n",
    "plt.errorbar(xdata, ydata, xerr=0, yerr=sigma, fmt='o')\n",
    "plt.xlim(-3,15)\n",
    "plt.ylim(-20,2)\n",
    "xfit = np.linspace(0,50,1000)\n",
    "plt.plot(xfit,model2(xfit,par[0],par[1], par[2]),'r-')\n",
    "plt.show()\n",
    "print(par)\n",
    "\n",
    "\n",
    "\n",
    "#Why is it only plotting half of the values?"
   ]
  },
  {
   "cell_type": "code",
   "execution_count": null,
   "id": "d35b5cbc",
   "metadata": {},
   "outputs": [],
   "source": []
  },
  {
   "cell_type": "markdown",
   "id": "62faf169",
   "metadata": {},
   "source": [
    "## Exercise 4: Normal Distributions"
   ]
  },
  {
   "cell_type": "markdown",
   "id": "d3cb9973",
   "metadata": {},
   "source": [
    "1. Generate $N=100$ random numbers, Gaussian-distributed with $\\mu=0$ and $\\sigma=1$. \n",
    "1. Plot them in a histogram. \n",
    "1. Compute mean, standard deviation, and the error on the mean. Error on the Mean = $\\frac{\\sigma}{\\sqrt{N}}$\n",
    "1. Compute the median of this distribution\n",
    "1. Now find the means, standard deviations, and errors on the means for each of the $M=1000$ experiments of $N=100$ measurements each. Plot a histogram of the means. Is it consistent with your calculation of the error on the mean for $N=100$ ? About how many experiments yield a result within $1\\sigma$ of the true mean of 0 ? About how many are within $2\\sigma$ ? Is this what you expected?\n",
    "1. Now repeat question 5 for $N=10,50,1000,10000$. Plot a graph of the standard deviation of the distribution of the means vs $N$."
   ]
  },
  {
   "cell_type": "code",
   "execution_count": 23,
   "id": "7388fa33",
   "metadata": {},
   "outputs": [
    {
     "name": "stdout",
     "output_type": "stream",
     "text": [
      "[ 1.93202584e-01 -1.25799145e+00 -1.30805563e-01  3.55862037e-01\n",
      "  1.05936060e+00  3.26811193e-01  2.41575024e+00  2.70719682e-01\n",
      "  3.61406360e-01  1.94848826e-01 -1.60356103e-01 -6.71930156e-01\n",
      " -2.97266179e-01 -1.42688075e-01 -6.91360787e-02  3.64493880e-01\n",
      " -3.77781499e-01  1.62308100e+00  3.69809903e-01  4.56432105e-01\n",
      "  1.31471208e-01 -2.38183619e-01 -1.56341628e+00  1.41772702e+00\n",
      " -1.57203016e+00 -8.90650293e-01 -1.95129847e+00  9.75464003e-01\n",
      " -4.77618742e-01 -3.90462709e-02 -1.17352272e-01  2.36301607e+00\n",
      "  1.05010733e+00  6.46139766e-01  1.69046332e-01 -1.73025763e+00\n",
      " -4.73752293e-01  1.78339059e+00  1.02769888e+00 -7.33296123e-01\n",
      "  1.87351530e+00 -3.03491943e-01  1.67421713e+00  7.76863263e-01\n",
      "  1.57644252e+00 -2.93141544e-01  2.48575743e-01  3.66736743e-01\n",
      "  2.23528927e+00 -4.17509114e-01 -7.14473425e-01  1.76803543e+00\n",
      "  4.92259580e-01  2.67427886e-01  7.98309715e-01  6.81551483e-01\n",
      "  6.07116219e-01 -4.29883049e-01 -5.63326440e-01 -1.58248062e-02\n",
      "  1.90146344e-02 -1.51134212e+00 -2.50259656e+00 -1.38174866e+00\n",
      " -5.09968844e-01  2.69388201e-02  3.56437065e-01  1.38540452e+00\n",
      "  7.19607849e-01 -7.70546795e-01 -2.00146791e+00  8.93699821e-04\n",
      " -2.05314431e-01  7.25564105e-01  6.69989224e-01  9.48764610e-01\n",
      " -7.94894050e-01  4.50772221e-01  7.46626231e-03 -1.15523385e+00\n",
      " -6.04531938e-01 -1.02866360e+00 -3.22773634e-01  4.51802181e-01\n",
      " -8.25547852e-01 -3.30392206e-01 -7.27668423e-01 -1.59417805e-01\n",
      " -2.71062674e-01 -1.49167586e+00 -1.40809925e+00  7.74811300e-01\n",
      " -9.01049564e-01  1.47421732e+00  1.05796705e+00 -1.83343980e-01\n",
      " -2.79433176e-01  2.24533224e+00 -3.66054535e-01 -4.11895322e-01]\n",
      "Mean = 10.00\n",
      "Standard deviation =   6.9\n",
      "Error of mean = [1.         0.4472136  0.37796447 0.30151134 0.20412415 0.2236068\n",
      " 0.2773501  0.35355339 0.37796447 0.5       ]\n",
      "Median =  7.50\n"
     ]
    },
    {
     "name": "stderr",
     "output_type": "stream",
     "text": [
      "/tmp/ipykernel_24/316368584.py:23: RuntimeWarning: invalid value encountered in sqrt\n",
      "  eom_1 = (sigma/(np.sqrt(n_2)))\n"
     ]
    },
    {
     "data": {
      "image/png": "[encoded data removed]",
      "text/plain": [
       "<Figure size 432x288 with 1 Axes>"
      ]
     },
     "metadata": {
      "needs_background": "light"
     },
     "output_type": "display_data"
    },
    {
     "data": {
      "image/png": "[encoded data removed]",
      "text/plain": [
       "<Figure size 432x288 with 1 Axes>"
      ]
     },
     "metadata": {
      "needs_background": "light"
     },
     "output_type": "display_data"
    },
    {
     "data": {
      "image/png": "[encoded data removed]",
      "text/plain": [
       "<Figure size 432x288 with 1 Axes>"
      ]
     },
     "metadata": {
      "needs_background": "light"
     },
     "output_type": "display_data"
    }
   ],
   "source": [
    "##########----Subproblem 1------------################\n",
    "mu = 0\n",
    "sigma = 1\n",
    "n = mu + sigma*np.random.randn(100)\n",
    "print(n)\n",
    "##########----Subproblem 2------------################\n",
    "n, bins, patches = plt.hist(n)\n",
    "##########----Subproblem 3------------################\n",
    "print ('Mean = {0:5.2f}'.format(np.mean(n)))\n",
    "print ('Standard deviation = {0:5.1f}'.format(np.std(n)))\n",
    "eom = (sigma/(np.sqrt(n)))\n",
    "print ('Error of mean =',eom)\n",
    "##########----Subproblem 4------------################\n",
    "print ('Median = {0:5.2f}'.format(np.median(n)))\n",
    "##########----Subproblem 5------------################\n",
    "sd = []\n",
    "mean = []\n",
    "eom_list = []\n",
    "\n",
    "for i in range (0,1000):\n",
    "    n_2 = mu + sigma*np.random.randn(100)\n",
    "    mean_1 = np.mean(n_2)\n",
    "    eom_1 = (sigma/(np.sqrt(n_2)))\n",
    "    sd_2 = np.std(n_2)\n",
    "    sd.append(sd_2)\n",
    "    mean.append(mean_1)\n",
    "    eom_list.append(eom_1)\n",
    "    \n",
    "plt.figure()\n",
    "plt.hist(mean)\n",
    "plt.title('Means Histogram')\n",
    "plt.xlabel('Means')\n",
    "plt.ylabel('Frequency')\n",
    "plt.show()\n",
    "\n",
    "\n",
    "n, p = 10, .5  # number of trials, probability of each trial\n",
    "s = np.random.binomial(n, p, 1000)\n",
    "s_array = np.array(s)\n",
    "\n",
    "sigma = 1\n",
    "\n",
    "\n",
    "plt.figure()\n",
    "\n",
    "####std_10\n",
    "n, p = 10 , .5  # number of trials, probability of each trial\n",
    "s = np.random.binomial(n, p, 1000)\n",
    "s_array = np.array(s)\n",
    "std_10 = np.std(s)\n",
    "\n",
    "###std_50\n",
    "n, p = 50 , .5  # number of trials, probability of each trial\n",
    "s = np.random.binomial(n, p, 1000)\n",
    "s_array = np.array(s)\n",
    "std_50 = np.std(s)\n",
    "\n",
    "###std_1000\n",
    "n, p = 50 , .5  # number of trials, probability of each trial\n",
    "s = np.random.binomial(n, p, 1000)\n",
    "s_array = np.array(s)\n",
    "std_1000 = np.std(s)\n",
    "###std_10000\n",
    "n, p = 50 , .5  # number of trials, probability of each trial\n",
    "s = np.random.binomial(n, p, 1000)\n",
    "s_array = np.array(s)\n",
    "std_10000 = np.std(s)\n",
    "\n",
    "std = np.array([std_10, std_50, std_1000, std_10000])\n",
    "plt.hist(std)\n",
    "plt.title('Standard Deviation Histogram')\n",
    "plt.ylabel('Frequency')\n",
    "plt.xlabel('Standard Deviation')\n",
    "plt.plot();"
   ]
  },
  {
   "cell_type": "code",
   "execution_count": null,
   "id": "c6eeb467",
   "metadata": {},
   "outputs": [],
   "source": [
    "#Lists of the means, sd, and eom of all 1000 samples: Run this cell, BEWARE: It will cluter the Juypter Notebook\n",
    "print(sd)\n",
    "print(mean)\n",
    "print(eom_list)"
   ]
  },
  {
   "cell_type": "markdown",
   "id": "884a2aac",
   "metadata": {},
   "source": [
    "## Exercise 5: Binomial Distribution"
   ]
  },
  {
   "cell_type": "markdown",
   "id": "dfc8cb10",
   "metadata": {},
   "source": [
    "The binomial distribution with parameters $n$ and $p$ is the *discrete* probability distribution of the number of successes in a sequence of $n$ independent yes/no experiments, each of which yields success with probability $p$. A typical example is a distribution of the number of *heads* for $n$ coin flips ($p=0.5$) \n",
    "\n",
    "The function `np.random.binomial(n,p)` requires two arguments, `n` the number of events in a single trial and `p` the probability of the desired outcome. `size` is another optional keyword argument.\n",
    "1. Generate an array of outcomes for flipping 1 unbiased coin 10 times.\n",
    "1. Plot the outcomes in a histogram (0=heads, 1=tails). \n",
    "1. Compute mean, standard deviation, and the error on the mean. Is this what you expected?"
   ]
  },
  {
   "cell_type": "code",
   "execution_count": 66,
   "id": "163d0428",
   "metadata": {},
   "outputs": [
    {
     "name": "stdout",
     "output_type": "stream",
     "text": [
      "[ 5  5  6  4  5  7  7  3  6  5  4  7  8  4  3  3  7  9  4  6  7  7  7  5\n",
      "  3  2  3  3  6  5  7  6  6  3  6  5  3  5  4  4  2  6  7  6  7  7  3  5\n",
      "  5  5  7  3  4  4  6  4  3  6  7  6  5  4  4  4  3  6  7  2  6  1  5  4\n",
      "  6  7  3  6  4  5  4  5  5  8  3  3  4  4  5  2  6  6  4  5  5  5  4  2\n",
      "  6  4  8  7  5  7  4  2  2  4  8  3  6  6  5  6  7  6  5  4  4  7  4  8\n",
      "  5  6  4  4  6  8  6  3  6  5  7  3  5  6  2  9  3  4  6  4  7  8  7  4\n",
      "  5  4  5  7  6  6  3  5  5  7  4  5  6  2  6  6  5  6  5  6  9  6  6  4\n",
      "  2  4  3  6  3  3  5  2  7  3  5  5  4  6  5  8  5  4  7  6  5  5  3  7\n",
      "  6  6  7  5  5  4  6  4  8  6  5  5  5  6  5  5  5  7  7  4  7  8  3  5\n",
      "  7  4  4  5  4  6  4  5  3  6  6  7  6  4  4  7  5  4  7  6  2  7  4  6\n",
      "  4  6  4  1  6  7  4  4  6  6  6  7  4  4  6  3  3  4  6  8  6  6  5  4\n",
      "  7  4  6  6  4  4  4  3  6  5  2  3  3  7  4  7  3  5  6  3  7  5  5  5\n",
      "  2  5  7  6  5  6  8  7  6  5  3  2  7  7  7  5  7  6  2  3  6  3  4  6\n",
      "  3  6  4  6  6  5  5  7  5  6  5  5  5  4  8  6  8  7  3  6  5  5  7  4\n",
      "  5  7  5  5  4  7  6  4  3  8  7  6  7  4  4  7  5  6  3  2  6  6  7  6\n",
      "  4  4  6  8  5  6  6  2  9  2  5  6  6  3  4  5  6  4  8  6  3  4  3  5\n",
      "  5  7  6  3  6  4  6  6  3  6  3  6  5  5  5  8  6  6  8  6  5  4  5  4\n",
      "  5  7  5  5  4  4  8  3  6  7  5  3  5  4  6  6  7  4  6  6  3  9  3  5\n",
      "  6  4  4  5  6  4  8  7  5  7  5  7  3  6  7  3  7  2  3  4  5  8  7  2\n",
      "  7  5  1  5  4  5  2  3  5  5  5  4  6  4  6  1  7  4  4  3  6  7  7  4\n",
      "  4  7  5  3  3  6  7  6  4  6  6  5  6  6  2  6  4  4  4  6  6  6  6  4\n",
      "  5  6  6  5  4  6  6  6  2  6  3  4  5  7  3  4  8  8  7  5  3  6  7  3\n",
      "  6  4  6  6  6  2  4  7  6  8  5  5  6  6  8  2  7  5  6  4  5  4  5  5\n",
      "  6  3  5  6  3  7  8  2  7  7  1  6  5  5  6  3  4  6  3  6  2  6  4  7\n",
      "  6  4  7  5  4  6  6  5  6  7  4  5  8  2  5  4  7  3  4  5  4  6  7  8\n",
      "  6  8  8  7  4  6  3  5  6  5  6  4  6  5  7  2  6  7  6  5  4  5  3  5\n",
      "  6  2  6  2  5  4  5  9  4  5  5  6  7  7  5  3  3  4  7  4  5  8  2  5\n",
      "  3  5  6  6  3  4  2  5  8  3  4  8  4  7  4  3  5  3  6  1  5  5  4  5\n",
      "  6  7  4  4  5  5  4  8  4  7  5  6  5  4  5  4  6  7  2  4  4  5  5  5\n",
      "  6  5  3  6  7  5  4  5  5  8  6  4  5  3  6  5  5  7  5  4  6  4  6  6\n",
      "  6  6  4  8  7  6  5  8  5  6  7  5  3  6  5  5  6  6  6  4  5  6  6  4\n",
      "  4  4  3  4  5  3  2  4  5  5  6  6  6  6  4  4  4  3  4  4  4  2  6  8\n",
      "  8  5  3  1  8  3  4  7  6  6  6  7  5  3  3  4  3  4  4  4  6  6  6  3\n",
      "  7  6  8  5  4  4  7  2  3  7  5  3  4  6  5  5  2  6  6  8  4  6  3  7\n",
      "  5  2  6  3  8  4  2  7  8  8  6  5  8  7  7  2  5  9  5  5  7  7  6  2\n",
      "  5  6  5  6  5  3  4  3  5  4  6  4  4  3  3  5  5  4  6  7  5  6  4  3\n",
      "  7  5  4  5  6  4  4  4  3  6  6  4  5  5  3  4  5  7  4  7  7  5  5  6\n",
      "  8  4  8  5  3  6  6  5  4  6  5  3  6  9  4  3  6  6  6  3  6  5  5  4\n",
      "  4  2  6  3  9  7  5  1  1  4  7  7  7  2  6  5  4  6  6  8  3  6  6  6\n",
      "  4  5  3  5  7  3  4  4 10  5  7  4  5  4  6  6  4  6  7  5  5  6  6  2\n",
      "  6  6  5  5  7  4  3  5  3  6  3  7  6  7  7  4  6  6  7  4  7  7  4  4\n",
      "  4  6  5  3  5  7  7  4  4  6  8  8  5  6  6  5]\n"
     ]
    },
    {
     "data": {
      "image/png": "[encoded data removed]",
      "text/plain": [
       "<Figure size 432x288 with 1 Axes>"
      ]
     },
     "metadata": {
      "needs_background": "light"
     },
     "output_type": "display_data"
    },
    {
     "name": "stdout",
     "output_type": "stream",
     "text": [
      "Mean = 5.1\n",
      "Error of mean = [0.4472136  0.4472136  0.40824829 0.5        0.4472136  0.37796447\n",
      " 0.37796447 0.57735027 0.40824829 0.4472136  0.5        0.37796447\n",
      " 0.35355339 0.5        0.57735027 0.57735027 0.37796447 0.33333333\n",
      " 0.5        0.40824829 0.37796447 0.37796447 0.37796447 0.4472136\n",
      " 0.57735027 0.70710678 0.57735027 0.57735027 0.40824829 0.4472136\n",
      " 0.37796447 0.40824829 0.40824829 0.57735027 0.40824829 0.4472136\n",
      " 0.57735027 0.4472136  0.5        0.5        0.70710678 0.40824829\n",
      " 0.37796447 0.40824829 0.37796447 0.37796447 0.57735027 0.4472136\n",
      " 0.4472136  0.4472136  0.37796447 0.57735027 0.5        0.5\n",
      " 0.40824829 0.5        0.57735027 0.40824829 0.37796447 0.40824829\n",
      " 0.4472136  0.5        0.5        0.5        0.57735027 0.40824829\n",
      " 0.37796447 0.70710678 0.40824829 1.         0.4472136  0.5\n",
      " 0.40824829 0.37796447 0.57735027 0.40824829 0.5        0.4472136\n",
      " 0.5        0.4472136  0.4472136  0.35355339 0.57735027 0.57735027\n",
      " 0.5        0.5        0.4472136  0.70710678 0.40824829 0.40824829\n",
      " 0.5        0.4472136  0.4472136  0.4472136  0.5        0.70710678\n",
      " 0.40824829 0.5        0.35355339 0.37796447 0.4472136  0.37796447\n",
      " 0.5        0.70710678 0.70710678 0.5        0.35355339 0.57735027\n",
      " 0.40824829 0.40824829 0.4472136  0.40824829 0.37796447 0.40824829\n",
      " 0.4472136  0.5        0.5        0.37796447 0.5        0.35355339\n",
      " 0.4472136  0.40824829 0.5        0.5        0.40824829 0.35355339\n",
      " 0.40824829 0.57735027 0.40824829 0.4472136  0.37796447 0.57735027\n",
      " 0.4472136  0.40824829 0.70710678 0.33333333 0.57735027 0.5\n",
      " 0.40824829 0.5        0.37796447 0.35355339 0.37796447 0.5\n",
      " 0.4472136  0.5        0.4472136  0.37796447 0.40824829 0.40824829\n",
      " 0.57735027 0.4472136  0.4472136  0.37796447 0.5        0.4472136\n",
      " 0.40824829 0.70710678 0.40824829 0.40824829 0.4472136  0.40824829\n",
      " 0.4472136  0.40824829 0.33333333 0.40824829 0.40824829 0.5\n",
      " 0.70710678 0.5        0.57735027 0.40824829 0.57735027 0.57735027\n",
      " 0.4472136  0.70710678 0.37796447 0.57735027 0.4472136  0.4472136\n",
      " 0.5        0.40824829 0.4472136  0.35355339 0.4472136  0.5\n",
      " 0.37796447 0.40824829 0.4472136  0.4472136  0.57735027 0.37796447\n",
      " 0.40824829 0.40824829 0.37796447 0.4472136  0.4472136  0.5\n",
      " 0.40824829 0.5        0.35355339 0.40824829 0.4472136  0.4472136\n",
      " 0.4472136  0.40824829 0.4472136  0.4472136  0.4472136  0.37796447\n",
      " 0.37796447 0.5        0.37796447 0.35355339 0.57735027 0.4472136\n",
      " 0.37796447 0.5        0.5        0.4472136  0.5        0.40824829\n",
      " 0.5        0.4472136  0.57735027 0.40824829 0.40824829 0.37796447\n",
      " 0.40824829 0.5        0.5        0.37796447 0.4472136  0.5\n",
      " 0.37796447 0.40824829 0.70710678 0.37796447 0.5        0.40824829\n",
      " 0.5        0.40824829 0.5        1.         0.40824829 0.37796447\n",
      " 0.5        0.5        0.40824829 0.40824829 0.40824829 0.37796447\n",
      " 0.5        0.5        0.40824829 0.57735027 0.57735027 0.5\n",
      " 0.40824829 0.35355339 0.40824829 0.40824829 0.4472136  0.5\n",
      " 0.37796447 0.5        0.40824829 0.40824829 0.5        0.5\n",
      " 0.5        0.57735027 0.40824829 0.4472136  0.70710678 0.57735027\n",
      " 0.57735027 0.37796447 0.5        0.37796447 0.57735027 0.4472136\n",
      " 0.40824829 0.57735027 0.37796447 0.4472136  0.4472136  0.4472136\n",
      " 0.70710678 0.4472136  0.37796447 0.40824829 0.4472136  0.40824829\n",
      " 0.35355339 0.37796447 0.40824829 0.4472136  0.57735027 0.70710678\n",
      " 0.37796447 0.37796447 0.37796447 0.4472136  0.37796447 0.40824829\n",
      " 0.70710678 0.57735027 0.40824829 0.57735027 0.5        0.40824829\n",
      " 0.57735027 0.40824829 0.5        0.40824829 0.40824829 0.4472136\n",
      " 0.4472136  0.37796447 0.4472136  0.40824829 0.4472136  0.4472136\n",
      " 0.4472136  0.5        0.35355339 0.40824829 0.35355339 0.37796447\n",
      " 0.57735027 0.40824829 0.4472136  0.4472136  0.37796447 0.5\n",
      " 0.4472136  0.37796447 0.4472136  0.4472136  0.5        0.37796447\n",
      " 0.40824829 0.5        0.57735027 0.35355339 0.37796447 0.40824829\n",
      " 0.37796447 0.5        0.5        0.37796447 0.4472136  0.40824829\n",
      " 0.57735027 0.70710678 0.40824829 0.40824829 0.37796447 0.40824829\n",
      " 0.5        0.5        0.40824829 0.35355339 0.4472136  0.40824829\n",
      " 0.40824829 0.70710678 0.33333333 0.70710678 0.4472136  0.40824829\n",
      " 0.40824829 0.57735027 0.5        0.4472136  0.40824829 0.5\n",
      " 0.35355339 0.40824829 0.57735027 0.5        0.57735027 0.4472136\n",
      " 0.4472136  0.37796447 0.40824829 0.57735027 0.40824829 0.5\n",
      " 0.40824829 0.40824829 0.57735027 0.40824829 0.57735027 0.40824829\n",
      " 0.4472136  0.4472136  0.4472136  0.35355339 0.40824829 0.40824829\n",
      " 0.35355339 0.40824829 0.4472136  0.5        0.4472136  0.5\n",
      " 0.4472136  0.37796447 0.4472136  0.4472136  0.5        0.5\n",
      " 0.35355339 0.57735027 0.40824829 0.37796447 0.4472136  0.57735027\n",
      " 0.4472136  0.5        0.40824829 0.40824829 0.37796447 0.5\n",
      " 0.40824829 0.40824829 0.57735027 0.33333333 0.57735027 0.4472136\n",
      " 0.40824829 0.5        0.5        0.4472136  0.40824829 0.5\n",
      " 0.35355339 0.37796447 0.4472136  0.37796447 0.4472136  0.37796447\n",
      " 0.57735027 0.40824829 0.37796447 0.57735027 0.37796447 0.70710678\n",
      " 0.57735027 0.5        0.4472136  0.35355339 0.37796447 0.70710678\n",
      " 0.37796447 0.4472136  1.         0.4472136  0.5        0.4472136\n",
      " 0.70710678 0.57735027 0.4472136  0.4472136  0.4472136  0.5\n",
      " 0.40824829 0.5        0.40824829 1.         0.37796447 0.5\n",
      " 0.5        0.57735027 0.40824829 0.37796447 0.37796447 0.5\n",
      " 0.5        0.37796447 0.4472136  0.57735027 0.57735027 0.40824829\n",
      " 0.37796447 0.40824829 0.5        0.40824829 0.40824829 0.4472136\n",
      " 0.40824829 0.40824829 0.70710678 0.40824829 0.5        0.5\n",
      " 0.5        0.40824829 0.40824829 0.40824829 0.40824829 0.5\n",
      " 0.4472136  0.40824829 0.40824829 0.4472136  0.5        0.40824829\n",
      " 0.40824829 0.40824829 0.70710678 0.40824829 0.57735027 0.5\n",
      " 0.4472136  0.37796447 0.57735027 0.5        0.35355339 0.35355339\n",
      " 0.37796447 0.4472136  0.57735027 0.40824829 0.37796447 0.57735027\n",
      " 0.40824829 0.5        0.40824829 0.40824829 0.40824829 0.70710678\n",
      " 0.5        0.37796447 0.40824829 0.35355339 0.4472136  0.4472136\n",
      " 0.40824829 0.40824829 0.35355339 0.70710678 0.37796447 0.4472136\n",
      " 0.40824829 0.5        0.4472136  0.5        0.4472136  0.4472136\n",
      " 0.40824829 0.57735027 0.4472136  0.40824829 0.57735027 0.37796447\n",
      " 0.35355339 0.70710678 0.37796447 0.37796447 1.         0.40824829\n",
      " 0.4472136  0.4472136  0.40824829 0.57735027 0.5        0.40824829\n",
      " 0.57735027 0.40824829 0.70710678 0.40824829 0.5        0.37796447\n",
      " 0.40824829 0.5        0.37796447 0.4472136  0.5        0.40824829\n",
      " 0.40824829 0.4472136  0.40824829 0.37796447 0.5        0.4472136\n",
      " 0.35355339 0.70710678 0.4472136  0.5        0.37796447 0.57735027\n",
      " 0.5        0.4472136  0.5        0.40824829 0.37796447 0.35355339\n",
      " 0.40824829 0.35355339 0.35355339 0.37796447 0.5        0.40824829\n",
      " 0.57735027 0.4472136  0.40824829 0.4472136  0.40824829 0.5\n",
      " 0.40824829 0.4472136  0.37796447 0.70710678 0.40824829 0.37796447\n",
      " 0.40824829 0.4472136  0.5        0.4472136  0.57735027 0.4472136\n",
      " 0.40824829 0.70710678 0.40824829 0.70710678 0.4472136  0.5\n",
      " 0.4472136  0.33333333 0.5        0.4472136  0.4472136  0.40824829\n",
      " 0.37796447 0.37796447 0.4472136  0.57735027 0.57735027 0.5\n",
      " 0.37796447 0.5        0.4472136  0.35355339 0.70710678 0.4472136\n",
      " 0.57735027 0.4472136  0.40824829 0.40824829 0.57735027 0.5\n",
      " 0.70710678 0.4472136  0.35355339 0.57735027 0.5        0.35355339\n",
      " 0.5        0.37796447 0.5        0.57735027 0.4472136  0.57735027\n",
      " 0.40824829 1.         0.4472136  0.4472136  0.5        0.4472136\n",
      " 0.40824829 0.37796447 0.5        0.5        0.4472136  0.4472136\n",
      " 0.5        0.35355339 0.5        0.37796447 0.4472136  0.40824829\n",
      " 0.4472136  0.5        0.4472136  0.5        0.40824829 0.37796447\n",
      " 0.70710678 0.5        0.5        0.4472136  0.4472136  0.4472136\n",
      " 0.40824829 0.4472136  0.57735027 0.40824829 0.37796447 0.4472136\n",
      " 0.5        0.4472136  0.4472136  0.35355339 0.40824829 0.5\n",
      " 0.4472136  0.57735027 0.40824829 0.4472136  0.4472136  0.37796447\n",
      " 0.4472136  0.5        0.40824829 0.5        0.40824829 0.40824829\n",
      " 0.40824829 0.40824829 0.5        0.35355339 0.37796447 0.40824829\n",
      " 0.4472136  0.35355339 0.4472136  0.40824829 0.37796447 0.4472136\n",
      " 0.57735027 0.40824829 0.4472136  0.4472136  0.40824829 0.40824829\n",
      " 0.40824829 0.5        0.4472136  0.40824829 0.40824829 0.5\n",
      " 0.5        0.5        0.57735027 0.5        0.4472136  0.57735027\n",
      " 0.70710678 0.5        0.4472136  0.4472136  0.40824829 0.40824829\n",
      " 0.40824829 0.40824829 0.5        0.5        0.5        0.57735027\n",
      " 0.5        0.5        0.5        0.70710678 0.40824829 0.35355339\n",
      " 0.35355339 0.4472136  0.57735027 1.         0.35355339 0.57735027\n",
      " 0.5        0.37796447 0.40824829 0.40824829 0.40824829 0.37796447\n",
      " 0.4472136  0.57735027 0.57735027 0.5        0.57735027 0.5\n",
      " 0.5        0.5        0.40824829 0.40824829 0.40824829 0.57735027\n",
      " 0.37796447 0.40824829 0.35355339 0.4472136  0.5        0.5\n",
      " 0.37796447 0.70710678 0.57735027 0.37796447 0.4472136  0.57735027\n",
      " 0.5        0.40824829 0.4472136  0.4472136  0.70710678 0.40824829\n",
      " 0.40824829 0.35355339 0.5        0.40824829 0.57735027 0.37796447\n",
      " 0.4472136  0.70710678 0.40824829 0.57735027 0.35355339 0.5\n",
      " 0.70710678 0.37796447 0.35355339 0.35355339 0.40824829 0.4472136\n",
      " 0.35355339 0.37796447 0.37796447 0.70710678 0.4472136  0.33333333\n",
      " 0.4472136  0.4472136  0.37796447 0.37796447 0.40824829 0.70710678\n",
      " 0.4472136  0.40824829 0.4472136  0.40824829 0.4472136  0.57735027\n",
      " 0.5        0.57735027 0.4472136  0.5        0.40824829 0.5\n",
      " 0.5        0.57735027 0.57735027 0.4472136  0.4472136  0.5\n",
      " 0.40824829 0.37796447 0.4472136  0.40824829 0.5        0.57735027\n",
      " 0.37796447 0.4472136  0.5        0.4472136  0.40824829 0.5\n",
      " 0.5        0.5        0.57735027 0.40824829 0.40824829 0.5\n",
      " 0.4472136  0.4472136  0.57735027 0.5        0.4472136  0.37796447\n",
      " 0.5        0.37796447 0.37796447 0.4472136  0.4472136  0.40824829\n",
      " 0.35355339 0.5        0.35355339 0.4472136  0.57735027 0.40824829\n",
      " 0.40824829 0.4472136  0.5        0.40824829 0.4472136  0.57735027\n",
      " 0.40824829 0.33333333 0.5        0.57735027 0.40824829 0.40824829\n",
      " 0.40824829 0.57735027 0.40824829 0.4472136  0.4472136  0.5\n",
      " 0.5        0.70710678 0.40824829 0.57735027 0.33333333 0.37796447\n",
      " 0.4472136  1.         1.         0.5        0.37796447 0.37796447\n",
      " 0.37796447 0.70710678 0.40824829 0.4472136  0.5        0.40824829\n",
      " 0.40824829 0.35355339 0.57735027 0.40824829 0.40824829 0.40824829\n",
      " 0.5        0.4472136  0.57735027 0.4472136  0.37796447 0.57735027\n",
      " 0.5        0.5        0.31622777 0.4472136  0.37796447 0.5\n",
      " 0.4472136  0.5        0.40824829 0.40824829 0.5        0.40824829\n",
      " 0.37796447 0.4472136  0.4472136  0.40824829 0.40824829 0.70710678\n",
      " 0.40824829 0.40824829 0.4472136  0.4472136  0.37796447 0.5\n",
      " 0.57735027 0.4472136  0.57735027 0.40824829 0.57735027 0.37796447\n",
      " 0.40824829 0.37796447 0.37796447 0.5        0.40824829 0.40824829\n",
      " 0.37796447 0.5        0.37796447 0.37796447 0.5        0.5\n",
      " 0.5        0.40824829 0.4472136  0.57735027 0.4472136  0.37796447\n",
      " 0.37796447 0.5        0.5        0.40824829 0.35355339 0.35355339\n",
      " 0.4472136  0.40824829 0.40824829 0.4472136 ]\n",
      "Standard deviation = 1.6\n",
      "Yes, I expected it\n"
     ]
    }
   ],
   "source": [
    "n, p = 10, .5  # number of trials, probability of each trial\n",
    "s = np.random.binomial(n, p, 1000)\n",
    "s_array = np.array(s)\n",
    "print(s_array)\n",
    "ht_storage = []\n",
    "\n",
    "\n",
    "for i in s:\n",
    "    if i%2 == 1:\n",
    "        ht_storage.append(1)\n",
    "    else:\n",
    "        ht_storage.append(0)\n",
    "\n",
    "        \n",
    "sigma = 1\n",
    "plt.figure();\n",
    "plt.hist(ht_storage);\n",
    "plt.xlabel('Coin Toss; Heads or Tails')\n",
    "plt.ylabel('Frequency')\n",
    "plt.title('Cointoss')\n",
    "plt.show();\n",
    "\n",
    "print ('Mean = {0:3.1f}'.format(np.mean(s)))\n",
    "eom_s = (sigma/(np.sqrt(s)))\n",
    "print ('Error of mean =',eom_s)\n",
    "\n",
    "# measure of the spread\n",
    "print ('Standard deviation = {0:3.1f}'.format(np.std(s)))\n",
    "print('Yes, I expected it')\n"
   ]
  },
  {
   "cell_type": "markdown",
   "id": "c9591364",
   "metadata": {},
   "source": [
    "## Exercise 6: Root Finding"
   ]
  },
  {
   "cell_type": "markdown",
   "id": "2bf7fbf2",
   "metadata": {},
   "source": [
    "Consider a sixth-order polynomial: \n",
    "\n",
    "$f(x) = 924 x^6 - 2772 x^5 + 3150 x^4 - 1680 x^3 + 420 x^2 - 42 x + 1$\n",
    "\n",
    "There is no general formula for the roots of a polynomial of degree 6, but you can compute the roots numerically.\n",
    "\n",
    "Make a plot of  from  to  and by inspecting it find rough values for the six roots of the polynomial.\n",
    "Write the code to solve for the positions of all six roots to at least ten decimal places using at least one of the methods dsicussed in class. (you can/should use the built-in functions).\n",
    "Hint: I would recommend using fsolve in the scipy library"
   ]
  },
  {
   "cell_type": "code",
   "execution_count": 62,
   "id": "1618c86c",
   "metadata": {},
   "outputs": [
    {
     "data": {
      "image/png": "[encoded data removed]",
      "text/plain": [
       "<Figure size 432x288 with 1 Axes>"
      ]
     },
     "metadata": {
      "needs_background": "light"
     },
     "output_type": "display_data"
    },
    {
     "data": {
      "text/plain": [
       "array([0.03376524, 0.16939531, 0.38069041, 0.61930959, 0.83060469,\n",
       "       0.83060469])"
      ]
     },
     "execution_count": 62,
     "metadata": {},
     "output_type": "execute_result"
    }
   ],
   "source": [
    "from scipy.optimize import fsolve\n",
    "\n",
    "def func(x):\n",
    "    y = 924 * x**6 - 2772 * x**5 + 3150 * x**4 - 1680 * x**3 + 420 * x**2 - 42 * x + 1\n",
    "    return y\n",
    "\n",
    "\n",
    "x = np.linspace(-0.02, 1.0,100)\n",
    "zer = np.zeros(100)\n",
    "plt.figure()\n",
    "plt.title(\"6th Order Polynomial $P(x)$\")\n",
    "plt.plot(x,func(x),\"r-\",label=\"P(x)\")\n",
    "plt.plot(x,zer,\"k-\",label=\"y=0\")\n",
    "plt.plt\n",
    "plt.show()\n",
    "\n",
    "roots = fsolve(P, [0.03, 0.18, 0.4, 0.58, 0.82, 0.9])\n",
    "roots\n"
   ]
  },
  {
   "cell_type": "markdown",
   "id": "e8ecf0fe",
   "metadata": {},
   "source": [
    "## Exercise 7: Optical Pumping"
   ]
  },
  {
   "cell_type": "markdown",
   "id": "a157d0ae",
   "metadata": {},
   "source": [
    "One of the experiments in the Physics 111B lab is the study of the optical pumping of atomic rubidium. In that experiment, we measure the resonant frequency of a Zeeman transition as a function of the applied current (local magnetic field). Consider a mock data set:\n",
    "<table border=\"1\" align=\"center\">\n",
    "\n",
    "<tr>\n",
    "<td>Current <i>I</i> (Amps)\n",
    "</td><td>0.0 </td><td> 0.2 </td><td> 0.4 </td><td> 0.6 </td><td> 0.8 </td><td> 1.0 </td><td> 1.2 </td><td> 1.4 </td><td> 1.6 </td><td> 1.8 </td><td> 2.0 </td><td> 2.2\n",
    "</td></tr>\n",
    "<tr>\n",
    "<td>Frequency <i>f</i> (MHz)\n",
    "</td><td> 0.14 </td><td> 0.60 </td><td> 1.21 </td><td> 1.94 </td><td> 2.47 </td><td> 3.07 </td><td> 3.83 </td><td> 4.16 </td><td> 4.68 </td><td> 5.60 </td><td> 6.31 </td><td> 6.78\n",
    "</td></tr></table>\n",
    "\n",
    "1. Plot a graph of the pairs of values. Assuming a linear relationship between $I$ and $f$, determine the slope and the intercept of the best-fit line and draw the best-fit line through the data points in the graph.\n",
    "1. From what they know about the equipment used to measure the resonant frequency, your lab partner hastily estimates the uncertainty in the measurement of $f$ to be $\\sigma(f) = 0.01$ MHz. Estimate the probability that the straight line you found is an adequate description of the observed data if it is distributed with the uncertainty guessed by your lab partner. (Hint: use scipy.stats.chi2 class to compute the quantile of the chi2 distribution).  What can you conclude from these results? \n",
    "1. Repeat the analysis assuming your partner estimated the uncertainty to be $\\sigma(f) = 1$ MHz. What can you conclude from these results?\n",
    "1. Assume that the best-fit line found in Part 1 is a good fit to the data. Estimate the uncertainty in measurement of $y$ from the scatter of the observed data about this line. Again, assume that all the data points have equal weight. Use this to estimate the uncertainty in both the slope and the intercept of the best-fit line. This is the technique you will use in the Optical Pumping lab to determine the uncertainties in the fit parameters.\n",
    "1. Now assume that the uncertainty in each value of $f$ grows with $f$: $\\sigma(f) = 0.03 + 0.03 * f$ (MHz). Determine the slope and the intercept of the best-fit line using the least-squares method with unequal weights (weighted least-squares fit)\n"
   ]
  },
  {
   "cell_type": "code",
   "execution_count": 77,
   "id": "539fad25",
   "metadata": {},
   "outputs": [
    {
     "name": "stdout",
     "output_type": "stream",
     "text": [
      "Value if its sigma(f) is 0.01 Mhz\n",
      "chi^2 = 1517.99\n",
      "chi^2/d.f.=151.80\n",
      "Why is the chi^2 reduced so big?, and no matter what I change the par value, it keeps staying at 151.80\n",
      "Value if its sigma(f) is 1 Mhz\n",
      "chi^2 =  0.15\n",
      "chi^2/d.f.= 0.02\n",
      "The model's parameters and their uncertainties are the following: \n",
      "\n",
      "Current = 0.040+/-0.067 \n",
      "\n",
      "Frequency = 3.054+/-0.052 \n",
      "\n",
      "\n",
      "Revised Chi^2, using Sigma(f) = 0.03f + 0.03\n",
      "chi^2 = 11.72\n",
      "chi^2/d.f.= 1.17\n"
     ]
    },
    {
     "data": {
      "image/png": "[encoded data removed]",
      "text/plain": [
       "<Figure size 432x288 with 1 Axes>"
      ]
     },
     "metadata": {
      "needs_background": "light"
     },
     "output_type": "display_data"
    },
    {
     "data": {
      "image/png": "[encoded data removed]",
      "text/plain": [
       "<Figure size 432x288 with 1 Axes>"
      ]
     },
     "metadata": {
      "needs_background": "light"
     },
     "output_type": "display_data"
    }
   ],
   "source": [
    "current = np.array([0.0,0.2,0.4,0.6,0.8,1.0,1.2,1.4,1.6,1.8,2.0,2.2]) #In Amps\n",
    "frequency = np.array([0.14, 0.60, 1.21, 1.94, 2.47, 3.07, 3.83, 4.16, 4.68, 5.60, 6.31, 6.78]) #In MHz\n",
    "\n",
    "z = np.polyfit(current, frequency , 3)\n",
    "p = np.poly1d(z)\n",
    "import warnings\n",
    "with warnings.catch_warnings():\n",
    "    warnings.simplefilter('ignore', np.RankWarning)\n",
    "    p30 = np.poly1d(np.polyfit(current, frequency, 30))\n",
    "import matplotlib.pyplot as plt\n",
    "xp = np.linspace(-2, 6, 100)\n",
    "plt.plot(current, frequency, '.', label='data')\n",
    "plt.plot(xp, p(xp), '-', label='Power 3 Fit')\n",
    "plt.title('Fitting the Optical Pumping Data')\n",
    "plt.ylabel('frequency in MHz')\n",
    "plt.xlabel('current in Amps')\n",
    "plt.legend()\n",
    "\n",
    "sigma = np.array([0.01, 0.01, 0.01, 0.01, 0.01, 0.01, 0.01, 0.01, 0.01, 0.01, 0.01, 0.01]) #Mhz\n",
    "sigma = np.poly1d(sigma)\n",
    "\n",
    "def model(x, a, b):\n",
    "    return a + b*x\n",
    "\n",
    "#Sigma = 0.01 MHz\n",
    "par0    = np.array([0.1, 0.4])\n",
    "par, cov = spo.curve_fit(model, current, frequency, p0=par0, sigma=sigma)\n",
    "chi_squared = np.sum(((model(current, *par)-frequency)/sigma)**2)\n",
    "reduced_chi_squared = (chi_squared)/(len(current)-len(par))\n",
    "print('Value if its sigma(f) is 0.01 Mhz')\n",
    "print ('chi^2 = {0:5.2f}'.format(chi_squared))\n",
    "print ('chi^2/d.f.={0:5.2f}'.format(reduced_chi_squared))\n",
    "print('Why is the chi^2 reduced so big?, and no matter what I change the par value, it keeps staying at 151.80')\n",
    "\n",
    "#Sigma = 1.0 MHz\n",
    "sigma = np.array([1.0,1.0,1.0,1.0,1.0,1.0, 1.0,1.0,1.0,1.0,1.0,1.0]) #Mhz\n",
    "sigma = np.poly1d(sigma)\n",
    "chi_squared = np.sum(((model(current, *par)-frequency)/sigma)**2)\n",
    "reduced_chi_squared = (chi_squared)/(len(current)-len(par))\n",
    "print('Value if its sigma(f) is 1 Mhz')\n",
    "print ('chi^2 = {0:5.2f}'.format(chi_squared))\n",
    "print ('chi^2/d.f.={0:5.2f}'.format(reduced_chi_squared))\n",
    "\n",
    "\n",
    "# Sub-Problem 4????\n",
    "\n",
    "#\n",
    "#x_fitted = model(current, par[0], par[1])\n",
    "#residuals = x_fitted - current\n",
    "#plt.figure()\n",
    "#plt.plot(current, residuals, '.')\n",
    "#print(np.mean(residuals))\n",
    "#plt.show()\n",
    "\n",
    "print(\"The model's parameters and their uncertainties are the following: \\n\")\n",
    "a = par[0]\n",
    "ea = np.sqrt(cov[0,0])\n",
    "print('Current ={0:6.3f}+/-{1:5.3f} \\n'.format(a,ea))\n",
    "b = par[1]\n",
    "eb = np.sqrt(cov[1,1])\n",
    "print('Frequency ={0:6.3f}+/-{1:5.3f} \\n\\n'.format(b,eb))\n",
    "\n",
    "\n",
    "#Sub - Problem 5?\n",
    "sigma = np.array([0.0342, 0.318, 0.0363, 0.0882, 0.1041, 0.1221, 0.1449, 0.1518, 0.1704, 0.198, 0.2193, 0.2334])\n",
    "\n",
    "def model(x, a, b):\n",
    "    return a + b*x\n",
    "\n",
    "par0    = np.array([0.0, 1.0])\n",
    "par, cov = spo.curve_fit(model, current, frequency, p0=par0, sigma=sigma)\n",
    "corr = cov.copy() # copy shape\n",
    "for i in range(len(par)):\n",
    "    for j in range(len(par)):\n",
    "        corr[i,j] = cov[i,j]/np.sqrt(cov[i,i]*cov[j,j])\n",
    "chi_squared = np.sum(((model(current, *par)-frequency)/sigma)**2)\n",
    "reduced_chi_squared = (chi_squared)/(len(current)-len(par))\n",
    "print('Revised Chi^2, using Sigma(f) = 0.03f + 0.03')\n",
    "print ('chi^2 = {0:5.2f}'.format(chi_squared))\n",
    "print ('chi^2/d.f.={0:5.2f}'.format(reduced_chi_squared))\n",
    "\n",
    "\n",
    "\n",
    "# overlay plot over data\n",
    "plt.figure()\n",
    "plt.errorbar(current, frequency, xerr=0, yerr=sigma, fmt='o')\n",
    "xfit = np.linspace(0,5,50)\n",
    "plt.plot(xfit,model(xfit,par[0],par[1]),'r-')\n",
    "plt.title('Revised Opitcal Pumping Data')\n",
    "plt.ylabel('Frequency')\n",
    "plt.xlabel('Current')\n",
    "plt.show()\n"
   ]
  },
  {
   "cell_type": "code",
   "execution_count": null,
   "id": "3d93b714",
   "metadata": {},
   "outputs": [],
   "source": []
  },
  {
   "cell_type": "code",
   "execution_count": null,
   "id": "26177dc7",
   "metadata": {},
   "outputs": [],
   "source": []
  }
 ],
 "metadata": {
  "kernelspec": {
   "display_name": "Python 3 (ipykernel)",
   "language": "python",
   "name": "python3"
  },
  "language_info": {
   "codemirror_mode": {
    "name": "ipython",
    "version": 3
   },
   "file_extension": ".py",
   "mimetype": "text/x-python",
   "name": "python",
   "nbconvert_exporter": "python",
   "pygments_lexer": "ipython3",
   "version": "3.9.13"
  }
 },
 "nbformat": 4,
 "nbformat_minor": 5
}
