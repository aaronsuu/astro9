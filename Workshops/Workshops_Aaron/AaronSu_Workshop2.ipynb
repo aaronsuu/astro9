{
 "cells": [
  {
   "cell_type": "markdown",
   "id": "53fd94b8",
   "metadata": {},
   "source": [
    "# Workshop 2: Functions and Loops"
   ]
  },
  {
   "cell_type": "markdown",
   "id": "e8d4adcb",
   "metadata": {},
   "source": [
    "## Exercise 1: What's Your Function?"
   ]
  },
  {
   "cell_type": "markdown",
   "id": "599a5503",
   "metadata": {},
   "source": [
    "Take your favorite equation and turn it into a python function (make sure you have at least one dependent and one independent variable)."
   ]
  },
  {
   "cell_type": "code",
   "execution_count": 6,
   "id": "21fb8612",
   "metadata": {},
   "outputs": [
    {
     "name": "stdout",
     "output_type": "stream",
     "text": [
      "9e+16\n"
     ]
    }
   ],
   "source": [
    "#Mass–energy equivalence equation\n",
    "\n",
    "def energy_mass_eq(m):\n",
    "    c = 3e8 #m/s\n",
    "    E = m*c**2\n",
    "    return E\n",
    "\n",
    "print(energy_mass_eq(1))"
   ]
  },
  {
   "cell_type": "markdown",
   "id": "b341438e",
   "metadata": {},
   "source": [
    "## Exercise 2: For What?"
   ]
  },
  {
   "cell_type": "markdown",
   "id": "98586d63",
   "metadata": {},
   "source": [
    "Use a for loop to reverse the string `'!ymonortsA'` and print the result."
   ]
  },
  {
   "cell_type": "code",
   "execution_count": 7,
   "id": "b138b83c",
   "metadata": {},
   "outputs": [
    {
     "name": "stdout",
     "output_type": "stream",
     "text": [
      "'Astronomy!'\n"
     ]
    }
   ],
   "source": [
    "#Makes a function:\n",
    "def reverse_string(str):  \n",
    "    str1 = \"\"   \n",
    "    for i in str:  \n",
    "        str1 = i + str1  \n",
    "    return str1    \n",
    "     \n",
    "str = \"'!ymonortsA'\"      \n",
    "print(reverse_string(str))  \n"
   ]
  },
  {
   "cell_type": "markdown",
   "id": "0eca9494",
   "metadata": {},
   "source": [
    "## Exercise 3: Looped Factors"
   ]
  },
  {
   "cell_type": "markdown",
   "id": "531ddd74",
   "metadata": {},
   "source": [
    "Write a program to make a list those multiples of 7 which are divisible by 6, between 1500 and 2700 (both included). Print this list."
   ]
  },
  {
   "cell_type": "code",
   "execution_count": 19,
   "id": "f8af574e",
   "metadata": {},
   "outputs": [
    {
     "name": "stdout",
     "output_type": "stream",
     "text": [
      "[1512, 1554, 1596, 1638, 1680, 1722, 1764, 1806, 1848, 1890, 1932, 1974, 2016, 2058, 2100, 2142, 2184, 2226, 2268, 2310, 2352, 2394, 2436, 2478, 2520, 2562, 2604, 2646, 2688]\n"
     ]
    }
   ],
   "source": [
    "list = []\n",
    "\n",
    "for i in range (1500,2700):\n",
    "    if i%7 == 0 and i%6 == 0:\n",
    "        list.append(i)\n",
    "    else:\n",
    "        continue\n",
    "        \n",
    "print (list)\n"
   ]
  },
  {
   "cell_type": "markdown",
   "id": "26e4ce19",
   "metadata": {},
   "source": [
    "## Exercise 4: Factorial Functionality"
   ]
  },
  {
   "cell_type": "markdown",
   "id": "f59f5d9d",
   "metadata": {},
   "source": [
    "Write a function to calculate the factorial of an input number (without using any pre-made python functions)."
   ]
  },
  {
   "cell_type": "code",
   "execution_count": 10,
   "id": "d8556dc7",
   "metadata": {},
   "outputs": [
    {
     "data": {
      "text/plain": [
       "479001600"
      ]
     },
     "execution_count": 10,
     "metadata": {},
     "output_type": "execute_result"
    }
   ],
   "source": [
    "def factorial(n):       \n",
    "    if n == 0:\n",
    "        return 1\n",
    "    else:\n",
    "        return n * factorial(n-1) #Repeats multipling itself, until it hits zero, where it would just multiple by 1\n",
    "factorial (12)"
   ]
  },
  {
   "cell_type": "markdown",
   "id": "ba56468b",
   "metadata": {},
   "source": [
    "## Exercise 5: The Fibonacci Sequence"
   ]
  },
  {
   "cell_type": "markdown",
   "id": "6e3d8b89",
   "metadata": {},
   "source": [
    "The Fibonacci sequence is a sequence of integers defined by the following recursion relation. The $n$-th integer $a_n$ is defined in terms of previous integers of the sequence as\n",
    "\n",
    "$$a_n = a_{n-1} + a_{n-2}$$\n",
    "\n",
    "and $a_0 = 0$ and $a_1 = 1$. So the first few numbers are 0, 1, 1, 2, 3, 5, 8, 13, 21, .... Write a program to print the Fibonacci series from 0 to 100."
   ]
  },
  {
   "cell_type": "code",
   "execution_count": 21,
   "id": "a0dd2157",
   "metadata": {},
   "outputs": [
    {
     "name": "stdout",
     "output_type": "stream",
     "text": [
      "0\n",
      "1\n",
      "1\n",
      "2\n",
      "3\n",
      "5\n",
      "8\n",
      "13\n",
      "21\n",
      "34\n",
      "55\n",
      "89\n",
      "144\n",
      "233\n",
      "377\n",
      "610\n",
      "987\n",
      "1597\n",
      "2584\n",
      "4181\n",
      "6765\n",
      "10946\n",
      "17711\n",
      "28657\n",
      "46368\n",
      "75025\n",
      "121393\n",
      "196418\n",
      "317811\n",
      "514229\n",
      "832040\n",
      "1346269\n",
      "2178309\n",
      "3524578\n",
      "5702887\n",
      "9227465\n",
      "14930352\n",
      "24157817\n",
      "39088169\n",
      "63245986\n",
      "102334155\n",
      "165580141\n",
      "267914296\n",
      "433494437\n",
      "701408733\n",
      "1134903170\n",
      "1836311903\n",
      "2971215073\n",
      "4807526976\n",
      "7778742049\n",
      "12586269025\n",
      "20365011074\n",
      "32951280099\n",
      "53316291173\n",
      "86267571272\n",
      "139583862445\n",
      "225851433717\n",
      "365435296162\n",
      "591286729879\n",
      "956722026041\n",
      "1548008755920\n",
      "2504730781961\n",
      "4052739537881\n",
      "6557470319842\n",
      "10610209857723\n",
      "17167680177565\n",
      "27777890035288\n",
      "44945570212853\n",
      "72723460248141\n",
      "117669030460994\n",
      "190392490709135\n",
      "308061521170129\n",
      "498454011879264\n",
      "806515533049393\n",
      "1304969544928657\n",
      "2111485077978050\n",
      "3416454622906707\n",
      "5527939700884757\n",
      "8944394323791464\n",
      "14472334024676221\n",
      "23416728348467685\n",
      "37889062373143906\n",
      "61305790721611591\n",
      "99194853094755497\n",
      "160500643816367088\n",
      "259695496911122585\n",
      "420196140727489673\n",
      "679891637638612258\n",
      "1100087778366101931\n",
      "1779979416004714189\n",
      "2880067194370816120\n",
      "4660046610375530309\n",
      "7540113804746346429\n",
      "12200160415121876738\n",
      "19740274219868223167\n",
      "31940434634990099905\n",
      "51680708854858323072\n",
      "83621143489848422977\n",
      "135301852344706746049\n",
      "218922995834555169026\n",
      "354224848179261915075\n"
     ]
    }
   ],
   "source": [
    "def fibonacci(n):\n",
    "    a = 0\n",
    "    b = 1\n",
    "    if n == 1:\n",
    "        print(a) \n",
    "    else:\n",
    "        print(a)\n",
    "        print(b)\n",
    "        for i in range(2,n):\n",
    "            c = a + b\n",
    "            a = b\n",
    "            b = c\n",
    "            print(c)\n",
    "fibonacci(101) #Python Counting, haha"
   ]
  },
  {
   "cell_type": "markdown",
   "id": "a5685181",
   "metadata": {},
   "source": [
    "## Exercise 6: Prime Ribs"
   ]
  },
  {
   "cell_type": "markdown",
   "id": "e93eefd2",
   "metadata": {},
   "source": [
    "Write a function which returns a bool value True or False decided by whether or not the input value is a prime number."
   ]
  },
  {
   "cell_type": "code",
   "execution_count": 27,
   "id": "42d8ffaf",
   "metadata": {},
   "outputs": [
    {
     "name": "stdout",
     "output_type": "stream",
     "text": [
      "please enter an integer:13\n"
     ]
    },
    {
     "data": {
      "text/plain": [
       "True"
      ]
     },
     "execution_count": 27,
     "metadata": {},
     "output_type": "execute_result"
    }
   ],
   "source": [
    "n = int(input('please enter an integer:'))\n",
    "def primeribs(n):\n",
    "    if n > 1:  \n",
    "        for i in range(2,n):  \n",
    "            if (n % i) == 0:  \n",
    "                return False\n",
    "        return True\n",
    "    else:\n",
    "        return False\n",
    "primeribs(n)"
   ]
  },
  {
   "cell_type": "markdown",
   "id": "8d3c0aeb",
   "metadata": {},
   "source": [
    "## Exercise 7: Escape Velocity"
   ]
  },
  {
   "cell_type": "markdown",
   "id": "002373bd",
   "metadata": {},
   "source": [
    "$$ V_{esc} = \\left( \\frac{2 G M}{R} \\right)^{1/2} $$"
   ]
  },
  {
   "cell_type": "markdown",
   "id": "05968bb2",
   "metadata": {},
   "source": [
    "6a) The formula for escape velocity is given above. In the cell below, create three different lists; one listing the names of each planet in the solar system, one listing their respective masses in kilograms, and one listing their radii in meters. Then, write the formula given above as a python function and use loops to calculate the escape velocity for each planet. "
   ]
  },
  {
   "cell_type": "code",
   "execution_count": 44,
   "id": "6e3e9ff2",
   "metadata": {},
   "outputs": [
    {
     "name": "stdout",
     "output_type": "stream",
     "text": [
      "Mercury has a escape velocity of 4238.16 m/s\n",
      "Venus has a escape velocity of 10357.77 m/s\n",
      "Earth has a escape velocity of 11182.37 m/s\n",
      "Mars has a escape velocity of 5014.88 m/s\n",
      "Jupiter has a escape velocity of 190306.34 m/s\n",
      "Saturn has a escape velocity of 114100.06 m/s\n",
      "Uranus has a escape velocity of 67572.66 m/s\n",
      "Neptune has a escape velocity of 74484.56 m/s\n"
     ]
    }
   ],
   "source": [
    "#Planets, sorry Pluto, your not a planet\n",
    "planets = ['Mercury', 'Venus', 'Earth', 'Mars', 'Jupiter', 'Saturn', 'Uranus', 'Neptune'] \n",
    "#Mass of the planets\n",
    "mass_kg = [3.285e23, 4.867e24, 5.972e24, 6.39e23, 1.898e27, 5.683e26, 8.681e25, 1.024e26]\n",
    "#Radii of the respective planets\n",
    "radii = [2.4397e6, 6.0518e6, 6.371e6, 3.3895e6, 6.9911e6, 5.8232e6, 2.5362e6, 2.4622e6] \n",
    "gs = 6.67e-11 #gravitation_constant, Newtons kg^-2 m^2\n",
    "counter = 0\n",
    "\n",
    "while counter < 8:\n",
    "    def escape_formula(n):\n",
    "        v_esc = ((2*gs*mass_kg[n])/radii[n])**(1/2)\n",
    "        print(planets[n],'has a escape velocity of',round(v_esc,2),'m/s')\n",
    "        return\n",
    "    escape_formula(counter)\n",
    "    counter += 1\n",
    "\n",
    "    \n"
   ]
  },
  {
   "cell_type": "markdown",
   "id": "5c0b7fbb",
   "metadata": {},
   "source": [
    "6b) Create 2 different scatter plots. In the first, use your code created in the last part to plot the relationship between mass and radius of the planets in the solar system. Then, in the second scatterplot, use the calculations you made in the previous part to plot escape velocity against both mass and radius in the same plot. Be sure to include a way for the reaser of your plot to differentiate the two. Be sure to properly label all of your plots."
   ]
  },
  {
   "cell_type": "code",
   "execution_count": 48,
   "id": "f75bad25",
   "metadata": {},
   "outputs": [
    {
     "data": {
      "image/png": "[encoded data removed]",
      "text/plain": [
       "<Figure size 432x288 with 2 Axes>"
      ]
     },
     "metadata": {
      "needs_background": "light"
     },
     "output_type": "display_data"
    }
   ],
   "source": [
    "import matplotlib.pyplot as plt\n",
    "import numpy as np\n",
    "#Planets, sorry Pluto, your not a planet\n",
    "planets = ['Mercury', 'Venus', 'Earth', 'Mars', 'Jupiter', 'Saturn', 'Uranus', 'Neptune'] \n",
    "#Mass of the planets\n",
    "mass_kg = [3.285e23, 4.867e24, 5.972e24, 6.39e23, 1.898e27, 5.683e26, 8.681e25, 1.024e26]\n",
    "#Radii of the respective planets\n",
    "radii = [2.4397e6, 6.0518e6, 6.371e6, 3.3895e6, 6.9911e6, 5.8232e6, 2.5362e6, 2.4622e6] \n",
    "gs = 6.67e-11 #gravitation_constant, Newtons kg^-2 m^2\n",
    "counter = 0\n",
    "fig, axs = plt.subplots(2)\n",
    "plt.rcParams[\"figure.autolayout\"] = True\n",
    "escape = []\n",
    "\n",
    "\n",
    "while counter < 8:\n",
    "    def escape_formula(n):\n",
    "        v_esc = ((2*gs*mass_kg[n])/radii[n])**(1/2)\n",
    "        escape.append(v_esc)\n",
    "        return\n",
    "    escape_formula(counter)\n",
    "    counter += 1\n",
    "\n",
    "\n",
    "axs[0].scatter(mass_kg,radii)\n",
    "axs[0].set_ylabel('Radii in meters(m)')\n",
    "axs[0].set_xlabel('Mass in kilograms(km)')\n",
    "axs[0].set_title('Mass vs. Radius of the Planets')\n",
    "axs[1].scatter(mass_kg,escape)\n",
    "axs[1].set_ylabel('Escape Velocity in meters per second (m/s)')\n",
    "axs[1].set_xlabel('Mass in kilograms(km)')\n",
    "axs\n",
    "plt.show()\n",
    "\n",
    "#Did not get the plot against BOTH MASS AND RADIUS..."
   ]
  },
  {
   "cell_type": "markdown",
   "id": "0ef5c73e",
   "metadata": {},
   "source": [
    "## Exercise 8: Particle in a Box"
   ]
  },
  {
   "cell_type": "markdown",
   "id": "f9ed9521",
   "metadata": {},
   "source": [
    "The energy levels for a quantum particle in a three-dimensional rectangular box of dimensions $\\{L_1, L_2, \\text{ and } L_3\\}$ are given by\n",
    "\n",
    "$$ E_{n_1, n_2, n_3} = \\frac{\\hbar^2 \\pi^2}{2m} \\left[ \\frac{n_1^2}{L_1^2} + \\frac{n_2^2}{L_2^2} + \\frac{n_3^2}{L_3^2} \\right] $$\n",
    "\n",
    "where the $n$'s are integers greater than or equal to one. Your goal is to write a program that will calculate, and list in order of increasing energy, the values of the $n$'s for the 10 lowest *different* energy levels, given a box for which $L_2 = 2L_1$ and $L_3 = 4L_1$.\n",
    "\n",
    "Your program should include two user-defined functions:\n",
    "\n",
    "1. A function `energy(n1, n2, n3)` that takes integer values $n_1$, $n_2$, and $n_3$, and computes the corresponding energy level in units of $\\hbar^2 \\pi^2/2 m L_1^2$.\n",
    "\n",
    "1. A function `lowest_unique_K(K, List)` which takes a positive integer $K$ and a list of real numbers `List`, and returns an ordered (ascending) list of the lowest $K$ unique numbers in the list `List`. For instance, `lowest_unique_K(3, [-0.5, 3, 3, 2, 6, 7, 7])` would return `[-0.5, 2, 3]`. The function should not modify the original list `List`.\n",
    "    \n",
    "You may also wish to make other user-defined functions depending on how you go about solving the problem. In fact, if you find some clever way to solve the problem that doesn't use `lowest_unique_K`, that is fine too! (You still need to write `lowest_unique_K`, though.) But whatever you do, be sure to comment your code clearly!\n",
    "\n",
    "#### Output\n",
    "\n",
    "Your final output should look like this (though with different numbers, and not necessarily the same number of lines):\n",
    "\n",
    "    energy, n1, n2, n3\n",
    "    (0.4375, 1, 1, 1)\n",
    "    (0.625, 1, 2, 1)\n",
    "    (0.8125, 2, 1, 1)\n",
    "    (0.9375, 1, 3, 1)\n",
    "    (1.0, 2, 2, 1)\n",
    "    (1.1875, 1, 1, 2)\n",
    "    (1.3125, 2, 3, 1)\n",
    "    (1.375, 1, 2, 2)\n",
    "    (1.375, 1, 4, 1)\n",
    "    (1.4375, 3, 1, 1)\n",
    "    (1.5625, 2, 1, 2)\n",
    "\n",
    "Notice how there are only 10 unique energies listed, but more than 10 lines."
   ]
  },
  {
   "cell_type": "code",
   "execution_count": 109,
   "id": "3fa3ff97",
   "metadata": {},
   "outputs": [],
   "source": [
    "#Got super confused on this one, not sure if I am doing it correctly.\n",
    "\n",
    "import numpy as np\n",
    "\n",
    "h = 6.62e-34 #Planck's constant in Joules/Second\n",
    "List = [1,2,3,4,5,6,7,8,9,10,11,12,13,14,15]\n",
    "\n",
    "def energy(n1,n2,n3):\n",
    "    #All Units are in ℏ^2𝜋^2/2𝑚𝐿^2_1, \n",
    "    E = (h*(np.pi**2)/(2) ) * (n1**2 + (n2**2)/4 + (n3**2)/16) #As the answers are in L1, I converted the L2,3 terms into L1s\n",
    "    return\n",
    "\n",
    "def lowest_unique_K(K, List):\n",
    "    list.sort() #?????\n",
    "    list.remove(K) #????????, How do I remove it into 'k' values on the list???\n"
   ]
  },
  {
   "cell_type": "code",
   "execution_count": null,
   "id": "83a5a034",
   "metadata": {},
   "outputs": [],
   "source": []
  }
 ],
 "metadata": {
  "kernelspec": {
   "display_name": "Python 3 (ipykernel)",
   "language": "python",
   "name": "python3"
  },
  "language_info": {
   "codemirror_mode": {
    "name": "ipython",
    "version": 3
   },
   "file_extension": ".py",
   "mimetype": "text/x-python",
   "name": "python",
   "nbconvert_exporter": "python",
   "pygments_lexer": "ipython3",
   "version": "3.9.12"
  }
 },
 "nbformat": 4,
 "nbformat_minor": 5
}
