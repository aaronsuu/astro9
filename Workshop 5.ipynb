{
 "cells": [
  {
   "cell_type": "markdown",
   "id": "920e039e",
   "metadata": {},
   "source": [
    "# Workshop 5: Calculus and Linear Algebra in Python"
   ]
  },
  {
   "cell_type": "code",
   "execution_count": 3,
   "id": "5f05e1bb",
   "metadata": {},
   "outputs": [],
   "source": [
    "import numpy as np\n",
    "import matplotlib.pyplot as plt\n",
    "import scipy.misc as scm"
   ]
  },
  {
   "cell_type": "markdown",
   "id": "1839d3e0",
   "metadata": {},
   "source": [
    "## Exercise 1: Python Differentiation"
   ]
  },
  {
   "cell_type": "markdown",
   "id": "b317bbc3",
   "metadata": {},
   "source": [
    "Use the `scipy.misc.derivative()` function with `order=3` to estimate the derivative of the $sin(2x)$, compute the difference relative to the analytical result and plot this difference. Feel free to try changing some of the parameters like `dx` or `order` and see how they impact your result."
   ]
  },
  {
   "cell_type": "code",
   "execution_count": 6,
   "id": "c9c6c5db",
   "metadata": {},
   "outputs": [
    {
     "ename": "AttributeError",
     "evalue": "module 'scipy' has no attribute 'derivative'",
     "output_type": "error",
     "traceback": [
      "\u001b[0;31m---------------------------------------------------------------------------\u001b[0m",
      "\u001b[0;31mAttributeError\u001b[0m                            Traceback (most recent call last)",
      "\u001b[1;32m/Users/aaronsu/Dropbox/Mac/Desktop/Berkeley Summer 2022/ASTRO 9/Workshop 5.ipynb Cell 5\u001b[0m in \u001b[0;36m<cell line: 1>\u001b[0;34m()\u001b[0m\n\u001b[0;32m----> <a href='vscode-notebook-cell:/Users/aaronsu/Dropbox/Mac/Desktop/Berkeley%20Summer%202022/ASTRO%209/Workshop%205.ipynb#ch0000004?line=0'>1</a>\u001b[0m sc\u001b[39m.\u001b[39;49mderivative()\n",
      "\u001b[0;31mAttributeError\u001b[0m: module 'scipy' has no attribute 'derivative'"
     ]
    }
   ],
   "source": [
    "scm.derivative()"
   ]
  },
  {
   "cell_type": "markdown",
   "id": "92ea9a3d",
   "metadata": {},
   "source": [
    "## Exercise 2: Python Integration"
   ]
  },
  {
   "cell_type": "markdown",
   "id": "72ffe18e",
   "metadata": {},
   "source": [
    "Compute the numerical integral with scipy.\n",
    "\n",
    "$$\\int_{0}^\\frac{5\\pi}{2}  1 + sin^2(x) dx$$"
   ]
  },
  {
   "cell_type": "code",
   "execution_count": 21,
   "id": "e56d8edb",
   "metadata": {},
   "outputs": [
    {
     "name": "stdout",
     "output_type": "stream",
     "text": [
      "The integral using scipy quad is 35.899000026780655 with a error of 3.9855896390750994e-13\n"
     ]
    }
   ],
   "source": [
    "from scipy.integrate import quad\n",
    "\n",
    "sin = np.sin\n",
    "\n",
    "a = 0\n",
    "b = (5*(np.pi))/2\n",
    "\n",
    "def y(x):\n",
    "    return 1 + (sin(2))*x\n",
    "\n",
    "integral = quad(y,a,b)\n",
    "\n",
    "print('The integral using scipy quad is', integral[0], 'with a error of',integral[1])"
   ]
  },
  {
   "cell_type": "markdown",
   "id": "ab939d4d",
   "metadata": {},
   "source": [
    "## Exercise 3: Python Integration Part 2"
   ]
  },
  {
   "cell_type": "markdown",
   "id": "57094071",
   "metadata": {},
   "source": [
    "Compute the numerical integral \n",
    "\n",
    "$$\\int_{-1}^1 \\frac{1}{\\sqrt{2\\pi}} \\exp\\left(-\\frac{x^2}{2}\\right) dx$$\n",
    "\n",
    "using an array of $N$ = 10,100, and 1000 samples, and trapezoid and Simpson methods; compare the precision of these estimates of the integral to what the Scipy quadrature method returns."
   ]
  },
  {
   "cell_type": "code",
   "execution_count": 25,
   "id": "6f6d2f45",
   "metadata": {},
   "outputs": [
    {
     "name": "stdout",
     "output_type": "stream",
     "text": [
      "The integral using scipy quad is 0.841344746068541 with a error of 5.166521783962416e-11\n"
     ]
    }
   ],
   "source": [
    "from scipy.integrate import quad\n",
    "import math\n",
    "\n",
    "a = -1\n",
    "b - 1\n",
    "\n",
    "def func(x):\n",
    "    return (1/(np.sqrt(2*np.pi)))*math.exp(-((x**2)/2))\n",
    "\n",
    "integral = quad(func,a,b)\n",
    "\n",
    "print('The integral using scipy quad is', integral[0], 'with a error of',integral[1])"
   ]
  },
  {
   "cell_type": "markdown",
   "id": "66ece8f5",
   "metadata": {},
   "source": [
    "## Exercise 4: Matrix Manipulation"
   ]
  },
  {
   "cell_type": "markdown",
   "id": "f8c02f45",
   "metadata": {},
   "source": [
    "a) Invert the matrices $C$ and $D$ in the code cell below. Then multiply $C$ and $D$ on the left by your answer for their respective inverses (calculate $C^{-1}C$ and $D^{-1}D$). Is the product what you expect?\n",
    "\n",
    "b) Let \n",
    "$$b = \\begin{pmatrix}\n",
    "1 \\\\\n",
    "2 \\\\\n",
    "\\end{pmatrix}$$\n",
    "Use the matrices given to solve for $v$ in the linear equations $Cv = b$ and $Dv = b$ by inverting $C$ and $D$."
   ]
  },
  {
   "cell_type": "code",
   "execution_count": null,
   "id": "6e3c3773",
   "metadata": {},
   "outputs": [],
   "source": [
    "# Matrices for Exercise 3\n",
    "# Do not delete this cell\n",
    "C = np.matrix([[4, 2],[-1, 5]])\n",
    "D = np.matrix([[1, 0],[-1, -1]])"
   ]
  },
  {
   "cell_type": "code",
   "execution_count": null,
   "id": "8800ef07",
   "metadata": {},
   "outputs": [],
   "source": []
  },
  {
   "cell_type": "markdown",
   "id": "6e872766",
   "metadata": {},
   "source": [
    "## Exercise 5: Determination Station"
   ]
  },
  {
   "cell_type": "markdown",
   "id": "36ab8ef6",
   "metadata": {},
   "source": [
    "Create your own set of two 3X3 matrices. Calculate the determinate of these matrices and state whether or not they are invertable. Multiply your two matrices together and find the determinant of the result. Is your product invertable?"
   ]
  },
  {
   "cell_type": "code",
   "execution_count": null,
   "id": "144fa110",
   "metadata": {},
   "outputs": [],
   "source": []
  },
  {
   "cell_type": "markdown",
   "id": "89eb130b",
   "metadata": {},
   "source": [
    "## Exercise 6: Circuit City"
   ]
  },
  {
   "cell_type": "markdown",
   "id": "99f41069",
   "metadata": {},
   "source": [
    "Consider the circuit below:\n",
    "\n",
    "![a circuit](circuit.jpg)\n",
    "(Picture of circuit from http://aplusphysics.com)\n",
    "\n",
    "This circuit has 3 currents $I_1, I_2, I_3$ for which we need to solve using Kirchoff's loop and junction rules. By applying these rules, we can get the following system of equations:\n",
    "\n",
    "$$ V -I_1R_1 - I_2R_2 - I_1R_4 = 0$$\n",
    "$$ I_1 = I_2 + I_3$$\n",
    "$$ I_2R_2 - I_3R_3 = 0$$\n",
    "\n",
    "Re-arrange these equations to take the form \n",
    "\n",
    "$$Av = b$$\n",
    "\n",
    "where $v$ is a vector of your three unknown currents $(I_1, I_2, I_3)^T$ and $A$ is a $3 \\times 3$ matrix of coefficients and $b$ is a vector of 3 constants. Then, use any numerical method you would like to solve for the three constants."
   ]
  },
  {
   "cell_type": "code",
   "execution_count": null,
   "id": "63fe288a",
   "metadata": {},
   "outputs": [],
   "source": []
  },
  {
   "cell_type": "markdown",
   "id": "12ecc624",
   "metadata": {},
   "source": [
    "## Exercise 7: Particle in a Box"
   ]
  },
  {
   "cell_type": "markdown",
   "id": "5c070c47",
   "metadata": {},
   "source": [
    "Solving a quantum mechanics problem - if you haven't taken quantum mechanics, don't worry: I've done the physics portion for you, so the remaining part is just computational.\n",
    "\n",
    "Suppose a particle is in a square well potential $V$ with infinite barriers at $x \\leq 0$ and $x \\geq L$. The basic problem, which is exactly solvable, is called the \"particle in a box\" and has $V = 0$ for $0< x < L$:\n",
    "\n",
    "\n",
    "Now, we want to go beyond this simple description and try to solve the case where $V(x) = (a/L)x$ for $0 < x < L$ (but still $V = \\infty$ for $x \\leq 0$ and $x \\geq L$). This would be the case if, for example, the particle in the box were charged and a finite electric field were applied.\n",
    "\n",
    "Because $V = \\infty$ outside the box, the wavefunction $\\psi(x)$ must be equal to zero for $x\\leq 0$ and $x\\geq L$ (remember that if $\\psi(x)\\neq 0$, there is a nonzero probability of finding the particle at $x$). To solve this, we can express $\\psi(x)$ for $0 < x < L$ as a linear combination of functions which are equal to zero at $x=0,L$. That way, they respect this condition. Those functions are of the form \n",
    "\n",
    "$$\\psi(x) = \\sum\\limits_{n=1}^\\infty \\psi_n \\sin\\left({\\frac{n\\pi x}{L}}\\right)$$\n",
    "\n",
    "The coefficients $\\psi_n$ are the unknowns for which we need to solve. Let us think of these unknowns as forming a vector $v = (\\psi_1, \\psi_2, \\dots)^T$. The Schrodinger equation is a matrix equation that looks like \n",
    "\n",
    "$$H v = E v$$\n",
    "\n",
    "where $H$ is a matrix (called the Hamiltonian) and $E$ is a scalar (the energies of $H$). Therefore, this is an eigenvalue problem. What actually is the matrix $H$? For the potential described above, it can be shown that the entries of $H$ take on the form \n",
    "\n",
    "$$H_{mn} = \\begin{cases}\n",
    "0 \\quad m \\neq n\\text{ and both are even or odd}\\\\\n",
    " -\\frac{8amn}{\\pi^2(m^2-n^2)^2} \\quad m \\neq n\\text{ and one is even and one is odd} \\\\\n",
    "\\frac{a}{2} + \\frac{\\hbar^2\\pi^2n^2}{2ML^2}\\quad m = n\n",
    "\\end{cases}$$\n",
    "\n",
    "Here $M$ is the mass of the particle, $\\hbar$ is the reduced Planck's constant (values given below). So now we have a way to calculate all of the elements of $H$, so we have enough to set up the problem. But there is one little thing we need to deal with. The expression for $\\psi(x)$ involve summing from $n=1$ to $n=\\infty$! That means $v$ has $\\infty$ elements and $H$ and is an $\\infty \\times \\infty$ matrix! So we need to make some simplifications. One case we can consider is that if we are only interested in the lowest energies (lowest eigenvalues) of $H$, then we likely do not need to consider the high frequency (high $n$) functions in the expansion of $\\psi(x)$. So let us choose to only consider $n=1\\dots 10$, so $v$ has 10 elements and $H$ is a $10\\times 10 $ matrix.\n",
    "\n",
    "\n",
    "\n",
    "A physically realistic setup might have that our particle is an electron sitting in optical trap of width $L$. So here are some plausible values to use:\n",
    "\n",
    "$$M = 9.109\\times 10^{-31}\\text{ kg}$$\n",
    "$$a = 1.60218\\times 10^{-18}\\text{ J}$$\n",
    "$$L = 5\\times 10^{-10}\\text{ m}$$\n",
    "$$\\hbar = 1.0545\\times 10^{-34}\\text{ J}\\cdot\\text{s}$$\n",
    "\n",
    "Find the energies (eigenvalues) of the $10 \\times 10$ matrix $H$. When you are populating the elements of $H$, beware that in the equations above, $n = 1\\dots 10$, but your matrix dimensions start at 0."
   ]
  },
  {
   "cell_type": "code",
   "execution_count": null,
   "id": "9d7e19eb",
   "metadata": {},
   "outputs": [],
   "source": []
  }
 ],
 "metadata": {
  "kernelspec": {
   "display_name": "Python 3.9.12 ('base')",
   "language": "python",
   "name": "python3"
  },
  "language_info": {
   "codemirror_mode": {
    "name": "ipython",
    "version": 3
   },
   "file_extension": ".py",
   "mimetype": "text/x-python",
   "name": "python",
   "nbconvert_exporter": "python",
   "pygments_lexer": "ipython3",
   "version": "3.9.12"
  },
  "vscode": {
   "interpreter": {
    "hash": "80a93910b6ddd771e6649becc50c73cb2ee3264e66bce87c9fd88e4d3ddf5fd6"
   }
  }
 },
 "nbformat": 4,
 "nbformat_minor": 5
}
