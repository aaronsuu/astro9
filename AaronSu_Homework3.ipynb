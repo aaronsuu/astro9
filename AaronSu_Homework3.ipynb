{
 "cells": [
  {
   "cell_type": "markdown",
   "id": "82214663",
   "metadata": {},
   "source": [
    "# Homework 3: Python Data Analysis"
   ]
  },
  {
   "cell_type": "markdown",
   "id": "8357dbba",
   "metadata": {},
   "source": [
    "** Submit this notebook to bCourses to receive a credit for this assignment.**\n",
    "\n",
    "Please complete this homework assignment in code cells in the iPython notebook. Include comments in your code when necessary. Enter your name in the cell at the top of the notebook, and rename the notebook name_HW03.ipynb."
   ]
  },
  {
   "cell_type": "markdown",
   "id": "44f8cd48",
   "metadata": {},
   "source": [
    "# Problem 1: Conditional Review"
   ]
  },
  {
   "cell_type": "markdown",
   "id": "eee8d289",
   "metadata": {},
   "source": [
    "1a) Write a program that produces a random number and prints heads for even numbers and tails for odd numbers."
   ]
  },
  {
   "cell_type": "code",
   "execution_count": 12,
   "id": "dce56f4c",
   "metadata": {},
   "outputs": [
    {
     "name": "stdout",
     "output_type": "stream",
     "text": [
      "94\n",
      "Heads\n"
     ]
    }
   ],
   "source": [
    "import numpy as np\n",
    "n = np.random.randint(0,100)\n",
    "print(n)\n",
    "\n",
    "if n%2 == 0:\n",
    "    print('Heads')\n",
    "else:\n",
    "    print('Tails')"
   ]
  },
  {
   "cell_type": "markdown",
   "id": "64fdcb46",
   "metadata": {},
   "source": [
    "1b) Write a Python program which takes two digits m (row) and n (column) as input and generates a two-dimensional array. The element value in the i-th row and j-th column of the array should be i*j.\n",
    "\n",
    "Note :\n",
    "i = 0,1.., m-1\n",
    "j = 0,1, n-1."
   ]
  },
  {
   "cell_type": "code",
   "execution_count": 13,
   "id": "852effbe",
   "metadata": {},
   "outputs": [
    {
     "name": "stdout",
     "output_type": "stream",
     "text": [
      "Enter the row value: 12\n",
      "Enter the column value: 23\n",
      "276  276  276  276  276  276  276  276  276  276  276  276  276  276  276  276  276  276  276  276  276  276  276  \n",
      "\n",
      "276  276  276  276  276  276  276  276  276  276  276  276  276  276  276  276  276  276  276  276  276  276  276  \n",
      "\n",
      "276  276  276  276  276  276  276  276  276  276  276  276  276  276  276  276  276  276  276  276  276  276  276  \n",
      "\n",
      "276  276  276  276  276  276  276  276  276  276  276  276  276  276  276  276  276  276  276  276  276  276  276  \n",
      "\n",
      "276  276  276  276  276  276  276  276  276  276  276  276  276  276  276  276  276  276  276  276  276  276  276  \n",
      "\n",
      "276  276  276  276  276  276  276  276  276  276  276  276  276  276  276  276  276  276  276  276  276  276  276  \n",
      "\n",
      "276  276  276  276  276  276  276  276  276  276  276  276  276  276  276  276  276  276  276  276  276  276  276  \n",
      "\n",
      "276  276  276  276  276  276  276  276  276  276  276  276  276  276  276  276  276  276  276  276  276  276  276  \n",
      "\n",
      "276  276  276  276  276  276  276  276  276  276  276  276  276  276  276  276  276  276  276  276  276  276  276  \n",
      "\n",
      "276  276  276  276  276  276  276  276  276  276  276  276  276  276  276  276  276  276  276  276  276  276  276  \n",
      "\n",
      "276  276  276  276  276  276  276  276  276  276  276  276  276  276  276  276  276  276  276  276  276  276  276  \n",
      "\n",
      "276  276  276  276  276  276  276  276  276  276  276  276  276  276  276  276  276  276  276  276  276  276  276  \n",
      "\n",
      "276  276  276  276  276  276  276  276  276  276  276  276  276  276  276  276  276  276  276  276  276  276  276  \n",
      "\n",
      "276  276  276  276  276  276  276  276  276  276  276  276  276  276  276  276  276  276  276  276  276  276  276  \n",
      "\n",
      "276  276  276  276  276  276  276  276  276  276  276  276  276  276  276  276  276  276  276  276  276  276  276  \n",
      "\n",
      "276  276  276  276  276  276  276  276  276  276  276  276  276  276  276  276  276  276  276  276  276  276  276  \n",
      "\n",
      "276  276  276  276  276  276  276  276  276  276  276  276  276  276  276  276  276  276  276  276  276  276  276  \n",
      "\n",
      "276  276  276  276  276  276  276  276  276  276  276  276  276  276  276  276  276  276  276  276  276  276  276  \n",
      "\n",
      "276  276  276  276  276  276  276  276  276  276  276  276  276  276  276  276  276  276  276  276  276  276  276  \n",
      "\n",
      "276  276  276  276  276  276  276  276  276  276  276  276  276  276  276  276  276  276  276  276  276  276  276  \n",
      "\n",
      "276  276  276  276  276  276  276  276  276  276  276  276  276  276  276  276  276  276  276  276  276  276  276  \n",
      "\n",
      "276  276  276  276  276  276  276  276  276  276  276  276  276  276  276  276  276  276  276  276  276  276  276  \n",
      "\n",
      "276  276  276  276  276  276  276  276  276  276  276  276  276  276  276  276  276  276  276  276  276  276  276  \n",
      "\n"
     ]
    }
   ],
   "source": [
    "m=int(input(\"Enter the row value: \"))\n",
    "\n",
    "n=int(input(\"Enter the column value: \"))\n",
    "\n",
    "for i in range(1,n+1):\n",
    "\n",
    "     for j in range(1,n+1):\n",
    "\n",
    "         print(m*n,end=\"  \")\n",
    "\n",
    "     print(\"\\n\")"
   ]
  },
  {
   "cell_type": "markdown",
   "id": "1805f53c",
   "metadata": {},
   "source": [
    "1c) The rate at which temperature changes with height is dependent on where you are in the atmosphere. Look up the temperature gradient functions for the different levels of the atmosphere in a standard day and write a python function which takes height as an input and outputs temperature."
   ]
  },
  {
   "cell_type": "code",
   "execution_count": 31,
   "id": "eac4e894",
   "metadata": {},
   "outputs": [
    {
     "name": "stdout",
     "output_type": "stream",
     "text": [
      "Please type in a height in meters: 123333\n",
      "The temperature would be 3556.45 Degrees Celsius\n"
     ]
    }
   ],
   "source": [
    "height_input = int(input('Please type in a height in meters: '))\n",
    "if height_input < 0:\n",
    "    print('Invalid Height')\n",
    "elif height_input > 25000:\n",
    "    T = -131.21 + 0.0299*height_input\n",
    "    T = round(T,2)\n",
    "    print ('The temperature would be', T, 'Degrees Celsius')\n",
    "elif height_input < 25000 and height_input > 11000:\n",
    "    T = -56.46\n",
    "    print ('The temperature would be', T, 'Degrees Celsius')\n",
    "elif height_input < 11000:\n",
    "    T = 15.04 - 0.00649 * height_input\n",
    "    T = round(T,2)\n",
    "    print ('The temperature would be', T, 'Degrees Celsius')\n",
    "else:\n",
    "    print('Error')"
   ]
  },
  {
   "cell_type": "markdown",
   "id": "6811b072",
   "metadata": {},
   "source": [
    "1d) The mathematical function $\\text{sinc}(x)$ appears when deriving the theory for [double-slit experiments](https://en.wikipedia.org/wiki/Double-slit_experiment).\n",
    "\n",
    "$$ \\text{sinc}(x) \\equiv \\frac{\\sin x}{x} $$\n",
    "\n",
    "Write a python function for sinc(x). Make sure that your function handles $x=0$ correctly. Plot your result."
   ]
  },
  {
   "cell_type": "code",
   "execution_count": 121,
   "id": "dccc593d",
   "metadata": {},
   "outputs": [
    {
     "data": {
      "image/png": "[encoded data removed]",
      "text/plain": [
       "<Figure size 432x288 with 1 Axes>"
      ]
     },
     "metadata": {
      "needs_background": "light"
     },
     "output_type": "display_data"
    }
   ],
   "source": [
    "import numpy as np\n",
    "import matplotlib.pyplot as plt\n",
    "from pylab import *\n",
    "\n",
    "x = 12\n",
    "\n",
    "def sinc(x):\n",
    "        answer = (np.sin(x))/x\n",
    "        return answer \n",
    "    \n",
    "#Tests if x is valid or not\n",
    "if x == 0:\n",
    "    answer = 1\n",
    "    print(answer)\n",
    "\n",
    "else:\n",
    "    y = sinc(x)\n",
    "\n",
    "\n",
    "x = np.linspace(-10, 10, 1000)\n",
    "y = sinc(x)\n",
    "plt.plot(x, y);\n",
    "plt.show();"
   ]
  },
  {
   "cell_type": "markdown",
   "id": "1609292f",
   "metadata": {},
   "source": [
    "# Problem 2: Planet Pandas"
   ]
  },
  {
   "cell_type": "markdown",
   "id": "9287b66c",
   "metadata": {},
   "source": [
    "2a) Read into your notebook the csv file labeled \"planets.csv\" using pandas. Load this data into a pandas dataframe and display that dataframe with its proper header."
   ]
  },
  {
   "cell_type": "code",
   "execution_count": 7,
   "id": "329cd09e",
   "metadata": {},
   "outputs": [
    {
     "data": {
      "text/html": [
       "<div>\n",
       "<style scoped>\n",
       "    .dataframe tbody tr th:only-of-type {\n",
       "        vertical-align: middle;\n",
       "    }\n",
       "\n",
       "    .dataframe tbody tr th {\n",
       "        vertical-align: top;\n",
       "    }\n",
       "\n",
       "    .dataframe thead th {\n",
       "        text-align: right;\n",
       "    }\n",
       "</style>\n",
       "<table border=\"1\" class=\"dataframe\">\n",
       "  <thead>\n",
       "    <tr style=\"text-align: right;\">\n",
       "      <th></th>\n",
       "      <th>pl_name</th>\n",
       "      <th>pl_discmethod</th>\n",
       "      <th>pl_orbper</th>\n",
       "      <th>pl_orbpererr1</th>\n",
       "      <th>pl_orbpererr2</th>\n",
       "      <th>pl_orbperlim</th>\n",
       "      <th>pl_orbsmax</th>\n",
       "      <th>pl_orbsmaxerr1</th>\n",
       "      <th>pl_orbsmaxerr2</th>\n",
       "      <th>pl_orbsmaxlim</th>\n",
       "      <th>...</th>\n",
       "      <th>st_raderr2</th>\n",
       "      <th>st_radlim</th>\n",
       "      <th>pl_eqt</th>\n",
       "      <th>pl_eqterr1</th>\n",
       "      <th>pl_eqterr2</th>\n",
       "      <th>pl_eqtlim</th>\n",
       "      <th>st_lum</th>\n",
       "      <th>st_lumerr1</th>\n",
       "      <th>st_lumerr2</th>\n",
       "      <th>st_lumlim</th>\n",
       "    </tr>\n",
       "  </thead>\n",
       "  <tbody>\n",
       "    <tr>\n",
       "      <th>0</th>\n",
       "      <td>11 Com b</td>\n",
       "      <td>Radial Velocity</td>\n",
       "      <td>326.030000</td>\n",
       "      <td>0.320000</td>\n",
       "      <td>-0.320000</td>\n",
       "      <td>0.0</td>\n",
       "      <td>1.290000</td>\n",
       "      <td>0.050000</td>\n",
       "      <td>-0.050000</td>\n",
       "      <td>0.0</td>\n",
       "      <td>...</td>\n",
       "      <td>-2.00</td>\n",
       "      <td>0.0</td>\n",
       "      <td>NaN</td>\n",
       "      <td>NaN</td>\n",
       "      <td>NaN</td>\n",
       "      <td>NaN</td>\n",
       "      <td>2.243</td>\n",
       "      <td>0.071</td>\n",
       "      <td>-0.085</td>\n",
       "      <td>0.0</td>\n",
       "    </tr>\n",
       "    <tr>\n",
       "      <th>1</th>\n",
       "      <td>11 UMi b</td>\n",
       "      <td>Radial Velocity</td>\n",
       "      <td>516.219970</td>\n",
       "      <td>3.200000</td>\n",
       "      <td>-3.200000</td>\n",
       "      <td>0.0</td>\n",
       "      <td>1.530000</td>\n",
       "      <td>0.070000</td>\n",
       "      <td>-0.070000</td>\n",
       "      <td>0.0</td>\n",
       "      <td>...</td>\n",
       "      <td>-2.84</td>\n",
       "      <td>0.0</td>\n",
       "      <td>NaN</td>\n",
       "      <td>NaN</td>\n",
       "      <td>NaN</td>\n",
       "      <td>0.0</td>\n",
       "      <td>NaN</td>\n",
       "      <td>NaN</td>\n",
       "      <td>NaN</td>\n",
       "      <td>0.0</td>\n",
       "    </tr>\n",
       "    <tr>\n",
       "      <th>2</th>\n",
       "      <td>14 And b</td>\n",
       "      <td>Radial Velocity</td>\n",
       "      <td>185.840000</td>\n",
       "      <td>0.230000</td>\n",
       "      <td>-0.230000</td>\n",
       "      <td>0.0</td>\n",
       "      <td>0.830000</td>\n",
       "      <td>NaN</td>\n",
       "      <td>NaN</td>\n",
       "      <td>0.0</td>\n",
       "      <td>...</td>\n",
       "      <td>-1.00</td>\n",
       "      <td>0.0</td>\n",
       "      <td>NaN</td>\n",
       "      <td>NaN</td>\n",
       "      <td>NaN</td>\n",
       "      <td>NaN</td>\n",
       "      <td>1.763</td>\n",
       "      <td>NaN</td>\n",
       "      <td>NaN</td>\n",
       "      <td>0.0</td>\n",
       "    </tr>\n",
       "    <tr>\n",
       "      <th>3</th>\n",
       "      <td>14 Her b</td>\n",
       "      <td>Radial Velocity</td>\n",
       "      <td>1773.400020</td>\n",
       "      <td>2.500000</td>\n",
       "      <td>-2.500000</td>\n",
       "      <td>0.0</td>\n",
       "      <td>2.930000</td>\n",
       "      <td>0.080000</td>\n",
       "      <td>-0.080000</td>\n",
       "      <td>0.0</td>\n",
       "      <td>...</td>\n",
       "      <td>-0.01</td>\n",
       "      <td>0.0</td>\n",
       "      <td>NaN</td>\n",
       "      <td>NaN</td>\n",
       "      <td>NaN</td>\n",
       "      <td>0.0</td>\n",
       "      <td>NaN</td>\n",
       "      <td>NaN</td>\n",
       "      <td>NaN</td>\n",
       "      <td>0.0</td>\n",
       "    </tr>\n",
       "    <tr>\n",
       "      <th>4</th>\n",
       "      <td>16 Cyg B b</td>\n",
       "      <td>Radial Velocity</td>\n",
       "      <td>798.500000</td>\n",
       "      <td>1.000000</td>\n",
       "      <td>-1.000000</td>\n",
       "      <td>0.0</td>\n",
       "      <td>1.660000</td>\n",
       "      <td>0.030000</td>\n",
       "      <td>-0.030000</td>\n",
       "      <td>0.0</td>\n",
       "      <td>...</td>\n",
       "      <td>-0.01</td>\n",
       "      <td>0.0</td>\n",
       "      <td>NaN</td>\n",
       "      <td>NaN</td>\n",
       "      <td>NaN</td>\n",
       "      <td>0.0</td>\n",
       "      <td>NaN</td>\n",
       "      <td>NaN</td>\n",
       "      <td>NaN</td>\n",
       "      <td>0.0</td>\n",
       "    </tr>\n",
       "    <tr>\n",
       "      <th>...</th>\n",
       "      <td>...</td>\n",
       "      <td>...</td>\n",
       "      <td>...</td>\n",
       "      <td>...</td>\n",
       "      <td>...</td>\n",
       "      <td>...</td>\n",
       "      <td>...</td>\n",
       "      <td>...</td>\n",
       "      <td>...</td>\n",
       "      <td>...</td>\n",
       "      <td>...</td>\n",
       "      <td>...</td>\n",
       "      <td>...</td>\n",
       "      <td>...</td>\n",
       "      <td>...</td>\n",
       "      <td>...</td>\n",
       "      <td>...</td>\n",
       "      <td>...</td>\n",
       "      <td>...</td>\n",
       "      <td>...</td>\n",
       "      <td>...</td>\n",
       "    </tr>\n",
       "    <tr>\n",
       "      <th>3941</th>\n",
       "      <td>tau Gem b</td>\n",
       "      <td>Radial Velocity</td>\n",
       "      <td>305.500000</td>\n",
       "      <td>0.100000</td>\n",
       "      <td>-0.100000</td>\n",
       "      <td>0.0</td>\n",
       "      <td>1.170000</td>\n",
       "      <td>NaN</td>\n",
       "      <td>NaN</td>\n",
       "      <td>0.0</td>\n",
       "      <td>...</td>\n",
       "      <td>-0.70</td>\n",
       "      <td>0.0</td>\n",
       "      <td>NaN</td>\n",
       "      <td>NaN</td>\n",
       "      <td>NaN</td>\n",
       "      <td>NaN</td>\n",
       "      <td>NaN</td>\n",
       "      <td>NaN</td>\n",
       "      <td>NaN</td>\n",
       "      <td>NaN</td>\n",
       "    </tr>\n",
       "    <tr>\n",
       "      <th>3942</th>\n",
       "      <td>ups And b</td>\n",
       "      <td>Radial Velocity</td>\n",
       "      <td>4.617033</td>\n",
       "      <td>0.000023</td>\n",
       "      <td>-0.000023</td>\n",
       "      <td>0.0</td>\n",
       "      <td>0.059222</td>\n",
       "      <td>0.000000</td>\n",
       "      <td>0.000000</td>\n",
       "      <td>0.0</td>\n",
       "      <td>...</td>\n",
       "      <td>NaN</td>\n",
       "      <td>0.0</td>\n",
       "      <td>NaN</td>\n",
       "      <td>NaN</td>\n",
       "      <td>NaN</td>\n",
       "      <td>0.0</td>\n",
       "      <td>NaN</td>\n",
       "      <td>NaN</td>\n",
       "      <td>NaN</td>\n",
       "      <td>NaN</td>\n",
       "    </tr>\n",
       "    <tr>\n",
       "      <th>3943</th>\n",
       "      <td>ups And c</td>\n",
       "      <td>Radial Velocity</td>\n",
       "      <td>241.258000</td>\n",
       "      <td>0.064000</td>\n",
       "      <td>-0.064000</td>\n",
       "      <td>0.0</td>\n",
       "      <td>0.827774</td>\n",
       "      <td>0.000015</td>\n",
       "      <td>-0.000015</td>\n",
       "      <td>0.0</td>\n",
       "      <td>...</td>\n",
       "      <td>NaN</td>\n",
       "      <td>0.0</td>\n",
       "      <td>NaN</td>\n",
       "      <td>NaN</td>\n",
       "      <td>NaN</td>\n",
       "      <td>0.0</td>\n",
       "      <td>NaN</td>\n",
       "      <td>NaN</td>\n",
       "      <td>NaN</td>\n",
       "      <td>NaN</td>\n",
       "    </tr>\n",
       "    <tr>\n",
       "      <th>3944</th>\n",
       "      <td>ups And d</td>\n",
       "      <td>Radial Velocity</td>\n",
       "      <td>1276.460000</td>\n",
       "      <td>0.570000</td>\n",
       "      <td>-0.570000</td>\n",
       "      <td>0.0</td>\n",
       "      <td>2.513290</td>\n",
       "      <td>0.000750</td>\n",
       "      <td>-0.000750</td>\n",
       "      <td>0.0</td>\n",
       "      <td>...</td>\n",
       "      <td>NaN</td>\n",
       "      <td>0.0</td>\n",
       "      <td>NaN</td>\n",
       "      <td>NaN</td>\n",
       "      <td>NaN</td>\n",
       "      <td>0.0</td>\n",
       "      <td>NaN</td>\n",
       "      <td>NaN</td>\n",
       "      <td>NaN</td>\n",
       "      <td>NaN</td>\n",
       "    </tr>\n",
       "    <tr>\n",
       "      <th>3945</th>\n",
       "      <td>xi Aql b</td>\n",
       "      <td>Radial Velocity</td>\n",
       "      <td>136.750000</td>\n",
       "      <td>0.250000</td>\n",
       "      <td>-0.250000</td>\n",
       "      <td>0.0</td>\n",
       "      <td>0.680000</td>\n",
       "      <td>NaN</td>\n",
       "      <td>NaN</td>\n",
       "      <td>0.0</td>\n",
       "      <td>...</td>\n",
       "      <td>NaN</td>\n",
       "      <td>0.0</td>\n",
       "      <td>NaN</td>\n",
       "      <td>NaN</td>\n",
       "      <td>NaN</td>\n",
       "      <td>NaN</td>\n",
       "      <td>1.839</td>\n",
       "      <td>NaN</td>\n",
       "      <td>NaN</td>\n",
       "      <td>0.0</td>\n",
       "    </tr>\n",
       "  </tbody>\n",
       "</table>\n",
       "<p>3946 rows × 46 columns</p>\n",
       "</div>"
      ],
      "text/plain": [
       "         pl_name    pl_discmethod    pl_orbper  pl_orbpererr1  pl_orbpererr2  \\\n",
       "0       11 Com b  Radial Velocity   326.030000       0.320000      -0.320000   \n",
       "1       11 UMi b  Radial Velocity   516.219970       3.200000      -3.200000   \n",
       "2       14 And b  Radial Velocity   185.840000       0.230000      -0.230000   \n",
       "3       14 Her b  Radial Velocity  1773.400020       2.500000      -2.500000   \n",
       "4     16 Cyg B b  Radial Velocity   798.500000       1.000000      -1.000000   \n",
       "...          ...              ...          ...            ...            ...   \n",
       "3941   tau Gem b  Radial Velocity   305.500000       0.100000      -0.100000   \n",
       "3942   ups And b  Radial Velocity     4.617033       0.000023      -0.000023   \n",
       "3943   ups And c  Radial Velocity   241.258000       0.064000      -0.064000   \n",
       "3944   ups And d  Radial Velocity  1276.460000       0.570000      -0.570000   \n",
       "3945    xi Aql b  Radial Velocity   136.750000       0.250000      -0.250000   \n",
       "\n",
       "      pl_orbperlim  pl_orbsmax  pl_orbsmaxerr1  pl_orbsmaxerr2  pl_orbsmaxlim  \\\n",
       "0              0.0    1.290000        0.050000       -0.050000            0.0   \n",
       "1              0.0    1.530000        0.070000       -0.070000            0.0   \n",
       "2              0.0    0.830000             NaN             NaN            0.0   \n",
       "3              0.0    2.930000        0.080000       -0.080000            0.0   \n",
       "4              0.0    1.660000        0.030000       -0.030000            0.0   \n",
       "...            ...         ...             ...             ...            ...   \n",
       "3941           0.0    1.170000             NaN             NaN            0.0   \n",
       "3942           0.0    0.059222        0.000000        0.000000            0.0   \n",
       "3943           0.0    0.827774        0.000015       -0.000015            0.0   \n",
       "3944           0.0    2.513290        0.000750       -0.000750            0.0   \n",
       "3945           0.0    0.680000             NaN             NaN            0.0   \n",
       "\n",
       "      ...  st_raderr2  st_radlim  pl_eqt  pl_eqterr1  pl_eqterr2  pl_eqtlim  \\\n",
       "0     ...       -2.00        0.0     NaN         NaN         NaN        NaN   \n",
       "1     ...       -2.84        0.0     NaN         NaN         NaN        0.0   \n",
       "2     ...       -1.00        0.0     NaN         NaN         NaN        NaN   \n",
       "3     ...       -0.01        0.0     NaN         NaN         NaN        0.0   \n",
       "4     ...       -0.01        0.0     NaN         NaN         NaN        0.0   \n",
       "...   ...         ...        ...     ...         ...         ...        ...   \n",
       "3941  ...       -0.70        0.0     NaN         NaN         NaN        NaN   \n",
       "3942  ...         NaN        0.0     NaN         NaN         NaN        0.0   \n",
       "3943  ...         NaN        0.0     NaN         NaN         NaN        0.0   \n",
       "3944  ...         NaN        0.0     NaN         NaN         NaN        0.0   \n",
       "3945  ...         NaN        0.0     NaN         NaN         NaN        NaN   \n",
       "\n",
       "      st_lum  st_lumerr1  st_lumerr2  st_lumlim  \n",
       "0      2.243       0.071      -0.085        0.0  \n",
       "1        NaN         NaN         NaN        0.0  \n",
       "2      1.763         NaN         NaN        0.0  \n",
       "3        NaN         NaN         NaN        0.0  \n",
       "4        NaN         NaN         NaN        0.0  \n",
       "...      ...         ...         ...        ...  \n",
       "3941     NaN         NaN         NaN        NaN  \n",
       "3942     NaN         NaN         NaN        NaN  \n",
       "3943     NaN         NaN         NaN        NaN  \n",
       "3944     NaN         NaN         NaN        NaN  \n",
       "3945   1.839         NaN         NaN        0.0  \n",
       "\n",
       "[3946 rows x 46 columns]"
      ]
     },
     "execution_count": 7,
     "metadata": {},
     "output_type": "execute_result"
    }
   ],
   "source": [
    "import pandas as pd\n",
    "\n",
    "planets = r'planets.csv'\n",
    "planets_df = pd.read_csv(planets, skiprows=52)\n",
    "\n",
    "planets_df"
   ]
  },
  {
   "cell_type": "markdown",
   "id": "46dce14a",
   "metadata": {},
   "source": [
    "2b) Use the data-set to plot a histrogram showing the frequency an exoplanet is discovered using each different discovery methods."
   ]
  },
  {
   "cell_type": "code",
   "execution_count": 20,
   "id": "2240f777",
   "metadata": {},
   "outputs": [
    {
     "data": {
      "image/png": "[encoded data removed]",
      "text/plain": [
       "<Figure size 1008x576 with 1 Axes>"
      ]
     },
     "metadata": {
      "needs_background": "light"
     },
     "output_type": "display_data"
    }
   ],
   "source": [
    "import matplotlib.pyplot as plt\n",
    "import numpy as np\n",
    "import pandas as pd\n",
    "\n",
    "fig = plt.figure();\n",
    "spacing = 0.100\n",
    "fig.subplots_adjust(bottom=spacing)\n",
    "plt.rcParams[\"figure.figsize\"] = [14,8]\n",
    "plt.rcParams[\"figure.autolayout\"] = True\n",
    "plt.hist(planets_df['pl_discmethod'])\n",
    "plt.ylabel('Frequency count')\n",
    "plt.xlabel('Types');\n",
    "plt.title('The frequency of an exoplanet being discovered by different discovery methods')\n",
    "plt.xticks(rotation=90)\n",
    "plt.autoscale(enable=True, axis=u'both', tight=False)\n",
    "plt.show()"
   ]
  },
  {
   "cell_type": "markdown",
   "id": "a72cd9d5",
   "metadata": {},
   "source": [
    "2c) The outer and inner limits of the habitable zone for a stellar system can be described using Luminosity in the equations below. Use these equations to calculate and plot the inner and outer radii of the stellar systems listed in your dataframe. Be sure to properly label each aspect of your plot. Finally, add these values to your dataframe, adding to the useful data you have easy access to."
   ]
  },
  {
   "cell_type": "code",
   "execution_count": 26,
   "id": "71e129a6",
   "metadata": {},
   "outputs": [
    {
     "data": {
      "image/png": "[encoded data removed]",
      "text/plain": [
       "<Figure size 1008x576 with 1 Axes>"
      ]
     },
     "metadata": {
      "needs_background": "light"
     },
     "output_type": "display_data"
    },
    {
     "data": {
      "image/png": "[encoded data removed]",
      "text/plain": [
       "<Figure size 1008x576 with 1 Axes>"
      ]
     },
     "metadata": {
      "needs_background": "light"
     },
     "output_type": "display_data"
    }
   ],
   "source": [
    "#Converting the Absolute value for column st_lum\n",
    "import numpy as np\n",
    "import matplotlib.pyplot as plt\n",
    "import pandas as pd\n",
    "import math\n",
    "\n",
    "#Grabs only the 'st_lum' column from planets_df\n",
    "lum_df = pd.DataFrame(planets_df, columns=['st_lum'])\n",
    "lum_df = lum_df.dropna()\n",
    "\n",
    "#Calculations\n",
    "inner = np.sqrt((10**(lum_df['st_lum']))/1.1)\n",
    "outer = np.sqrt((10**(lum_df['st_lum']))/0.53)\n",
    "\n",
    "#appending the dataframa\n",
    "planets_df.append(inner)\n",
    "planets_df.append(outer)\n",
    "#Plotting\n",
    "plt.figure()\n",
    "plt.plot(inner, 'r-')\n",
    "plt.title('Inner Radii Limits')\n",
    "plt.figure()\n",
    "plt.plot(outer, 'g-')\n",
    "plt.title('Outer Radii Limits')\n",
    "\n",
    "plt.show()\n"
   ]
  },
  {
   "cell_type": "markdown",
   "id": "8cf0f4bc",
   "metadata": {},
   "source": [
    "2d) Finally, use the simplified version of Kepler's Third Law below to calculate the orbital radius of the planets for which oribtal period data is given. Then, use that value to calculate an estimate for how many planets reside in the habitable zones of their respecitve systems."
   ]
  },
  {
   "cell_type": "markdown",
   "id": "830b4b6b",
   "metadata": {},
   "source": [
    "$$P^2 = r^3$$, \n",
    "\n",
    "where P is the orbital period and r is the orbital radius"
   ]
  },
  {
   "cell_type": "code",
   "execution_count": 91,
   "id": "f48975e4",
   "metadata": {
    "slideshow": {
     "slide_type": "subslide"
    }
   },
   "outputs": [
    {
     "name": "stdout",
     "output_type": "stream",
     "text": [
      "There are 31 Planets that reside in habitable zones\n"
     ]
    }
   ],
   "source": [
    "df = pd.DataFrame(planets_df, columns=['st_lum','pl_orbper'])\n",
    "\n",
    "df = df.dropna()\n",
    "\n",
    "p = ((df['pl_orbper'])/365) #Converted the orbital period in days into years\n",
    "\n",
    "r = (p**2)**(1/3) #Equation, in terms of orbital radius\n",
    "\n",
    "\n",
    "df['r'] = (p ** 2) ** (1/3)\n",
    "df['inner'] = np.sqrt((10**(lum_df['st_lum']))/1.1)\n",
    "df['outer'] = np.sqrt((10**(lum_df['st_lum']))/0.53)\n",
    "df['r'] > df['inner']\n",
    "df.loc[(df['r'] > df['inner']) & (df['r'] < df['outer'])].shape\n",
    "print ('There are 31 Planets that reside in habitable zones')"
   ]
  },
  {
   "cell_type": "markdown",
   "id": "07093e9c",
   "metadata": {},
   "source": [
    "# Problem 3: Final Project Proposal"
   ]
  },
  {
   "cell_type": "markdown",
   "id": "85b6ae25",
   "metadata": {},
   "source": [
    "Now it is time to decide exactly what your research project will be. For this section of the homework, turn in another document outlining your plan for your project, including what you will be researching, what you hope to accomplish through your research, and how you will be using python in your project. Feel free to use the examples given for formatting and contextual inspiration and reach out if you have questions or need help."
   ]
  }
 ],
 "metadata": {
  "kernelspec": {
   "display_name": "Python 3.9.12 ('base')",
   "language": "python",
   "name": "python3"
  },
  "language_info": {
   "codemirror_mode": {
    "name": "ipython",
    "version": 3
   },
   "file_extension": ".py",
   "mimetype": "text/x-python",
   "name": "python",
   "nbconvert_exporter": "python",
   "pygments_lexer": "ipython3",
   "version": "3.9.12"
  },
  "vscode": {
   "interpreter": {
    "hash": "80a93910b6ddd771e6649becc50c73cb2ee3264e66bce87c9fd88e4d3ddf5fd6"
   }
  }
 },
 "nbformat": 4,
 "nbformat_minor": 5
}
