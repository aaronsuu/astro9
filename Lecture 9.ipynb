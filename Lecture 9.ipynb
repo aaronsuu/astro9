{
 "cells": [
  {
   "cell_type": "markdown",
   "id": "3da23dfd",
   "metadata": {},
   "source": [
    "# Astro 9"
   ]
  },
  {
   "cell_type": "markdown",
   "id": "1f6dcf21",
   "metadata": {},
   "source": [
    "# Lecture 9: Intro to Statistics in Python"
   ]
  },
  {
   "cell_type": "code",
   "execution_count": 1,
   "id": "3c72c9e3",
   "metadata": {},
   "outputs": [],
   "source": [
    "#standard preamble\n",
    "import numpy as np\n",
    "import matplotlib.pyplot as plt"
   ]
  },
  {
   "cell_type": "markdown",
   "id": "960ee7a3",
   "metadata": {},
   "source": [
    "We're going to add some more new packages to our preamble this week"
   ]
  },
  {
   "cell_type": "code",
   "execution_count": 2,
   "id": "c61c6f96",
   "metadata": {},
   "outputs": [],
   "source": [
    "import scipy as sp\n",
    "from scipy import stats"
   ]
  },
  {
   "cell_type": "code",
   "execution_count": 3,
   "id": "02671c18",
   "metadata": {},
   "outputs": [
    {
     "name": "stdout",
     "output_type": "stream",
     "text": [
      "Number of samples = 54\n"
     ]
    }
   ],
   "source": [
    "x = np.loadtxt('sample.dat')\n",
    "print('Number of samples =',len(x))"
   ]
  },
  {
   "cell_type": "code",
   "execution_count": 4,
   "id": "474ccce9",
   "metadata": {},
   "outputs": [
    {
     "name": "stdout",
     "output_type": "stream",
     "text": [
      "Mean = 4.6\n",
      "Median = 5.0\n",
      "Mode = 6.0\n",
      "Mode from SciPy = 6.0\n",
      "Standard deviation = 2.7\n"
     ]
    },
    {
     "data": {
      "image/png": "[encoded data removed]",
      "text/plain": [
       "<Figure size 432x288 with 1 Axes>"
      ]
     },
     "metadata": {
      "needs_background": "light"
     },
     "output_type": "display_data"
    }
   ],
   "source": [
    "bins = np.arange(-0.5,10.5,1)\n",
    "n, b, p = plt.hist(x, bins)\n",
    "\n",
    "# various measures of \"average value\":\n",
    "print ('Mean = {0:3.1f}'.format(np.mean(x)))\n",
    "print ('Median = {0:3.1f}'.format(np.median(x)))\n",
    "print ('Mode = {0:3.1f}'.format(0.5*(bins[np.argmax(n)]+bins[np.argmax(n)+1])))\n",
    "mode, count = sp.stats.mode(x)\n",
    "print('Mode from SciPy = {0:3.1f}'.format(mode[0]))\n",
    "\n",
    "# measure of the spread\n",
    "print ('Standard deviation = {0:3.1f}'.format(np.std(x)))"
   ]
  },
  {
   "cell_type": "code",
   "execution_count": 5,
   "id": "e4f8637b",
   "metadata": {},
   "outputs": [
    {
     "name": "stdout",
     "output_type": "stream",
     "text": [
      "Mean = 198.56\n",
      "Median = 198.32\n",
      "Mode = 197.45\n",
      "Standard deviation =  26.0\n"
     ]
    },
    {
     "name": "stderr",
     "output_type": "stream",
     "text": [
      "/tmp/ipykernel_106/3698801310.py:10: DeprecationWarning: scipy.mean is deprecated and will be removed in SciPy 2.0.0, use numpy.mean instead\n",
      "  print ('Mean = {0:5.2f}'.format(sp.mean(x)))\n",
      "/tmp/ipykernel_106/3698801310.py:11: DeprecationWarning: scipy.median is deprecated and will be removed in SciPy 2.0.0, use numpy.median instead\n",
      "  print ('Median = {0:5.2f}'.format(sp.median(x)))\n"
     ]
    },
    {
     "data": {
      "image/png": "[encoded data removed]",
      "text/plain": [
       "<Figure size 432x288 with 1 Axes>"
      ]
     },
     "metadata": {
      "needs_background": "light"
     },
     "output_type": "display_data"
    }
   ],
   "source": [
    "# create a set of data and compute mean and variance\n",
    "# This creates an array of 100 elements, \n",
    "# gaussian-distributed with mean of 200 and RMS of 25\n",
    "mu = 200\n",
    "sigma = 25\n",
    "x = mu + sigma*np.random.randn(100)\n",
    "n, bins, patches = plt.hist(x, 20)\n",
    "\n",
    "# various measures of \"average value\":\n",
    "print ('Mean = {0:5.2f}'.format(sp.mean(x)))\n",
    "print ('Median = {0:5.2f}'.format(sp.median(x)))\n",
    "print ('Mode = {0:5.2f}'.format(0.5*(bins[np.argmax(n)]+bins[np.argmax(n)+1])))\n",
    "\n",
    "# measure of the spread\n",
    "print ('Standard deviation = {0:5.1f}'.format(np.std(x)))"
   ]
  },
  {
   "cell_type": "markdown",
   "id": "5195ef60",
   "metadata": {},
   "source": [
    "### Central limit theorem\n",
    "\n",
    "Central limit theorem states that if you have any PDF (probability density function) with mean $\\mu$ and variance $\\sigma^2$, and you draw $N$ samples $\\{ x_i \\},\\ i=[1..N]$ from the distribution, the PDF of the <b>sample mean</b>\n",
    "$$\n",
    "\\mu_s = \\frac{1}{N}\\sum_{i=1}^N x_i\n",
    "$$\n",
    "approaches Gaussian with mean $\\langle \\mu_s\\rangle = \\mu$ and variance \n",
    "$\\sigma_s^2 = \\sigma^2/N$ when $N\\to\\infty$\n",
    "\n",
    "Let's look at the example. Take the data collected in class:\n",
    "\n",
    "$$N=54$$\n",
    "$$f(x_i) = \\frac{1}{10}, x_i\\in[0..9]$$"
   ]
  },
  {
   "cell_type": "code",
   "execution_count": 6,
   "id": "6d44fbc0",
   "metadata": {},
   "outputs": [
    {
     "name": "stdout",
     "output_type": "stream",
     "text": [
      "mu = 4.50\n",
      "sigma = 2.87\n",
      "As an exercise for the reader, prove that sigma =  2.886751345948129\n"
     ]
    }
   ],
   "source": [
    "# compute mean and sigma of the parent distribution\n",
    "\n",
    "mu = 0\n",
    "sigma = 0\n",
    "prob = 1./10.\n",
    "for i in range(0,10):\n",
    "    mu += prob*i\n",
    "print('mu = {0:4.2f}'.format(mu))\n",
    "\n",
    "for i in range(0,10):\n",
    "    sigma += prob*(i-mu)**2\n",
    "sigma = np.sqrt(sigma)\n",
    "print('sigma = {0:4.2f}'.format(sigma))\n",
    "print('As an exercise for the reader, prove that sigma = ',10/np.sqrt(12))"
   ]
  },
  {
   "cell_type": "markdown",
   "id": "17d86d4f",
   "metadata": {},
   "source": [
    "## Monte Carlo Techniques"
   ]
  },
  {
   "cell_type": "markdown",
   "id": "86e9a197",
   "metadata": {},
   "source": [
    "### Example: coin flip"
   ]
  },
  {
   "cell_type": "code",
   "execution_count": 8,
   "id": "fec60012",
   "metadata": {},
   "outputs": [
    {
     "name": "stdout",
     "output_type": "stream",
     "text": [
      "Heads\n",
      "Heads\n",
      "Tails\n"
     ]
    }
   ],
   "source": [
    "\n",
    "outcomes = ('Heads','Tails')\n",
    "\n",
    "def flip():\n",
    "    if np.random.random() > 0.5:\n",
    "        return outcomes[1]\n",
    "    \n",
    "    return outcomes[0]\n",
    "\n",
    "for i in range(3):\n",
    "    print (flip())"
   ]
  },
  {
   "cell_type": "markdown",
   "id": "b43650ef",
   "metadata": {},
   "source": [
    "### Example: dice roll"
   ]
  },
  {
   "cell_type": "code",
   "execution_count": 9,
   "id": "a95ece8f",
   "metadata": {},
   "outputs": [
    {
     "name": "stdout",
     "output_type": "stream",
     "text": [
      "4\n",
      "4\n",
      "4\n",
      "6\n",
      "1\n"
     ]
    },
    {
     "data": {
      "image/png": "[encoded data removed]",
      "text/plain": [
       "<Figure size 432x288 with 1 Axes>"
      ]
     },
     "metadata": {
      "needs_background": "light"
     },
     "output_type": "display_data"
    }
   ],
   "source": [
    "def dice():\n",
    "    return int(np.random.random()*6)+1\n",
    "\n",
    "for i in range(5):\n",
    "    print (dice())\n",
    "\n",
    "x = [dice() for i in range(100000)]\n",
    "n, bins, patches = plt.hist(x,6,(0.5,6.5))"
   ]
  },
  {
   "cell_type": "markdown",
   "id": "54bf2f7b",
   "metadata": {},
   "source": [
    "### Example: Deck of Cards"
   ]
  },
  {
   "cell_type": "code",
   "execution_count": 10,
   "id": "8f7f7f31",
   "metadata": {},
   "outputs": [
    {
     "name": "stdout",
     "output_type": "stream",
     "text": [
      "['4s', 'Ad', '4c', '3d', '9d']\n"
     ]
    }
   ],
   "source": [
    "import random\n",
    "import itertools\n",
    "SUITS = 'cdhs'\n",
    "RANKS = '23456789TJQKA'\n",
    "DECK = tuple(''.join(card) for card in itertools.product(RANKS, SUITS))\n",
    "hand = random.sample(DECK, 5)\n",
    "print (hand)"
   ]
  },
  {
   "cell_type": "markdown",
   "id": "5e1534e5",
   "metadata": {},
   "source": [
    "### Example:  Linear Congruent Generator"
   ]
  },
  {
   "cell_type": "code",
   "execution_count": 11,
   "id": "87bfc05b",
   "metadata": {},
   "outputs": [
    {
     "name": "stdout",
     "output_type": "stream",
     "text": [
      "33031656 198186408 957896856 65108986 127826865 \n",
      "0 3 2 5 4 7 6 1 0 3 2 5 4 7 6 1 0 3 2 5 \n"
     ]
    }
   ],
   "source": [
    "myRandomSeed = 504\n",
    "def myRandom(a=65539, b=0, c=int(2**31-1)):\n",
    "    global myRandomSeed\n",
    "    x = (a*myRandomSeed+b) % c\n",
    "    myRandomSeed = x\n",
    "    return x\n",
    "\n",
    "out = \"\"\n",
    "for i in range(5):\n",
    "    out += str(myRandom())\n",
    "    out += \" \"\n",
    "    \n",
    "print (out)\n",
    "    \n",
    "out = \"\"\n",
    "myRandomSeed = 1\n",
    "for i in range(20):\n",
    "    out += str(myRandom(a=5, b=3, c=8))\n",
    "    out += \" \"\n",
    "\n",
    "print (out)"
   ]
  },
  {
   "cell_type": "markdown",
   "id": "b4a1b06e",
   "metadata": {},
   "source": [
    "### Example: Python Random Numbers"
   ]
  },
  {
   "cell_type": "code",
   "execution_count": 12,
   "id": "eb9d017f",
   "metadata": {},
   "outputs": [
    {
     "name": "stdout",
     "output_type": "stream",
     "text": [
      "1544292231\n"
     ]
    }
   ],
   "source": [
    "# integer random number between [a..b]\n",
    "print (np.random.randint(0,2**32-1))"
   ]
  },
  {
   "cell_type": "code",
   "execution_count": 13,
   "id": "664ea5da",
   "metadata": {},
   "outputs": [
    {
     "name": "stdout",
     "output_type": "stream",
     "text": [
      "0.9110350709128797\n"
     ]
    }
   ],
   "source": [
    "# float random number between [0..1)\n",
    "print (np.random.random())"
   ]
  },
  {
   "cell_type": "code",
   "execution_count": 14,
   "id": "661d874e",
   "metadata": {},
   "outputs": [
    {
     "name": "stdout",
     "output_type": "stream",
     "text": [
      "7.98269840149627\n"
     ]
    }
   ],
   "source": [
    "# float random number between [a..b)\n",
    "print (np.random.uniform(5,10))"
   ]
  },
  {
   "cell_type": "code",
   "execution_count": 15,
   "id": "f5949b10",
   "metadata": {},
   "outputs": [
    {
     "name": "stdout",
     "output_type": "stream",
     "text": [
      "e\n"
     ]
    }
   ],
   "source": [
    "# Choose a random element\n",
    "print (np.random.choice(['a','b','c','d','e','f','g','h','i','j'])) "
   ]
  },
  {
   "cell_type": "code",
   "execution_count": 17,
   "id": "99bce278",
   "metadata": {},
   "outputs": [
    {
     "name": "stderr",
     "output_type": "stream",
     "text": [
      "/tmp/ipykernel_106/259991487.py:3: DeprecationWarning: scipy.mean is deprecated and will be removed in SciPy 2.0.0, use numpy.mean instead\n",
      "  print('Mean = {0:5.3f}'.format(sp.mean(ds)))\n",
      "/tmp/ipykernel_106/259991487.py:4: DeprecationWarning: scipy.std is deprecated and will be removed in SciPy 2.0.0, use numpy.std instead\n",
      "  print('Std. dev. = {0:5.3f}'.format(sp.std(ds)))\n"
     ]
    },
    {
     "name": "stdout",
     "output_type": "stream",
     "text": [
      "Mean = 7.500\n",
      "Std. dev. = 1.443\n"
     ]
    },
    {
     "data": {
      "image/png": "[encoded data removed]",
      "text/plain": [
       "<Figure size 432x288 with 1 Axes>"
      ]
     },
     "metadata": {
      "needs_background": "light"
     },
     "output_type": "display_data"
    }
   ],
   "source": [
    "# plot distribution\n",
    "ds = np.random.uniform(5,10,size=10000000)\n",
    "print('Mean = {0:5.3f}'.format(sp.mean(ds)))\n",
    "print('Std. dev. = {0:5.3f}'.format(sp.std(ds)))\n",
    "plt.hist(ds,50)\n",
    "plt.show()"
   ]
  },
  {
   "cell_type": "markdown",
   "id": "bbfd68e0",
   "metadata": {},
   "source": [
    "### Example: Python random number generators"
   ]
  },
  {
   "cell_type": "code",
   "execution_count": 19,
   "id": "0352ae5c",
   "metadata": {},
   "outputs": [
    {
     "name": "stderr",
     "output_type": "stream",
     "text": [
      "/tmp/ipykernel_106/3425008628.py:2: DeprecationWarning: scipy.mean is deprecated and will be removed in SciPy 2.0.0, use numpy.mean instead\n",
      "  print('Mean = {0:5.3f}'.format(sp.mean(ds)))\n",
      "/tmp/ipykernel_106/3425008628.py:3: DeprecationWarning: scipy.std is deprecated and will be removed in SciPy 2.0.0, use numpy.std instead\n",
      "  print('Std. dev. = {0:5.3f}'.format(sp.std(ds)))\n"
     ]
    },
    {
     "name": "stdout",
     "output_type": "stream",
     "text": [
      "Mean = 3.997\n",
      "Std. dev. = 3.991\n"
     ]
    },
    {
     "data": {
      "image/png": "[encoded data removed]",
      "text/plain": [
       "<Figure size 432x288 with 1 Axes>"
      ]
     },
     "metadata": {
      "needs_background": "light"
     },
     "output_type": "display_data"
    }
   ],
   "source": [
    "ds = np.random.exponential(scale=4,size=10000)\n",
    "print('Mean = {0:5.3f}'.format(sp.mean(ds)))\n",
    "print('Std. dev. = {0:5.3f}'.format(sp.std(ds)))\n",
    "plt.hist(ds,50)\n",
    "plt.show()"
   ]
  },
  {
   "cell_type": "code",
   "execution_count": 20,
   "id": "64eea724",
   "metadata": {},
   "outputs": [
    {
     "name": "stdout",
     "output_type": "stream",
     "text": [
      "Mean = -0.403\n",
      "Std. dev. = 6.643\n"
     ]
    },
    {
     "name": "stderr",
     "output_type": "stream",
     "text": [
      "/tmp/ipykernel_106/3258333985.py:2: DeprecationWarning: scipy.mean is deprecated and will be removed in SciPy 2.0.0, use numpy.mean instead\n",
      "  print('Mean = {0:5.3f}'.format(sp.mean(ds)))\n",
      "/tmp/ipykernel_106/3258333985.py:3: DeprecationWarning: scipy.std is deprecated and will be removed in SciPy 2.0.0, use numpy.std instead\n",
      "  print('Std. dev. = {0:5.3f}'.format(sp.std(ds)))\n"
     ]
    },
    {
     "data": {
      "image/png": "[encoded data removed]",
      "text/plain": [
       "<Figure size 432x288 with 1 Axes>"
      ]
     },
     "metadata": {
      "needs_background": "light"
     },
     "output_type": "display_data"
    }
   ],
   "source": [
    "ds = np.random.standard_cauchy(size=100)\n",
    "print('Mean = {0:5.3f}'.format(sp.mean(ds)))\n",
    "print('Std. dev. = {0:5.3f}'.format(sp.std(ds)))\n",
    "plt.hist(ds,20)\n",
    "plt.show()"
   ]
  },
  {
   "cell_type": "code",
   "execution_count": 22,
   "id": "2a794a7e",
   "metadata": {},
   "outputs": [
    {
     "name": "stderr",
     "output_type": "stream",
     "text": [
      "/tmp/ipykernel_106/2453988183.py:2: DeprecationWarning: scipy.mean is deprecated and will be removed in SciPy 2.0.0, use numpy.mean instead\n",
      "  print('Mean = {0:5.3f}'.format(sp.mean(ds)))\n",
      "/tmp/ipykernel_106/2453988183.py:3: DeprecationWarning: scipy.std is deprecated and will be removed in SciPy 2.0.0, use numpy.std instead\n",
      "  print('Std. dev. = {0:5.3f}'.format(sp.std(ds)))\n"
     ]
    },
    {
     "name": "stdout",
     "output_type": "stream",
     "text": [
      "Mean = 9.996\n",
      "Std. dev. = 2.040\n"
     ]
    },
    {
     "data": {
      "image/png": "[encoded data removed]",
      "text/plain": [
       "<Figure size 432x288 with 1 Axes>"
      ]
     },
     "metadata": {
      "needs_background": "light"
     },
     "output_type": "display_data"
    }
   ],
   "source": [
    "ds = np.random.triangular(5,10,15,size=1000000)\n",
    "print('Mean = {0:5.3f}'.format(sp.mean(ds)))\n",
    "print('Std. dev. = {0:5.3f}'.format(sp.std(ds)))\n",
    "plt.hist(ds,50)\n",
    "plt.show()"
   ]
  },
  {
   "cell_type": "code",
   "execution_count": null,
   "id": "f8e1407f",
   "metadata": {},
   "outputs": [],
   "source": []
  }
 ],
 "metadata": {
  "kernelspec": {
   "display_name": "Python 3.9.12 ('base')",
   "language": "python",
   "name": "python3"
  },
  "language_info": {
   "codemirror_mode": {
    "name": "ipython",
    "version": 3
   },
   "file_extension": ".py",
   "mimetype": "text/x-python",
   "name": "python",
   "nbconvert_exporter": "python",
   "pygments_lexer": "ipython3",
   "version": "3.9.12"
  },
  "vscode": {
   "interpreter": {
    "hash": "80a93910b6ddd771e6649becc50c73cb2ee3264e66bce87c9fd88e4d3ddf5fd6"
   }
  }
 },
 "nbformat": 4,
 "nbformat_minor": 5
}
