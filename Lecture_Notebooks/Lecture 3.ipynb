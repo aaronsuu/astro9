{
 "cells": [
  {
   "cell_type": "markdown",
   "id": "cec9d6d2",
   "metadata": {},
   "source": [
    "# Astro 9"
   ]
  },
  {
   "cell_type": "markdown",
   "id": "3c6bd340",
   "metadata": {},
   "source": [
    "# Lecture 3: Functions"
   ]
  },
  {
   "cell_type": "markdown",
   "id": "0528348c",
   "metadata": {},
   "source": [
    "### Pre-loaded functions"
   ]
  },
  {
   "cell_type": "code",
   "execution_count": 1,
   "id": "f8116411",
   "metadata": {},
   "outputs": [
    {
     "name": "stdout",
     "output_type": "stream",
     "text": [
      "4.0\n"
     ]
    }
   ],
   "source": [
    "import numpy as np\n",
    "\n",
    "##using a pre-loaded function you are already familiar with\n",
    "x = np.sqrt(16)\n",
    "print(x)"
   ]
  },
  {
   "cell_type": "code",
   "execution_count": 2,
   "id": "ee9afaac",
   "metadata": {},
   "outputs": [
    {
     "name": "stdout",
     "output_type": "stream",
     "text": [
      "24\n"
     ]
    }
   ],
   "source": [
    "y = np.abs(-24)\n",
    "print(y)"
   ]
  },
  {
   "cell_type": "markdown",
   "id": "290ebd6d",
   "metadata": {},
   "source": [
    "### User defined functions\n",
    "\n",
    "If the function we need doesn't exist, we can create one. In order to do so, we need to provide:\n",
    "-  a list of arguments\n",
    "-  the algorithm of the function\n",
    "-  the return value\n",
    "\n",
    "The basic structure of a function is the following:"
   ]
  },
  {
   "cell_type": "code",
   "execution_count": 3,
   "id": "c6abfaa3",
   "metadata": {},
   "outputs": [
    {
     "name": "stdout",
     "output_type": "stream",
     "text": [
      "3\n"
     ]
    }
   ],
   "source": [
    "def MyFunction( x ):\n",
    "    y = x            # Actually quite useless\n",
    "    return y\n",
    "\n",
    "print( MyFunction(3) ) "
   ]
  },
  {
   "cell_type": "code",
   "execution_count": 4,
   "id": "02ffa732",
   "metadata": {},
   "outputs": [
    {
     "name": "stdout",
     "output_type": "stream",
     "text": [
      "29929\n"
     ]
    }
   ],
   "source": [
    "y = MyFunction(173)\n",
    "print(y**2)"
   ]
  },
  {
   "cell_type": "markdown",
   "id": "8429eaee",
   "metadata": {},
   "source": [
    "Notice:\n",
    "-  the colon at the end of the function declaration\n",
    "-  the indentation\n",
    "-  the <font color=blue>return</font> command at the end of the function body\n",
    "\n",
    "**Example: $\\sin{(x)}/x$**"
   ]
  },
  {
   "cell_type": "code",
   "execution_count": 6,
   "id": "9d8a0a2b",
   "metadata": {},
   "outputs": [
    {
     "data": {
      "text/plain": [
       "[<matplotlib.lines.Line2D at 0x7f7b13cf0b80>]"
      ]
     },
     "execution_count": 6,
     "metadata": {},
     "output_type": "execute_result"
    },
    {
     "data": {
      "image/png": "[encoded data removed]",
      "text/plain": [
       "<Figure size 432x288 with 1 Axes>"
      ]
     },
     "metadata": {
      "needs_background": "light"
     },
     "output_type": "display_data"
    }
   ],
   "source": [
    "import matplotlib.pyplot as plt # we need this for drawing\n",
    "\n",
    "def SinXoverX( x ):  # declaration\n",
    "    y = np.sin(x)/x  # implementation\n",
    "    return y         # return\n",
    "\n",
    "x = np.linspace( 0.5, 100., 200 ) # generate 200 points evenly distributed between 0.5 and 100.\n",
    "y = SinXoverX(x)\n",
    "\n",
    "plt.plot( x, y, 'r-' )"
   ]
  },
  {
   "cell_type": "markdown",
   "id": "2afe6266",
   "metadata": {},
   "source": [
    "**Example: function with multiple arguments**"
   ]
  },
  {
   "cell_type": "code",
   "execution_count": 7,
   "id": "d87b8a67",
   "metadata": {},
   "outputs": [
    {
     "name": "stdout",
     "output_type": "stream",
     "text": [
      "2.0\n"
     ]
    }
   ],
   "source": [
    "def distance( x, y ):\n",
    "    return abs(x-y) # It's a very simple calculation, so I can implement it directly in the return statement\n",
    "\n",
    "print( distance( 2., 4. ) )"
   ]
  },
  {
   "cell_type": "markdown",
   "id": "f8d07a6c",
   "metadata": {},
   "source": [
    "**Required and optional arguments**\n",
    "\n",
    "Python functions can have two types of arguments: required and optional. Required arguments have no default value and must be passed by the user. Optional arguments have a default value which is used if not specified by the user.\n",
    "For example, let's rewrite the <font color=blue>distance</font> function with the second argument as optional:"
   ]
  },
  {
   "cell_type": "code",
   "execution_count": 8,
   "id": "79c46ddb",
   "metadata": {},
   "outputs": [
    {
     "name": "stdout",
     "output_type": "stream",
     "text": [
      "2.0\n",
      "1.0\n"
     ]
    }
   ],
   "source": [
    "def distance( x, y=0. ):\n",
    "    return abs(x-y)\n",
    "\n",
    "print( distance( 2., 4. ) )\n",
    "print( distance( 1. ) )"
   ]
  },
  {
   "cell_type": "markdown",
   "id": "0df007b5",
   "metadata": {},
   "source": [
    "## Some Fun Functional Examples"
   ]
  },
  {
   "cell_type": "code",
   "execution_count": null,
   "id": "6ce19e77",
   "metadata": {},
   "outputs": [],
   "source": []
  },
  {
   "cell_type": "code",
   "execution_count": null,
   "id": "fae08592",
   "metadata": {},
   "outputs": [],
   "source": []
  },
  {
   "cell_type": "code",
   "execution_count": null,
   "id": "3a2f53b5",
   "metadata": {},
   "outputs": [],
   "source": []
  },
  {
   "cell_type": "markdown",
   "id": "355e6618",
   "metadata": {},
   "source": [
    "### Local vs Global variables"
   ]
  },
  {
   "cell_type": "code",
   "execution_count": 9,
   "id": "2312a623",
   "metadata": {},
   "outputs": [
    {
     "name": "stdout",
     "output_type": "stream",
     "text": [
      "x before function: 5\n",
      "5\n",
      "x= 7 y= 10\n",
      "10\n",
      "x after function: 7\n"
     ]
    }
   ],
   "source": [
    "x = 5\n",
    "def giveMeY():\n",
    "    global x                    # pull this from global scope\n",
    "    print (x)\n",
    "    y = 10\n",
    "    x = 7                       # change value of global variable\n",
    "    print ('x=',x,'y=',y)\n",
    "    return y\n",
    "\n",
    "print ('x before function:',x)\n",
    "a = giveMeY()\n",
    "print(a)\n",
    "print ('x after function:',x)"
   ]
  },
  {
   "cell_type": "code",
   "execution_count": 10,
   "id": "5c3f07a8",
   "metadata": {},
   "outputs": [
    {
     "name": "stdout",
     "output_type": "stream",
     "text": [
      "x before function: 5\n",
      "x inside function: 8\n",
      "x after function: 5\n"
     ]
    }
   ],
   "source": [
    "x = 5\n",
    "def test():\n",
    "#    print('x inside the function = ',x)\n",
    "    y = 10\n",
    "    x = 8                   # assignment operator creates a local copy with the same name ! Beware !!!\n",
    "    print ('x inside function:',x)\n",
    "#    print(xx)\n",
    "#    xxx=5\n",
    "    return\n",
    "\n",
    "print ('x before function:',x)\n",
    "test()\n",
    "print ('x after function:',x)\n",
    "#print(xxx)"
   ]
  },
  {
   "cell_type": "markdown",
   "id": "3caeab48",
   "metadata": {},
   "source": [
    "Functions can be passed into other functions, stored in lists or tuples. This can produce some neat code"
   ]
  },
  {
   "cell_type": "code",
   "execution_count": 11,
   "id": "d06982f8",
   "metadata": {},
   "outputs": [
    {
     "name": "stdout",
     "output_type": "stream",
     "text": [
      "2.75\n",
      "[3 5]\n"
     ]
    },
    {
     "data": {
      "image/png": "[encoded data removed]",
      "text/plain": [
       "<Figure size 432x288 with 1 Axes>"
      ]
     },
     "metadata": {
      "needs_background": "light"
     },
     "output_type": "display_data"
    }
   ],
   "source": [
    "def lin(x):\n",
    "    '''Compute polynomal of 1st degree, parameters p0,p1 are global'''\n",
    "    global p0,p1             # didn't I say this was a bad idea ?\n",
    "    return p0+p1*x\n",
    "\n",
    "def sq(x):\n",
    "    global p0, p1, p2        \n",
    "    return p0+p1*x+p2*x*x    # why didn't I write x**2 ?\n",
    "\n",
    "#define global parameters\n",
    "p0 = 1\n",
    "p1 = 2\n",
    "p2 = 3\n",
    "\n",
    "print (sq(0.5))\n",
    "print(lin(np.array((1,2))))\n",
    "\n",
    "# import libraries\n",
    "import numpy as np\n",
    "import matplotlib.pyplot as plt\n",
    "%matplotlib inline\n",
    "\n",
    "# produce a plot\n",
    "x = np.linspace(-1,1,100)\n",
    "plt.plot(x,lin(x),'r-')\n",
    "plt.plot(x,sq(x),'b-')\n",
    "plt.xlabel('x')\n",
    "plt.ylabel('function')\n",
    "plt.legend(['Linear','Quadratic'],loc=2)\n",
    "plt.show()"
   ]
  },
  {
   "cell_type": "markdown",
   "id": "23d36b27",
   "metadata": {},
   "source": [
    "### Beware of unintended consequences in functions taking lists !"
   ]
  },
  {
   "cell_type": "code",
   "execution_count": 12,
   "id": "266a7e76",
   "metadata": {},
   "outputs": [
    {
     "name": "stdout",
     "output_type": "stream",
     "text": [
      "Original list =  [1, 4, 5, 10]\n",
      "New list =  [10, 5, 4, 1]\n",
      "Original list =  [10, 5, 4, 1]\n"
     ]
    }
   ],
   "source": [
    "def sortedList(inputList):\n",
    "    myList = inputList\n",
    "    myList.sort(reverse=True) \n",
    "    return myList\n",
    "\n",
    "\n",
    "list1 = [1,4,5,10]\n",
    "print ('Original list = ',list1)\n",
    "list2 = sortedList(list1)\n",
    "print ('New list = ',list2)\n",
    "print ('Original list = ',list1)   # huh, what happened ? "
   ]
  },
  {
   "cell_type": "code",
   "execution_count": 13,
   "id": "ab277501",
   "metadata": {},
   "outputs": [
    {
     "name": "stdout",
     "output_type": "stream",
     "text": [
      "Original list =  [1, 4, 5, 10]\n",
      "New list =  [10, 5, 4, 1]\n",
      "Original list =  [1, 4, 5, 10]\n"
     ]
    }
   ],
   "source": [
    "'''This version preserves the original list'''\n",
    "from copy import copy\n",
    "\n",
    "def sortedList(inputList):\n",
    "    myList = copy(inputList)\n",
    "    myList.sort(reverse=True) \n",
    "#    myList = sorted(inputList,reverse=True) # this is a short-hand: returns new sorted list, preserving the original\n",
    "    return myList\n",
    "\n",
    "\n",
    "list1 = [1,4,5,10]\n",
    "print ('Original list = ',list1)\n",
    "list2 = sortedList(list1)\n",
    "print ('New list = ',list2)\n",
    "print ('Original list = ',list1)    \n"
   ]
  },
  {
   "cell_type": "markdown",
   "id": "9e46e7d6",
   "metadata": {},
   "source": [
    "Is this what you would expect ? \n",
    "\n",
    "There are two issues:\n",
    "1. Variables of type <tt>list</tt> are only \"handles\" -- they are really references/pointers to a place in memory where (the first element of the) list is stored. So assignment myList = inputList does not create a new list and copy the contents; it simply copies the handle. Now you have two references, all pointed to the same list in memory. When you operate on the list through one reference, the contents pointed to by the other reference changes also ! \n",
    "Note that this behavior is different from simple data types, like ints, floats, and strings\n",
    "1. Variables of type <tt>list</tt> are passed into functions \"by reference\" (in C/C++ language), so modifications changes to the list inside the function modify the list outside the function"
   ]
  },
  {
   "cell_type": "code",
   "execution_count": null,
   "id": "9abf5b90",
   "metadata": {},
   "outputs": [],
   "source": []
  }
 ],
 "metadata": {
  "kernelspec": {
   "display_name": "Python 3 (ipykernel)",
   "language": "python",
   "name": "python3"
  },
  "language_info": {
   "codemirror_mode": {
    "name": "ipython",
    "version": 3
   },
   "file_extension": ".py",
   "mimetype": "text/x-python",
   "name": "python",
   "nbconvert_exporter": "python",
   "pygments_lexer": "ipython3",
   "version": "3.9.13"
  }
 },
 "nbformat": 4,
 "nbformat_minor": 5
}
