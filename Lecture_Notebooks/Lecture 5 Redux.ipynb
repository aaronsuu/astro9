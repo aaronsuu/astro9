{
 "cells": [
  {
   "cell_type": "markdown",
   "id": "07d84665",
   "metadata": {},
   "source": [
    "## Lecture 5: More advanced Conditionals and Loops"
   ]
  },
  {
   "cell_type": "code",
   "execution_count": 1,
   "id": "a663dc82",
   "metadata": {},
   "outputs": [],
   "source": [
    "import numpy as np\n",
    "import matplotlib.pyplot as plt"
   ]
  },
  {
   "cell_type": "markdown",
   "id": "9ec28378",
   "metadata": {},
   "source": [
    "### Converting Temperature Scales"
   ]
  },
  {
   "cell_type": "code",
   "execution_count": null,
   "id": "d4969f43",
   "metadata": {},
   "outputs": [],
   "source": [
    "temp = input(\"Input the  temperature you like to convert? (e.g., 45F, 102C etc.) : \")\n",
    "degree = int(temp[:-1])\n",
    "i_convention = temp[-1]\n",
    "\n",
    "if i_convention.upper() == \"C\":\n",
    "    result = int(round((9 * degree) / 5 + 32))\n",
    "    o_convention = \"Fahrenheit\"\n",
    "elif i_convention.upper() == \"F\":\n",
    "    result = int(round((degree - 32) * 5 / 9))\n",
    "    o_convention = \"Celsius\"\n",
    "else:\n",
    "    print(\"Input proper convention.\")\n",
    "print(\"The temperature in\", o_convention, \"is\", result, \"degrees.\")"
   ]
  },
  {
   "cell_type": "markdown",
   "id": "5915ae18",
   "metadata": {},
   "source": [
    "### Guess a random number"
   ]
  },
  {
   "cell_type": "code",
   "execution_count": null,
   "id": "f71dc24d",
   "metadata": {},
   "outputs": [],
   "source": [
    "import random\n",
    "target_num, guess_num = random.randint(1, 10), 0\n",
    "while target_num != guess_num:\n",
    "    guess_num = int(input('Guess a number between 1 and 10 until you get it right : '))\n",
    "print('Well guessed!')"
   ]
  },
  {
   "cell_type": "markdown",
   "id": "f5b87911",
   "metadata": {},
   "source": [
    "### Nested For Loop"
   ]
  },
  {
   "cell_type": "code",
   "execution_count": null,
   "id": "b78f26bd",
   "metadata": {
    "scrolled": true
   },
   "outputs": [],
   "source": [
    "matrix_a = [[2,3,4],\n",
    "            [5,2,1],\n",
    "            [2,4,6]]\n",
    "matrix_b = [[1,8,7], \n",
    "           [2,6,3],\n",
    "           [4,4,1]]\n",
    "\n",
    "for i in range(len(matrix_a)):\n",
    "    for j in range(len(matrix_b)):\n",
    "        matrix_b[i][j] = matrix_a[i][j]\n",
    "\n",
    "print(matrix_b)"
   ]
  },
  {
   "cell_type": "markdown",
   "id": "9e39bc2e",
   "metadata": {},
   "source": [
    "### Check Your Password Strength"
   ]
  },
  {
   "cell_type": "markdown",
   "id": "f93ae770",
   "metadata": {},
   "source": [
    "1. At least 1 letter between [a-z] and 1 letter between [A-Z].\n",
    "1. At least 1 number between [0-9].\n",
    "1. At least 1 character from [$#@].\n",
    "1. Minimum length 6 characters.\n",
    "1. Maximum length 16 characters."
   ]
  },
  {
   "cell_type": "code",
   "execution_count": null,
   "id": "030b2b47",
   "metadata": {},
   "outputs": [],
   "source": [
    "import re\n",
    "p= input(\"Input your password\")\n",
    "x = True\n",
    "while x:  \n",
    "    if (len(p)<6 or len(p)>12):\n",
    "        break\n",
    "    elif not re.search(\"[a-z]\",p):\n",
    "        break\n",
    "    elif not re.search(\"[0-9]\",p):\n",
    "        break\n",
    "    elif not re.search(\"[A-Z]\",p):\n",
    "        break\n",
    "    elif not re.search(\"[$#@]\",p):\n",
    "        break\n",
    "    elif re.search(\"\\s\",p):\n",
    "        break\n",
    "    else:\n",
    "        print(\"Valid Password\")\n",
    "        x=False\n",
    "        break\n",
    "\n",
    "if x:\n",
    "    print(\"Not a Valid Password\")"
   ]
  },
  {
   "cell_type": "markdown",
   "id": "b93b9021",
   "metadata": {},
   "source": [
    "### Print the Alphabet"
   ]
  },
  {
   "cell_type": "code",
   "execution_count": null,
   "id": "006fb0a5",
   "metadata": {},
   "outputs": [],
   "source": [
    "result_str=\"\";    \n",
    "for row in range(0,7):    \n",
    "    for column in range(0,7):     \n",
    "        if (((column == 1 or column == 5) and row != 0) or ((row == 0 or row == 3) and (column > 1 and column < 5))):    \n",
    "            result_str=result_str+\"*\"    \n",
    "        else:      \n",
    "            result_str=result_str+\" \"    \n",
    "    result_str=result_str+\"\\n\"    \n",
    "print(result_str);"
   ]
  },
  {
   "cell_type": "code",
   "execution_count": null,
   "id": "56593315",
   "metadata": {},
   "outputs": [],
   "source": []
  }
 ],
 "metadata": {
  "kernelspec": {
   "display_name": "Python 3 (ipykernel)",
   "language": "python",
   "name": "python3"
  },
  "language_info": {
   "codemirror_mode": {
    "name": "ipython",
    "version": 3
   },
   "file_extension": ".py",
   "mimetype": "text/x-python",
   "name": "python",
   "nbconvert_exporter": "python",
   "pygments_lexer": "ipython3",
   "version": "3.9.13"
  }
 },
 "nbformat": 4,
 "nbformat_minor": 5
}
