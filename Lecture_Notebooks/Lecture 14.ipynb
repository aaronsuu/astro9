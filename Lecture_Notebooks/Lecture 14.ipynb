{
 "cells": [
  {
   "cell_type": "markdown",
   "id": "2ee0efa3",
   "metadata": {},
   "source": [
    "# Astro 9"
   ]
  },
  {
   "cell_type": "markdown",
   "id": "e470c112",
   "metadata": {},
   "source": [
    "# Lecture 14: Intro to Linear Algebra"
   ]
  },
  {
   "cell_type": "code",
   "execution_count": 1,
   "id": "ba3fc0dc",
   "metadata": {},
   "outputs": [],
   "source": [
    "import numpy as np\n",
    "import matplotlib.pyplot as plt\n",
    "import scipy"
   ]
  },
  {
   "cell_type": "markdown",
   "id": "854837e2",
   "metadata": {},
   "source": [
    "## Examples: Matrices & Determinants"
   ]
  },
  {
   "cell_type": "code",
   "execution_count": 2,
   "id": "4252b89e",
   "metadata": {},
   "outputs": [
    {
     "name": "stdout",
     "output_type": "stream",
     "text": [
      "C=\n",
      " [[-1  6]\n",
      " [ 3 -2]]\n",
      "Determinant of C is -16.000000000000007\n",
      "D1=\n",
      " [[ 4 -8]\n",
      " [-2  4]]\n",
      "D2=\n",
      " [[ 4 -4]\n",
      " [-4  4]]\n"
     ]
    }
   ],
   "source": [
    "A = np.matrix([\n",
    "    [0, 4],\n",
    "    [2, 0]]\n",
    ")\n",
    "B = np.matrix(\n",
    "    [[-1, 2],\n",
    "     [1, -2]]\n",
    ")\n",
    "\n",
    "C = A + B\n",
    "print(\"C=\\n\",C)\n",
    "print(\"Determinant of C is\",np.linalg.det(C))\n",
    "D1 = A*B\n",
    "D2 = B*A\n",
    "print(\"D1=\\n\",D1)\n",
    "print(\"D2=\\n\",D2)"
   ]
  },
  {
   "cell_type": "markdown",
   "id": "9b9d0dbc",
   "metadata": {},
   "source": [
    "## Inverting matrices"
   ]
  },
  {
   "cell_type": "markdown",
   "id": "e491c1b6",
   "metadata": {},
   "source": [
    "Linear systems of equations are of the form \n",
    "\n",
    "$$Av = b$$\n",
    "\n",
    "where $A$ is a square matrix, $v$ is a vector of variables, and $b$ is a vector of values. This equation is solved by \n",
    "$$v = A^{-1}b$$\n",
    "\n",
    "where $A^{-1}$ is the inverse of $A$, defined such that $AA^{-1} = A^{-1}A = I$, the identity matrix. Typically inverting a matrix is not the optimal numerical method for solving such problems, but there may be other occasions when inverting a matrix is necessary; the code below gives an example of how to compute the inverse of a matrix using the built-in function `np.linalg.inv`."
   ]
  },
  {
   "cell_type": "code",
   "execution_count": 3,
   "id": "740fd9e2",
   "metadata": {},
   "outputs": [
    {
     "name": "stdout",
     "output_type": "stream",
     "text": [
      "We have matrix M = \n",
      "\n",
      "[[10.    -7.     0.   ]\n",
      " [-3.     2.099  6.   ]\n",
      " [ 5.    -1.     5.   ]]\n",
      "Its inverse M^-1 = \n",
      "\n",
      "[[-1.09930023e-01 -2.33255581e-01  2.79906698e-01]\n",
      " [-2.99900033e-01 -3.33222259e-01  3.99866711e-01]\n",
      " [ 4.99500167e-02  1.66611130e-01  6.66444518e-05]]\n"
     ]
    }
   ],
   "source": [
    "M = np.matrix(\n",
    "[[10,-7,0],\n",
    "[-3,2.099,6],\n",
    "[5,-1,5]]  \n",
    ")\n",
    "print('We have matrix M = \\n')\n",
    "print(M)\n",
    "Minv = np.linalg.inv(M)\n",
    "print('Its inverse M^-1 = \\n')\n",
    "print(Minv)"
   ]
  },
  {
   "cell_type": "markdown",
   "id": "62de2933",
   "metadata": {},
   "source": [
    "## Dot Products and Cross Products"
   ]
  },
  {
   "cell_type": "markdown",
   "id": "ee865353",
   "metadata": {},
   "source": [
    "### Dot Products"
   ]
  },
  {
   "cell_type": "code",
   "execution_count": 4,
   "id": "73ef7c9c",
   "metadata": {},
   "outputs": [
    {
     "data": {
      "text/plain": [
       "array([[18, 10],\n",
       "       [17, 11]])"
      ]
     },
     "execution_count": 4,
     "metadata": {},
     "output_type": "execute_result"
    }
   ],
   "source": [
    "a = [[2, 2], [3, 1]]\n",
    "b = [[4, 3], [5, 2]]\n",
    "np.dot(a, b)"
   ]
  },
  {
   "cell_type": "markdown",
   "id": "76a4a975",
   "metadata": {},
   "source": [
    "### Cross Products"
   ]
  },
  {
   "cell_type": "code",
   "execution_count": 7,
   "id": "2e738a5d",
   "metadata": {},
   "outputs": [
    {
     "data": {
      "text/plain": [
       "array([-23, -10,  17])"
      ]
     },
     "execution_count": 7,
     "metadata": {},
     "output_type": "execute_result"
    }
   ],
   "source": [
    "x = [4, 1, 6]\n",
    "y = [3, 5, 7]\n",
    "np.cross(x, y)"
   ]
  },
  {
   "cell_type": "markdown",
   "id": "e91cd3bd",
   "metadata": {},
   "source": [
    "## Solving systems of linear equations"
   ]
  },
  {
   "cell_type": "markdown",
   "id": "66aaa5c5",
   "metadata": {},
   "source": [
    "A typically more efficient way of solving the equation \n",
    "\n",
    "$$Av = b$$\n",
    "\n",
    "is using Gaussian elimination, which is implemented in `np.linalg.solve` as below."
   ]
  },
  {
   "cell_type": "code",
   "execution_count": 4,
   "id": "840a82c7",
   "metadata": {},
   "outputs": [
    {
     "name": "stdout",
     "output_type": "stream",
     "text": [
      "Solution: v=\n",
      " [[ 0.29047619]\n",
      " [19.69047619]\n",
      " [ 1.08571429]] \n",
      "\n",
      "A * v = \n",
      " [[106.8]\n",
      " [177.2]\n",
      " [279.2]]\n"
     ]
    }
   ],
   "source": [
    "A = np.matrix(\n",
    "[\n",
    "    [25, 5, 1],\n",
    "    [64, 8, 1],\n",
    "    [144, 12, 1]\n",
    "])\n",
    "\n",
    "b = np.transpose(np.matrix([106.8, 177.2, 279.2])) # why do I need to transpose?\n",
    "\n",
    "v = np.linalg.solve(A, b)\n",
    "print(\"Solution: v=\\n\", v, \"\\n\")\n",
    "print(\"A * v = \\n\", A * v)"
   ]
  },
  {
   "cell_type": "markdown",
   "id": "10a548c6",
   "metadata": {},
   "source": [
    "## Solving a System of Linear Equations Example"
   ]
  },
  {
   "cell_type": "markdown",
   "id": "5542b587",
   "metadata": {},
   "source": [
    "Lets solve the equations:\n",
    "\n",
    "$4x  + 3y = 20$\n",
    "\n",
    "$-5x + 9y = 26$"
   ]
  },
  {
   "cell_type": "code",
   "execution_count": 10,
   "id": "38eaed1e",
   "metadata": {},
   "outputs": [
    {
     "name": "stdout",
     "output_type": "stream",
     "text": [
      "[[ 0.17647059 -0.05882353]\n",
      " [ 0.09803922  0.07843137]]\n"
     ]
    }
   ],
   "source": [
    "m_list = [[4, 3], [-5, 9]]\n",
    "A = np.array(m_list)\n",
    "\n",
    "inv_A = np.linalg.inv(A)\n",
    "\n",
    "print(inv_A)"
   ]
  },
  {
   "cell_type": "code",
   "execution_count": 11,
   "id": "52b35d20",
   "metadata": {},
   "outputs": [
    {
     "name": "stdout",
     "output_type": "stream",
     "text": [
      "[2. 4.]\n"
     ]
    }
   ],
   "source": [
    "B = np.array([20, 26])\n",
    "X = np.linalg.inv(A).dot(B)\n",
    "\n",
    "print(X)"
   ]
  },
  {
   "cell_type": "code",
   "execution_count": 12,
   "id": "021ac5fe",
   "metadata": {},
   "outputs": [
    {
     "name": "stdout",
     "output_type": "stream",
     "text": [
      "20\n",
      "26\n"
     ]
    }
   ],
   "source": [
    "#check our work\n",
    "print(4*2 + 3*4)\n",
    "print(-5*2 + 9*4)"
   ]
  },
  {
   "cell_type": "markdown",
   "id": "ba6145ee",
   "metadata": {},
   "source": [
    "Let's make it a little harder, solving three equations.\n",
    "\n",
    "$4x + 3y + 2z = 25$\n",
    "\n",
    "$-2x + 2y + 3z = -10$\n",
    "\n",
    "$3x -5y + 2z = -4$\n",
    "\n",
    "First we need to convert these equations into the form $$Av = b$$"
   ]
  },
  {
   "cell_type": "code",
   "execution_count": 14,
   "id": "ad2b9b0b",
   "metadata": {},
   "outputs": [
    {
     "name": "stdout",
     "output_type": "stream",
     "text": [
      "[ 5.  3. -2.]\n"
     ]
    }
   ],
   "source": [
    "#3X3 matrix of the coefficients of our variables\n",
    "A = np.array([[4, 3, 2], [-2, 2, 3], [3, -5, 2]])\n",
    "#Matrix of the other side of the equations\n",
    "B = np.array([25, -10, -4])\n",
    "\n",
    "#Now we can solve it just like before\n",
    "X = np.linalg.inv(A).dot(B)\n",
    "\n",
    "print(X)"
   ]
  },
  {
   "cell_type": "code",
   "execution_count": 15,
   "id": "9f721b25",
   "metadata": {},
   "outputs": [
    {
     "name": "stdout",
     "output_type": "stream",
     "text": [
      "25\n",
      "-10\n",
      "-4\n"
     ]
    }
   ],
   "source": [
    "#Check our work\n",
    "print(4*5 + 3*3 + 2*-2)\n",
    "print(-2*5 + 2*3 + 3*-2)\n",
    "print(3*5 - 5*3 + 2*-2)"
   ]
  },
  {
   "cell_type": "markdown",
   "id": "a5113b16",
   "metadata": {},
   "source": [
    "## Real Life Example: Eigenvalue problem"
   ]
  },
  {
   "cell_type": "markdown",
   "id": "de6a9aca",
   "metadata": {},
   "source": [
    "### The eigenvalue problem (\"diagonalization\")\n",
    "\n",
    "Probably the most famous problem in all of science is the eigenvalue problem. It is ubiquitous across fields and is the defining problem of quantum mechanics. In this problem, we change the problem slightly from before. For a given $A$, we try to look for scalar values $\\lambda$ and vectors $v$ that satisfy the matrix equation\n",
    "\n",
    "$$A v = \\lambda v$$\n",
    "\n",
    "Let us look at a simple example:\n",
    "$$A = \\begin{pmatrix}\n",
    "0 & 1  \\\\\n",
    "1 & 0 \\\\\n",
    "\\end{pmatrix}$$\n",
    "The eigenvectors of this matrix are \n",
    "$$v_1 =  \\frac{1}{\\sqrt{2}}\\begin{pmatrix}\n",
    "1 \\\\\n",
    "1 \\\\\n",
    "\\end{pmatrix}\\text{ and }\n",
    "v_2 = \\frac{1}{\\sqrt{2}}\\begin{pmatrix}\n",
    "1 \\\\\n",
    "-1 \\\\\n",
    "\\end{pmatrix}$$\n",
    "If you multiply $A$ by $v_1$ you get $Av_1 = v_1$ and if you multiply $A$ by $v_2$ you get $Av_2 = -v_2$ (check these for yourself by doing the multiplications). This means that the eigenvalue $\\lambda_1$ corresponding to the eigenvector $v_1$ is $\\lambda_1 = 1$, and the eigenvalue $\\lambda_2$ corresponding to the eigenvector $v_2$ is $\\lambda_2 = -1$.\n",
    "\n",
    "One geometric intuition for what an eigenvector is that it is a vector whose direction is not changed by the action of $A$: only its length is rescaled by a factor of $\\lambda$. \n",
    "\n",
    "An $m \\times m$ matrix can have at most $m$ eigenvectors (and consequently it can have at most $m$ unique eigenvalues). It can also have $m$ eigenvectors but fewer than $m$ eigenvalues--that is, multiple eigenvectors may have the same eigenvalue (in physics, this is called \"degeneracy\").\n",
    "\n",
    "This problem is referred to as \"diagonalization\" because once you have found all of the eigenvectors $v_i$ and their eigenvalues $\\lambda_i$, you can decompose $A$ as\n",
    "$$A = U D U^\\dagger$$\n",
    "where \n",
    "$$ D = \\begin{pmatrix}\n",
    "\\lambda_1 & 0 & \\cdots & 0 & 0 \\\\\n",
    "0 & \\lambda_2 & \\cdots & 0 & 0 \\\\\n",
    "\\vdots & \\vdots & \\ddots & \\vdots & \\vdots\\\\\n",
    "0 & 0 & 0 & \\lambda_{m-1} & 0 \\\\\n",
    "0 & 0 & \\cdots & 0 & \\lambda_m \\\\\n",
    "\\end{pmatrix}$$\n",
    "and the columns of $U$ are formed by\n",
    "$$U = \\begin{pmatrix}\n",
    "v_1 & v_2 & \\cdots & v_{m-1} & v_m\n",
    "\\end{pmatrix}$$\n",
    "(remember each $v_i$ is a column of $m$ elements). And $U^\\dagger$ denotes the conjugate transpose of $U$. $D$ is a \"diagonal\" matrix becaues it has non-zero elements only along its diagonal, so this process is called \"diagonalization\".\n",
    "\n",
    "It turns out that the determinant of a matrix, defined above, is also equal to the product of its eigenvalues.\n",
    "$$\\det(A) = \\lambda_1 \\times \\lambda_2 \\dots \\times \\lambda_m$$\n",
    "So when $\\det(A) = 0$ (the matrix is *singular*), this means that at least one eigenvalue is equal to zero."
   ]
  },
  {
   "cell_type": "markdown",
   "id": "4f1964ae",
   "metadata": {},
   "source": [
    "### Finding eigenvectors and eigenvalues with numpy"
   ]
  },
  {
   "cell_type": "code",
   "execution_count": 3,
   "id": "2578f31d",
   "metadata": {},
   "outputs": [
    {
     "name": "stdout",
     "output_type": "stream",
     "text": [
      "Eigenvalues of A= [ 2.82842712 -2.82842712]\n",
      "Eigenvectors: \n",
      " [[ 0.81649658 -0.81649658]\n",
      " [ 0.57735027  0.57735027]]\n"
     ]
    }
   ],
   "source": [
    "w,v = np.linalg.eig(A)\n",
    "print('Eigenvalues of A=',w)\n",
    "print('Eigenvectors: \\n',v)"
   ]
  },
  {
   "cell_type": "code",
   "execution_count": 4,
   "id": "7939d7ef",
   "metadata": {},
   "outputs": [
    {
     "name": "stdout",
     "output_type": "stream",
     "text": [
      "Eigenvalues of S= [ 1. -1.]\n",
      "Eigenvectors: \n",
      " [[ 0.70710678 -0.70710678]\n",
      " [ 0.70710678  0.70710678]]\n"
     ]
    }
   ],
   "source": [
    "S = np.matrix(\n",
    "[\n",
    "    [0,1],\n",
    "    [1,0]\n",
    "])\n",
    "w,v = np.linalg.eig(S)\n",
    "print('Eigenvalues of S=',w)\n",
    "print('Eigenvectors: \\n',v)"
   ]
  },
  {
   "cell_type": "code",
   "execution_count": null,
   "id": "3d0877c1",
   "metadata": {},
   "outputs": [],
   "source": []
  }
 ],
 "metadata": {
  "kernelspec": {
   "display_name": "Python 3 (ipykernel)",
   "language": "python",
   "name": "python3"
  },
  "language_info": {
   "codemirror_mode": {
    "name": "ipython",
    "version": 3
   },
   "file_extension": ".py",
   "mimetype": "text/x-python",
   "name": "python",
   "nbconvert_exporter": "python",
   "pygments_lexer": "ipython3",
   "version": "3.9.13"
  }
 },
 "nbformat": 4,
 "nbformat_minor": 5
}
