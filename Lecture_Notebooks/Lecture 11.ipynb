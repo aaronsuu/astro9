{
 "cells": [
  {
   "cell_type": "markdown",
   "id": "ddcec389",
   "metadata": {},
   "source": [
    "# Astro 9"
   ]
  },
  {
   "cell_type": "markdown",
   "id": "c38943dd",
   "metadata": {},
   "source": [
    "# Lecture 11: Data Fitting"
   ]
  },
  {
   "cell_type": "code",
   "execution_count": 1,
   "id": "d66ca4f0",
   "metadata": {},
   "outputs": [],
   "source": [
    "#standard preamble\n",
    "import numpy as np\n",
    "import matplotlib.pyplot as plt\n",
    "#New import statement\n",
    "import scipy.optimize as fitter"
   ]
  },
  {
   "cell_type": "markdown",
   "id": "b8e8ceb2",
   "metadata": {},
   "source": [
    "## Fitting\n",
    "\n",
    "The simplest technique to describe is least-squares fitting. Usually you use the least-squares fit if you have a graph (i.e. a set of data points $y_i(x_i)$), you want to describe it in terms of a model $y(x;\\theta)$, where parameters $\\theta$ are unknown. You fit to determine the values of $\\theta$ and (hopefully) their uncertainties.  \n",
    "\n",
    "There are two standard cases where least-squares method is applicable:\n",
    "1. You know errors for each data point $\\sigma_i$ and you know that those errors are Gaussian. In this case, you minimize $\\chi^2=\\sum \\left(\\frac{y_i - y(x_i;\\theta)}{\\sigma_i}\\right)^2$. The value of the $\\chi^2_{\\min}$ can be interpreted as a goodness-of-fit, and the errors on parameters $\\theta$ have probabilistic interpretation\n",
    "1. You know that the errors are Gaussian and are the same for each data point, but you do not know their magnitude. In this case, you would minimize the sum of squares: $\\mathcal{S} = \\sum \\left(y_i - y(x_i;\\theta)\\right)^2$. In this case the value of $\\mathcal{S}$ can be used to compute the errors $\\sigma_i$ for each data point, and the errors on $\\theta$ have probabilistic definition, but you lose information about the goodness of fit\n",
    "1. If the errors are not known to be Gaussian, then the least square method is not useful to estimate uncertainties or the goodness of fit. It is also not guaranteed to be unbiased or most efficient. "
   ]
  },
  {
   "cell_type": "markdown",
   "id": "f02d9460",
   "metadata": {},
   "source": [
    "These are all the techniques you would use to calculate a fit by hand. Let's take a look at what python has built in for you."
   ]
  },
  {
   "cell_type": "markdown",
   "id": "20447b84",
   "metadata": {},
   "source": [
    "## np.polyfit"
   ]
  },
  {
   "cell_type": "code",
   "execution_count": 2,
   "id": "f47aff73",
   "metadata": {},
   "outputs": [
    {
     "data": {
      "text/plain": [
       "array([ 0.08703704, -0.81349206,  1.69312169, -0.03968254])"
      ]
     },
     "execution_count": 2,
     "metadata": {},
     "output_type": "execute_result"
    }
   ],
   "source": [
    "x = np.array([0.0, 1.0, 2.0, 3.0,  4.0,  5.0])\n",
    "y = np.array([0.0, 0.8, 0.9, 0.1, -0.8, -1.0])\n",
    "z = np.polyfit(x, y, 3)\n",
    "z"
   ]
  },
  {
   "cell_type": "code",
   "execution_count": 3,
   "id": "8cea0493",
   "metadata": {},
   "outputs": [
    {
     "data": {
      "text/plain": [
       "0.614384920634922"
      ]
     },
     "execution_count": 3,
     "metadata": {},
     "output_type": "execute_result"
    }
   ],
   "source": [
    "p = np.poly1d(z)\n",
    "p(0.5)"
   ]
  },
  {
   "cell_type": "code",
   "execution_count": 4,
   "id": "cb75735f",
   "metadata": {},
   "outputs": [
    {
     "data": {
      "text/plain": [
       "-0.3473214285714268"
      ]
     },
     "execution_count": 4,
     "metadata": {},
     "output_type": "execute_result"
    }
   ],
   "source": [
    "p(3.5)"
   ]
  },
  {
   "cell_type": "code",
   "execution_count": 5,
   "id": "99e9b0a2",
   "metadata": {},
   "outputs": [
    {
     "data": {
      "text/plain": [
       "22.579365079364877"
      ]
     },
     "execution_count": 5,
     "metadata": {},
     "output_type": "execute_result"
    }
   ],
   "source": [
    "p(10)"
   ]
  },
  {
   "cell_type": "code",
   "execution_count": 7,
   "id": "c13ca36a",
   "metadata": {},
   "outputs": [],
   "source": [
    "import warnings\n",
    "with warnings.catch_warnings():\n",
    "    warnings.simplefilter('ignore', np.RankWarning)\n",
    "    p30 = np.poly1d(np.polyfit(x, y, 30))\n"
   ]
  },
  {
   "cell_type": "code",
   "execution_count": 11,
   "id": "150d26af",
   "metadata": {},
   "outputs": [
    {
     "data": {
      "text/plain": [
       "<matplotlib.legend.Legend at 0x7f6738fd8040>"
      ]
     },
     "execution_count": 11,
     "metadata": {},
     "output_type": "execute_result"
    },
    {
     "data": {
      "image/png": "[encoded data removed]",
      "text/plain": [
       "<Figure size 432x288 with 1 Axes>"
      ]
     },
     "metadata": {
      "needs_background": "light"
     },
     "output_type": "display_data"
    }
   ],
   "source": [
    "import matplotlib.pyplot as plt\n",
    "xp = np.linspace(-2, 6, 100)\n",
    "plt.plot(x, y, '.', label='data')\n",
    "plt.plot(xp, p(xp), '-', label='Power 3 Fit')\n",
    "plt.plot(xp, p30(xp), '--', label='Power 30 Fit')\n",
    "plt.ylim(-2,2)\n",
    "plt.legend()"
   ]
  },
  {
   "cell_type": "markdown",
   "id": "69c70bac",
   "metadata": {},
   "source": [
    "This method works well for certain situations but is limited in others. Let's look at a more universal solution."
   ]
  },
  {
   "cell_type": "markdown",
   "id": "1b41393a",
   "metadata": {},
   "source": [
    "## Scipy's curve_fit"
   ]
  },
  {
   "cell_type": "markdown",
   "id": "89fea363",
   "metadata": {},
   "source": [
    "Let's start with an example from earlier this week"
   ]
  },
  {
   "cell_type": "code",
   "execution_count": 12,
   "id": "c616a168",
   "metadata": {},
   "outputs": [
    {
     "data": {
      "image/png": "[encoded data removed]",
      "text/plain": [
       "<Figure size 432x288 with 1 Axes>"
      ]
     },
     "metadata": {
      "needs_background": "light"
     },
     "output_type": "display_data"
    }
   ],
   "source": [
    "a0 = 0\n",
    "b0 = 1\n",
    "xdata = np.array([0.0,1.0,2.0,3.0,4.0,5.0])\n",
    "ydata = np.array([0.1,0.9,2.2,2.8,3.9,3.1])\n",
    "sigma = np.array([1.0,1.0,1.0,1.0,1.0,1.0])\n",
    "\n",
    "# plot it\n",
    "plt.errorbar(xdata, ydata, xerr=0, yerr=sigma, fmt='o')\n",
    "plt.xlim(-1,6)\n",
    "plt.show()"
   ]
  },
  {
   "cell_type": "markdown",
   "id": "87ca11dc",
   "metadata": {},
   "source": [
    "Now define a the model:"
   ]
  },
  {
   "cell_type": "code",
   "execution_count": 13,
   "id": "ab5ddb7d",
   "metadata": {},
   "outputs": [],
   "source": [
    "# linear function\n",
    "def model(x, a, b):\n",
    "    return a + b*x"
   ]
  },
  {
   "cell_type": "markdown",
   "id": "4a04e4e6",
   "metadata": {},
   "source": [
    "The fitter needs a good initial guess of parameters (more on that later):"
   ]
  },
  {
   "cell_type": "code",
   "execution_count": 14,
   "id": "481ab279",
   "metadata": {},
   "outputs": [
    {
     "name": "stdout",
     "output_type": "stream",
     "text": [
      "[0.40952381 0.70285714]\n",
      "[[ 0.19750113 -0.05386395]\n",
      " [-0.05386395  0.02154558]]\n",
      "a= 0.410+/-0.444\n",
      "b= 0.703+/-0.147\n",
      "[[ 1.         -0.82572283]\n",
      " [-0.82572283  1.        ]]\n",
      "chi^2 =  1.51\n",
      "chi^2/d.f.= 0.38\n"
     ]
    },
    {
     "data": {
      "image/png": "[encoded data removed]",
      "text/plain": [
       "<Figure size 432x288 with 1 Axes>"
      ]
     },
     "metadata": {
      "needs_background": "light"
     },
     "output_type": "display_data"
    }
   ],
   "source": [
    "# Initial guess.\n",
    "par0    = np.array([0.0, 1.0])\n",
    "par, cov = fitter.curve_fit(model, xdata, ydata, p0=par0, sigma=sigma)\n",
    "print (par)\n",
    "print (cov)\n",
    "\n",
    "# decode it now\n",
    "print ('a={0:6.3f}+/-{1:5.3f}'.format(par[0],np.sqrt(cov[0,0])))\n",
    "print ('b={0:6.3f}+/-{1:5.3f}'.format(par[1],np.sqrt(cov[1,1])))\n",
    "\n",
    "corr = cov.copy() # copy shape\n",
    "# compute correlation matrix\n",
    "for i in range(len(par)):\n",
    "    for j in range(len(par)):\n",
    "        corr[i,j] = cov[i,j]/np.sqrt(cov[i,i]*cov[j,j])\n",
    "        \n",
    "print (corr)\n",
    "\n",
    "# compute reduced chi2\n",
    "chi_squared = np.sum(((model(xdata, *par)-ydata)/sigma)**2)\n",
    "reduced_chi_squared = (chi_squared)/(len(xdata)-len(par))\n",
    "print ('chi^2 = {0:5.2f}'.format(chi_squared))\n",
    "print ('chi^2/d.f.={0:5.2f}'.format(reduced_chi_squared))\n",
    "\n",
    "# overlay plot over data\n",
    "plt.errorbar(xdata, ydata, xerr=0, yerr=sigma, fmt='o')\n",
    "plt.xlim(-1,6)\n",
    "xfit = np.linspace(0,5,50)\n",
    "plt.plot(xfit,model(xfit,par[0],par[1]),'r-')\n",
    "plt.show()"
   ]
  },
  {
   "cell_type": "code",
   "execution_count": 17,
   "id": "830e48a9",
   "metadata": {},
   "outputs": [
    {
     "name": "stdout",
     "output_type": "stream",
     "text": [
      "[-0.11428571  1.48857143 -0.15714286]\n",
      "[[ 0.16053059 -0.11516325  0.01744898]\n",
      " [-0.11516325  0.14203469 -0.02617347]\n",
      " [ 0.01744898 -0.02617347  0.00523469]]\n",
      "a=-0.114+/-0.401\n",
      "b= 1.489+/-0.377\n",
      "c=-0.157+/-0.072\n",
      "[[ 1.         -0.76267202  0.60192927]\n",
      " [-0.76267202  1.         -0.95988329]\n",
      " [ 0.60192927 -0.95988329  1.        ]]\n",
      "chi^2 =  0.59\n",
      "chi^2/d.f.= 0.20\n"
     ]
    },
    {
     "data": {
      "image/png": "[encoded data removed]",
      "text/plain": [
       "<Figure size 432x288 with 1 Axes>"
      ]
     },
     "metadata": {
      "needs_background": "light"
     },
     "output_type": "display_data"
    }
   ],
   "source": [
    "# quadratic function\n",
    "def model2(x, a, b, c):\n",
    "    return a + b*x + c*x*x\n",
    "\n",
    "par0    = np.array([0.0, 1.0, 0.0])\n",
    "par, cov = fitter.curve_fit(model2, xdata, ydata, par0, sigma)\n",
    "print (par)\n",
    "print (cov)\n",
    "\n",
    "# decode it now\n",
    "print ('a={0:6.3f}+/-{1:5.3f}'.format(par[0],np.sqrt(cov[0,0])))\n",
    "print ('b={0:6.3f}+/-{1:5.3f}'.format(par[1],np.sqrt(cov[1,1])))\n",
    "print ('c={0:6.3f}+/-{1:5.3f}'.format(par[2],np.sqrt(cov[2,2])))\n",
    "\n",
    "corr = cov.copy() # copy shape\n",
    "# compute correlation matrix\n",
    "for i in range(len(par)):\n",
    "    for j in range(len(par)):\n",
    "        corr[i,j] = cov[i,j]/np.sqrt(cov[i,i]*cov[j,j])\n",
    "        \n",
    "print (corr)\n",
    "\n",
    "# compute reduced chi2\n",
    "chi_squared = np.sum(((model2(xdata, *par)-ydata)/sigma)**2)\n",
    "reduced_chi_squared = (chi_squared)/(len(xdata)-len(par))\n",
    "print ('chi^2 = {0:5.2f}'.format(chi_squared))\n",
    "print ('chi^2/d.f.={0:5.2f}'.format(reduced_chi_squared))\n",
    "\n",
    "# overlay plot over data\n",
    "plt.errorbar(xdata, ydata, xerr=0, yerr=sigma, fmt='o')\n",
    "plt.xlim(-1,6)\n",
    "xfit = np.linspace(0,5,50)\n",
    "plt.plot(xfit,model2(xfit,par[0],par[1], par[2]),'r-')\n",
    "plt.show()"
   ]
  },
  {
   "cell_type": "code",
   "execution_count": 18,
   "id": "196d66d3",
   "metadata": {},
   "outputs": [
    {
     "name": "stdout",
     "output_type": "stream",
     "text": [
      "[-0.11428571  1.48857143 -0.15714286]\n",
      "[[ 0.16053062 -0.11516326  0.01744898]\n",
      " [-0.11516326  0.14203468 -0.02617347]\n",
      " [ 0.01744898 -0.02617347  0.00523469]]\n",
      "[[ 1.         -0.76267202  0.60192925]\n",
      " [-0.76267202  1.         -0.95988328]\n",
      " [ 0.60192925 -0.95988328  1.        ]]\n",
      "chi^2 =  0.59\n",
      "chi^2/d.f.= 0.20\n"
     ]
    },
    {
     "data": {
      "image/png": "[encoded data removed]",
      "text/plain": [
       "<Figure size 432x288 with 1 Axes>"
      ]
     },
     "metadata": {
      "needs_background": "light"
     },
     "output_type": "display_data"
    }
   ],
   "source": [
    "# Nth-order poly function\n",
    "def modelN(*arg):\n",
    "    x = arg[0]\n",
    "    N = len(arg)-1\n",
    "    sum = arg[1]\n",
    "    for i in range(1,N):\n",
    "        sum += arg[i+1]*x**i\n",
    "    return sum\n",
    "\n",
    "N=2   # poly degree\n",
    "par0    = np.zeros(N+1)\n",
    "par[1]=1\n",
    "par, cov = fitter.curve_fit(modelN, xdata, ydata, par0, sigma)\n",
    "print (par)\n",
    "print (cov)\n",
    "\n",
    "corr = cov.copy() # copy shape\n",
    "# compute correlation matrix\n",
    "for i in range(len(par)):\n",
    "    for j in range(len(par)):\n",
    "        corr[i,j] = cov[i,j]/np.sqrt(cov[i,i]*cov[j,j])\n",
    "        \n",
    "print (corr)\n",
    "\n",
    "# compute reduced chi2\n",
    "chi_squared = np.sum(((modelN(xdata, *par)-ydata)/sigma)**2)\n",
    "reduced_chi_squared = (chi_squared)/(len(xdata)-len(par))\n",
    "print ('chi^2 = {0:5.2f}'.format(chi_squared))\n",
    "print ('chi^2/d.f.={0:5.2f}'.format(reduced_chi_squared))\n",
    "\n",
    "# overlay plot over data\n",
    "plt.errorbar(xdata, ydata, xerr=0, yerr=sigma, fmt='o')\n",
    "plt.xlim(-1,6)\n",
    "xfit = np.linspace(0,5,50)\n",
    "plt.plot(xfit,modelN(xfit,*par),'r-')\n",
    "plt.show()"
   ]
  },
  {
   "cell_type": "markdown",
   "id": "2c5fa21a",
   "metadata": {},
   "source": [
    "Let's look at another example with a clear answer for the correct fit"
   ]
  },
  {
   "cell_type": "code",
   "execution_count": 26,
   "id": "c29928c6",
   "metadata": {},
   "outputs": [
    {
     "data": {
      "image/png": "[encoded data removed]",
      "text/plain": [
       "<Figure size 576x432 with 1 Axes>"
      ]
     },
     "metadata": {
      "needs_background": "light"
     },
     "output_type": "display_data"
    }
   ],
   "source": [
    "# Generate artificial data = straight line with a=0 and b=1\n",
    "# plus some noise.\n",
    "a0 = 0\n",
    "b0 = 1\n",
    "sig = 0.2\n",
    "Npoints = 10\n",
    "xdata = np.arange(0,Npoints,1.)\n",
    "ydata = a0+xdata*b0+sig*np.random.standard_normal(size=Npoints)\n",
    "sigma = np.ones(Npoints)*sig\n",
    "\n",
    "plt.figure(figsize=(8,6))\n",
    "plt.scatter(xdata,ydata,color='b')\n",
    "plt.errorbar(xdata,ydata, sigma, color='r',ls='none')\n",
    "plt.xlim(-1,Npoints)\n",
    "plt.show()"
   ]
  },
  {
   "cell_type": "code",
   "execution_count": 27,
   "id": "9fdc97ba",
   "metadata": {},
   "outputs": [
    {
     "name": "stdout",
     "output_type": "stream",
     "text": [
      "Your model's parameters and their uncertainties are the following: \n",
      "\n",
      "a=-0.166+/-0.118 \n",
      "\n",
      "b= 1.038+/-0.022 \n",
      "\n",
      "\n",
      "Your model's chi^2 value and reduced chi^2 value and their uncertainties are the following: \n",
      "\n",
      "chi^2 =  7.53 \n",
      "\n",
      "chi^2/d.f.= 0.94 \n",
      "\n"
     ]
    },
    {
     "data": {
      "image/png": "[encoded data removed]",
      "text/plain": [
       "<Figure size 576x432 with 1 Axes>"
      ]
     },
     "metadata": {
      "needs_background": "light"
     },
     "output_type": "display_data"
    }
   ],
   "source": [
    "# Make sure you run the cell above this first to generate some artificial data\n",
    "# to which we will fit this curve\n",
    "\n",
    "#=============================================================================================\n",
    "# Define a fit model. For this part, we will use a linear function\n",
    "# The function which defines your model HAS TO TAKE ON A SPECIFIC FORM\n",
    "#=============================================================================================\n",
    "\n",
    "def model(x, a, b):\n",
    "    return a + b*x\n",
    "\n",
    "# You have to supply an initial guess of parameters, and they should be \"close enough\" to the true values, otherwise\n",
    "# the fit may fall into a false minimum\n",
    "par0    = np.array([0.5, -0.3]) # initial guess for parameters\n",
    "par, cov = fitter.curve_fit(model, xdata, ydata, par0, sigma, absolute_sigma=True)\n",
    "\n",
    "#=============================================================================================\n",
    "# the par arrays contains the values of parameters. cov is the covariance matrix\n",
    "# decode it now\n",
    "#=============================================================================================\n",
    "\n",
    "print(\"Your model's parameters and their uncertainties are the following: \\n\")\n",
    "a = par[0]\n",
    "ea = np.sqrt(cov[0,0])\n",
    "print('a={0:6.3f}+/-{1:5.3f} \\n'.format(a,ea))\n",
    "b = par[1]\n",
    "eb = np.sqrt(cov[1,1])\n",
    "print('b={0:6.3f}+/-{1:5.3f} \\n\\n'.format(b,eb))\n",
    "\n",
    "#=============================================================================================\n",
    "# compute reduced chi2\n",
    "#=============================================================================================\n",
    "\n",
    "print(\"Your model's chi^2 value and reduced chi^2 value and their uncertainties are the following: \\n\")\n",
    "chi_squared = np.sum(((ydata - model(xdata, *par))/sigma)**2)\n",
    "reduced_chi_squared = (chi_squared)/(len(xdata)-len(par))\n",
    "print ('chi^2 = {0:5.2f} \\n'.format(chi_squared))\n",
    "print ('chi^2/d.f.={0:5.2f} \\n'.format(reduced_chi_squared))\n",
    "\n",
    "#=============================================================================================\n",
    "# overlay plot over data\n",
    "#=============================================================================================\n",
    "\n",
    "plt.figure(figsize=(8,6))\n",
    "plt.errorbar(xdata, ydata, xerr=0, yerr=sigma, fmt='o', label='data') #plotting the data\n",
    "plt.xlim(-1,Npoints)\n",
    "xfit = np.linspace(0,Npoints-1.,50)\n",
    "plt.plot(xfit,model(xfit,par[0],par[1]),'r-', label='model') #plotting the model\n",
    "plt.legend()\n",
    "plt.show()"
   ]
  },
  {
   "cell_type": "markdown",
   "id": "10f07018",
   "metadata": {},
   "source": [
    "### New Example: Fitting a Histogram"
   ]
  },
  {
   "cell_type": "code",
   "execution_count": 22,
   "id": "ccd6d2d8",
   "metadata": {},
   "outputs": [
    {
     "name": "stdout",
     "output_type": "stream",
     "text": [
      "(0.010840393514560138, 1.0206214486921885)\n"
     ]
    },
    {
     "data": {
      "image/png": "[encoded data removed]",
      "text/plain": [
       "<Figure size 432x288 with 1 Axes>"
      ]
     },
     "metadata": {
      "needs_background": "light"
     },
     "output_type": "display_data"
    }
   ],
   "source": [
    "#NEW IMPORT\n",
    "from scipy.stats import norm\n",
    "\n",
    "\n",
    "# generate 100 events from a normal distrubution\n",
    "# with mean 0 and standard deviation 1\n",
    "sample = norm.rvs(loc=0,scale=1,size=100) \n",
    "\n",
    "par = norm.fit(sample) # distribution fitting\n",
    "\n",
    "#hist(sample,20)\n",
    "\n",
    "print (par)\n",
    "\n",
    "# now, par[0] and par[1] are the mean and \n",
    "# the standard deviation of the fitted distribution\n",
    "x = np.linspace(-5,5,100)\n",
    "# fitted distribution\n",
    "pdf_fitted = norm.pdf(x,loc=par[0],scale=par[1])\n",
    "# original distribution\n",
    "pdf = norm.pdf(x)\n",
    "\n",
    "plt.title('Normal distribution')\n",
    "plt.hist(sample, density=True, alpha=.3)\n",
    "plt.plot(x,pdf_fitted,'r-',x,pdf,'b-')\n",
    "plt.show()"
   ]
  },
  {
   "cell_type": "markdown",
   "id": "52dc03de",
   "metadata": {},
   "source": [
    "## Root Finding"
   ]
  },
  {
   "cell_type": "markdown",
   "id": "6395d1e9",
   "metadata": {},
   "source": [
    "Consider a polynomial\n",
    "\n",
    "$f(x) = x^3 - 100 x^2 - x +100$\n",
    "\n",
    "Let's Find the roots"
   ]
  },
  {
   "cell_type": "markdown",
   "id": "7068c3dd",
   "metadata": {},
   "source": [
    "### With scipy.optimize.root"
   ]
  },
  {
   "cell_type": "code",
   "execution_count": 37,
   "id": "25362946",
   "metadata": {},
   "outputs": [
    {
     "data": {
      "image/png": "[encoded data removed]",
      "text/plain": [
       "<Figure size 432x288 with 1 Axes>"
      ]
     },
     "metadata": {
      "needs_background": "light"
     },
     "output_type": "display_data"
    },
    {
     "data": {
      "text/plain": [
       "array([  1., 100.])"
      ]
     },
     "execution_count": 37,
     "metadata": {},
     "output_type": "execute_result"
    }
   ],
   "source": [
    "from scipy.optimize import root\n",
    "\n",
    "def P(x):\n",
    "    y = x**3 - 100*x**2 - x + 100\n",
    "    return y\n",
    "\n",
    "\n",
    "x = np.linspace(-50, 120,1000)\n",
    "zer = np.zeros(1000)\n",
    "plt.figure()\n",
    "plt.title(\"5th Order Polynomial $P(x)$\")\n",
    "plt.xlabel(\"x-axis\")\n",
    "plt.ylabel(\"y-axis\")\n",
    "plt.plot(x,P(x),\"r-\",label=\"P(x)\")\n",
    "plt.plot(x,zer,\"k-\",label=\"y=0\")\n",
    "plt.show()\n",
    "\n",
    "sol = root(P, [2, 80])\n",
    "sol.x"
   ]
  },
  {
   "cell_type": "markdown",
   "id": "68bf833a",
   "metadata": {},
   "source": [
    "### With scipy.optimize.fsolve"
   ]
  },
  {
   "cell_type": "code",
   "execution_count": 35,
   "id": "a0956217",
   "metadata": {},
   "outputs": [
    {
     "data": {
      "image/png": "[encoded data removed]",
      "text/plain": [
       "<Figure size 432x288 with 1 Axes>"
      ]
     },
     "metadata": {
      "needs_background": "light"
     },
     "output_type": "display_data"
    },
    {
     "data": {
      "text/plain": [
       "array([  1., 100.])"
      ]
     },
     "execution_count": 35,
     "metadata": {},
     "output_type": "execute_result"
    }
   ],
   "source": [
    "from scipy.optimize import fsolve\n",
    "\n",
    "def P(x):\n",
    "    y = x**3 - 100*x**2 - x + 100\n",
    "    return y\n",
    "\n",
    "\n",
    "x = np.linspace(-50, 120,1000)\n",
    "zer = np.zeros(1000)\n",
    "plt.figure()\n",
    "plt.title(\"5th Order Polynomial $P(x)$\")\n",
    "plt.xlabel(\"x-axis\")\n",
    "plt.ylabel(\"y-axis\")\n",
    "plt.plot(x,P(x),\"r-\",label=\"P(x)\")\n",
    "plt.plot(x,zer,\"k-\",label=\"y=0\")\n",
    "plt.show()\n",
    "\n",
    "roots = fsolve(P, [2, 80])\n",
    "roots"
   ]
  },
  {
   "cell_type": "code",
   "execution_count": null,
   "id": "15bc9bbf",
   "metadata": {},
   "outputs": [],
   "source": []
  }
 ],
 "metadata": {
  "kernelspec": {
   "display_name": "Python 3 (ipykernel)",
   "language": "python",
   "name": "python3"
  },
  "language_info": {
   "codemirror_mode": {
    "name": "ipython",
    "version": 3
   },
   "file_extension": ".py",
   "mimetype": "text/x-python",
   "name": "python",
   "nbconvert_exporter": "python",
   "pygments_lexer": "ipython3",
   "version": "3.9.13"
  }
 },
 "nbformat": 4,
 "nbformat_minor": 5
}
